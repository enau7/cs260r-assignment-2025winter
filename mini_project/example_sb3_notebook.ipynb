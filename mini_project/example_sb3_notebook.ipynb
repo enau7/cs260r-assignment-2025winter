{
  "cells": [
    {
      "cell_type": "code",
      "execution_count": 1,
      "metadata": {
        "colab": {
          "base_uri": "https://localhost:8080/"
        },
        "collapsed": true,
        "id": "jWy2DpcrMJal",
        "outputId": "85aabb3b-dc88-419d-a029-df699d049456"
      },
      "outputs": [
        {
          "name": "stdout",
          "output_type": "stream",
          "text": [
            "Requirement already satisfied: stable_baselines3[extra] in c:\\users\\colton\\anaconda3\\envs\\cs260r\\lib\\site-packages (2.5.0)\n",
            "Requirement already satisfied: gymnasium<1.1.0,>=0.29.1 in c:\\users\\colton\\anaconda3\\envs\\cs260r\\lib\\site-packages (from stable_baselines3[extra]) (1.0.0)\n",
            "Requirement already satisfied: numpy<3.0,>=1.20 in c:\\users\\colton\\anaconda3\\envs\\cs260r\\lib\\site-packages (from stable_baselines3[extra]) (2.2.1)\n",
            "Requirement already satisfied: torch<3.0,>=2.3 in c:\\users\\colton\\anaconda3\\envs\\cs260r\\lib\\site-packages (from stable_baselines3[extra]) (2.6.0)\n",
            "Requirement already satisfied: cloudpickle in c:\\users\\colton\\anaconda3\\envs\\cs260r\\lib\\site-packages (from stable_baselines3[extra]) (3.1.1)\n",
            "Requirement already satisfied: pandas in c:\\users\\colton\\anaconda3\\envs\\cs260r\\lib\\site-packages (from stable_baselines3[extra]) (2.2.3)\n",
            "Requirement already satisfied: matplotlib in c:\\users\\colton\\anaconda3\\envs\\cs260r\\lib\\site-packages (from stable_baselines3[extra]) (3.10.0)\n",
            "Requirement already satisfied: opencv-python in c:\\users\\colton\\anaconda3\\envs\\cs260r\\lib\\site-packages (from stable_baselines3[extra]) (4.11.0.86)\n",
            "Requirement already satisfied: pygame in c:\\users\\colton\\anaconda3\\envs\\cs260r\\lib\\site-packages (from stable_baselines3[extra]) (2.6.1)\n",
            "Requirement already satisfied: tensorboard>=2.9.1 in c:\\users\\colton\\anaconda3\\envs\\cs260r\\lib\\site-packages (from stable_baselines3[extra]) (2.19.0)\n",
            "Requirement already satisfied: psutil in c:\\users\\colton\\anaconda3\\envs\\cs260r\\lib\\site-packages (from stable_baselines3[extra]) (6.1.1)\n",
            "Requirement already satisfied: tqdm in c:\\users\\colton\\anaconda3\\envs\\cs260r\\lib\\site-packages (from stable_baselines3[extra]) (4.67.1)\n",
            "Requirement already satisfied: rich in c:\\users\\colton\\anaconda3\\envs\\cs260r\\lib\\site-packages (from stable_baselines3[extra]) (13.9.4)\n",
            "Requirement already satisfied: ale-py>=0.9.0 in c:\\users\\colton\\anaconda3\\envs\\cs260r\\lib\\site-packages (from stable_baselines3[extra]) (0.10.2)\n",
            "Requirement already satisfied: pillow in c:\\users\\colton\\anaconda3\\envs\\cs260r\\lib\\site-packages (from stable_baselines3[extra]) (11.1.0)\n",
            "Requirement already satisfied: typing-extensions>=4.3.0 in c:\\users\\colton\\anaconda3\\envs\\cs260r\\lib\\site-packages (from gymnasium<1.1.0,>=0.29.1->stable_baselines3[extra]) (4.12.2)\n",
            "Requirement already satisfied: farama-notifications>=0.0.1 in c:\\users\\colton\\anaconda3\\envs\\cs260r\\lib\\site-packages (from gymnasium<1.1.0,>=0.29.1->stable_baselines3[extra]) (0.0.4)\n",
            "Requirement already satisfied: absl-py>=0.4 in c:\\users\\colton\\anaconda3\\envs\\cs260r\\lib\\site-packages (from tensorboard>=2.9.1->stable_baselines3[extra]) (2.1.0)\n",
            "Requirement already satisfied: grpcio>=1.48.2 in c:\\users\\colton\\anaconda3\\envs\\cs260r\\lib\\site-packages (from tensorboard>=2.9.1->stable_baselines3[extra]) (1.71.0)\n",
            "Requirement already satisfied: markdown>=2.6.8 in c:\\users\\colton\\anaconda3\\envs\\cs260r\\lib\\site-packages (from tensorboard>=2.9.1->stable_baselines3[extra]) (3.7)\n",
            "Requirement already satisfied: packaging in c:\\users\\colton\\anaconda3\\envs\\cs260r\\lib\\site-packages (from tensorboard>=2.9.1->stable_baselines3[extra]) (24.2)\n",
            "Requirement already satisfied: protobuf!=4.24.0,>=3.19.6 in c:\\users\\colton\\anaconda3\\envs\\cs260r\\lib\\site-packages (from tensorboard>=2.9.1->stable_baselines3[extra]) (5.29.3)\n",
            "Requirement already satisfied: setuptools>=41.0.0 in c:\\users\\colton\\anaconda3\\envs\\cs260r\\lib\\site-packages (from tensorboard>=2.9.1->stable_baselines3[extra]) (75.1.0)\n",
            "Requirement already satisfied: six>1.9 in c:\\users\\colton\\anaconda3\\envs\\cs260r\\lib\\site-packages (from tensorboard>=2.9.1->stable_baselines3[extra]) (1.17.0)\n",
            "Requirement already satisfied: tensorboard-data-server<0.8.0,>=0.7.0 in c:\\users\\colton\\anaconda3\\envs\\cs260r\\lib\\site-packages (from tensorboard>=2.9.1->stable_baselines3[extra]) (0.7.2)\n",
            "Requirement already satisfied: werkzeug>=1.0.1 in c:\\users\\colton\\anaconda3\\envs\\cs260r\\lib\\site-packages (from tensorboard>=2.9.1->stable_baselines3[extra]) (3.1.3)\n",
            "Requirement already satisfied: filelock in c:\\users\\colton\\anaconda3\\envs\\cs260r\\lib\\site-packages (from torch<3.0,>=2.3->stable_baselines3[extra]) (3.17.0)\n",
            "Requirement already satisfied: networkx in c:\\users\\colton\\anaconda3\\envs\\cs260r\\lib\\site-packages (from torch<3.0,>=2.3->stable_baselines3[extra]) (3.4.2)\n",
            "Requirement already satisfied: jinja2 in c:\\users\\colton\\anaconda3\\envs\\cs260r\\lib\\site-packages (from torch<3.0,>=2.3->stable_baselines3[extra]) (3.1.5)\n",
            "Requirement already satisfied: fsspec in c:\\users\\colton\\anaconda3\\envs\\cs260r\\lib\\site-packages (from torch<3.0,>=2.3->stable_baselines3[extra]) (2025.2.0)\n",
            "Requirement already satisfied: sympy==1.13.1 in c:\\users\\colton\\anaconda3\\envs\\cs260r\\lib\\site-packages (from torch<3.0,>=2.3->stable_baselines3[extra]) (1.13.1)\n",
            "Requirement already satisfied: mpmath<1.4,>=1.1.0 in c:\\users\\colton\\anaconda3\\envs\\cs260r\\lib\\site-packages (from sympy==1.13.1->torch<3.0,>=2.3->stable_baselines3[extra]) (1.3.0)\n",
            "Requirement already satisfied: contourpy>=1.0.1 in c:\\users\\colton\\anaconda3\\envs\\cs260r\\lib\\site-packages (from matplotlib->stable_baselines3[extra]) (1.3.1)\n",
            "Requirement already satisfied: cycler>=0.10 in c:\\users\\colton\\anaconda3\\envs\\cs260r\\lib\\site-packages (from matplotlib->stable_baselines3[extra]) (0.12.1)\n",
            "Requirement already satisfied: fonttools>=4.22.0 in c:\\users\\colton\\anaconda3\\envs\\cs260r\\lib\\site-packages (from matplotlib->stable_baselines3[extra]) (4.55.6)\n",
            "Requirement already satisfied: kiwisolver>=1.3.1 in c:\\users\\colton\\anaconda3\\envs\\cs260r\\lib\\site-packages (from matplotlib->stable_baselines3[extra]) (1.4.8)\n",
            "Requirement already satisfied: pyparsing>=2.3.1 in c:\\users\\colton\\anaconda3\\envs\\cs260r\\lib\\site-packages (from matplotlib->stable_baselines3[extra]) (3.2.1)\n",
            "Requirement already satisfied: python-dateutil>=2.7 in c:\\users\\colton\\anaconda3\\envs\\cs260r\\lib\\site-packages (from matplotlib->stable_baselines3[extra]) (2.9.0.post0)\n",
            "Requirement already satisfied: pytz>=2020.1 in c:\\users\\colton\\anaconda3\\envs\\cs260r\\lib\\site-packages (from pandas->stable_baselines3[extra]) (2025.1)\n",
            "Requirement already satisfied: tzdata>=2022.7 in c:\\users\\colton\\anaconda3\\envs\\cs260r\\lib\\site-packages (from pandas->stable_baselines3[extra]) (2025.1)\n",
            "Requirement already satisfied: markdown-it-py>=2.2.0 in c:\\users\\colton\\anaconda3\\envs\\cs260r\\lib\\site-packages (from rich->stable_baselines3[extra]) (3.0.0)\n",
            "Requirement already satisfied: pygments<3.0.0,>=2.13.0 in c:\\users\\colton\\anaconda3\\envs\\cs260r\\lib\\site-packages (from rich->stable_baselines3[extra]) (2.19.1)\n",
            "Requirement already satisfied: colorama in c:\\users\\colton\\anaconda3\\envs\\cs260r\\lib\\site-packages (from tqdm->stable_baselines3[extra]) (0.4.6)\n",
            "Requirement already satisfied: mdurl~=0.1 in c:\\users\\colton\\anaconda3\\envs\\cs260r\\lib\\site-packages (from markdown-it-py>=2.2.0->rich->stable_baselines3[extra]) (0.1.2)\n",
            "Requirement already satisfied: MarkupSafe>=2.1.1 in c:\\users\\colton\\anaconda3\\envs\\cs260r\\lib\\site-packages (from werkzeug>=1.0.1->tensorboard>=2.9.1->stable_baselines3[extra]) (3.0.2)\n"
          ]
        }
      ],
      "source": [
        "!pip install stable_baselines3[extra]"
      ]
    },
    {
      "cell_type": "code",
      "execution_count": 2,
      "metadata": {
        "colab": {
          "base_uri": "https://localhost:8080/"
        },
        "collapsed": true,
        "id": "Rc2-5R5BMQ_9",
        "outputId": "5b2e1dd8-d8c8-4bbf-fe49-6cebce544edc"
      },
      "outputs": [
        {
          "name": "stdout",
          "output_type": "stream",
          "text": [
            "Collecting git+https://github.com/metadriverse/metadrive.git\n",
            "  Cloning https://github.com/metadriverse/metadrive.git to c:\\users\\colton\\appdata\\local\\temp\\pip-req-build-xw239x35\n",
            "  Resolved https://github.com/metadriverse/metadrive.git to commit a09bc963b067c9ce7e348586f43e7253cba55875\n",
            "  Preparing metadata (setup.py): started\n",
            "  Preparing metadata (setup.py): finished with status 'done'\n",
            "Requirement already satisfied: requests in c:\\users\\colton\\anaconda3\\envs\\cs260r\\lib\\site-packages (from metadrive-simulator==0.4.3) (2.32.3)\n",
            "Requirement already satisfied: gymnasium>=0.28 in c:\\users\\colton\\anaconda3\\envs\\cs260r\\lib\\site-packages (from metadrive-simulator==0.4.3) (1.0.0)\n",
            "Requirement already satisfied: numpy>=1.21.6 in c:\\users\\colton\\anaconda3\\envs\\cs260r\\lib\\site-packages (from metadrive-simulator==0.4.3) (2.2.1)\n",
            "Requirement already satisfied: matplotlib in c:\\users\\colton\\anaconda3\\envs\\cs260r\\lib\\site-packages (from metadrive-simulator==0.4.3) (3.10.0)\n",
            "Requirement already satisfied: pygame in c:\\users\\colton\\anaconda3\\envs\\cs260r\\lib\\site-packages (from metadrive-simulator==0.4.3) (2.6.1)\n",
            "Requirement already satisfied: yapf in c:\\users\\colton\\anaconda3\\envs\\cs260r\\lib\\site-packages (from metadrive-simulator==0.4.3) (0.43.0)\n",
            "Requirement already satisfied: tqdm in c:\\users\\colton\\anaconda3\\envs\\cs260r\\lib\\site-packages (from metadrive-simulator==0.4.3) (4.67.1)\n",
            "Requirement already satisfied: progressbar in c:\\users\\colton\\anaconda3\\envs\\cs260r\\lib\\site-packages (from metadrive-simulator==0.4.3) (2.5)\n",
            "Requirement already satisfied: panda3d==1.10.14 in c:\\users\\colton\\anaconda3\\envs\\cs260r\\lib\\site-packages (from metadrive-simulator==0.4.3) (1.10.14)\n",
            "Requirement already satisfied: panda3d-gltf==0.13 in c:\\users\\colton\\anaconda3\\envs\\cs260r\\lib\\site-packages (from metadrive-simulator==0.4.3) (0.13)\n",
            "Requirement already satisfied: pillow in c:\\users\\colton\\anaconda3\\envs\\cs260r\\lib\\site-packages (from metadrive-simulator==0.4.3) (11.1.0)\n",
            "Requirement already satisfied: opencv-python in c:\\users\\colton\\anaconda3\\envs\\cs260r\\lib\\site-packages (from metadrive-simulator==0.4.3) (4.11.0.86)\n",
            "Requirement already satisfied: lxml in c:\\users\\colton\\anaconda3\\envs\\cs260r\\lib\\site-packages (from metadrive-simulator==0.4.3) (5.3.0)\n",
            "Requirement already satisfied: psutil in c:\\users\\colton\\anaconda3\\envs\\cs260r\\lib\\site-packages (from metadrive-simulator==0.4.3) (6.1.1)\n",
            "Requirement already satisfied: shapely in c:\\users\\colton\\anaconda3\\envs\\cs260r\\lib\\site-packages (from metadrive-simulator==0.4.3) (2.0.7)\n",
            "Requirement already satisfied: filelock in c:\\users\\colton\\anaconda3\\envs\\cs260r\\lib\\site-packages (from metadrive-simulator==0.4.3) (3.17.0)\n",
            "Requirement already satisfied: Pygments in c:\\users\\colton\\anaconda3\\envs\\cs260r\\lib\\site-packages (from metadrive-simulator==0.4.3) (2.19.1)\n",
            "Requirement already satisfied: mediapy in c:\\users\\colton\\anaconda3\\envs\\cs260r\\lib\\site-packages (from metadrive-simulator==0.4.3) (1.2.2)\n",
            "Requirement already satisfied: panda3d-simplepbr>=0.6 in c:\\users\\colton\\anaconda3\\envs\\cs260r\\lib\\site-packages (from panda3d-gltf==0.13->metadrive-simulator==0.4.3) (0.12.0)\n",
            "Requirement already satisfied: cloudpickle>=1.2.0 in c:\\users\\colton\\anaconda3\\envs\\cs260r\\lib\\site-packages (from gymnasium>=0.28->metadrive-simulator==0.4.3) (3.1.1)\n",
            "Requirement already satisfied: typing-extensions>=4.3.0 in c:\\users\\colton\\anaconda3\\envs\\cs260r\\lib\\site-packages (from gymnasium>=0.28->metadrive-simulator==0.4.3) (4.12.2)\n",
            "Requirement already satisfied: farama-notifications>=0.0.1 in c:\\users\\colton\\anaconda3\\envs\\cs260r\\lib\\site-packages (from gymnasium>=0.28->metadrive-simulator==0.4.3) (0.0.4)\n",
            "Requirement already satisfied: contourpy>=1.0.1 in c:\\users\\colton\\anaconda3\\envs\\cs260r\\lib\\site-packages (from matplotlib->metadrive-simulator==0.4.3) (1.3.1)\n",
            "Requirement already satisfied: cycler>=0.10 in c:\\users\\colton\\anaconda3\\envs\\cs260r\\lib\\site-packages (from matplotlib->metadrive-simulator==0.4.3) (0.12.1)\n",
            "Requirement already satisfied: fonttools>=4.22.0 in c:\\users\\colton\\anaconda3\\envs\\cs260r\\lib\\site-packages (from matplotlib->metadrive-simulator==0.4.3) (4.55.6)\n",
            "Requirement already satisfied: kiwisolver>=1.3.1 in c:\\users\\colton\\anaconda3\\envs\\cs260r\\lib\\site-packages (from matplotlib->metadrive-simulator==0.4.3) (1.4.8)\n",
            "Requirement already satisfied: packaging>=20.0 in c:\\users\\colton\\anaconda3\\envs\\cs260r\\lib\\site-packages (from matplotlib->metadrive-simulator==0.4.3) (24.2)\n",
            "Requirement already satisfied: pyparsing>=2.3.1 in c:\\users\\colton\\anaconda3\\envs\\cs260r\\lib\\site-packages (from matplotlib->metadrive-simulator==0.4.3) (3.2.1)\n",
            "Requirement already satisfied: python-dateutil>=2.7 in c:\\users\\colton\\anaconda3\\envs\\cs260r\\lib\\site-packages (from matplotlib->metadrive-simulator==0.4.3) (2.9.0.post0)\n",
            "Requirement already satisfied: ipython in c:\\users\\colton\\anaconda3\\envs\\cs260r\\lib\\site-packages (from mediapy->metadrive-simulator==0.4.3) (8.31.0)\n",
            "Requirement already satisfied: charset-normalizer<4,>=2 in c:\\users\\colton\\anaconda3\\envs\\cs260r\\lib\\site-packages (from requests->metadrive-simulator==0.4.3) (3.4.1)\n",
            "Requirement already satisfied: idna<4,>=2.5 in c:\\users\\colton\\anaconda3\\envs\\cs260r\\lib\\site-packages (from requests->metadrive-simulator==0.4.3) (3.10)\n",
            "Requirement already satisfied: urllib3<3,>=1.21.1 in c:\\users\\colton\\anaconda3\\envs\\cs260r\\lib\\site-packages (from requests->metadrive-simulator==0.4.3) (2.3.0)\n",
            "Requirement already satisfied: certifi>=2017.4.17 in c:\\users\\colton\\anaconda3\\envs\\cs260r\\lib\\site-packages (from requests->metadrive-simulator==0.4.3) (2024.12.14)\n",
            "Requirement already satisfied: colorama in c:\\users\\colton\\anaconda3\\envs\\cs260r\\lib\\site-packages (from tqdm->metadrive-simulator==0.4.3) (0.4.6)\n",
            "Requirement already satisfied: platformdirs>=3.5.1 in c:\\users\\colton\\anaconda3\\envs\\cs260r\\lib\\site-packages (from yapf->metadrive-simulator==0.4.3) (4.3.6)\n",
            "Requirement already satisfied: six>=1.5 in c:\\users\\colton\\anaconda3\\envs\\cs260r\\lib\\site-packages (from python-dateutil>=2.7->matplotlib->metadrive-simulator==0.4.3) (1.17.0)\n",
            "Requirement already satisfied: decorator in c:\\users\\colton\\anaconda3\\envs\\cs260r\\lib\\site-packages (from ipython->mediapy->metadrive-simulator==0.4.3) (5.1.1)\n",
            "Requirement already satisfied: jedi>=0.16 in c:\\users\\colton\\anaconda3\\envs\\cs260r\\lib\\site-packages (from ipython->mediapy->metadrive-simulator==0.4.3) (0.19.2)\n",
            "Requirement already satisfied: matplotlib-inline in c:\\users\\colton\\anaconda3\\envs\\cs260r\\lib\\site-packages (from ipython->mediapy->metadrive-simulator==0.4.3) (0.1.7)\n",
            "Requirement already satisfied: prompt_toolkit<3.1.0,>=3.0.41 in c:\\users\\colton\\anaconda3\\envs\\cs260r\\lib\\site-packages (from ipython->mediapy->metadrive-simulator==0.4.3) (3.0.48)\n",
            "Requirement already satisfied: stack_data in c:\\users\\colton\\anaconda3\\envs\\cs260r\\lib\\site-packages (from ipython->mediapy->metadrive-simulator==0.4.3) (0.6.3)\n",
            "Requirement already satisfied: traitlets>=5.13.0 in c:\\users\\colton\\anaconda3\\envs\\cs260r\\lib\\site-packages (from ipython->mediapy->metadrive-simulator==0.4.3) (5.14.3)\n",
            "Requirement already satisfied: parso<0.9.0,>=0.8.4 in c:\\users\\colton\\anaconda3\\envs\\cs260r\\lib\\site-packages (from jedi>=0.16->ipython->mediapy->metadrive-simulator==0.4.3) (0.8.4)\n",
            "Requirement already satisfied: wcwidth in c:\\users\\colton\\anaconda3\\envs\\cs260r\\lib\\site-packages (from prompt_toolkit<3.1.0,>=3.0.41->ipython->mediapy->metadrive-simulator==0.4.3) (0.2.13)\n",
            "Requirement already satisfied: executing>=1.2.0 in c:\\users\\colton\\anaconda3\\envs\\cs260r\\lib\\site-packages (from stack_data->ipython->mediapy->metadrive-simulator==0.4.3) (2.1.0)\n",
            "Requirement already satisfied: asttokens>=2.1.0 in c:\\users\\colton\\anaconda3\\envs\\cs260r\\lib\\site-packages (from stack_data->ipython->mediapy->metadrive-simulator==0.4.3) (3.0.0)\n",
            "Requirement already satisfied: pure-eval in c:\\users\\colton\\anaconda3\\envs\\cs260r\\lib\\site-packages (from stack_data->ipython->mediapy->metadrive-simulator==0.4.3) (0.2.3)\n"
          ]
        },
        {
          "name": "stderr",
          "output_type": "stream",
          "text": [
            "  Running command git clone --filter=blob:none --quiet https://github.com/metadriverse/metadrive.git 'C:\\Users\\Colton\\AppData\\Local\\Temp\\pip-req-build-xw239x35'\n"
          ]
        }
      ],
      "source": [
        "!pip install git+https://github.com/metadriverse/metadrive.git"
      ]
    },
    {
      "cell_type": "code",
      "execution_count": 3,
      "metadata": {},
      "outputs": [
        {
          "name": "stdout",
          "output_type": "stream",
          "text": [
            "Requirement already satisfied: wandb in c:\\users\\colton\\anaconda3\\envs\\cs260r\\lib\\site-packages (0.19.8)\n",
            "Requirement already satisfied: click!=8.0.0,>=7.1 in c:\\users\\colton\\anaconda3\\envs\\cs260r\\lib\\site-packages (from wandb) (8.1.8)\n",
            "Requirement already satisfied: docker-pycreds>=0.4.0 in c:\\users\\colton\\anaconda3\\envs\\cs260r\\lib\\site-packages (from wandb) (0.4.0)\n",
            "Requirement already satisfied: gitpython!=3.1.29,>=1.0.0 in c:\\users\\colton\\anaconda3\\envs\\cs260r\\lib\\site-packages (from wandb) (3.1.44)\n",
            "Requirement already satisfied: platformdirs in c:\\users\\colton\\anaconda3\\envs\\cs260r\\lib\\site-packages (from wandb) (4.3.6)\n",
            "Requirement already satisfied: protobuf!=4.21.0,!=5.28.0,<6,>=3.19.0 in c:\\users\\colton\\anaconda3\\envs\\cs260r\\lib\\site-packages (from wandb) (5.29.3)\n",
            "Requirement already satisfied: psutil>=5.0.0 in c:\\users\\colton\\anaconda3\\envs\\cs260r\\lib\\site-packages (from wandb) (6.1.1)\n",
            "Requirement already satisfied: pydantic<3,>=2.6 in c:\\users\\colton\\anaconda3\\envs\\cs260r\\lib\\site-packages (from wandb) (2.10.6)\n",
            "Requirement already satisfied: pyyaml in c:\\users\\colton\\anaconda3\\envs\\cs260r\\lib\\site-packages (from wandb) (6.0.2)\n",
            "Requirement already satisfied: requests<3,>=2.0.0 in c:\\users\\colton\\anaconda3\\envs\\cs260r\\lib\\site-packages (from wandb) (2.32.3)\n",
            "Requirement already satisfied: sentry-sdk>=2.0.0 in c:\\users\\colton\\anaconda3\\envs\\cs260r\\lib\\site-packages (from wandb) (2.22.0)\n",
            "Requirement already satisfied: setproctitle in c:\\users\\colton\\anaconda3\\envs\\cs260r\\lib\\site-packages (from wandb) (1.3.5)\n",
            "Requirement already satisfied: setuptools in c:\\users\\colton\\anaconda3\\envs\\cs260r\\lib\\site-packages (from wandb) (75.1.0)\n",
            "Requirement already satisfied: typing-extensions<5,>=4.4 in c:\\users\\colton\\anaconda3\\envs\\cs260r\\lib\\site-packages (from wandb) (4.12.2)\n",
            "Requirement already satisfied: colorama in c:\\users\\colton\\anaconda3\\envs\\cs260r\\lib\\site-packages (from click!=8.0.0,>=7.1->wandb) (0.4.6)\n",
            "Requirement already satisfied: six>=1.4.0 in c:\\users\\colton\\anaconda3\\envs\\cs260r\\lib\\site-packages (from docker-pycreds>=0.4.0->wandb) (1.17.0)\n",
            "Requirement already satisfied: gitdb<5,>=4.0.1 in c:\\users\\colton\\anaconda3\\envs\\cs260r\\lib\\site-packages (from gitpython!=3.1.29,>=1.0.0->wandb) (4.0.12)\n",
            "Requirement already satisfied: annotated-types>=0.6.0 in c:\\users\\colton\\anaconda3\\envs\\cs260r\\lib\\site-packages (from pydantic<3,>=2.6->wandb) (0.7.0)\n",
            "Requirement already satisfied: pydantic-core==2.27.2 in c:\\users\\colton\\anaconda3\\envs\\cs260r\\lib\\site-packages (from pydantic<3,>=2.6->wandb) (2.27.2)\n",
            "Requirement already satisfied: charset-normalizer<4,>=2 in c:\\users\\colton\\anaconda3\\envs\\cs260r\\lib\\site-packages (from requests<3,>=2.0.0->wandb) (3.4.1)\n",
            "Requirement already satisfied: idna<4,>=2.5 in c:\\users\\colton\\anaconda3\\envs\\cs260r\\lib\\site-packages (from requests<3,>=2.0.0->wandb) (3.10)\n",
            "Requirement already satisfied: urllib3<3,>=1.21.1 in c:\\users\\colton\\anaconda3\\envs\\cs260r\\lib\\site-packages (from requests<3,>=2.0.0->wandb) (2.3.0)\n",
            "Requirement already satisfied: certifi>=2017.4.17 in c:\\users\\colton\\anaconda3\\envs\\cs260r\\lib\\site-packages (from requests<3,>=2.0.0->wandb) (2024.12.14)\n",
            "Requirement already satisfied: smmap<6,>=3.0.1 in c:\\users\\colton\\anaconda3\\envs\\cs260r\\lib\\site-packages (from gitdb<5,>=4.0.1->gitpython!=3.1.29,>=1.0.0->wandb) (5.0.2)\n"
          ]
        }
      ],
      "source": [
        "!pip install wandb"
      ]
    },
    {
      "cell_type": "markdown",
      "metadata": {
        "id": "RydCRCp7Q7YD"
      },
      "source": [
        "## RL Environment"
      ]
    },
    {
      "cell_type": "code",
      "execution_count": 4,
      "metadata": {
        "id": "fFBku609MWPU"
      },
      "outputs": [],
      "source": [
        "import copy\n",
        "from metadrive.envs.safe_metadrive_env import SafeMetaDriveEnv\n",
        "\n",
        "DEFAULT_CONFIG = {\n",
        "    # The below are default configs copied from SafeMetaDriveEnv\n",
        "    # Environment difficulty\n",
        "    \"accident_prob\": 0.8,\n",
        "    \"traffic_density\": 0.05,\n",
        "    # Termination conditions\n",
        "    \"crash_vehicle_done\": False,\n",
        "    \"crash_object_done\": False,\n",
        "    # Reward\n",
        "    \"success_reward\": 10.0,\n",
        "    \"driving_reward\": 1.0,\n",
        "    \"speed_reward\": 0.1,\n",
        "    # Penalty will be negated and added to reward\n",
        "    \"out_of_road_penalty\": 5.0,\n",
        "    \"crash_vehicle_penalty\": 1.0,\n",
        "    \"crash_object_penalty\": 1.0,\n",
        "    # Cost will be return in info[\"cost\"] and you can do constrained optimization with it\n",
        "    \"crash_vehicle_cost\": 1.0,\n",
        "    \"crash_object_cost\": 1.0,\n",
        "    \"out_of_road_cost\": 1.0,\n",
        "}\n",
        "\n",
        "# Use deepcopy to avoid modifying the DEFAULT_CONFIG\n",
        "TRAINING_CONFIG = copy.deepcopy(DEFAULT_CONFIG)\n",
        "TRAINING_CONFIG.update(\n",
        "    {  # Environment setting\n",
        "        \"num_scenarios\": 50,  # There are totally 50 possible maps.\n",
        "        \"start_seed\": 100,  # We will use the map with seeds in [100, 150) as the default training environment.\n",
        "    }\n",
        ")\n",
        "\n",
        "\n",
        "def get_training_env(extra_config=None):\n",
        "    config = copy.deepcopy(TRAINING_CONFIG)\n",
        "    if extra_config:\n",
        "        config.update(extra_config)\n",
        "    return SafeMetaDriveEnv(config)\n",
        "\n",
        "\n",
        "VALIDATION_CONFIG = copy.deepcopy(DEFAULT_CONFIG)\n",
        "VALIDATION_CONFIG.update(\n",
        "    {  # Environment setting\n",
        "        \"num_scenarios\": 50,  # There are totally 50 possible maps.\n",
        "        \"start_seed\": 1000,  # We will use the map with seeds in [1000, 1050) as the default validation environment.\n",
        "    }\n",
        ")\n",
        "\n",
        "\n",
        "def get_validation_env(extra_config=None):\n",
        "    config = copy.deepcopy(VALIDATION_CONFIG)\n",
        "    if extra_config:\n",
        "        config.update(extra_config)\n",
        "    return SafeMetaDriveEnv(config)\n"
      ]
    },
    {
      "cell_type": "markdown",
      "metadata": {
        "id": "uurzjp7fQ-2W"
      },
      "source": [
        "## Import and utilities"
      ]
    },
    {
      "cell_type": "code",
      "execution_count": 5,
      "metadata": {
        "id": "gIfW6RQSMGmk"
      },
      "outputs": [],
      "source": [
        "import argparse\n",
        "import datetime\n",
        "import logging\n",
        "import os\n",
        "import uuid\n",
        "from collections import defaultdict\n",
        "from pathlib import Path\n",
        "\n",
        "import numpy as np\n",
        "from metadrive.engine.logger import set_log_level\n",
        "from stable_baselines3.common.callbacks import CallbackList, CheckpointCallback\n",
        "from stable_baselines3.common.callbacks import EvalCallback\n",
        "from stable_baselines3.common.env_util import make_vec_env\n",
        "from stable_baselines3.common.vec_env import SubprocVecEnv\n",
        "from stable_baselines3.ppo import PPO\n",
        "from stable_baselines3.ppo.policies import ActorCriticPolicy\n",
        "from wandb.integration.sb3 import WandbCallback\n",
        "\n",
        "import wandb\n",
        "\n",
        "\n",
        "# Remove MetaDrive's logging information when episode ends.\n",
        "set_log_level(logging.ERROR)"
      ]
    },
    {
      "cell_type": "code",
      "execution_count": 6,
      "metadata": {
        "colab": {
          "base_uri": "https://localhost:8080/"
        },
        "id": "g5dhUBr7MHFa",
        "outputId": "347fc799-ac88-4959-a553-fbaa340f0d0a"
      },
      "outputs": [],
      "source": [
        "\n",
        "def get_time_str():\n",
        "    return datetime.datetime.now().strftime(\"%Y-%m-%d_%H-%M-%S\")\n",
        "\n",
        "\n",
        "def remove_reset_seed_and_add_monitor(make_env, trial_dir):\n",
        "    \"\"\"\n",
        "    MetaDrive env's reset function takes a seed argument and use it to determine the map to load.\n",
        "    However, in stable-baselines3, it calls reset function with a seed argument serving as the random seed,\n",
        "    which is not what we want. We do a trick here to remap the random seed to map index.\n",
        "\n",
        "    Stable-baselines3 recommends using Monitor wrapper to log training data. We add a Monitor wrapper here.\n",
        "    \"\"\"\n",
        "    from gymnasium import Wrapper\n",
        "    from stable_baselines3.common.monitor import Monitor\n",
        "    class NewClass(Wrapper):\n",
        "        def reset(self, seed=None, **kwargs):\n",
        "            # PZH: We do a trick here to remap the seed to the map index. This can help randomize the maps.\n",
        "            if seed is not None:\n",
        "                new_seed = self.env.start_index + (seed % self.env.num_scenarios)\n",
        "            else:\n",
        "                new_seed = None\n",
        "            return self.env.reset(seed=new_seed, **kwargs)\n",
        "\n",
        "    def new_make_env():\n",
        "        env = make_env()\n",
        "        NewClass.__name__ = env.__class__.__name__ + \"WithoutResetSeed\"\n",
        "        wrapped_env = NewClass(env)\n",
        "        wrapped_env = Monitor(env=wrapped_env, filename=str(trial_dir))\n",
        "        return wrapped_env\n",
        "\n",
        "    return new_make_env\n",
        "\n",
        "\n",
        "class CustomizedEvalCallback(EvalCallback):\n",
        "    def __init__(self, *args, **kwargs):\n",
        "        super().__init__(*args, **kwargs)\n",
        "        self.evaluations_info_buffer = defaultdict(list)\n",
        "\n",
        "    def _log_success_callback(self, locals_, globals_):\n",
        "        info = locals_[\"info\"]\n",
        "\n",
        "        if locals_[\"done\"]:\n",
        "            maybe_is_success = info.get(\"is_success\")\n",
        "            if maybe_is_success is not None:\n",
        "                self._is_success_buffer.append(maybe_is_success)\n",
        "\n",
        "            maybe_is_success2 = info.get(\"arrive_dest\", None)\n",
        "            if maybe_is_success2 is not None:\n",
        "                self._is_success_buffer.append(maybe_is_success2)\n",
        "\n",
        "            assert (maybe_is_success is None) or (maybe_is_success2 is None), \"We cannot have two success flags!\"\n",
        "\n",
        "            for k in [\"route_completion\", \"total_cost\", \"arrive_dest\", \"max_step\", \"out_of_road\", \"crash\"]:\n",
        "                if k in info:\n",
        "                    self.evaluations_info_buffer[k].append(info[k])\n",
        "\n",
        "        if \"raw_action\" in info:\n",
        "            self.evaluations_info_buffer[\"raw_action\"].append(info[\"raw_action\"])\n",
        "\n",
        "    def _on_step(self) -> bool:\n",
        "        \"\"\"\n",
        "        PZH Note: Overall this function is copied from original EvalCallback._on_step.\n",
        "        We additionally record evaluations_info_buffer to the logger.\n",
        "        \"\"\"\n",
        "\n",
        "        from stable_baselines3.common.evaluation import evaluate_policy\n",
        "        from stable_baselines3.common.vec_env import sync_envs_normalization\n",
        "\n",
        "        continue_training = True\n",
        "\n",
        "        if self.eval_freq > 0 and self.n_calls % self.eval_freq == 0:\n",
        "            # Sync training and eval env if there is VecNormalize\n",
        "            if self.model.get_vec_normalize_env() is not None:\n",
        "                try:\n",
        "                    sync_envs_normalization(self.training_env, self.eval_env)\n",
        "                except AttributeError as e:\n",
        "                    raise AssertionError(\n",
        "                        \"Training and eval env are not wrapped the same way, \"\n",
        "                        \"see https://stable-baselines3.readthedocs.io/en/master/guide/callbacks.html#evalcallback \"\n",
        "                        \"and warning above.\"\n",
        "                    ) from e\n",
        "\n",
        "            # Reset success rate buffer\n",
        "            self._is_success_buffer = []\n",
        "\n",
        "            episode_rewards, episode_lengths = evaluate_policy(\n",
        "                self.model,\n",
        "                self.eval_env,\n",
        "                n_eval_episodes=self.n_eval_episodes,\n",
        "                render=self.render,\n",
        "                deterministic=self.deterministic,\n",
        "                return_episode_rewards=True,\n",
        "                warn=self.warn,\n",
        "                callback=self._log_success_callback,\n",
        "            )\n",
        "\n",
        "            if self.log_path is not None:\n",
        "                assert isinstance(episode_rewards, list)\n",
        "                assert isinstance(episode_lengths, list)\n",
        "                self.evaluations_timesteps.append(self.num_timesteps)\n",
        "                self.evaluations_results.append(episode_rewards)\n",
        "                self.evaluations_length.append(episode_lengths)\n",
        "\n",
        "                kwargs = {}\n",
        "                # Save success log if present\n",
        "                if len(self._is_success_buffer) > 0:\n",
        "                    self.evaluations_successes.append(self._is_success_buffer)\n",
        "                    kwargs = dict(successes=self.evaluations_successes)\n",
        "\n",
        "                # PZH: Save evaluations_info_buffer to the log file\n",
        "                for k, v in self.evaluations_info_buffer.items():\n",
        "                    kwargs[k] = v\n",
        "\n",
        "                np.savez(\n",
        "                    self.log_path,\n",
        "                    timesteps=self.evaluations_timesteps,\n",
        "                    results=self.evaluations_results,\n",
        "                    ep_lengths=self.evaluations_length,\n",
        "                    **kwargs,  # type: ignore[arg-type]\n",
        "                )\n",
        "\n",
        "            mean_reward, std_reward = np.mean(episode_rewards), np.std(episode_rewards)\n",
        "            mean_ep_length, std_ep_length = np.mean(episode_lengths), np.std(episode_lengths)\n",
        "            self.last_mean_reward = float(mean_reward)\n",
        "\n",
        "            if self.verbose >= 1:\n",
        "                print(\n",
        "                    f\"Eval num_timesteps={self.num_timesteps}, \" f\"episode_reward={mean_reward:.2f} +/- {std_reward:.2f}\")\n",
        "                print(f\"Episode length: {mean_ep_length:.2f} +/- {std_ep_length:.2f}\")\n",
        "            # Add to current Logger\n",
        "            self.logger.record(\"eval/mean_reward\", float(mean_reward))\n",
        "            self.logger.record(\"eval/mean_ep_length\", mean_ep_length)\n",
        "\n",
        "            # PZH: Add this metric.\n",
        "            self.logger.record(\"eval/num_episodes\", len(episode_rewards))\n",
        "\n",
        "            if len(self._is_success_buffer) > 0:\n",
        "                success_rate = np.mean(self._is_success_buffer)\n",
        "                if self.verbose >= 1:\n",
        "                    print(f\"Success rate: {100 * success_rate:.2f}%\")\n",
        "                self.logger.record(\"eval/success_rate\", success_rate)\n",
        "\n",
        "            # PZH: We record evaluations_info_buffer to the logger\n",
        "            for k, v in self.evaluations_info_buffer.items():\n",
        "                self.logger.record(\"eval/{}\".format(k), np.mean(np.asarray(v)))\n",
        "\n",
        "            # Dump log so the evaluation results are printed with the correct timestep\n",
        "            self.logger.record(\"time/total_timesteps\", self.num_timesteps, exclude=\"tensorboard\")\n",
        "            self.logger.dump(self.num_timesteps)\n",
        "\n",
        "            if mean_reward > self.best_mean_reward:\n",
        "                if self.verbose >= 1:\n",
        "                    print(\"New best mean reward!\")\n",
        "                if self.best_model_save_path is not None:\n",
        "                    self.model.save(os.path.join(self.best_model_save_path, \"best_model\"))\n",
        "                self.best_mean_reward = float(mean_reward)\n",
        "                # Trigger callback on new best model, if needed\n",
        "                if self.callback_on_new_best is not None:\n",
        "                    continue_training = self.callback_on_new_best.on_step()\n",
        "\n",
        "            # Trigger callback after every evaluation, if needed\n",
        "            if self.callback is not None:\n",
        "                continue_training = continue_training and self._on_event()\n",
        "\n",
        "        return continue_training\n"
      ]
    },
    {
      "cell_type": "markdown",
      "metadata": {
        "id": "YeOXgzj7RDTe"
      },
      "source": [
        "## Setup PPO trainer"
      ]
    },
    {
      "cell_type": "code",
      "execution_count": 7,
      "metadata": {
        "colab": {
          "base_uri": "https://localhost:8080/"
        },
        "id": "k4I25BRYMltK",
        "outputId": "9a43fb4a-ec79-4625-cf6c-1a302d70fd4c"
      },
      "outputs": [
        {
          "name": "stdout",
          "output_type": "stream",
          "text": [
            "We start logging training data into runs\\ppo_metadrive\\ppo_metadrive_2025-03-16_17-43-31_a51009e7\n"
          ]
        }
      ],
      "source": [
        "\n",
        "# ===== Set up some arguments =====\n",
        "exp_name = \"ppo_metadrive\"\n",
        "use_wandb = True\n",
        "\n",
        "experiment_batch_name = \"{}\".format(exp_name)\n",
        "trial_name = \"{}_{}_{}\".format(experiment_batch_name, get_time_str(), uuid.uuid4().hex[:8])\n",
        "experiment_dir = Path(\"runs\") / experiment_batch_name\n",
        "trial_dir = experiment_dir / trial_name\n",
        "os.makedirs(experiment_dir, exist_ok=True)\n",
        "os.makedirs(trial_dir, exist_ok=True)\n",
        "print(f\"We start logging training data into {trial_dir}\")\n"
      ]
    },
    {
      "cell_type": "code",
      "execution_count": 8,
      "metadata": {
        "id": "Yle5pkCvOQAL"
      },
      "outputs": [],
      "source": [
        "# ===== Setup environment =====\n",
        "num_train_envs = 10\n",
        "num_eval_envs = 5\n",
        "train_env = make_vec_env(remove_reset_seed_and_add_monitor(get_training_env, trial_dir), n_envs=num_train_envs,\n",
        "                            vec_env_cls=SubprocVecEnv)\n",
        "eval_env = make_vec_env(remove_reset_seed_and_add_monitor(get_validation_env, trial_dir), n_envs=num_eval_envs,\n",
        "                        vec_env_cls=SubprocVecEnv)"
      ]
    },
    {
      "cell_type": "code",
      "execution_count": 9,
      "metadata": {
        "colab": {
          "base_uri": "https://localhost:8080/",
          "height": 228
        },
        "id": "IP_wvQMBMzoR",
        "outputId": "cf93c999-e965-43bf-9407-796e3d9834e8"
      },
      "outputs": [
        {
          "name": "stderr",
          "output_type": "stream",
          "text": [
            "wandb: Using wandb-core as the SDK backend.  Please refer to https://wandb.me/wandb-core for more information.\n",
            "wandb: Currently logged in as: coltonrowe (coltonrowe-ucla) to https://api.wandb.ai. Use `wandb login --relogin` to force relogin\n"
          ]
        },
        {
          "data": {
            "text/html": [
              "Tracking run with wandb version 0.19.8"
            ],
            "text/plain": [
              "<IPython.core.display.HTML object>"
            ]
          },
          "metadata": {},
          "output_type": "display_data"
        },
        {
          "data": {
            "text/html": [
              "Run data is saved locally in <code>runs\\ppo_metadrive\\ppo_metadrive_2025-03-16_17-43-31_a51009e7\\wandb\\run-20250316_174345-ppo_metadrive_2025-03-16_17-43-31_a51009e7</code>"
            ],
            "text/plain": [
              "<IPython.core.display.HTML object>"
            ]
          },
          "metadata": {},
          "output_type": "display_data"
        },
        {
          "data": {
            "text/html": [
              "Syncing run <strong><a href='https://wandb.ai/coltonrowe-ucla/cs260r/runs/ppo_metadrive_2025-03-16_17-43-31_a51009e7' target=\"_blank\">ppo_metadrive</a></strong> to <a href='https://wandb.ai/coltonrowe-ucla/cs260r' target=\"_blank\">Weights & Biases</a> (<a href='https://wandb.me/developer-guide' target=\"_blank\">docs</a>)<br>"
            ],
            "text/plain": [
              "<IPython.core.display.HTML object>"
            ]
          },
          "metadata": {},
          "output_type": "display_data"
        },
        {
          "data": {
            "text/html": [
              " View project at <a href='https://wandb.ai/coltonrowe-ucla/cs260r' target=\"_blank\">https://wandb.ai/coltonrowe-ucla/cs260r</a>"
            ],
            "text/plain": [
              "<IPython.core.display.HTML object>"
            ]
          },
          "metadata": {},
          "output_type": "display_data"
        },
        {
          "data": {
            "text/html": [
              " View run at <a href='https://wandb.ai/coltonrowe-ucla/cs260r/runs/ppo_metadrive_2025-03-16_17-43-31_a51009e7' target=\"_blank\">https://wandb.ai/coltonrowe-ucla/cs260r/runs/ppo_metadrive_2025-03-16_17-43-31_a51009e7</a>"
            ],
            "text/plain": [
              "<IPython.core.display.HTML object>"
            ]
          },
          "metadata": {},
          "output_type": "display_data"
        }
      ],
      "source": [
        "# ===== Setup evaluation, checkpointing, and wandb =====\n",
        "save_freq = 10_000  # Number of steps per model checkpoint\n",
        "eval_freq = 10_000  # Number of steps per evaluation\n",
        "\n",
        "wandb_save_freq = 10_000  # Number of steps per evaluation\n",
        "\n",
        "num_eval_episodes = 5\n",
        "\n",
        "checkpoint_callback = CheckpointCallback(\n",
        "    name_prefix=\"rl_model\",\n",
        "    verbose=2,\n",
        "    save_freq=save_freq,\n",
        "    save_path=str(trial_dir / \"models\")\n",
        ")\n",
        "eval_callback = CustomizedEvalCallback(\n",
        "    eval_env,\n",
        "    best_model_save_path=str(trial_dir / \"eval\"),\n",
        "    log_path=str(trial_dir / \"eval\"),\n",
        "    eval_freq=max(eval_freq // num_train_envs, 1),\n",
        "    n_eval_episodes=num_eval_episodes,\n",
        ")\n",
        "callbacks = [checkpoint_callback, eval_callback]\n",
        "if use_wandb:\n",
        "    wandb.init(\n",
        "        project=\"cs260r\",\n",
        "        id=trial_name,\n",
        "        name=experiment_batch_name,\n",
        "        sync_tensorboard=True,\n",
        "        dir=str(trial_dir),\n",
        "    )\n",
        "    callbacks.append(WandbCallback(model_save_path=str(trial_dir / \"wandb_models\"), model_save_freq=wandb_save_freq))\n",
        "callbacks = CallbackList(callbacks)"
      ]
    },
    {
      "cell_type": "code",
      "execution_count": 10,
      "metadata": {
        "colab": {
          "base_uri": "https://localhost:8080/"
        },
        "id": "y7umQKXAMuJf",
        "outputId": "bc81df7c-411b-4266-bd3c-9ba4ae9fd8c3"
      },
      "outputs": [
        {
          "name": "stdout",
          "output_type": "stream",
          "text": [
            "Using cpu device\n"
          ]
        },
        {
          "name": "stderr",
          "output_type": "stream",
          "text": [
            "c:\\Users\\Colton\\anaconda3\\envs\\cs260r\\Lib\\site-packages\\stable_baselines3\\ppo\\ppo.py:155: UserWarning: You have specified a mini-batch size of 256, but because the `RolloutBuffer` is of size `n_steps * n_envs = 5000`, after every 19 untruncated mini-batches, there will be a truncated mini-batch of size 136\n",
            "We recommend using a `batch_size` that is a factor of `n_steps * n_envs`.\n",
            "Info: (n_steps=500 and n_envs=10)\n",
            "  warnings.warn(\n"
          ]
        }
      ],
      "source": [
        "\n",
        "# ===== Setup the training algorithm =====\n",
        "model = PPO(\n",
        "    env=train_env,\n",
        "    policy=ActorCriticPolicy,\n",
        "    n_steps=500,  # n_steps * n_envs = total_batch_size\n",
        "    n_epochs=20,\n",
        "    learning_rate=5e-5,\n",
        "    batch_size=256,\n",
        "    clip_range=0.1,\n",
        "    vf_coef=0.5,\n",
        "    ent_coef=0.0,\n",
        "    max_grad_norm=10.0,\n",
        "    tensorboard_log=str(trial_dir),\n",
        "    verbose=2,\n",
        "    device=\"auto\",\n",
        ")\n"
      ]
    },
    {
      "cell_type": "code",
      "execution_count": 11,
      "metadata": {
        "colab": {
          "base_uri": "https://localhost:8080/"
        },
        "id": "YfnwlEiTNKeB",
        "outputId": "a3333324-7ebf-429a-f5ba-e403b92346ae"
      },
      "outputs": [],
      "source": [
        "ckpt = None\n",
        "if ckpt:\n",
        "    ckpt = Path(ckpt)\n",
        "    print(f\"Loading checkpoint from {ckpt}!\")\n",
        "    from stable_baselines3.common.save_util import load_from_zip_file\n",
        "    data, params, pytorch_variables = load_from_zip_file(ckpt, device=model.device, print_system_info=False)\n",
        "    model.set_parameters(params, exact_match=True, device=model.device)\n"
      ]
    },
    {
      "cell_type": "code",
      "execution_count": 12,
      "metadata": {
        "colab": {
          "base_uri": "https://localhost:8080/",
          "height": 1000,
          "referenced_widgets": [
            "cb659f3e50024c13acdf9aa0be6c085e",
            "3e5e2d50d1834c5cab2df25e8e1572f6"
          ]
        },
        "id": "W1baXGNANOQ-",
        "outputId": "45cc778c-8a2d-447a-f5fa-166dfb127b04"
      },
      "outputs": [
        {
          "name": "stdout",
          "output_type": "stream",
          "text": [
            "Logging to runs\\ppo_metadrive\\ppo_metadrive_2025-03-16_17-43-31_a51009e7\\ppo_metadrive_1\n"
          ]
        },
        {
          "data": {
            "text/html": [
              "<pre style=\"white-space:pre;overflow-x:auto;line-height:normal;font-family:Menlo,'DejaVu Sans Mono',consolas,'Courier New',monospace\">c:\\Users\\Colton\\anaconda3\\envs\\cs260r\\Lib\\site-packages\\rich\\live.py:231: UserWarning: install \"ipywidgets\" for \n",
              "Jupyter support\n",
              "  warnings.warn('install \"ipywidgets\" for Jupyter support')\n",
              "</pre>\n"
            ],
            "text/plain": [
              "c:\\Users\\Colton\\anaconda3\\envs\\cs260r\\Lib\\site-packages\\rich\\live.py:231: UserWarning: install \"ipywidgets\" for \n",
              "Jupyter support\n",
              "  warnings.warn('install \"ipywidgets\" for Jupyter support')\n"
            ]
          },
          "metadata": {},
          "output_type": "display_data"
        },
        {
          "name": "stdout",
          "output_type": "stream",
          "text": [
            "---------------------------------\n",
            "| rollout/           |          |\n",
            "|    ep_len_mean     | 92       |\n",
            "|    ep_rew_mean     | -2.64    |\n",
            "| time/              |          |\n",
            "|    fps             | 1439     |\n",
            "|    iterations      | 1        |\n",
            "|    time_elapsed    | 3        |\n",
            "|    total_timesteps | 5000     |\n",
            "---------------------------------\n"
          ]
        },
        {
          "data": {
            "text/html": [
              "<pre style=\"white-space:pre;overflow-x:auto;line-height:normal;font-family:Menlo,'DejaVu Sans Mono',consolas,'Courier New',monospace\">Eval num_timesteps=10000, episode_reward=47.86 +/- 19.41\n",
              "</pre>\n"
            ],
            "text/plain": [
              "Eval num_timesteps=10000, episode_reward=47.86 +/- 19.41\n"
            ]
          },
          "metadata": {},
          "output_type": "display_data"
        },
        {
          "data": {
            "text/html": [
              "<pre style=\"white-space:pre;overflow-x:auto;line-height:normal;font-family:Menlo,'DejaVu Sans Mono',consolas,'Courier New',monospace\">Episode length: 206.20 +/- 42.36\n",
              "</pre>\n"
            ],
            "text/plain": [
              "Episode length: 206.20 +/- 42.36\n"
            ]
          },
          "metadata": {},
          "output_type": "display_data"
        },
        {
          "data": {
            "text/html": [
              "<pre style=\"white-space:pre;overflow-x:auto;line-height:normal;font-family:Menlo,'DejaVu Sans Mono',consolas,'Courier New',monospace\">Success rate: 0.00%\n",
              "</pre>\n"
            ],
            "text/plain": [
              "Success rate: 0.00%\n"
            ]
          },
          "metadata": {},
          "output_type": "display_data"
        },
        {
          "name": "stdout",
          "output_type": "stream",
          "text": [
            "------------------------------------------\n",
            "| eval/                   |              |\n",
            "|    arrive_dest          | 0            |\n",
            "|    crash                | 0            |\n",
            "|    max_step             | 0            |\n",
            "|    mean_ep_length       | 206          |\n",
            "|    mean_reward          | 47.9         |\n",
            "|    num_episodes         | 5            |\n",
            "|    out_of_road          | 1            |\n",
            "|    raw_action           | 0.033996757  |\n",
            "|    route_completion     | 0.17         |\n",
            "|    success_rate         | 0            |\n",
            "|    total_cost           | 1            |\n",
            "| time/                   |              |\n",
            "|    total_timesteps      | 10000        |\n",
            "| train/                  |              |\n",
            "|    approx_kl            | 0.0026634517 |\n",
            "|    clip_fraction        | 0.175        |\n",
            "|    clip_range           | 0.1          |\n",
            "|    entropy_loss         | -2.84        |\n",
            "|    explained_variance   | -0.0353      |\n",
            "|    learning_rate        | 5e-05        |\n",
            "|    loss                 | 0.00569      |\n",
            "|    n_updates            | 20           |\n",
            "|    policy_gradient_loss | -0.00759     |\n",
            "|    std                  | 1            |\n",
            "|    value_loss           | 0.0603       |\n",
            "------------------------------------------\n"
          ]
        },
        {
          "data": {
            "text/html": [
              "<pre style=\"white-space:pre;overflow-x:auto;line-height:normal;font-family:Menlo,'DejaVu Sans Mono',consolas,'Courier New',monospace\">New best mean reward!\n",
              "</pre>\n"
            ],
            "text/plain": [
              "New best mean reward!\n"
            ]
          },
          "metadata": {},
          "output_type": "display_data"
        },
        {
          "name": "stdout",
          "output_type": "stream",
          "text": [
            "---------------------------------\n",
            "| rollout/           |          |\n",
            "|    ep_len_mean     | 348      |\n",
            "|    ep_rew_mean     | -1.29    |\n",
            "| time/              |          |\n",
            "|    fps             | 932      |\n",
            "|    iterations      | 2        |\n",
            "|    time_elapsed    | 10       |\n",
            "|    total_timesteps | 10000    |\n",
            "---------------------------------\n",
            "-----------------------------------------\n",
            "| rollout/                |             |\n",
            "|    ep_len_mean          | 984         |\n",
            "|    ep_rew_mean          | 8.19        |\n",
            "| time/                   |             |\n",
            "|    fps                  | 982         |\n",
            "|    iterations           | 3           |\n",
            "|    time_elapsed         | 15          |\n",
            "|    total_timesteps      | 15000       |\n",
            "| train/                  |             |\n",
            "|    approx_kl            | 0.003381066 |\n",
            "|    clip_fraction        | 0.228       |\n",
            "|    clip_range           | 0.1         |\n",
            "|    entropy_loss         | -2.83       |\n",
            "|    explained_variance   | 0.0133      |\n",
            "|    learning_rate        | 5e-05       |\n",
            "|    loss                 | 0.0173      |\n",
            "|    n_updates            | 40          |\n",
            "|    policy_gradient_loss | -0.00965    |\n",
            "|    std                  | 0.994       |\n",
            "|    value_loss           | 0.0699      |\n",
            "-----------------------------------------\n"
          ]
        },
        {
          "data": {
            "text/html": [
              "<pre style=\"white-space:pre;overflow-x:auto;line-height:normal;font-family:Menlo,'DejaVu Sans Mono',consolas,'Courier New',monospace\">Eval num_timesteps=20000, episode_reward=34.56 +/- 17.57\n",
              "</pre>\n"
            ],
            "text/plain": [
              "Eval num_timesteps=20000, episode_reward=34.56 +/- 17.57\n"
            ]
          },
          "metadata": {},
          "output_type": "display_data"
        },
        {
          "data": {
            "text/html": [
              "<pre style=\"white-space:pre;overflow-x:auto;line-height:normal;font-family:Menlo,'DejaVu Sans Mono',consolas,'Courier New',monospace\">Episode length: 105.40 +/- 26.51\n",
              "</pre>\n"
            ],
            "text/plain": [
              "Episode length: 105.40 +/- 26.51\n"
            ]
          },
          "metadata": {},
          "output_type": "display_data"
        },
        {
          "data": {
            "text/html": [
              "<pre style=\"white-space:pre;overflow-x:auto;line-height:normal;font-family:Menlo,'DejaVu Sans Mono',consolas,'Courier New',monospace\">Success rate: 0.00%\n",
              "</pre>\n"
            ],
            "text/plain": [
              "Success rate: 0.00%\n"
            ]
          },
          "metadata": {},
          "output_type": "display_data"
        },
        {
          "name": "stdout",
          "output_type": "stream",
          "text": [
            "------------------------------------------\n",
            "| eval/                   |              |\n",
            "|    arrive_dest          | 0            |\n",
            "|    crash                | 0.1          |\n",
            "|    max_step             | 0            |\n",
            "|    mean_ep_length       | 105          |\n",
            "|    mean_reward          | 34.6         |\n",
            "|    num_episodes         | 5            |\n",
            "|    out_of_road          | 1            |\n",
            "|    raw_action           | 0.058816493  |\n",
            "|    route_completion     | 0.158        |\n",
            "|    success_rate         | 0            |\n",
            "|    total_cost           | 1            |\n",
            "| time/                   |              |\n",
            "|    total_timesteps      | 20000        |\n",
            "| train/                  |              |\n",
            "|    approx_kl            | 0.0021977765 |\n",
            "|    clip_fraction        | 0.128        |\n",
            "|    clip_range           | 0.1          |\n",
            "|    entropy_loss         | -2.82        |\n",
            "|    explained_variance   | -0.0191      |\n",
            "|    learning_rate        | 5e-05        |\n",
            "|    loss                 | 0.0236       |\n",
            "|    n_updates            | 60           |\n",
            "|    policy_gradient_loss | -0.00328     |\n",
            "|    std                  | 0.99         |\n",
            "|    value_loss           | 0.22         |\n",
            "------------------------------------------\n",
            "---------------------------------\n",
            "| rollout/           |          |\n",
            "|    ep_len_mean     | 1.08e+03 |\n",
            "|    ep_rew_mean     | 9.32     |\n",
            "| time/              |          |\n",
            "|    fps             | 901      |\n",
            "|    iterations      | 4        |\n",
            "|    time_elapsed    | 22       |\n",
            "|    total_timesteps | 20000    |\n",
            "---------------------------------\n",
            "------------------------------------------\n",
            "| rollout/                |              |\n",
            "|    ep_len_mean          | 1.59e+03     |\n",
            "|    ep_rew_mean          | 18.3         |\n",
            "| time/                   |              |\n",
            "|    fps                  | 922          |\n",
            "|    iterations           | 5            |\n",
            "|    time_elapsed         | 27           |\n",
            "|    total_timesteps      | 25000        |\n",
            "| train/                  |              |\n",
            "|    approx_kl            | 0.0041936925 |\n",
            "|    clip_fraction        | 0.262        |\n",
            "|    clip_range           | 0.1          |\n",
            "|    entropy_loss         | -2.81        |\n",
            "|    explained_variance   | -0.0169      |\n",
            "|    learning_rate        | 5e-05        |\n",
            "|    loss                 | 0.0227       |\n",
            "|    n_updates            | 80           |\n",
            "|    policy_gradient_loss | -0.0108      |\n",
            "|    std                  | 0.985        |\n",
            "|    value_loss           | 0.0892       |\n",
            "------------------------------------------\n"
          ]
        },
        {
          "data": {
            "text/html": [
              "<pre style=\"white-space:pre;overflow-x:auto;line-height:normal;font-family:Menlo,'DejaVu Sans Mono',consolas,'Courier New',monospace\">Eval num_timesteps=30000, episode_reward=25.78 +/- 19.12\n",
              "</pre>\n"
            ],
            "text/plain": [
              "Eval num_timesteps=30000, episode_reward=25.78 +/- 19.12\n"
            ]
          },
          "metadata": {},
          "output_type": "display_data"
        },
        {
          "data": {
            "text/html": [
              "<pre style=\"white-space:pre;overflow-x:auto;line-height:normal;font-family:Menlo,'DejaVu Sans Mono',consolas,'Courier New',monospace\">Episode length: 71.40 +/- 23.01\n",
              "</pre>\n"
            ],
            "text/plain": [
              "Episode length: 71.40 +/- 23.01\n"
            ]
          },
          "metadata": {},
          "output_type": "display_data"
        },
        {
          "data": {
            "text/html": [
              "<pre style=\"white-space:pre;overflow-x:auto;line-height:normal;font-family:Menlo,'DejaVu Sans Mono',consolas,'Courier New',monospace\">Success rate: 0.00%\n",
              "</pre>\n"
            ],
            "text/plain": [
              "Success rate: 0.00%\n"
            ]
          },
          "metadata": {},
          "output_type": "display_data"
        },
        {
          "name": "stdout",
          "output_type": "stream",
          "text": [
            "------------------------------------------\n",
            "| eval/                   |              |\n",
            "|    arrive_dest          | 0            |\n",
            "|    crash                | 0.0667       |\n",
            "|    max_step             | 0            |\n",
            "|    mean_ep_length       | 71.4         |\n",
            "|    mean_reward          | 25.8         |\n",
            "|    num_episodes         | 5            |\n",
            "|    out_of_road          | 1            |\n",
            "|    raw_action           | 0.081829436  |\n",
            "|    route_completion     | 0.134        |\n",
            "|    success_rate         | 0            |\n",
            "|    total_cost           | 1            |\n",
            "| time/                   |              |\n",
            "|    total_timesteps      | 30000        |\n",
            "| train/                  |              |\n",
            "|    approx_kl            | 0.0023435077 |\n",
            "|    clip_fraction        | 0.145        |\n",
            "|    clip_range           | 0.1          |\n",
            "|    entropy_loss         | -2.8         |\n",
            "|    explained_variance   | 0.0371       |\n",
            "|    learning_rate        | 5e-05        |\n",
            "|    loss                 | 0.129        |\n",
            "|    n_updates            | 100          |\n",
            "|    policy_gradient_loss | -0.00432     |\n",
            "|    std                  | 0.981        |\n",
            "|    value_loss           | 0.321        |\n",
            "------------------------------------------\n",
            "---------------------------------\n",
            "| rollout/           |          |\n",
            "|    ep_len_mean     | 1.55e+03 |\n",
            "|    ep_rew_mean     | 20.2     |\n",
            "| time/              |          |\n",
            "|    fps             | 889      |\n",
            "|    iterations      | 6        |\n",
            "|    time_elapsed    | 33       |\n",
            "|    total_timesteps | 30000    |\n",
            "---------------------------------\n",
            "------------------------------------------\n",
            "| rollout/                |              |\n",
            "|    ep_len_mean          | 1.22e+03     |\n",
            "|    ep_rew_mean          | 19           |\n",
            "| time/                   |              |\n",
            "|    fps                  | 878          |\n",
            "|    iterations           | 7            |\n",
            "|    time_elapsed         | 39           |\n",
            "|    total_timesteps      | 35000        |\n",
            "| train/                  |              |\n",
            "|    approx_kl            | 0.0033879578 |\n",
            "|    clip_fraction        | 0.173        |\n",
            "|    clip_range           | 0.1          |\n",
            "|    entropy_loss         | -2.79        |\n",
            "|    explained_variance   | 0.0319       |\n",
            "|    learning_rate        | 5e-05        |\n",
            "|    loss                 | 0.209        |\n",
            "|    n_updates            | 120          |\n",
            "|    policy_gradient_loss | -0.00593     |\n",
            "|    std                  | 0.972        |\n",
            "|    value_loss           | 0.253        |\n",
            "------------------------------------------\n"
          ]
        },
        {
          "data": {
            "text/html": [
              "<pre style=\"white-space:pre;overflow-x:auto;line-height:normal;font-family:Menlo,'DejaVu Sans Mono',consolas,'Courier New',monospace\">Eval num_timesteps=40000, episode_reward=86.76 +/- 39.38\n",
              "</pre>\n"
            ],
            "text/plain": [
              "Eval num_timesteps=40000, episode_reward=86.76 +/- 39.38\n"
            ]
          },
          "metadata": {},
          "output_type": "display_data"
        },
        {
          "data": {
            "text/html": [
              "<pre style=\"white-space:pre;overflow-x:auto;line-height:normal;font-family:Menlo,'DejaVu Sans Mono',consolas,'Courier New',monospace\">Episode length: 131.60 +/- 61.78\n",
              "</pre>\n"
            ],
            "text/plain": [
              "Episode length: 131.60 +/- 61.78\n"
            ]
          },
          "metadata": {},
          "output_type": "display_data"
        },
        {
          "data": {
            "text/html": [
              "<pre style=\"white-space:pre;overflow-x:auto;line-height:normal;font-family:Menlo,'DejaVu Sans Mono',consolas,'Courier New',monospace\">Success rate: 0.00%\n",
              "</pre>\n"
            ],
            "text/plain": [
              "Success rate: 0.00%\n"
            ]
          },
          "metadata": {},
          "output_type": "display_data"
        },
        {
          "name": "stdout",
          "output_type": "stream",
          "text": [
            "------------------------------------------\n",
            "| eval/                   |              |\n",
            "|    arrive_dest          | 0            |\n",
            "|    crash                | 0.05         |\n",
            "|    max_step             | 0            |\n",
            "|    mean_ep_length       | 132          |\n",
            "|    mean_reward          | 86.8         |\n",
            "|    num_episodes         | 5            |\n",
            "|    out_of_road          | 1            |\n",
            "|    raw_action           | 0.12483836   |\n",
            "|    route_completion     | 0.174        |\n",
            "|    success_rate         | 0            |\n",
            "|    total_cost           | 3.1          |\n",
            "| time/                   |              |\n",
            "|    total_timesteps      | 40000        |\n",
            "| train/                  |              |\n",
            "|    approx_kl            | 0.0020069717 |\n",
            "|    clip_fraction        | 0.0723       |\n",
            "|    clip_range           | 0.1          |\n",
            "|    entropy_loss         | -2.78        |\n",
            "|    explained_variance   | 0.0279       |\n",
            "|    learning_rate        | 5e-05        |\n",
            "|    loss                 | 0.31         |\n",
            "|    n_updates            | 140          |\n",
            "|    policy_gradient_loss | -0.00201     |\n",
            "|    std                  | 0.968        |\n",
            "|    value_loss           | 0.731        |\n",
            "------------------------------------------\n"
          ]
        },
        {
          "data": {
            "text/html": [
              "<pre style=\"white-space:pre;overflow-x:auto;line-height:normal;font-family:Menlo,'DejaVu Sans Mono',consolas,'Courier New',monospace\">New best mean reward!\n",
              "</pre>\n"
            ],
            "text/plain": [
              "New best mean reward!\n"
            ]
          },
          "metadata": {},
          "output_type": "display_data"
        },
        {
          "name": "stdout",
          "output_type": "stream",
          "text": [
            "---------------------------------\n",
            "| rollout/           |          |\n",
            "|    ep_len_mean     | 1.17e+03 |\n",
            "|    ep_rew_mean     | 19.8     |\n",
            "| time/              |          |\n",
            "|    fps             | 818      |\n",
            "|    iterations      | 8        |\n",
            "|    time_elapsed    | 48       |\n",
            "|    total_timesteps | 40000    |\n",
            "---------------------------------\n",
            "------------------------------------------\n",
            "| rollout/                |              |\n",
            "|    ep_len_mean          | 977          |\n",
            "|    ep_rew_mean          | 18.5         |\n",
            "| time/                   |              |\n",
            "|    fps                  | 805          |\n",
            "|    iterations           | 9            |\n",
            "|    time_elapsed         | 55           |\n",
            "|    total_timesteps      | 45000        |\n",
            "| train/                  |              |\n",
            "|    approx_kl            | 0.0030468146 |\n",
            "|    clip_fraction        | 0.152        |\n",
            "|    clip_range           | 0.1          |\n",
            "|    entropy_loss         | -2.76        |\n",
            "|    explained_variance   | -0.0223      |\n",
            "|    learning_rate        | 5e-05        |\n",
            "|    loss                 | 0.349        |\n",
            "|    n_updates            | 160          |\n",
            "|    policy_gradient_loss | -0.00526     |\n",
            "|    std                  | 0.959        |\n",
            "|    value_loss           | 0.551        |\n",
            "------------------------------------------\n"
          ]
        },
        {
          "data": {
            "text/html": [
              "<pre style=\"white-space:pre;overflow-x:auto;line-height:normal;font-family:Menlo,'DejaVu Sans Mono',consolas,'Courier New',monospace\">Eval num_timesteps=50000, episode_reward=48.03 +/- 16.06\n",
              "</pre>\n"
            ],
            "text/plain": [
              "Eval num_timesteps=50000, episode_reward=48.03 +/- 16.06\n"
            ]
          },
          "metadata": {},
          "output_type": "display_data"
        },
        {
          "data": {
            "text/html": [
              "<pre style=\"white-space:pre;overflow-x:auto;line-height:normal;font-family:Menlo,'DejaVu Sans Mono',consolas,'Courier New',monospace\">Episode length: 74.40 +/- 12.09\n",
              "</pre>\n"
            ],
            "text/plain": [
              "Episode length: 74.40 +/- 12.09\n"
            ]
          },
          "metadata": {},
          "output_type": "display_data"
        },
        {
          "data": {
            "text/html": [
              "<pre style=\"white-space:pre;overflow-x:auto;line-height:normal;font-family:Menlo,'DejaVu Sans Mono',consolas,'Courier New',monospace\">Success rate: 0.00%\n",
              "</pre>\n"
            ],
            "text/plain": [
              "Success rate: 0.00%\n"
            ]
          },
          "metadata": {},
          "output_type": "display_data"
        },
        {
          "name": "stdout",
          "output_type": "stream",
          "text": [
            "------------------------------------------\n",
            "| eval/                   |              |\n",
            "|    arrive_dest          | 0            |\n",
            "|    crash                | 0.04         |\n",
            "|    max_step             | 0            |\n",
            "|    mean_ep_length       | 74.4         |\n",
            "|    mean_reward          | 48           |\n",
            "|    num_episodes         | 5            |\n",
            "|    out_of_road          | 1            |\n",
            "|    raw_action           | 0.14997362   |\n",
            "|    route_completion     | 0.166        |\n",
            "|    success_rate         | 0            |\n",
            "|    total_cost           | 2.68         |\n",
            "| time/                   |              |\n",
            "|    total_timesteps      | 50000        |\n",
            "| train/                  |              |\n",
            "|    approx_kl            | 0.0020844506 |\n",
            "|    clip_fraction        | 0.0957       |\n",
            "|    clip_range           | 0.1          |\n",
            "|    entropy_loss         | -2.75        |\n",
            "|    explained_variance   | 0.023        |\n",
            "|    learning_rate        | 5e-05        |\n",
            "|    loss                 | 0.549        |\n",
            "|    n_updates            | 180          |\n",
            "|    policy_gradient_loss | -0.00259     |\n",
            "|    std                  | 0.955        |\n",
            "|    value_loss           | 0.985        |\n",
            "------------------------------------------\n",
            "---------------------------------\n",
            "| rollout/           |          |\n",
            "|    ep_len_mean     | 869      |\n",
            "|    ep_rew_mean     | 18.3     |\n",
            "| time/              |          |\n",
            "|    fps             | 781      |\n",
            "|    iterations      | 10       |\n",
            "|    time_elapsed    | 64       |\n",
            "|    total_timesteps | 50000    |\n",
            "---------------------------------\n",
            "------------------------------------------\n",
            "| rollout/                |              |\n",
            "|    ep_len_mean          | 811          |\n",
            "|    ep_rew_mean          | 17.8         |\n",
            "| time/                   |              |\n",
            "|    fps                  | 787          |\n",
            "|    iterations           | 11           |\n",
            "|    time_elapsed         | 69           |\n",
            "|    total_timesteps      | 55000        |\n",
            "| train/                  |              |\n",
            "|    approx_kl            | 0.0018461039 |\n",
            "|    clip_fraction        | 0.078        |\n",
            "|    clip_range           | 0.1          |\n",
            "|    entropy_loss         | -2.74        |\n",
            "|    explained_variance   | 0.0229       |\n",
            "|    learning_rate        | 5e-05        |\n",
            "|    loss                 | 0.582        |\n",
            "|    n_updates            | 200          |\n",
            "|    policy_gradient_loss | -0.0025      |\n",
            "|    std                  | 0.951        |\n",
            "|    value_loss           | 1.11         |\n",
            "------------------------------------------\n"
          ]
        },
        {
          "data": {
            "text/html": [
              "<pre style=\"white-space:pre;overflow-x:auto;line-height:normal;font-family:Menlo,'DejaVu Sans Mono',consolas,'Courier New',monospace\">Eval num_timesteps=60000, episode_reward=58.19 +/- 26.75\n",
              "</pre>\n"
            ],
            "text/plain": [
              "Eval num_timesteps=60000, episode_reward=58.19 +/- 26.75\n"
            ]
          },
          "metadata": {},
          "output_type": "display_data"
        },
        {
          "data": {
            "text/html": [
              "<pre style=\"white-space:pre;overflow-x:auto;line-height:normal;font-family:Menlo,'DejaVu Sans Mono',consolas,'Courier New',monospace\">Episode length: 74.60 +/- 17.07\n",
              "</pre>\n"
            ],
            "text/plain": [
              "Episode length: 74.60 +/- 17.07\n"
            ]
          },
          "metadata": {},
          "output_type": "display_data"
        },
        {
          "data": {
            "text/html": [
              "<pre style=\"white-space:pre;overflow-x:auto;line-height:normal;font-family:Menlo,'DejaVu Sans Mono',consolas,'Courier New',monospace\">Success rate: 0.00%\n",
              "</pre>\n"
            ],
            "text/plain": [
              "Success rate: 0.00%\n"
            ]
          },
          "metadata": {},
          "output_type": "display_data"
        },
        {
          "name": "stdout",
          "output_type": "stream",
          "text": [
            "------------------------------------------\n",
            "| eval/                   |              |\n",
            "|    arrive_dest          | 0            |\n",
            "|    crash                | 0.133        |\n",
            "|    max_step             | 0            |\n",
            "|    mean_ep_length       | 74.6         |\n",
            "|    mean_reward          | 58.2         |\n",
            "|    num_episodes         | 5            |\n",
            "|    out_of_road          | 1            |\n",
            "|    raw_action           | 0.1761587    |\n",
            "|    route_completion     | 0.172        |\n",
            "|    success_rate         | 0            |\n",
            "|    total_cost           | 2.5          |\n",
            "| time/                   |              |\n",
            "|    total_timesteps      | 60000        |\n",
            "| train/                  |              |\n",
            "|    approx_kl            | 0.0021749625 |\n",
            "|    clip_fraction        | 0.126        |\n",
            "|    clip_range           | 0.1          |\n",
            "|    entropy_loss         | -2.73        |\n",
            "|    explained_variance   | 0.00674      |\n",
            "|    learning_rate        | 5e-05        |\n",
            "|    loss                 | 0.3          |\n",
            "|    n_updates            | 220          |\n",
            "|    policy_gradient_loss | -0.00379     |\n",
            "|    std                  | 0.943        |\n",
            "|    value_loss           | 0.756        |\n",
            "------------------------------------------\n",
            "---------------------------------\n",
            "| rollout/           |          |\n",
            "|    ep_len_mean     | 754      |\n",
            "|    ep_rew_mean     | 18.7     |\n",
            "| time/              |          |\n",
            "|    fps             | 771      |\n",
            "|    iterations      | 12       |\n",
            "|    time_elapsed    | 77       |\n",
            "|    total_timesteps | 60000    |\n",
            "---------------------------------\n",
            "------------------------------------------\n",
            "| rollout/                |              |\n",
            "|    ep_len_mean          | 697          |\n",
            "|    ep_rew_mean          | 19           |\n",
            "| time/                   |              |\n",
            "|    fps                  | 764          |\n",
            "|    iterations           | 13           |\n",
            "|    time_elapsed         | 84           |\n",
            "|    total_timesteps      | 65000        |\n",
            "| train/                  |              |\n",
            "|    approx_kl            | 0.0020491523 |\n",
            "|    clip_fraction        | 0.0946       |\n",
            "|    clip_range           | 0.1          |\n",
            "|    entropy_loss         | -2.71        |\n",
            "|    explained_variance   | 0.029        |\n",
            "|    learning_rate        | 5e-05        |\n",
            "|    loss                 | 1.26         |\n",
            "|    n_updates            | 240          |\n",
            "|    policy_gradient_loss | -0.00312     |\n",
            "|    std                  | 0.934        |\n",
            "|    value_loss           | 1.38         |\n",
            "------------------------------------------\n"
          ]
        },
        {
          "data": {
            "text/html": [
              "<pre style=\"white-space:pre;overflow-x:auto;line-height:normal;font-family:Menlo,'DejaVu Sans Mono',consolas,'Courier New',monospace\">Eval num_timesteps=70000, episode_reward=50.54 +/- 21.61\n",
              "</pre>\n"
            ],
            "text/plain": [
              "Eval num_timesteps=70000, episode_reward=50.54 +/- 21.61\n"
            ]
          },
          "metadata": {},
          "output_type": "display_data"
        },
        {
          "data": {
            "text/html": [
              "<pre style=\"white-space:pre;overflow-x:auto;line-height:normal;font-family:Menlo,'DejaVu Sans Mono',consolas,'Courier New',monospace\">Episode length: 65.00 +/- 12.66\n",
              "</pre>\n"
            ],
            "text/plain": [
              "Episode length: 65.00 +/- 12.66\n"
            ]
          },
          "metadata": {},
          "output_type": "display_data"
        },
        {
          "data": {
            "text/html": [
              "<pre style=\"white-space:pre;overflow-x:auto;line-height:normal;font-family:Menlo,'DejaVu Sans Mono',consolas,'Courier New',monospace\">Success rate: 0.00%\n",
              "</pre>\n"
            ],
            "text/plain": [
              "Success rate: 0.00%\n"
            ]
          },
          "metadata": {},
          "output_type": "display_data"
        },
        {
          "name": "stdout",
          "output_type": "stream",
          "text": [
            "------------------------------------------\n",
            "| eval/                   |              |\n",
            "|    arrive_dest          | 0            |\n",
            "|    crash                | 0.114        |\n",
            "|    max_step             | 0            |\n",
            "|    mean_ep_length       | 65           |\n",
            "|    mean_reward          | 50.5         |\n",
            "|    num_episodes         | 5            |\n",
            "|    out_of_road          | 1            |\n",
            "|    raw_action           | 0.19784625   |\n",
            "|    route_completion     | 0.17         |\n",
            "|    success_rate         | 0            |\n",
            "|    total_cost           | 2.29         |\n",
            "| time/                   |              |\n",
            "|    total_timesteps      | 70000        |\n",
            "| train/                  |              |\n",
            "|    approx_kl            | 0.0022834758 |\n",
            "|    clip_fraction        | 0.118        |\n",
            "|    clip_range           | 0.1          |\n",
            "|    entropy_loss         | -2.7         |\n",
            "|    explained_variance   | 0.0183       |\n",
            "|    learning_rate        | 5e-05        |\n",
            "|    loss                 | 0.846        |\n",
            "|    n_updates            | 260          |\n",
            "|    policy_gradient_loss | -0.00322     |\n",
            "|    std                  | 0.934        |\n",
            "|    value_loss           | 1.58         |\n",
            "------------------------------------------\n",
            "---------------------------------\n",
            "| rollout/           |          |\n",
            "|    ep_len_mean     | 603      |\n",
            "|    ep_rew_mean     | 18.7     |\n",
            "| time/              |          |\n",
            "|    fps             | 736      |\n",
            "|    iterations      | 14       |\n",
            "|    time_elapsed    | 94       |\n",
            "|    total_timesteps | 70000    |\n",
            "---------------------------------\n",
            "------------------------------------------\n",
            "| rollout/                |              |\n",
            "|    ep_len_mean          | 422          |\n",
            "|    ep_rew_mean          | 18.8         |\n",
            "| time/                   |              |\n",
            "|    fps                  | 721          |\n",
            "|    iterations           | 15           |\n",
            "|    time_elapsed         | 103          |\n",
            "|    total_timesteps      | 75000        |\n",
            "| train/                  |              |\n",
            "|    approx_kl            | 0.0022469738 |\n",
            "|    clip_fraction        | 0.0969       |\n",
            "|    clip_range           | 0.1          |\n",
            "|    entropy_loss         | -2.69        |\n",
            "|    explained_variance   | 0.0315       |\n",
            "|    learning_rate        | 5e-05        |\n",
            "|    loss                 | 1.4          |\n",
            "|    n_updates            | 280          |\n",
            "|    policy_gradient_loss | -0.00271     |\n",
            "|    std                  | 0.929        |\n",
            "|    value_loss           | 2.28         |\n",
            "------------------------------------------\n"
          ]
        },
        {
          "data": {
            "text/html": [
              "<pre style=\"white-space:pre;overflow-x:auto;line-height:normal;font-family:Menlo,'DejaVu Sans Mono',consolas,'Courier New',monospace\">Eval num_timesteps=80000, episode_reward=24.44 +/- 11.49\n",
              "</pre>\n"
            ],
            "text/plain": [
              "Eval num_timesteps=80000, episode_reward=24.44 +/- 11.49\n"
            ]
          },
          "metadata": {},
          "output_type": "display_data"
        },
        {
          "data": {
            "text/html": [
              "<pre style=\"white-space:pre;overflow-x:auto;line-height:normal;font-family:Menlo,'DejaVu Sans Mono',consolas,'Courier New',monospace\">Episode length: 46.00 +/- 9.82\n",
              "</pre>\n"
            ],
            "text/plain": [
              "Episode length: 46.00 +/- 9.82\n"
            ]
          },
          "metadata": {},
          "output_type": "display_data"
        },
        {
          "data": {
            "text/html": [
              "<pre style=\"white-space:pre;overflow-x:auto;line-height:normal;font-family:Menlo,'DejaVu Sans Mono',consolas,'Courier New',monospace\">Success rate: 0.00%\n",
              "</pre>\n"
            ],
            "text/plain": [
              "Success rate: 0.00%\n"
            ]
          },
          "metadata": {},
          "output_type": "display_data"
        },
        {
          "name": "stdout",
          "output_type": "stream",
          "text": [
            "------------------------------------------\n",
            "| eval/                   |              |\n",
            "|    arrive_dest          | 0            |\n",
            "|    crash                | 0.15         |\n",
            "|    max_step             | 0            |\n",
            "|    mean_ep_length       | 46           |\n",
            "|    mean_reward          | 24.4         |\n",
            "|    num_episodes         | 5            |\n",
            "|    out_of_road          | 1            |\n",
            "|    raw_action           | 0.21283023   |\n",
            "|    route_completion     | 0.162        |\n",
            "|    success_rate         | 0            |\n",
            "|    total_cost           | 2.12         |\n",
            "| time/                   |              |\n",
            "|    total_timesteps      | 80000        |\n",
            "| train/                  |              |\n",
            "|    approx_kl            | 0.0013771876 |\n",
            "|    clip_fraction        | 0.0725       |\n",
            "|    clip_range           | 0.1          |\n",
            "|    entropy_loss         | -2.68        |\n",
            "|    explained_variance   | 0.00227      |\n",
            "|    learning_rate        | 5e-05        |\n",
            "|    loss                 | 1.52         |\n",
            "|    n_updates            | 300          |\n",
            "|    policy_gradient_loss | -0.0025      |\n",
            "|    std                  | 0.924        |\n",
            "|    value_loss           | 2.75         |\n",
            "------------------------------------------\n",
            "---------------------------------\n",
            "| rollout/           |          |\n",
            "|    ep_len_mean     | 322      |\n",
            "|    ep_rew_mean     | 17.4     |\n",
            "| time/              |          |\n",
            "|    fps             | 703      |\n",
            "|    iterations      | 16       |\n",
            "|    time_elapsed    | 113      |\n",
            "|    total_timesteps | 80000    |\n",
            "---------------------------------\n",
            "------------------------------------------\n",
            "| rollout/                |              |\n",
            "|    ep_len_mean          | 241          |\n",
            "|    ep_rew_mean          | 15.1         |\n",
            "| time/                   |              |\n",
            "|    fps                  | 685          |\n",
            "|    iterations           | 17           |\n",
            "|    time_elapsed         | 123          |\n",
            "|    total_timesteps      | 85000        |\n",
            "| train/                  |              |\n",
            "|    approx_kl            | 0.0019166674 |\n",
            "|    clip_fraction        | 0.0616       |\n",
            "|    clip_range           | 0.1          |\n",
            "|    entropy_loss         | -2.67        |\n",
            "|    explained_variance   | 0.049        |\n",
            "|    learning_rate        | 5e-05        |\n",
            "|    loss                 | 2.1          |\n",
            "|    n_updates            | 320          |\n",
            "|    policy_gradient_loss | -0.00199     |\n",
            "|    std                  | 0.918        |\n",
            "|    value_loss           | 3.74         |\n",
            "------------------------------------------\n"
          ]
        },
        {
          "data": {
            "text/html": [
              "<pre style=\"white-space:pre;overflow-x:auto;line-height:normal;font-family:Menlo,'DejaVu Sans Mono',consolas,'Courier New',monospace\">Eval num_timesteps=90000, episode_reward=11.63 +/- 7.71\n",
              "</pre>\n"
            ],
            "text/plain": [
              "Eval num_timesteps=90000, episode_reward=11.63 +/- 7.71\n"
            ]
          },
          "metadata": {},
          "output_type": "display_data"
        },
        {
          "data": {
            "text/html": [
              "<pre style=\"white-space:pre;overflow-x:auto;line-height:normal;font-family:Menlo,'DejaVu Sans Mono',consolas,'Courier New',monospace\">Episode length: 33.80 +/- 8.35\n",
              "</pre>\n"
            ],
            "text/plain": [
              "Episode length: 33.80 +/- 8.35\n"
            ]
          },
          "metadata": {},
          "output_type": "display_data"
        },
        {
          "data": {
            "text/html": [
              "<pre style=\"white-space:pre;overflow-x:auto;line-height:normal;font-family:Menlo,'DejaVu Sans Mono',consolas,'Courier New',monospace\">Success rate: 0.00%\n",
              "</pre>\n"
            ],
            "text/plain": [
              "Success rate: 0.00%\n"
            ]
          },
          "metadata": {},
          "output_type": "display_data"
        },
        {
          "name": "stdout",
          "output_type": "stream",
          "text": [
            "------------------------------------------\n",
            "| eval/                   |              |\n",
            "|    arrive_dest          | 0            |\n",
            "|    crash                | 0.156        |\n",
            "|    max_step             | 0            |\n",
            "|    mean_ep_length       | 33.8         |\n",
            "|    mean_reward          | 11.6         |\n",
            "|    num_episodes         | 5            |\n",
            "|    out_of_road          | 1            |\n",
            "|    raw_action           | 0.22374982   |\n",
            "|    route_completion     | 0.15         |\n",
            "|    success_rate         | 0            |\n",
            "|    total_cost           | 2            |\n",
            "| time/                   |              |\n",
            "|    total_timesteps      | 90000        |\n",
            "| train/                  |              |\n",
            "|    approx_kl            | 0.0017809641 |\n",
            "|    clip_fraction        | 0.0667       |\n",
            "|    clip_range           | 0.1          |\n",
            "|    entropy_loss         | -2.66        |\n",
            "|    explained_variance   | -0.00222     |\n",
            "|    learning_rate        | 5e-05        |\n",
            "|    loss                 | 2.52         |\n",
            "|    n_updates            | 340          |\n",
            "|    policy_gradient_loss | -0.00226     |\n",
            "|    std                  | 0.913        |\n",
            "|    value_loss           | 4.63         |\n",
            "------------------------------------------\n",
            "---------------------------------\n",
            "| rollout/           |          |\n",
            "|    ep_len_mean     | 207      |\n",
            "|    ep_rew_mean     | 14.9     |\n",
            "| time/              |          |\n",
            "|    fps             | 664      |\n",
            "|    iterations      | 18       |\n",
            "|    time_elapsed    | 135      |\n",
            "|    total_timesteps | 90000    |\n",
            "---------------------------------\n",
            "------------------------------------------\n",
            "| rollout/                |              |\n",
            "|    ep_len_mean          | 192          |\n",
            "|    ep_rew_mean          | 15.6         |\n",
            "| time/                   |              |\n",
            "|    fps                  | 663          |\n",
            "|    iterations           | 19           |\n",
            "|    time_elapsed         | 143          |\n",
            "|    total_timesteps      | 95000        |\n",
            "| train/                  |              |\n",
            "|    approx_kl            | 0.0009955105 |\n",
            "|    clip_fraction        | 0.0699       |\n",
            "|    clip_range           | 0.1          |\n",
            "|    entropy_loss         | -2.65        |\n",
            "|    explained_variance   | 0.058        |\n",
            "|    learning_rate        | 5e-05        |\n",
            "|    loss                 | 3.16         |\n",
            "|    n_updates            | 360          |\n",
            "|    policy_gradient_loss | -0.00267     |\n",
            "|    std                  | 0.906        |\n",
            "|    value_loss           | 4.62         |\n",
            "------------------------------------------\n"
          ]
        },
        {
          "data": {
            "text/html": [
              "<pre style=\"white-space:pre;overflow-x:auto;line-height:normal;font-family:Menlo,'DejaVu Sans Mono',consolas,'Courier New',monospace\">Saving model checkpoint to \n",
              "runs\\ppo_metadrive\\ppo_metadrive_2025-03-16_17-43-31_a51009e7\\models\\rl_model_100000_steps.zip\n",
              "</pre>\n"
            ],
            "text/plain": [
              "Saving model checkpoint to \n",
              "runs\\ppo_metadrive\\ppo_metadrive_2025-03-16_17-43-31_a51009e7\\models\\rl_model_100000_steps.zip\n"
            ]
          },
          "metadata": {},
          "output_type": "display_data"
        },
        {
          "data": {
            "text/html": [
              "<pre style=\"white-space:pre;overflow-x:auto;line-height:normal;font-family:Menlo,'DejaVu Sans Mono',consolas,'Courier New',monospace\">Eval num_timesteps=100000, episode_reward=45.08 +/- 15.52\n",
              "</pre>\n"
            ],
            "text/plain": [
              "Eval num_timesteps=100000, episode_reward=45.08 +/- 15.52\n"
            ]
          },
          "metadata": {},
          "output_type": "display_data"
        },
        {
          "data": {
            "text/html": [
              "<pre style=\"white-space:pre;overflow-x:auto;line-height:normal;font-family:Menlo,'DejaVu Sans Mono',consolas,'Courier New',monospace\">Episode length: 58.40 +/- 9.58\n",
              "</pre>\n"
            ],
            "text/plain": [
              "Episode length: 58.40 +/- 9.58\n"
            ]
          },
          "metadata": {},
          "output_type": "display_data"
        },
        {
          "data": {
            "text/html": [
              "<pre style=\"white-space:pre;overflow-x:auto;line-height:normal;font-family:Menlo,'DejaVu Sans Mono',consolas,'Courier New',monospace\">Success rate: 0.00%\n",
              "</pre>\n"
            ],
            "text/plain": [
              "Success rate: 0.00%\n"
            ]
          },
          "metadata": {},
          "output_type": "display_data"
        },
        {
          "name": "stdout",
          "output_type": "stream",
          "text": [
            "------------------------------------------\n",
            "| eval/                   |              |\n",
            "|    arrive_dest          | 0            |\n",
            "|    crash                | 0.18         |\n",
            "|    max_step             | 0            |\n",
            "|    mean_ep_length       | 58.4         |\n",
            "|    mean_reward          | 45.1         |\n",
            "|    num_episodes         | 5            |\n",
            "|    out_of_road          | 1            |\n",
            "|    raw_action           | 0.2416878    |\n",
            "|    route_completion     | 0.154        |\n",
            "|    success_rate         | 0            |\n",
            "|    total_cost           | 1.9          |\n",
            "| time/                   |              |\n",
            "|    total_timesteps      | 100000       |\n",
            "| train/                  |              |\n",
            "|    approx_kl            | 0.0015193938 |\n",
            "|    clip_fraction        | 0.056        |\n",
            "|    clip_range           | 0.1          |\n",
            "|    entropy_loss         | -2.63        |\n",
            "|    explained_variance   | 0.0766       |\n",
            "|    learning_rate        | 5e-05        |\n",
            "|    loss                 | 2.37         |\n",
            "|    n_updates            | 380          |\n",
            "|    policy_gradient_loss | -0.00237     |\n",
            "|    std                  | 0.901        |\n",
            "|    value_loss           | 4.62         |\n",
            "------------------------------------------\n",
            "---------------------------------\n",
            "| rollout/           |          |\n",
            "|    ep_len_mean     | 188      |\n",
            "|    ep_rew_mean     | 17.5     |\n",
            "| time/              |          |\n",
            "|    fps             | 656      |\n",
            "|    iterations      | 20       |\n",
            "|    time_elapsed    | 152      |\n",
            "|    total_timesteps | 100000   |\n",
            "---------------------------------\n",
            "------------------------------------------\n",
            "| rollout/                |              |\n",
            "|    ep_len_mean          | 202          |\n",
            "|    ep_rew_mean          | 21           |\n",
            "| time/                   |              |\n",
            "|    fps                  | 657          |\n",
            "|    iterations           | 21           |\n",
            "|    time_elapsed         | 159          |\n",
            "|    total_timesteps      | 105000       |\n",
            "| train/                  |              |\n",
            "|    approx_kl            | 0.0020019454 |\n",
            "|    clip_fraction        | 0.0747       |\n",
            "|    clip_range           | 0.1          |\n",
            "|    entropy_loss         | -2.62        |\n",
            "|    explained_variance   | 0.13         |\n",
            "|    learning_rate        | 5e-05        |\n",
            "|    loss                 | 1.82         |\n",
            "|    n_updates            | 400          |\n",
            "|    policy_gradient_loss | -0.00289     |\n",
            "|    std                  | 0.898        |\n",
            "|    value_loss           | 4.67         |\n",
            "------------------------------------------\n"
          ]
        },
        {
          "data": {
            "text/html": [
              "<pre style=\"white-space:pre;overflow-x:auto;line-height:normal;font-family:Menlo,'DejaVu Sans Mono',consolas,'Courier New',monospace\">Eval num_timesteps=110000, episode_reward=47.73 +/- 23.25\n",
              "</pre>\n"
            ],
            "text/plain": [
              "Eval num_timesteps=110000, episode_reward=47.73 +/- 23.25\n"
            ]
          },
          "metadata": {},
          "output_type": "display_data"
        },
        {
          "data": {
            "text/html": [
              "<pre style=\"white-space:pre;overflow-x:auto;line-height:normal;font-family:Menlo,'DejaVu Sans Mono',consolas,'Courier New',monospace\">Episode length: 59.80 +/- 13.53\n",
              "</pre>\n"
            ],
            "text/plain": [
              "Episode length: 59.80 +/- 13.53\n"
            ]
          },
          "metadata": {},
          "output_type": "display_data"
        },
        {
          "data": {
            "text/html": [
              "<pre style=\"white-space:pre;overflow-x:auto;line-height:normal;font-family:Menlo,'DejaVu Sans Mono',consolas,'Courier New',monospace\">Success rate: 0.00%\n",
              "</pre>\n"
            ],
            "text/plain": [
              "Success rate: 0.00%\n"
            ]
          },
          "metadata": {},
          "output_type": "display_data"
        },
        {
          "name": "stdout",
          "output_type": "stream",
          "text": [
            "------------------------------------------\n",
            "| eval/                   |              |\n",
            "|    arrive_dest          | 0            |\n",
            "|    crash                | 0.164        |\n",
            "|    max_step             | 0            |\n",
            "|    mean_ep_length       | 59.8         |\n",
            "|    mean_reward          | 47.7         |\n",
            "|    num_episodes         | 5            |\n",
            "|    out_of_road          | 1            |\n",
            "|    raw_action           | 0.25702918   |\n",
            "|    route_completion     | 0.153        |\n",
            "|    success_rate         | 0            |\n",
            "|    total_cost           | 1.82         |\n",
            "| time/                   |              |\n",
            "|    total_timesteps      | 110000       |\n",
            "| train/                  |              |\n",
            "|    approx_kl            | 0.0012741673 |\n",
            "|    clip_fraction        | 0.0459       |\n",
            "|    clip_range           | 0.1          |\n",
            "|    entropy_loss         | -2.61        |\n",
            "|    explained_variance   | 0.0368       |\n",
            "|    learning_rate        | 5e-05        |\n",
            "|    loss                 | 4            |\n",
            "|    n_updates            | 420          |\n",
            "|    policy_gradient_loss | -0.00308     |\n",
            "|    std                  | 0.892        |\n",
            "|    value_loss           | 4.76         |\n",
            "------------------------------------------\n",
            "---------------------------------\n",
            "| rollout/           |          |\n",
            "|    ep_len_mean     | 206      |\n",
            "|    ep_rew_mean     | 22.3     |\n",
            "| time/              |          |\n",
            "|    fps             | 657      |\n",
            "|    iterations      | 22       |\n",
            "|    time_elapsed    | 167      |\n",
            "|    total_timesteps | 110000   |\n",
            "---------------------------------\n",
            "-----------------------------------------\n",
            "| rollout/                |             |\n",
            "|    ep_len_mean          | 220         |\n",
            "|    ep_rew_mean          | 25.7        |\n",
            "| time/                   |             |\n",
            "|    fps                  | 658         |\n",
            "|    iterations           | 23          |\n",
            "|    time_elapsed         | 174         |\n",
            "|    total_timesteps      | 115000      |\n",
            "| train/                  |             |\n",
            "|    approx_kl            | 0.002073293 |\n",
            "|    clip_fraction        | 0.0593      |\n",
            "|    clip_range           | 0.1         |\n",
            "|    entropy_loss         | -2.6        |\n",
            "|    explained_variance   | 0.115       |\n",
            "|    learning_rate        | 5e-05       |\n",
            "|    loss                 | 3.14        |\n",
            "|    n_updates            | 440         |\n",
            "|    policy_gradient_loss | -0.00274    |\n",
            "|    std                  | 0.889       |\n",
            "|    value_loss           | 7.31        |\n",
            "-----------------------------------------\n"
          ]
        },
        {
          "data": {
            "text/html": [
              "<pre style=\"white-space:pre;overflow-x:auto;line-height:normal;font-family:Menlo,'DejaVu Sans Mono',consolas,'Courier New',monospace\">Eval num_timesteps=120000, episode_reward=95.82 +/- 32.43\n",
              "</pre>\n"
            ],
            "text/plain": [
              "Eval num_timesteps=120000, episode_reward=95.82 +/- 32.43\n"
            ]
          },
          "metadata": {},
          "output_type": "display_data"
        },
        {
          "data": {
            "text/html": [
              "<pre style=\"white-space:pre;overflow-x:auto;line-height:normal;font-family:Menlo,'DejaVu Sans Mono',consolas,'Courier New',monospace\">Episode length: 101.20 +/- 41.21\n",
              "</pre>\n"
            ],
            "text/plain": [
              "Episode length: 101.20 +/- 41.21\n"
            ]
          },
          "metadata": {},
          "output_type": "display_data"
        },
        {
          "data": {
            "text/html": [
              "<pre style=\"white-space:pre;overflow-x:auto;line-height:normal;font-family:Menlo,'DejaVu Sans Mono',consolas,'Courier New',monospace\">Success rate: 0.00%\n",
              "</pre>\n"
            ],
            "text/plain": [
              "Success rate: 0.00%\n"
            ]
          },
          "metadata": {},
          "output_type": "display_data"
        },
        {
          "name": "stdout",
          "output_type": "stream",
          "text": [
            "------------------------------------------\n",
            "| eval/                   |              |\n",
            "|    arrive_dest          | 0            |\n",
            "|    crash                | 0.183        |\n",
            "|    max_step             | 0            |\n",
            "|    mean_ep_length       | 101          |\n",
            "|    mean_reward          | 95.8         |\n",
            "|    num_episodes         | 5            |\n",
            "|    out_of_road          | 1            |\n",
            "|    raw_action           | 0.2792714    |\n",
            "|    route_completion     | 0.17         |\n",
            "|    success_rate         | 0            |\n",
            "|    total_cost           | 2.4          |\n",
            "| time/                   |              |\n",
            "|    total_timesteps      | 120000       |\n",
            "| train/                  |              |\n",
            "|    approx_kl            | 0.0015684167 |\n",
            "|    clip_fraction        | 0.065        |\n",
            "|    clip_range           | 0.1          |\n",
            "|    entropy_loss         | -2.6         |\n",
            "|    explained_variance   | 0.304        |\n",
            "|    learning_rate        | 5e-05        |\n",
            "|    loss                 | 2.71         |\n",
            "|    n_updates            | 460          |\n",
            "|    policy_gradient_loss | -0.00306     |\n",
            "|    std                  | 0.885        |\n",
            "|    value_loss           | 6.15         |\n",
            "------------------------------------------\n"
          ]
        },
        {
          "data": {
            "text/html": [
              "<pre style=\"white-space:pre;overflow-x:auto;line-height:normal;font-family:Menlo,'DejaVu Sans Mono',consolas,'Courier New',monospace\">New best mean reward!\n",
              "</pre>\n"
            ],
            "text/plain": [
              "New best mean reward!\n"
            ]
          },
          "metadata": {},
          "output_type": "display_data"
        },
        {
          "name": "stdout",
          "output_type": "stream",
          "text": [
            "---------------------------------\n",
            "| rollout/           |          |\n",
            "|    ep_len_mean     | 211      |\n",
            "|    ep_rew_mean     | 25.8     |\n",
            "| time/              |          |\n",
            "|    fps             | 651      |\n",
            "|    iterations      | 24       |\n",
            "|    time_elapsed    | 184      |\n",
            "|    total_timesteps | 120000   |\n",
            "---------------------------------\n",
            "------------------------------------------\n",
            "| rollout/                |              |\n",
            "|    ep_len_mean          | 215          |\n",
            "|    ep_rew_mean          | 29.9         |\n",
            "| time/                   |              |\n",
            "|    fps                  | 644          |\n",
            "|    iterations           | 25           |\n",
            "|    time_elapsed         | 193          |\n",
            "|    total_timesteps      | 125000       |\n",
            "| train/                  |              |\n",
            "|    approx_kl            | 0.0017037019 |\n",
            "|    clip_fraction        | 0.085        |\n",
            "|    clip_range           | 0.1          |\n",
            "|    entropy_loss         | -2.58        |\n",
            "|    explained_variance   | 0.194        |\n",
            "|    learning_rate        | 5e-05        |\n",
            "|    loss                 | 2.97         |\n",
            "|    n_updates            | 480          |\n",
            "|    policy_gradient_loss | -0.00412     |\n",
            "|    std                  | 0.879        |\n",
            "|    value_loss           | 6.03         |\n",
            "------------------------------------------\n"
          ]
        },
        {
          "data": {
            "text/html": [
              "<pre style=\"white-space:pre;overflow-x:auto;line-height:normal;font-family:Menlo,'DejaVu Sans Mono',consolas,'Courier New',monospace\">Eval num_timesteps=130000, episode_reward=96.69 +/- 25.44\n",
              "</pre>\n"
            ],
            "text/plain": [
              "Eval num_timesteps=130000, episode_reward=96.69 +/- 25.44\n"
            ]
          },
          "metadata": {},
          "output_type": "display_data"
        },
        {
          "data": {
            "text/html": [
              "<pre style=\"white-space:pre;overflow-x:auto;line-height:normal;font-family:Menlo,'DejaVu Sans Mono',consolas,'Courier New',monospace\">Episode length: 95.00 +/- 14.52\n",
              "</pre>\n"
            ],
            "text/plain": [
              "Episode length: 95.00 +/- 14.52\n"
            ]
          },
          "metadata": {},
          "output_type": "display_data"
        },
        {
          "data": {
            "text/html": [
              "<pre style=\"white-space:pre;overflow-x:auto;line-height:normal;font-family:Menlo,'DejaVu Sans Mono',consolas,'Courier New',monospace\">Success rate: 0.00%\n",
              "</pre>\n"
            ],
            "text/plain": [
              "Success rate: 0.00%\n"
            ]
          },
          "metadata": {},
          "output_type": "display_data"
        },
        {
          "name": "stdout",
          "output_type": "stream",
          "text": [
            "------------------------------------------\n",
            "| eval/                   |              |\n",
            "|    arrive_dest          | 0            |\n",
            "|    crash                | 0.185        |\n",
            "|    max_step             | 0            |\n",
            "|    mean_ep_length       | 95           |\n",
            "|    mean_reward          | 96.7         |\n",
            "|    num_episodes         | 5            |\n",
            "|    out_of_road          | 1            |\n",
            "|    raw_action           | 0.29696774   |\n",
            "|    route_completion     | 0.179        |\n",
            "|    success_rate         | 0            |\n",
            "|    total_cost           | 2.55         |\n",
            "| time/                   |              |\n",
            "|    total_timesteps      | 130000       |\n",
            "| train/                  |              |\n",
            "|    approx_kl            | 0.0016538494 |\n",
            "|    clip_fraction        | 0.0464       |\n",
            "|    clip_range           | 0.1          |\n",
            "|    entropy_loss         | -2.57        |\n",
            "|    explained_variance   | 0.0143       |\n",
            "|    learning_rate        | 5e-05        |\n",
            "|    loss                 | 5.23         |\n",
            "|    n_updates            | 500          |\n",
            "|    policy_gradient_loss | -0.0029      |\n",
            "|    std                  | 0.874        |\n",
            "|    value_loss           | 10.9         |\n",
            "------------------------------------------\n"
          ]
        },
        {
          "data": {
            "text/html": [
              "<pre style=\"white-space:pre;overflow-x:auto;line-height:normal;font-family:Menlo,'DejaVu Sans Mono',consolas,'Courier New',monospace\">New best mean reward!\n",
              "</pre>\n"
            ],
            "text/plain": [
              "New best mean reward!\n"
            ]
          },
          "metadata": {},
          "output_type": "display_data"
        },
        {
          "name": "stdout",
          "output_type": "stream",
          "text": [
            "---------------------------------\n",
            "| rollout/           |          |\n",
            "|    ep_len_mean     | 219      |\n",
            "|    ep_rew_mean     | 33.8     |\n",
            "| time/              |          |\n",
            "|    fps             | 646      |\n",
            "|    iterations      | 26       |\n",
            "|    time_elapsed    | 201      |\n",
            "|    total_timesteps | 130000   |\n",
            "---------------------------------\n",
            "------------------------------------------\n",
            "| rollout/                |              |\n",
            "|    ep_len_mean          | 229          |\n",
            "|    ep_rew_mean          | 38.2         |\n",
            "| time/                   |              |\n",
            "|    fps                  | 649          |\n",
            "|    iterations           | 27           |\n",
            "|    time_elapsed         | 207          |\n",
            "|    total_timesteps      | 135000       |\n",
            "| train/                  |              |\n",
            "|    approx_kl            | 0.0016003707 |\n",
            "|    clip_fraction        | 0.0497       |\n",
            "|    clip_range           | 0.1          |\n",
            "|    entropy_loss         | -2.56        |\n",
            "|    explained_variance   | 0.0778       |\n",
            "|    learning_rate        | 5e-05        |\n",
            "|    loss                 | 3.14         |\n",
            "|    n_updates            | 520          |\n",
            "|    policy_gradient_loss | -0.00218     |\n",
            "|    std                  | 0.866        |\n",
            "|    value_loss           | 8.98         |\n",
            "------------------------------------------\n"
          ]
        },
        {
          "data": {
            "text/html": [
              "<pre style=\"white-space:pre;overflow-x:auto;line-height:normal;font-family:Menlo,'DejaVu Sans Mono',consolas,'Courier New',monospace\">Eval num_timesteps=140000, episode_reward=103.88 +/- 62.10\n",
              "</pre>\n"
            ],
            "text/plain": [
              "Eval num_timesteps=140000, episode_reward=103.88 +/- 62.10\n"
            ]
          },
          "metadata": {},
          "output_type": "display_data"
        },
        {
          "data": {
            "text/html": [
              "<pre style=\"white-space:pre;overflow-x:auto;line-height:normal;font-family:Menlo,'DejaVu Sans Mono',consolas,'Courier New',monospace\">Episode length: 143.60 +/- 83.79\n",
              "</pre>\n"
            ],
            "text/plain": [
              "Episode length: 143.60 +/- 83.79\n"
            ]
          },
          "metadata": {},
          "output_type": "display_data"
        },
        {
          "data": {
            "text/html": [
              "<pre style=\"white-space:pre;overflow-x:auto;line-height:normal;font-family:Menlo,'DejaVu Sans Mono',consolas,'Courier New',monospace\">Success rate: 20.00%\n",
              "</pre>\n"
            ],
            "text/plain": [
              "Success rate: 20.00%\n"
            ]
          },
          "metadata": {},
          "output_type": "display_data"
        },
        {
          "name": "stdout",
          "output_type": "stream",
          "text": [
            "------------------------------------------\n",
            "| eval/                   |              |\n",
            "|    arrive_dest          | 0.0143       |\n",
            "|    crash                | 0.186        |\n",
            "|    max_step             | 0            |\n",
            "|    mean_ep_length       | 144          |\n",
            "|    mean_reward          | 104          |\n",
            "|    num_episodes         | 5            |\n",
            "|    out_of_road          | 0.986        |\n",
            "|    raw_action           | 0.32120183   |\n",
            "|    route_completion     | 0.203        |\n",
            "|    success_rate         | 0.2          |\n",
            "|    total_cost           | 4.66         |\n",
            "| time/                   |              |\n",
            "|    total_timesteps      | 140000       |\n",
            "| train/                  |              |\n",
            "|    approx_kl            | 0.0015746423 |\n",
            "|    clip_fraction        | 0.0775       |\n",
            "|    clip_range           | 0.1          |\n",
            "|    entropy_loss         | -2.54        |\n",
            "|    explained_variance   | 0.172        |\n",
            "|    learning_rate        | 5e-05        |\n",
            "|    loss                 | 4.99         |\n",
            "|    n_updates            | 540          |\n",
            "|    policy_gradient_loss | -0.00361     |\n",
            "|    std                  | 0.86         |\n",
            "|    value_loss           | 8.83         |\n",
            "------------------------------------------\n"
          ]
        },
        {
          "data": {
            "text/html": [
              "<pre style=\"white-space:pre;overflow-x:auto;line-height:normal;font-family:Menlo,'DejaVu Sans Mono',consolas,'Courier New',monospace\">New best mean reward!\n",
              "</pre>\n"
            ],
            "text/plain": [
              "New best mean reward!\n"
            ]
          },
          "metadata": {},
          "output_type": "display_data"
        },
        {
          "name": "stdout",
          "output_type": "stream",
          "text": [
            "---------------------------------\n",
            "| rollout/           |          |\n",
            "|    ep_len_mean     | 243      |\n",
            "|    ep_rew_mean     | 44.7     |\n",
            "| time/              |          |\n",
            "|    fps             | 643      |\n",
            "|    iterations      | 28       |\n",
            "|    time_elapsed    | 217      |\n",
            "|    total_timesteps | 140000   |\n",
            "---------------------------------\n",
            "------------------------------------------\n",
            "| rollout/                |              |\n",
            "|    ep_len_mean          | 262          |\n",
            "|    ep_rew_mean          | 51.1         |\n",
            "| time/                   |              |\n",
            "|    fps                  | 648          |\n",
            "|    iterations           | 29           |\n",
            "|    time_elapsed         | 223          |\n",
            "|    total_timesteps      | 145000       |\n",
            "| train/                  |              |\n",
            "|    approx_kl            | 0.0012389034 |\n",
            "|    clip_fraction        | 0.0565       |\n",
            "|    clip_range           | 0.1          |\n",
            "|    entropy_loss         | -2.53        |\n",
            "|    explained_variance   | 0.363        |\n",
            "|    learning_rate        | 5e-05        |\n",
            "|    loss                 | 3.11         |\n",
            "|    n_updates            | 560          |\n",
            "|    policy_gradient_loss | -0.00288     |\n",
            "|    std                  | 0.858        |\n",
            "|    value_loss           | 10.5         |\n",
            "------------------------------------------\n"
          ]
        },
        {
          "data": {
            "text/html": [
              "<pre style=\"white-space:pre;overflow-x:auto;line-height:normal;font-family:Menlo,'DejaVu Sans Mono',consolas,'Courier New',monospace\">Eval num_timesteps=150000, episode_reward=118.32 +/- 42.10\n",
              "</pre>\n"
            ],
            "text/plain": [
              "Eval num_timesteps=150000, episode_reward=118.32 +/- 42.10\n"
            ]
          },
          "metadata": {},
          "output_type": "display_data"
        },
        {
          "data": {
            "text/html": [
              "<pre style=\"white-space:pre;overflow-x:auto;line-height:normal;font-family:Menlo,'DejaVu Sans Mono',consolas,'Courier New',monospace\">Episode length: 109.00 +/- 28.23\n",
              "</pre>\n"
            ],
            "text/plain": [
              "Episode length: 109.00 +/- 28.23\n"
            ]
          },
          "metadata": {},
          "output_type": "display_data"
        },
        {
          "data": {
            "text/html": [
              "<pre style=\"white-space:pre;overflow-x:auto;line-height:normal;font-family:Menlo,'DejaVu Sans Mono',consolas,'Courier New',monospace\">Success rate: 0.00%\n",
              "</pre>\n"
            ],
            "text/plain": [
              "Success rate: 0.00%\n"
            ]
          },
          "metadata": {},
          "output_type": "display_data"
        },
        {
          "name": "stdout",
          "output_type": "stream",
          "text": [
            "------------------------------------------\n",
            "| eval/                   |              |\n",
            "|    arrive_dest          | 0.0133       |\n",
            "|    crash                | 0.227        |\n",
            "|    max_step             | 0            |\n",
            "|    mean_ep_length       | 109          |\n",
            "|    mean_reward          | 118          |\n",
            "|    num_episodes         | 5            |\n",
            "|    out_of_road          | 0.987        |\n",
            "|    raw_action           | 0.33585605   |\n",
            "|    route_completion     | 0.216        |\n",
            "|    success_rate         | 0            |\n",
            "|    total_cost           | 4.77         |\n",
            "| time/                   |              |\n",
            "|    total_timesteps      | 150000       |\n",
            "| train/                  |              |\n",
            "|    approx_kl            | 0.0013855045 |\n",
            "|    clip_fraction        | 0.0767       |\n",
            "|    clip_range           | 0.1          |\n",
            "|    entropy_loss         | -2.52        |\n",
            "|    explained_variance   | 0.211        |\n",
            "|    learning_rate        | 5e-05        |\n",
            "|    loss                 | 4.8          |\n",
            "|    n_updates            | 580          |\n",
            "|    policy_gradient_loss | -0.003       |\n",
            "|    std                  | 0.854        |\n",
            "|    value_loss           | 11.3         |\n",
            "------------------------------------------\n"
          ]
        },
        {
          "data": {
            "text/html": [
              "<pre style=\"white-space:pre;overflow-x:auto;line-height:normal;font-family:Menlo,'DejaVu Sans Mono',consolas,'Courier New',monospace\">New best mean reward!\n",
              "</pre>\n"
            ],
            "text/plain": [
              "New best mean reward!\n"
            ]
          },
          "metadata": {},
          "output_type": "display_data"
        },
        {
          "name": "stdout",
          "output_type": "stream",
          "text": [
            "---------------------------------\n",
            "| rollout/           |          |\n",
            "|    ep_len_mean     | 280      |\n",
            "|    ep_rew_mean     | 58.6     |\n",
            "| time/              |          |\n",
            "|    fps             | 649      |\n",
            "|    iterations      | 30       |\n",
            "|    time_elapsed    | 230      |\n",
            "|    total_timesteps | 150000   |\n",
            "---------------------------------\n",
            "-----------------------------------------\n",
            "| rollout/                |             |\n",
            "|    ep_len_mean          | 309         |\n",
            "|    ep_rew_mean          | 67.7        |\n",
            "| time/                   |             |\n",
            "|    fps                  | 655         |\n",
            "|    iterations           | 31          |\n",
            "|    time_elapsed         | 236         |\n",
            "|    total_timesteps      | 155000      |\n",
            "| train/                  |             |\n",
            "|    approx_kl            | 0.002576915 |\n",
            "|    clip_fraction        | 0.0915      |\n",
            "|    clip_range           | 0.1         |\n",
            "|    entropy_loss         | -2.51       |\n",
            "|    explained_variance   | 0.203       |\n",
            "|    learning_rate        | 5e-05       |\n",
            "|    loss                 | 5.56        |\n",
            "|    n_updates            | 600         |\n",
            "|    policy_gradient_loss | -0.00373    |\n",
            "|    std                  | 0.848       |\n",
            "|    value_loss           | 9.67        |\n",
            "-----------------------------------------\n"
          ]
        },
        {
          "data": {
            "text/html": [
              "<pre style=\"white-space:pre;overflow-x:auto;line-height:normal;font-family:Menlo,'DejaVu Sans Mono',consolas,'Courier New',monospace\">Eval num_timesteps=160000, episode_reward=65.56 +/- 14.04\n",
              "</pre>\n"
            ],
            "text/plain": [
              "Eval num_timesteps=160000, episode_reward=65.56 +/- 14.04\n"
            ]
          },
          "metadata": {},
          "output_type": "display_data"
        },
        {
          "data": {
            "text/html": [
              "<pre style=\"white-space:pre;overflow-x:auto;line-height:normal;font-family:Menlo,'DejaVu Sans Mono',consolas,'Courier New',monospace\">Episode length: 74.60 +/- 5.99\n",
              "</pre>\n"
            ],
            "text/plain": [
              "Episode length: 74.60 +/- 5.99\n"
            ]
          },
          "metadata": {},
          "output_type": "display_data"
        },
        {
          "data": {
            "text/html": [
              "<pre style=\"white-space:pre;overflow-x:auto;line-height:normal;font-family:Menlo,'DejaVu Sans Mono',consolas,'Courier New',monospace\">Success rate: 0.00%\n",
              "</pre>\n"
            ],
            "text/plain": [
              "Success rate: 0.00%\n"
            ]
          },
          "metadata": {},
          "output_type": "display_data"
        },
        {
          "name": "stdout",
          "output_type": "stream",
          "text": [
            "------------------------------------------\n",
            "| eval/                   |              |\n",
            "|    arrive_dest          | 0.0125       |\n",
            "|    crash                | 0.225        |\n",
            "|    max_step             | 0            |\n",
            "|    mean_ep_length       | 74.6         |\n",
            "|    mean_reward          | 65.6         |\n",
            "|    num_episodes         | 5            |\n",
            "|    out_of_road          | 0.988        |\n",
            "|    raw_action           | 0.3450317    |\n",
            "|    route_completion     | 0.219        |\n",
            "|    success_rate         | 0            |\n",
            "|    total_cost           | 4.65         |\n",
            "| time/                   |              |\n",
            "|    total_timesteps      | 160000       |\n",
            "| train/                  |              |\n",
            "|    approx_kl            | 0.0019665752 |\n",
            "|    clip_fraction        | 0.0845       |\n",
            "|    clip_range           | 0.1          |\n",
            "|    entropy_loss         | -2.5         |\n",
            "|    explained_variance   | 0.522        |\n",
            "|    learning_rate        | 5e-05        |\n",
            "|    loss                 | 4.33         |\n",
            "|    n_updates            | 620          |\n",
            "|    policy_gradient_loss | -0.00403     |\n",
            "|    std                  | 0.844        |\n",
            "|    value_loss           | 11.7         |\n",
            "------------------------------------------\n",
            "---------------------------------\n",
            "| rollout/           |          |\n",
            "|    ep_len_mean     | 320      |\n",
            "|    ep_rew_mean     | 73.3     |\n",
            "| time/              |          |\n",
            "|    fps             | 654      |\n",
            "|    iterations      | 32       |\n",
            "|    time_elapsed    | 244      |\n",
            "|    total_timesteps | 160000   |\n",
            "---------------------------------\n",
            "------------------------------------------\n",
            "| rollout/                |              |\n",
            "|    ep_len_mean          | 340          |\n",
            "|    ep_rew_mean          | 82           |\n",
            "| time/                   |              |\n",
            "|    fps                  | 662          |\n",
            "|    iterations           | 33           |\n",
            "|    time_elapsed         | 249          |\n",
            "|    total_timesteps      | 165000       |\n",
            "| train/                  |              |\n",
            "|    approx_kl            | 0.0010822697 |\n",
            "|    clip_fraction        | 0.0452       |\n",
            "|    clip_range           | 0.1          |\n",
            "|    entropy_loss         | -2.49        |\n",
            "|    explained_variance   | 0.331        |\n",
            "|    learning_rate        | 5e-05        |\n",
            "|    loss                 | 6.37         |\n",
            "|    n_updates            | 640          |\n",
            "|    policy_gradient_loss | -0.00364     |\n",
            "|    std                  | 0.838        |\n",
            "|    value_loss           | 16.7         |\n",
            "------------------------------------------\n"
          ]
        },
        {
          "data": {
            "text/html": [
              "<pre style=\"white-space:pre;overflow-x:auto;line-height:normal;font-family:Menlo,'DejaVu Sans Mono',consolas,'Courier New',monospace\">Eval num_timesteps=170000, episode_reward=140.93 +/- 54.74\n",
              "</pre>\n"
            ],
            "text/plain": [
              "Eval num_timesteps=170000, episode_reward=140.93 +/- 54.74\n"
            ]
          },
          "metadata": {},
          "output_type": "display_data"
        },
        {
          "data": {
            "text/html": [
              "<pre style=\"white-space:pre;overflow-x:auto;line-height:normal;font-family:Menlo,'DejaVu Sans Mono',consolas,'Courier New',monospace\">Episode length: 131.80 +/- 62.82\n",
              "</pre>\n"
            ],
            "text/plain": [
              "Episode length: 131.80 +/- 62.82\n"
            ]
          },
          "metadata": {},
          "output_type": "display_data"
        },
        {
          "data": {
            "text/html": [
              "<pre style=\"white-space:pre;overflow-x:auto;line-height:normal;font-family:Menlo,'DejaVu Sans Mono',consolas,'Courier New',monospace\">Success rate: 0.00%\n",
              "</pre>\n"
            ],
            "text/plain": [
              "Success rate: 0.00%\n"
            ]
          },
          "metadata": {},
          "output_type": "display_data"
        },
        {
          "name": "stdout",
          "output_type": "stream",
          "text": [
            "-----------------------------------------\n",
            "| eval/                   |             |\n",
            "|    arrive_dest          | 0.0118      |\n",
            "|    crash                | 0.235       |\n",
            "|    max_step             | 0           |\n",
            "|    mean_ep_length       | 132         |\n",
            "|    mean_reward          | 141         |\n",
            "|    num_episodes         | 5           |\n",
            "|    out_of_road          | 0.988       |\n",
            "|    raw_action           | 0.35849148  |\n",
            "|    route_completion     | 0.233       |\n",
            "|    success_rate         | 0           |\n",
            "|    total_cost           | 5.02        |\n",
            "| time/                   |             |\n",
            "|    total_timesteps      | 170000      |\n",
            "| train/                  |             |\n",
            "|    approx_kl            | 0.001842917 |\n",
            "|    clip_fraction        | 0.0652      |\n",
            "|    clip_range           | 0.1         |\n",
            "|    entropy_loss         | -2.48       |\n",
            "|    explained_variance   | 0.803       |\n",
            "|    learning_rate        | 5e-05       |\n",
            "|    loss                 | 4.09        |\n",
            "|    n_updates            | 660         |\n",
            "|    policy_gradient_loss | -0.00333    |\n",
            "|    std                  | 0.833       |\n",
            "|    value_loss           | 12.1        |\n",
            "-----------------------------------------\n"
          ]
        },
        {
          "data": {
            "text/html": [
              "<pre style=\"white-space:pre;overflow-x:auto;line-height:normal;font-family:Menlo,'DejaVu Sans Mono',consolas,'Courier New',monospace\">New best mean reward!\n",
              "</pre>\n"
            ],
            "text/plain": [
              "New best mean reward!\n"
            ]
          },
          "metadata": {},
          "output_type": "display_data"
        },
        {
          "name": "stdout",
          "output_type": "stream",
          "text": [
            "---------------------------------\n",
            "| rollout/           |          |\n",
            "|    ep_len_mean     | 367      |\n",
            "|    ep_rew_mean     | 95       |\n",
            "| time/              |          |\n",
            "|    fps             | 659      |\n",
            "|    iterations      | 34       |\n",
            "|    time_elapsed    | 257      |\n",
            "|    total_timesteps | 170000   |\n",
            "---------------------------------\n",
            "------------------------------------------\n",
            "| rollout/                |              |\n",
            "|    ep_len_mean          | 364          |\n",
            "|    ep_rew_mean          | 97.3         |\n",
            "| time/                   |              |\n",
            "|    fps                  | 663          |\n",
            "|    iterations           | 35           |\n",
            "|    time_elapsed         | 263          |\n",
            "|    total_timesteps      | 175000       |\n",
            "| train/                  |              |\n",
            "|    approx_kl            | 0.0011107788 |\n",
            "|    clip_fraction        | 0.0614       |\n",
            "|    clip_range           | 0.1          |\n",
            "|    entropy_loss         | -2.47        |\n",
            "|    explained_variance   | 0.454        |\n",
            "|    learning_rate        | 5e-05        |\n",
            "|    loss                 | 9.98         |\n",
            "|    n_updates            | 680          |\n",
            "|    policy_gradient_loss | -0.00266     |\n",
            "|    std                  | 0.829        |\n",
            "|    value_loss           | 24.7         |\n",
            "------------------------------------------\n"
          ]
        },
        {
          "data": {
            "text/html": [
              "<pre style=\"white-space:pre;overflow-x:auto;line-height:normal;font-family:Menlo,'DejaVu Sans Mono',consolas,'Courier New',monospace\">Eval num_timesteps=180000, episode_reward=109.81 +/- 18.27\n",
              "</pre>\n"
            ],
            "text/plain": [
              "Eval num_timesteps=180000, episode_reward=109.81 +/- 18.27\n"
            ]
          },
          "metadata": {},
          "output_type": "display_data"
        },
        {
          "data": {
            "text/html": [
              "<pre style=\"white-space:pre;overflow-x:auto;line-height:normal;font-family:Menlo,'DejaVu Sans Mono',consolas,'Courier New',monospace\">Episode length: 106.60 +/- 23.15\n",
              "</pre>\n"
            ],
            "text/plain": [
              "Episode length: 106.60 +/- 23.15\n"
            ]
          },
          "metadata": {},
          "output_type": "display_data"
        },
        {
          "data": {
            "text/html": [
              "<pre style=\"white-space:pre;overflow-x:auto;line-height:normal;font-family:Menlo,'DejaVu Sans Mono',consolas,'Courier New',monospace\">Success rate: 0.00%\n",
              "</pre>\n"
            ],
            "text/plain": [
              "Success rate: 0.00%\n"
            ]
          },
          "metadata": {},
          "output_type": "display_data"
        },
        {
          "name": "stdout",
          "output_type": "stream",
          "text": [
            "------------------------------------------\n",
            "| eval/                   |              |\n",
            "|    arrive_dest          | 0.0111       |\n",
            "|    crash                | 0.244        |\n",
            "|    max_step             | 0            |\n",
            "|    mean_ep_length       | 107          |\n",
            "|    mean_reward          | 110          |\n",
            "|    num_episodes         | 5            |\n",
            "|    out_of_road          | 0.989        |\n",
            "|    raw_action           | 0.366094     |\n",
            "|    route_completion     | 0.243        |\n",
            "|    success_rate         | 0            |\n",
            "|    total_cost           | 5.24         |\n",
            "| time/                   |              |\n",
            "|    total_timesteps      | 180000       |\n",
            "| train/                  |              |\n",
            "|    approx_kl            | 0.0015239009 |\n",
            "|    clip_fraction        | 0.0892       |\n",
            "|    clip_range           | 0.1          |\n",
            "|    entropy_loss         | -2.45        |\n",
            "|    explained_variance   | 0.324        |\n",
            "|    learning_rate        | 5e-05        |\n",
            "|    loss                 | 9.01         |\n",
            "|    n_updates            | 700          |\n",
            "|    policy_gradient_loss | -0.00198     |\n",
            "|    std                  | 0.823        |\n",
            "|    value_loss           | 16.4         |\n",
            "------------------------------------------\n",
            "---------------------------------\n",
            "| rollout/           |          |\n",
            "|    ep_len_mean     | 369      |\n",
            "|    ep_rew_mean     | 106      |\n",
            "| time/              |          |\n",
            "|    fps             | 664      |\n",
            "|    iterations      | 36       |\n",
            "|    time_elapsed    | 270      |\n",
            "|    total_timesteps | 180000   |\n",
            "---------------------------------\n",
            "-----------------------------------------\n",
            "| rollout/                |             |\n",
            "|    ep_len_mean          | 386         |\n",
            "|    ep_rew_mean          | 115         |\n",
            "| time/                   |             |\n",
            "|    fps                  | 669         |\n",
            "|    iterations           | 37          |\n",
            "|    time_elapsed         | 276         |\n",
            "|    total_timesteps      | 185000      |\n",
            "| train/                  |             |\n",
            "|    approx_kl            | 0.001591762 |\n",
            "|    clip_fraction        | 0.0849      |\n",
            "|    clip_range           | 0.1         |\n",
            "|    entropy_loss         | -2.44       |\n",
            "|    explained_variance   | 0.431       |\n",
            "|    learning_rate        | 5e-05       |\n",
            "|    loss                 | 9.46        |\n",
            "|    n_updates            | 720         |\n",
            "|    policy_gradient_loss | -0.00321    |\n",
            "|    std                  | 0.818       |\n",
            "|    value_loss           | 14.8        |\n",
            "-----------------------------------------\n"
          ]
        },
        {
          "data": {
            "text/html": [
              "<pre style=\"white-space:pre;overflow-x:auto;line-height:normal;font-family:Menlo,'DejaVu Sans Mono',consolas,'Courier New',monospace\">Eval num_timesteps=190000, episode_reward=148.60 +/- 107.80\n",
              "</pre>\n"
            ],
            "text/plain": [
              "Eval num_timesteps=190000, episode_reward=148.60 +/- 107.80\n"
            ]
          },
          "metadata": {},
          "output_type": "display_data"
        },
        {
          "data": {
            "text/html": [
              "<pre style=\"white-space:pre;overflow-x:auto;line-height:normal;font-family:Menlo,'DejaVu Sans Mono',consolas,'Courier New',monospace\">Episode length: 118.00 +/- 57.39\n",
              "</pre>\n"
            ],
            "text/plain": [
              "Episode length: 118.00 +/- 57.39\n"
            ]
          },
          "metadata": {},
          "output_type": "display_data"
        },
        {
          "data": {
            "text/html": [
              "<pre style=\"white-space:pre;overflow-x:auto;line-height:normal;font-family:Menlo,'DejaVu Sans Mono',consolas,'Courier New',monospace\">Success rate: 0.00%\n",
              "</pre>\n"
            ],
            "text/plain": [
              "Success rate: 0.00%\n"
            ]
          },
          "metadata": {},
          "output_type": "display_data"
        },
        {
          "name": "stdout",
          "output_type": "stream",
          "text": [
            "------------------------------------------\n",
            "| eval/                   |              |\n",
            "|    arrive_dest          | 0.0105       |\n",
            "|    crash                | 0.232        |\n",
            "|    max_step             | 0            |\n",
            "|    mean_ep_length       | 118          |\n",
            "|    mean_reward          | 149          |\n",
            "|    num_episodes         | 5            |\n",
            "|    out_of_road          | 0.989        |\n",
            "|    raw_action           | 0.37313223   |\n",
            "|    route_completion     | 0.251        |\n",
            "|    success_rate         | 0            |\n",
            "|    total_cost           | 5.08         |\n",
            "| time/                   |              |\n",
            "|    total_timesteps      | 190000       |\n",
            "| train/                  |              |\n",
            "|    approx_kl            | 0.0012522198 |\n",
            "|    clip_fraction        | 0.0837       |\n",
            "|    clip_range           | 0.1          |\n",
            "|    entropy_loss         | -2.43        |\n",
            "|    explained_variance   | 0.447        |\n",
            "|    learning_rate        | 5e-05        |\n",
            "|    loss                 | 9.37         |\n",
            "|    n_updates            | 740          |\n",
            "|    policy_gradient_loss | -0.00169     |\n",
            "|    std                  | 0.815        |\n",
            "|    value_loss           | 20           |\n",
            "------------------------------------------\n"
          ]
        },
        {
          "data": {
            "text/html": [
              "<pre style=\"white-space:pre;overflow-x:auto;line-height:normal;font-family:Menlo,'DejaVu Sans Mono',consolas,'Courier New',monospace\">New best mean reward!\n",
              "</pre>\n"
            ],
            "text/plain": [
              "New best mean reward!\n"
            ]
          },
          "metadata": {},
          "output_type": "display_data"
        },
        {
          "name": "stdout",
          "output_type": "stream",
          "text": [
            "---------------------------------\n",
            "| rollout/           |          |\n",
            "|    ep_len_mean     | 397      |\n",
            "|    ep_rew_mean     | 123      |\n",
            "| time/              |          |\n",
            "|    fps             | 667      |\n",
            "|    iterations      | 38       |\n",
            "|    time_elapsed    | 284      |\n",
            "|    total_timesteps | 190000   |\n",
            "---------------------------------\n",
            "-----------------------------------------\n",
            "| rollout/                |             |\n",
            "|    ep_len_mean          | 405         |\n",
            "|    ep_rew_mean          | 133         |\n",
            "| time/                   |             |\n",
            "|    fps                  | 671         |\n",
            "|    iterations           | 39          |\n",
            "|    time_elapsed         | 290         |\n",
            "|    total_timesteps      | 195000      |\n",
            "| train/                  |             |\n",
            "|    approx_kl            | 0.001366463 |\n",
            "|    clip_fraction        | 0.0725      |\n",
            "|    clip_range           | 0.1         |\n",
            "|    entropy_loss         | -2.42       |\n",
            "|    explained_variance   | 0.419       |\n",
            "|    learning_rate        | 5e-05       |\n",
            "|    loss                 | 9.7         |\n",
            "|    n_updates            | 760         |\n",
            "|    policy_gradient_loss | -0.00268    |\n",
            "|    std                  | 0.811       |\n",
            "|    value_loss           | 20.3        |\n",
            "-----------------------------------------\n"
          ]
        },
        {
          "data": {
            "text/html": [
              "<pre style=\"white-space:pre;overflow-x:auto;line-height:normal;font-family:Menlo,'DejaVu Sans Mono',consolas,'Courier New',monospace\">Saving model checkpoint to \n",
              "runs\\ppo_metadrive\\ppo_metadrive_2025-03-16_17-43-31_a51009e7\\models\\rl_model_200000_steps.zip\n",
              "</pre>\n"
            ],
            "text/plain": [
              "Saving model checkpoint to \n",
              "runs\\ppo_metadrive\\ppo_metadrive_2025-03-16_17-43-31_a51009e7\\models\\rl_model_200000_steps.zip\n"
            ]
          },
          "metadata": {},
          "output_type": "display_data"
        },
        {
          "data": {
            "text/html": [
              "<pre style=\"white-space:pre;overflow-x:auto;line-height:normal;font-family:Menlo,'DejaVu Sans Mono',consolas,'Courier New',monospace\">Eval num_timesteps=200000, episode_reward=151.72 +/- 90.27\n",
              "</pre>\n"
            ],
            "text/plain": [
              "Eval num_timesteps=200000, episode_reward=151.72 +/- 90.27\n"
            ]
          },
          "metadata": {},
          "output_type": "display_data"
        },
        {
          "data": {
            "text/html": [
              "<pre style=\"white-space:pre;overflow-x:auto;line-height:normal;font-family:Menlo,'DejaVu Sans Mono',consolas,'Courier New',monospace\">Episode length: 123.40 +/- 45.05\n",
              "</pre>\n"
            ],
            "text/plain": [
              "Episode length: 123.40 +/- 45.05\n"
            ]
          },
          "metadata": {},
          "output_type": "display_data"
        },
        {
          "data": {
            "text/html": [
              "<pre style=\"white-space:pre;overflow-x:auto;line-height:normal;font-family:Menlo,'DejaVu Sans Mono',consolas,'Courier New',monospace\">Success rate: 0.00%\n",
              "</pre>\n"
            ],
            "text/plain": [
              "Success rate: 0.00%\n"
            ]
          },
          "metadata": {},
          "output_type": "display_data"
        },
        {
          "name": "stdout",
          "output_type": "stream",
          "text": [
            "------------------------------------------\n",
            "| eval/                   |              |\n",
            "|    arrive_dest          | 0.01         |\n",
            "|    crash                | 0.23         |\n",
            "|    max_step             | 0            |\n",
            "|    mean_ep_length       | 123          |\n",
            "|    mean_reward          | 152          |\n",
            "|    num_episodes         | 5            |\n",
            "|    out_of_road          | 0.99         |\n",
            "|    raw_action           | 0.38044482   |\n",
            "|    route_completion     | 0.263        |\n",
            "|    success_rate         | 0            |\n",
            "|    total_cost           | 5.14         |\n",
            "| time/                   |              |\n",
            "|    total_timesteps      | 200000       |\n",
            "| train/                  |              |\n",
            "|    approx_kl            | 0.0015084939 |\n",
            "|    clip_fraction        | 0.107        |\n",
            "|    clip_range           | 0.1          |\n",
            "|    entropy_loss         | -2.41        |\n",
            "|    explained_variance   | 0.178        |\n",
            "|    learning_rate        | 5e-05        |\n",
            "|    loss                 | 10.7         |\n",
            "|    n_updates            | 780          |\n",
            "|    policy_gradient_loss | -0.00149     |\n",
            "|    std                  | 0.804        |\n",
            "|    value_loss           | 20           |\n",
            "------------------------------------------\n"
          ]
        },
        {
          "data": {
            "text/html": [
              "<pre style=\"white-space:pre;overflow-x:auto;line-height:normal;font-family:Menlo,'DejaVu Sans Mono',consolas,'Courier New',monospace\">New best mean reward!\n",
              "</pre>\n"
            ],
            "text/plain": [
              "New best mean reward!\n"
            ]
          },
          "metadata": {},
          "output_type": "display_data"
        },
        {
          "name": "stdout",
          "output_type": "stream",
          "text": [
            "---------------------------------\n",
            "| rollout/           |          |\n",
            "|    ep_len_mean     | 415      |\n",
            "|    ep_rew_mean     | 140      |\n",
            "| time/              |          |\n",
            "|    fps             | 672      |\n",
            "|    iterations      | 40       |\n",
            "|    time_elapsed    | 297      |\n",
            "|    total_timesteps | 200000   |\n",
            "---------------------------------\n",
            "------------------------------------------\n",
            "| rollout/                |              |\n",
            "|    ep_len_mean          | 420          |\n",
            "|    ep_rew_mean          | 149          |\n",
            "| time/                   |              |\n",
            "|    fps                  | 674          |\n",
            "|    iterations           | 41           |\n",
            "|    time_elapsed         | 304          |\n",
            "|    total_timesteps      | 205000       |\n",
            "| train/                  |              |\n",
            "|    approx_kl            | 0.0017640574 |\n",
            "|    clip_fraction        | 0.0866       |\n",
            "|    clip_range           | 0.1          |\n",
            "|    entropy_loss         | -2.39        |\n",
            "|    explained_variance   | 0.218        |\n",
            "|    learning_rate        | 5e-05        |\n",
            "|    loss                 | 10.3         |\n",
            "|    n_updates            | 800          |\n",
            "|    policy_gradient_loss | -0.0018      |\n",
            "|    std                  | 0.798        |\n",
            "|    value_loss           | 16.1         |\n",
            "------------------------------------------\n"
          ]
        },
        {
          "data": {
            "text/html": [
              "<pre style=\"white-space:pre;overflow-x:auto;line-height:normal;font-family:Menlo,'DejaVu Sans Mono',consolas,'Courier New',monospace\">Eval num_timesteps=210000, episode_reward=118.92 +/- 83.97\n",
              "</pre>\n"
            ],
            "text/plain": [
              "Eval num_timesteps=210000, episode_reward=118.92 +/- 83.97\n"
            ]
          },
          "metadata": {},
          "output_type": "display_data"
        },
        {
          "data": {
            "text/html": [
              "<pre style=\"white-space:pre;overflow-x:auto;line-height:normal;font-family:Menlo,'DejaVu Sans Mono',consolas,'Courier New',monospace\">Episode length: 108.80 +/- 47.52\n",
              "</pre>\n"
            ],
            "text/plain": [
              "Episode length: 108.80 +/- 47.52\n"
            ]
          },
          "metadata": {},
          "output_type": "display_data"
        },
        {
          "data": {
            "text/html": [
              "<pre style=\"white-space:pre;overflow-x:auto;line-height:normal;font-family:Menlo,'DejaVu Sans Mono',consolas,'Courier New',monospace\">Success rate: 0.00%\n",
              "</pre>\n"
            ],
            "text/plain": [
              "Success rate: 0.00%\n"
            ]
          },
          "metadata": {},
          "output_type": "display_data"
        },
        {
          "name": "stdout",
          "output_type": "stream",
          "text": [
            "------------------------------------------\n",
            "| eval/                   |              |\n",
            "|    arrive_dest          | 0.00952      |\n",
            "|    crash                | 0.229        |\n",
            "|    max_step             | 0            |\n",
            "|    mean_ep_length       | 109          |\n",
            "|    mean_reward          | 119          |\n",
            "|    num_episodes         | 5            |\n",
            "|    out_of_road          | 0.99         |\n",
            "|    raw_action           | 0.38426098   |\n",
            "|    route_completion     | 0.267        |\n",
            "|    success_rate         | 0            |\n",
            "|    total_cost           | 5.24         |\n",
            "| time/                   |              |\n",
            "|    total_timesteps      | 210000       |\n",
            "| train/                  |              |\n",
            "|    approx_kl            | 0.0018637588 |\n",
            "|    clip_fraction        | 0.0645       |\n",
            "|    clip_range           | 0.1          |\n",
            "|    entropy_loss         | -2.38        |\n",
            "|    explained_variance   | 0.119        |\n",
            "|    learning_rate        | 5e-05        |\n",
            "|    loss                 | 5.27         |\n",
            "|    n_updates            | 820          |\n",
            "|    policy_gradient_loss | -0.00315     |\n",
            "|    std                  | 0.794        |\n",
            "|    value_loss           | 26.7         |\n",
            "------------------------------------------\n",
            "---------------------------------\n",
            "| rollout/           |          |\n",
            "|    ep_len_mean     | 418      |\n",
            "|    ep_rew_mean     | 154      |\n",
            "| time/              |          |\n",
            "|    fps             | 673      |\n",
            "|    iterations      | 42       |\n",
            "|    time_elapsed    | 311      |\n",
            "|    total_timesteps | 210000   |\n",
            "---------------------------------\n",
            "------------------------------------------\n",
            "| rollout/                |              |\n",
            "|    ep_len_mean          | 439          |\n",
            "|    ep_rew_mean          | 168          |\n",
            "| time/                   |              |\n",
            "|    fps                  | 675          |\n",
            "|    iterations           | 43           |\n",
            "|    time_elapsed         | 318          |\n",
            "|    total_timesteps      | 215000       |\n",
            "| train/                  |              |\n",
            "|    approx_kl            | 0.0014547457 |\n",
            "|    clip_fraction        | 0.111        |\n",
            "|    clip_range           | 0.1          |\n",
            "|    entropy_loss         | -2.37        |\n",
            "|    explained_variance   | 0.257        |\n",
            "|    learning_rate        | 5e-05        |\n",
            "|    loss                 | 6.18         |\n",
            "|    n_updates            | 840          |\n",
            "|    policy_gradient_loss | -0.00154     |\n",
            "|    std                  | 0.79         |\n",
            "|    value_loss           | 19.8         |\n",
            "------------------------------------------\n"
          ]
        },
        {
          "data": {
            "text/html": [
              "<pre style=\"white-space:pre;overflow-x:auto;line-height:normal;font-family:Menlo,'DejaVu Sans Mono',consolas,'Courier New',monospace\">Eval num_timesteps=220000, episode_reward=130.37 +/- 94.46\n",
              "</pre>\n"
            ],
            "text/plain": [
              "Eval num_timesteps=220000, episode_reward=130.37 +/- 94.46\n"
            ]
          },
          "metadata": {},
          "output_type": "display_data"
        },
        {
          "data": {
            "text/html": [
              "<pre style=\"white-space:pre;overflow-x:auto;line-height:normal;font-family:Menlo,'DejaVu Sans Mono',consolas,'Courier New',monospace\">Episode length: 105.20 +/- 45.50\n",
              "</pre>\n"
            ],
            "text/plain": [
              "Episode length: 105.20 +/- 45.50\n"
            ]
          },
          "metadata": {},
          "output_type": "display_data"
        },
        {
          "data": {
            "text/html": [
              "<pre style=\"white-space:pre;overflow-x:auto;line-height:normal;font-family:Menlo,'DejaVu Sans Mono',consolas,'Courier New',monospace\">Success rate: 0.00%\n",
              "</pre>\n"
            ],
            "text/plain": [
              "Success rate: 0.00%\n"
            ]
          },
          "metadata": {},
          "output_type": "display_data"
        },
        {
          "name": "stdout",
          "output_type": "stream",
          "text": [
            "------------------------------------------\n",
            "| eval/                   |              |\n",
            "|    arrive_dest          | 0.00909      |\n",
            "|    crash                | 0.227        |\n",
            "|    max_step             | 0            |\n",
            "|    mean_ep_length       | 105          |\n",
            "|    mean_reward          | 130          |\n",
            "|    num_episodes         | 5            |\n",
            "|    out_of_road          | 0.991        |\n",
            "|    raw_action           | 0.38908494   |\n",
            "|    route_completion     | 0.271        |\n",
            "|    success_rate         | 0            |\n",
            "|    total_cost           | 5.11         |\n",
            "| time/                   |              |\n",
            "|    total_timesteps      | 220000       |\n",
            "| train/                  |              |\n",
            "|    approx_kl            | 0.0016062362 |\n",
            "|    clip_fraction        | 0.0607       |\n",
            "|    clip_range           | 0.1          |\n",
            "|    entropy_loss         | -2.36        |\n",
            "|    explained_variance   | 0.209        |\n",
            "|    learning_rate        | 5e-05        |\n",
            "|    loss                 | 16.2         |\n",
            "|    n_updates            | 860          |\n",
            "|    policy_gradient_loss | -0.00225     |\n",
            "|    std                  | 0.786        |\n",
            "|    value_loss           | 30.2         |\n",
            "------------------------------------------\n",
            "---------------------------------\n",
            "| rollout/           |          |\n",
            "|    ep_len_mean     | 434      |\n",
            "|    ep_rew_mean     | 174      |\n",
            "| time/              |          |\n",
            "|    fps             | 674      |\n",
            "|    iterations      | 44       |\n",
            "|    time_elapsed    | 326      |\n",
            "|    total_timesteps | 220000   |\n",
            "---------------------------------\n",
            "------------------------------------------\n",
            "| rollout/                |              |\n",
            "|    ep_len_mean          | 431          |\n",
            "|    ep_rew_mean          | 174          |\n",
            "| time/                   |              |\n",
            "|    fps                  | 678          |\n",
            "|    iterations           | 45           |\n",
            "|    time_elapsed         | 331          |\n",
            "|    total_timesteps      | 225000       |\n",
            "| train/                  |              |\n",
            "|    approx_kl            | 0.0013871351 |\n",
            "|    clip_fraction        | 0.073        |\n",
            "|    clip_range           | 0.1          |\n",
            "|    entropy_loss         | -2.35        |\n",
            "|    explained_variance   | 0.342        |\n",
            "|    learning_rate        | 5e-05        |\n",
            "|    loss                 | 16.1         |\n",
            "|    n_updates            | 880          |\n",
            "|    policy_gradient_loss | -0.00125     |\n",
            "|    std                  | 0.783        |\n",
            "|    value_loss           | 28.3         |\n",
            "------------------------------------------\n"
          ]
        },
        {
          "data": {
            "text/html": [
              "<pre style=\"white-space:pre;overflow-x:auto;line-height:normal;font-family:Menlo,'DejaVu Sans Mono',consolas,'Courier New',monospace\">Eval num_timesteps=230000, episode_reward=96.97 +/- 26.84\n",
              "</pre>\n"
            ],
            "text/plain": [
              "Eval num_timesteps=230000, episode_reward=96.97 +/- 26.84\n"
            ]
          },
          "metadata": {},
          "output_type": "display_data"
        },
        {
          "data": {
            "text/html": [
              "<pre style=\"white-space:pre;overflow-x:auto;line-height:normal;font-family:Menlo,'DejaVu Sans Mono',consolas,'Courier New',monospace\">Episode length: 89.00 +/- 11.26\n",
              "</pre>\n"
            ],
            "text/plain": [
              "Episode length: 89.00 +/- 11.26\n"
            ]
          },
          "metadata": {},
          "output_type": "display_data"
        },
        {
          "data": {
            "text/html": [
              "<pre style=\"white-space:pre;overflow-x:auto;line-height:normal;font-family:Menlo,'DejaVu Sans Mono',consolas,'Courier New',monospace\">Success rate: 0.00%\n",
              "</pre>\n"
            ],
            "text/plain": [
              "Success rate: 0.00%\n"
            ]
          },
          "metadata": {},
          "output_type": "display_data"
        },
        {
          "name": "stdout",
          "output_type": "stream",
          "text": [
            "-----------------------------------------\n",
            "| eval/                   |             |\n",
            "|    arrive_dest          | 0.0087      |\n",
            "|    crash                | 0.217       |\n",
            "|    max_step             | 0           |\n",
            "|    mean_ep_length       | 89          |\n",
            "|    mean_reward          | 97          |\n",
            "|    num_episodes         | 5           |\n",
            "|    out_of_road          | 0.991       |\n",
            "|    raw_action           | 0.392813    |\n",
            "|    route_completion     | 0.273       |\n",
            "|    success_rate         | 0           |\n",
            "|    total_cost           | 4.97        |\n",
            "| time/                   |             |\n",
            "|    total_timesteps      | 230000      |\n",
            "| train/                  |             |\n",
            "|    approx_kl            | 0.001475627 |\n",
            "|    clip_fraction        | 0.102       |\n",
            "|    clip_range           | 0.1         |\n",
            "|    entropy_loss         | -2.34       |\n",
            "|    explained_variance   | 0.0944      |\n",
            "|    learning_rate        | 5e-05       |\n",
            "|    loss                 | 8.41        |\n",
            "|    n_updates            | 900         |\n",
            "|    policy_gradient_loss | -0.00269    |\n",
            "|    std                  | 0.777       |\n",
            "|    value_loss           | 21.2        |\n",
            "-----------------------------------------\n",
            "---------------------------------\n",
            "| rollout/           |          |\n",
            "|    ep_len_mean     | 420      |\n",
            "|    ep_rew_mean     | 183      |\n",
            "| time/              |          |\n",
            "|    fps             | 679      |\n",
            "|    iterations      | 46       |\n",
            "|    time_elapsed    | 338      |\n",
            "|    total_timesteps | 230000   |\n",
            "---------------------------------\n",
            "------------------------------------------\n",
            "| rollout/                |              |\n",
            "|    ep_len_mean          | 408          |\n",
            "|    ep_rew_mean          | 186          |\n",
            "| time/                   |              |\n",
            "|    fps                  | 683          |\n",
            "|    iterations           | 47           |\n",
            "|    time_elapsed         | 343          |\n",
            "|    total_timesteps      | 235000       |\n",
            "| train/                  |              |\n",
            "|    approx_kl            | 0.0012663906 |\n",
            "|    clip_fraction        | 0.0733       |\n",
            "|    clip_range           | 0.1          |\n",
            "|    entropy_loss         | -2.33        |\n",
            "|    explained_variance   | 0.0866       |\n",
            "|    learning_rate        | 5e-05        |\n",
            "|    loss                 | 22.3         |\n",
            "|    n_updates            | 920          |\n",
            "|    policy_gradient_loss | -0.00129     |\n",
            "|    std                  | 0.775        |\n",
            "|    value_loss           | 37.1         |\n",
            "------------------------------------------\n"
          ]
        },
        {
          "data": {
            "text/html": [
              "<pre style=\"white-space:pre;overflow-x:auto;line-height:normal;font-family:Menlo,'DejaVu Sans Mono',consolas,'Courier New',monospace\">Eval num_timesteps=240000, episode_reward=145.93 +/- 76.76\n",
              "</pre>\n"
            ],
            "text/plain": [
              "Eval num_timesteps=240000, episode_reward=145.93 +/- 76.76\n"
            ]
          },
          "metadata": {},
          "output_type": "display_data"
        },
        {
          "data": {
            "text/html": [
              "<pre style=\"white-space:pre;overflow-x:auto;line-height:normal;font-family:Menlo,'DejaVu Sans Mono',consolas,'Courier New',monospace\">Episode length: 125.00 +/- 37.01\n",
              "</pre>\n"
            ],
            "text/plain": [
              "Episode length: 125.00 +/- 37.01\n"
            ]
          },
          "metadata": {},
          "output_type": "display_data"
        },
        {
          "data": {
            "text/html": [
              "<pre style=\"white-space:pre;overflow-x:auto;line-height:normal;font-family:Menlo,'DejaVu Sans Mono',consolas,'Courier New',monospace\">Success rate: 0.00%\n",
              "</pre>\n"
            ],
            "text/plain": [
              "Success rate: 0.00%\n"
            ]
          },
          "metadata": {},
          "output_type": "display_data"
        },
        {
          "name": "stdout",
          "output_type": "stream",
          "text": [
            "------------------------------------------\n",
            "| eval/                   |              |\n",
            "|    arrive_dest          | 0.00833      |\n",
            "|    crash                | 0.208        |\n",
            "|    max_step             | 0            |\n",
            "|    mean_ep_length       | 125          |\n",
            "|    mean_reward          | 146          |\n",
            "|    num_episodes         | 5            |\n",
            "|    out_of_road          | 0.992        |\n",
            "|    raw_action           | 0.3944366    |\n",
            "|    route_completion     | 0.277        |\n",
            "|    success_rate         | 0            |\n",
            "|    total_cost           | 4.96         |\n",
            "| time/                   |              |\n",
            "|    total_timesteps      | 240000       |\n",
            "| train/                  |              |\n",
            "|    approx_kl            | 0.0015160354 |\n",
            "|    clip_fraction        | 0.134        |\n",
            "|    clip_range           | 0.1          |\n",
            "|    entropy_loss         | -2.32        |\n",
            "|    explained_variance   | 0.0755       |\n",
            "|    learning_rate        | 5e-05        |\n",
            "|    loss                 | 18           |\n",
            "|    n_updates            | 940          |\n",
            "|    policy_gradient_loss | -0.000818    |\n",
            "|    std                  | 0.771        |\n",
            "|    value_loss           | 40.8         |\n",
            "------------------------------------------\n",
            "---------------------------------\n",
            "| rollout/           |          |\n",
            "|    ep_len_mean     | 394      |\n",
            "|    ep_rew_mean     | 185      |\n",
            "| time/              |          |\n",
            "|    fps             | 681      |\n",
            "|    iterations      | 48       |\n",
            "|    time_elapsed    | 352      |\n",
            "|    total_timesteps | 240000   |\n",
            "---------------------------------\n",
            "------------------------------------------\n",
            "| rollout/                |              |\n",
            "|    ep_len_mean          | 396          |\n",
            "|    ep_rew_mean          | 190          |\n",
            "| time/                   |              |\n",
            "|    fps                  | 685          |\n",
            "|    iterations           | 49           |\n",
            "|    time_elapsed         | 357          |\n",
            "|    total_timesteps      | 245000       |\n",
            "| train/                  |              |\n",
            "|    approx_kl            | 0.0009360819 |\n",
            "|    clip_fraction        | 0.0862       |\n",
            "|    clip_range           | 0.1          |\n",
            "|    entropy_loss         | -2.31        |\n",
            "|    explained_variance   | 0.257        |\n",
            "|    learning_rate        | 5e-05        |\n",
            "|    loss                 | 16.6         |\n",
            "|    n_updates            | 960          |\n",
            "|    policy_gradient_loss | -0.00323     |\n",
            "|    std                  | 0.768        |\n",
            "|    value_loss           | 28.3         |\n",
            "------------------------------------------\n"
          ]
        },
        {
          "data": {
            "text/html": [
              "<pre style=\"white-space:pre;overflow-x:auto;line-height:normal;font-family:Menlo,'DejaVu Sans Mono',consolas,'Courier New',monospace\">Eval num_timesteps=250000, episode_reward=202.35 +/- 117.22\n",
              "</pre>\n"
            ],
            "text/plain": [
              "Eval num_timesteps=250000, episode_reward=202.35 +/- 117.22\n"
            ]
          },
          "metadata": {},
          "output_type": "display_data"
        },
        {
          "data": {
            "text/html": [
              "<pre style=\"white-space:pre;overflow-x:auto;line-height:normal;font-family:Menlo,'DejaVu Sans Mono',consolas,'Courier New',monospace\">Episode length: 145.40 +/- 61.06\n",
              "</pre>\n"
            ],
            "text/plain": [
              "Episode length: 145.40 +/- 61.06\n"
            ]
          },
          "metadata": {},
          "output_type": "display_data"
        },
        {
          "data": {
            "text/html": [
              "<pre style=\"white-space:pre;overflow-x:auto;line-height:normal;font-family:Menlo,'DejaVu Sans Mono',consolas,'Courier New',monospace\">Success rate: 20.00%\n",
              "</pre>\n"
            ],
            "text/plain": [
              "Success rate: 20.00%\n"
            ]
          },
          "metadata": {},
          "output_type": "display_data"
        },
        {
          "name": "stdout",
          "output_type": "stream",
          "text": [
            "------------------------------------------\n",
            "| eval/                   |              |\n",
            "|    arrive_dest          | 0.016        |\n",
            "|    crash                | 0.216        |\n",
            "|    max_step             | 0            |\n",
            "|    mean_ep_length       | 145          |\n",
            "|    mean_reward          | 202          |\n",
            "|    num_episodes         | 5            |\n",
            "|    out_of_road          | 0.984        |\n",
            "|    raw_action           | 0.39979178   |\n",
            "|    route_completion     | 0.288        |\n",
            "|    success_rate         | 0.2          |\n",
            "|    total_cost           | 4.91         |\n",
            "| time/                   |              |\n",
            "|    total_timesteps      | 250000       |\n",
            "| train/                  |              |\n",
            "|    approx_kl            | 0.0007106776 |\n",
            "|    clip_fraction        | 0.0986       |\n",
            "|    clip_range           | 0.1          |\n",
            "|    entropy_loss         | -2.31        |\n",
            "|    explained_variance   | 0.215        |\n",
            "|    learning_rate        | 5e-05        |\n",
            "|    loss                 | 20.5         |\n",
            "|    n_updates            | 980          |\n",
            "|    policy_gradient_loss | -0.00143     |\n",
            "|    std                  | 0.766        |\n",
            "|    value_loss           | 32.9         |\n",
            "------------------------------------------\n"
          ]
        },
        {
          "data": {
            "text/html": [
              "<pre style=\"white-space:pre;overflow-x:auto;line-height:normal;font-family:Menlo,'DejaVu Sans Mono',consolas,'Courier New',monospace\">New best mean reward!\n",
              "</pre>\n"
            ],
            "text/plain": [
              "New best mean reward!\n"
            ]
          },
          "metadata": {},
          "output_type": "display_data"
        },
        {
          "name": "stdout",
          "output_type": "stream",
          "text": [
            "---------------------------------\n",
            "| rollout/           |          |\n",
            "|    ep_len_mean     | 362      |\n",
            "|    ep_rew_mean     | 178      |\n",
            "| time/              |          |\n",
            "|    fps             | 683      |\n",
            "|    iterations      | 50       |\n",
            "|    time_elapsed    | 365      |\n",
            "|    total_timesteps | 250000   |\n",
            "---------------------------------\n",
            "------------------------------------------\n",
            "| rollout/                |              |\n",
            "|    ep_len_mean          | 361          |\n",
            "|    ep_rew_mean          | 184          |\n",
            "| time/                   |              |\n",
            "|    fps                  | 685          |\n",
            "|    iterations           | 51           |\n",
            "|    time_elapsed         | 371          |\n",
            "|    total_timesteps      | 255000       |\n",
            "| train/                  |              |\n",
            "|    approx_kl            | 0.0019312318 |\n",
            "|    clip_fraction        | 0.0743       |\n",
            "|    clip_range           | 0.1          |\n",
            "|    entropy_loss         | -2.3         |\n",
            "|    explained_variance   | 0.274        |\n",
            "|    learning_rate        | 5e-05        |\n",
            "|    loss                 | 17.7         |\n",
            "|    n_updates            | 1000         |\n",
            "|    policy_gradient_loss | -0.00284     |\n",
            "|    std                  | 0.763        |\n",
            "|    value_loss           | 37.3         |\n",
            "------------------------------------------\n"
          ]
        },
        {
          "data": {
            "text/html": [
              "<pre style=\"white-space:pre;overflow-x:auto;line-height:normal;font-family:Menlo,'DejaVu Sans Mono',consolas,'Courier New',monospace\">Eval num_timesteps=260000, episode_reward=113.23 +/- 72.59\n",
              "</pre>\n"
            ],
            "text/plain": [
              "Eval num_timesteps=260000, episode_reward=113.23 +/- 72.59\n"
            ]
          },
          "metadata": {},
          "output_type": "display_data"
        },
        {
          "data": {
            "text/html": [
              "<pre style=\"white-space:pre;overflow-x:auto;line-height:normal;font-family:Menlo,'DejaVu Sans Mono',consolas,'Courier New',monospace\">Episode length: 154.40 +/- 114.56\n",
              "</pre>\n"
            ],
            "text/plain": [
              "Episode length: 154.40 +/- 114.56\n"
            ]
          },
          "metadata": {},
          "output_type": "display_data"
        },
        {
          "data": {
            "text/html": [
              "<pre style=\"white-space:pre;overflow-x:auto;line-height:normal;font-family:Menlo,'DejaVu Sans Mono',consolas,'Courier New',monospace\">Success rate: 0.00%\n",
              "</pre>\n"
            ],
            "text/plain": [
              "Success rate: 0.00%\n"
            ]
          },
          "metadata": {},
          "output_type": "display_data"
        },
        {
          "name": "stdout",
          "output_type": "stream",
          "text": [
            "-------------------------------------------\n",
            "| eval/                   |               |\n",
            "|    arrive_dest          | 0.0154        |\n",
            "|    crash                | 0.223         |\n",
            "|    max_step             | 0             |\n",
            "|    mean_ep_length       | 154           |\n",
            "|    mean_reward          | 113           |\n",
            "|    num_episodes         | 5             |\n",
            "|    out_of_road          | 0.985         |\n",
            "|    raw_action           | 0.40444338    |\n",
            "|    route_completion     | 0.294         |\n",
            "|    success_rate         | 0             |\n",
            "|    total_cost           | 5.78          |\n",
            "| time/                   |               |\n",
            "|    total_timesteps      | 260000        |\n",
            "| train/                  |               |\n",
            "|    approx_kl            | 0.00085497985 |\n",
            "|    clip_fraction        | 0.0698        |\n",
            "|    clip_range           | 0.1           |\n",
            "|    entropy_loss         | -2.29         |\n",
            "|    explained_variance   | 0.276         |\n",
            "|    learning_rate        | 5e-05         |\n",
            "|    loss                 | 16.2          |\n",
            "|    n_updates            | 1020          |\n",
            "|    policy_gradient_loss | -0.000944     |\n",
            "|    std                  | 0.761         |\n",
            "|    value_loss           | 41.2          |\n",
            "-------------------------------------------\n",
            "---------------------------------\n",
            "| rollout/           |          |\n",
            "|    ep_len_mean     | 367      |\n",
            "|    ep_rew_mean     | 191      |\n",
            "| time/              |          |\n",
            "|    fps             | 680      |\n",
            "|    iterations      | 52       |\n",
            "|    time_elapsed    | 381      |\n",
            "|    total_timesteps | 260000   |\n",
            "---------------------------------\n",
            "------------------------------------------\n",
            "| rollout/                |              |\n",
            "|    ep_len_mean          | 365          |\n",
            "|    ep_rew_mean          | 191          |\n",
            "| time/                   |              |\n",
            "|    fps                  | 683          |\n",
            "|    iterations           | 53           |\n",
            "|    time_elapsed         | 387          |\n",
            "|    total_timesteps      | 265000       |\n",
            "| train/                  |              |\n",
            "|    approx_kl            | 0.0039465716 |\n",
            "|    clip_fraction        | 0.14         |\n",
            "|    clip_range           | 0.1          |\n",
            "|    entropy_loss         | -2.29        |\n",
            "|    explained_variance   | 0.0584       |\n",
            "|    learning_rate        | 5e-05        |\n",
            "|    loss                 | 5.72         |\n",
            "|    n_updates            | 1040         |\n",
            "|    policy_gradient_loss | 0.00034      |\n",
            "|    std                  | 0.76         |\n",
            "|    value_loss           | 19           |\n",
            "------------------------------------------\n"
          ]
        },
        {
          "data": {
            "text/html": [
              "<pre style=\"white-space:pre;overflow-x:auto;line-height:normal;font-family:Menlo,'DejaVu Sans Mono',consolas,'Courier New',monospace\">Eval num_timesteps=270000, episode_reward=127.11 +/- 40.89\n",
              "</pre>\n"
            ],
            "text/plain": [
              "Eval num_timesteps=270000, episode_reward=127.11 +/- 40.89\n"
            ]
          },
          "metadata": {},
          "output_type": "display_data"
        },
        {
          "data": {
            "text/html": [
              "<pre style=\"white-space:pre;overflow-x:auto;line-height:normal;font-family:Menlo,'DejaVu Sans Mono',consolas,'Courier New',monospace\">Episode length: 102.80 +/- 23.45\n",
              "</pre>\n"
            ],
            "text/plain": [
              "Episode length: 102.80 +/- 23.45\n"
            ]
          },
          "metadata": {},
          "output_type": "display_data"
        },
        {
          "data": {
            "text/html": [
              "<pre style=\"white-space:pre;overflow-x:auto;line-height:normal;font-family:Menlo,'DejaVu Sans Mono',consolas,'Courier New',monospace\">Success rate: 0.00%\n",
              "</pre>\n"
            ],
            "text/plain": [
              "Success rate: 0.00%\n"
            ]
          },
          "metadata": {},
          "output_type": "display_data"
        },
        {
          "name": "stdout",
          "output_type": "stream",
          "text": [
            "------------------------------------------\n",
            "| eval/                   |              |\n",
            "|    arrive_dest          | 0.0148       |\n",
            "|    crash                | 0.23         |\n",
            "|    max_step             | 0            |\n",
            "|    mean_ep_length       | 103          |\n",
            "|    mean_reward          | 127          |\n",
            "|    num_episodes         | 5            |\n",
            "|    out_of_road          | 0.985        |\n",
            "|    raw_action           | 0.4103741    |\n",
            "|    route_completion     | 0.297        |\n",
            "|    success_rate         | 0            |\n",
            "|    total_cost           | 5.61         |\n",
            "| time/                   |              |\n",
            "|    total_timesteps      | 270000       |\n",
            "| train/                  |              |\n",
            "|    approx_kl            | 0.0015905257 |\n",
            "|    clip_fraction        | 0.129        |\n",
            "|    clip_range           | 0.1          |\n",
            "|    entropy_loss         | -2.28        |\n",
            "|    explained_variance   | 0.125        |\n",
            "|    learning_rate        | 5e-05        |\n",
            "|    loss                 | 19.7         |\n",
            "|    n_updates            | 1060         |\n",
            "|    policy_gradient_loss | -0.00259     |\n",
            "|    std                  | 0.757        |\n",
            "|    value_loss           | 43.8         |\n",
            "------------------------------------------\n",
            "---------------------------------\n",
            "| rollout/           |          |\n",
            "|    ep_len_mean     | 366      |\n",
            "|    ep_rew_mean     | 189      |\n",
            "| time/              |          |\n",
            "|    fps             | 681      |\n",
            "|    iterations      | 54       |\n",
            "|    time_elapsed    | 395      |\n",
            "|    total_timesteps | 270000   |\n",
            "---------------------------------\n",
            "-----------------------------------------\n",
            "| rollout/                |             |\n",
            "|    ep_len_mean          | 385         |\n",
            "|    ep_rew_mean          | 204         |\n",
            "| time/                   |             |\n",
            "|    fps                  | 684         |\n",
            "|    iterations           | 55          |\n",
            "|    time_elapsed         | 401         |\n",
            "|    total_timesteps      | 275000      |\n",
            "| train/                  |             |\n",
            "|    approx_kl            | 0.001527702 |\n",
            "|    clip_fraction        | 0.0703      |\n",
            "|    clip_range           | 0.1         |\n",
            "|    entropy_loss         | -2.28       |\n",
            "|    explained_variance   | 0.331       |\n",
            "|    learning_rate        | 5e-05       |\n",
            "|    loss                 | 8.64        |\n",
            "|    n_updates            | 1080        |\n",
            "|    policy_gradient_loss | -0.00153    |\n",
            "|    std                  | 0.754       |\n",
            "|    value_loss           | 35.2        |\n",
            "-----------------------------------------\n"
          ]
        },
        {
          "data": {
            "text/html": [
              "<pre style=\"white-space:pre;overflow-x:auto;line-height:normal;font-family:Menlo,'DejaVu Sans Mono',consolas,'Courier New',monospace\">Eval num_timesteps=280000, episode_reward=75.23 +/- 34.75\n",
              "</pre>\n"
            ],
            "text/plain": [
              "Eval num_timesteps=280000, episode_reward=75.23 +/- 34.75\n"
            ]
          },
          "metadata": {},
          "output_type": "display_data"
        },
        {
          "data": {
            "text/html": [
              "<pre style=\"white-space:pre;overflow-x:auto;line-height:normal;font-family:Menlo,'DejaVu Sans Mono',consolas,'Courier New',monospace\">Episode length: 77.20 +/- 18.27\n",
              "</pre>\n"
            ],
            "text/plain": [
              "Episode length: 77.20 +/- 18.27\n"
            ]
          },
          "metadata": {},
          "output_type": "display_data"
        },
        {
          "data": {
            "text/html": [
              "<pre style=\"white-space:pre;overflow-x:auto;line-height:normal;font-family:Menlo,'DejaVu Sans Mono',consolas,'Courier New',monospace\">Success rate: 0.00%\n",
              "</pre>\n"
            ],
            "text/plain": [
              "Success rate: 0.00%\n"
            ]
          },
          "metadata": {},
          "output_type": "display_data"
        },
        {
          "name": "stdout",
          "output_type": "stream",
          "text": [
            "------------------------------------------\n",
            "| eval/                   |              |\n",
            "|    arrive_dest          | 0.0143       |\n",
            "|    crash                | 0.221        |\n",
            "|    max_step             | 0            |\n",
            "|    mean_ep_length       | 77.2         |\n",
            "|    mean_reward          | 75.2         |\n",
            "|    num_episodes         | 5            |\n",
            "|    out_of_road          | 0.986        |\n",
            "|    raw_action           | 0.41255745   |\n",
            "|    route_completion     | 0.295        |\n",
            "|    success_rate         | 0            |\n",
            "|    total_cost           | 5.44         |\n",
            "| time/                   |              |\n",
            "|    total_timesteps      | 280000       |\n",
            "| train/                  |              |\n",
            "|    approx_kl            | 0.0044126883 |\n",
            "|    clip_fraction        | 0.111        |\n",
            "|    clip_range           | 0.1          |\n",
            "|    entropy_loss         | -2.27        |\n",
            "|    explained_variance   | 0.112        |\n",
            "|    learning_rate        | 5e-05        |\n",
            "|    loss                 | 17.9         |\n",
            "|    n_updates            | 1100         |\n",
            "|    policy_gradient_loss | -0.00049     |\n",
            "|    std                  | 0.752        |\n",
            "|    value_loss           | 31.6         |\n",
            "------------------------------------------\n",
            "---------------------------------\n",
            "| rollout/           |          |\n",
            "|    ep_len_mean     | 389      |\n",
            "|    ep_rew_mean     | 210      |\n",
            "| time/              |          |\n",
            "|    fps             | 683      |\n",
            "|    iterations      | 56       |\n",
            "|    time_elapsed    | 409      |\n",
            "|    total_timesteps | 280000   |\n",
            "---------------------------------\n",
            "------------------------------------------\n",
            "| rollout/                |              |\n",
            "|    ep_len_mean          | 399          |\n",
            "|    ep_rew_mean          | 218          |\n",
            "| time/                   |              |\n",
            "|    fps                  | 685          |\n",
            "|    iterations           | 57           |\n",
            "|    time_elapsed         | 416          |\n",
            "|    total_timesteps      | 285000       |\n",
            "| train/                  |              |\n",
            "|    approx_kl            | 0.0016944504 |\n",
            "|    clip_fraction        | 0.0796       |\n",
            "|    clip_range           | 0.1          |\n",
            "|    entropy_loss         | -2.26        |\n",
            "|    explained_variance   | 0.355        |\n",
            "|    learning_rate        | 5e-05        |\n",
            "|    loss                 | 17.8         |\n",
            "|    n_updates            | 1120         |\n",
            "|    policy_gradient_loss | -0.00234     |\n",
            "|    std                  | 0.75         |\n",
            "|    value_loss           | 29.5         |\n",
            "------------------------------------------\n"
          ]
        },
        {
          "data": {
            "text/html": [
              "<pre style=\"white-space:pre;overflow-x:auto;line-height:normal;font-family:Menlo,'DejaVu Sans Mono',consolas,'Courier New',monospace\">Eval num_timesteps=290000, episode_reward=90.67 +/- 32.73\n",
              "</pre>\n"
            ],
            "text/plain": [
              "Eval num_timesteps=290000, episode_reward=90.67 +/- 32.73\n"
            ]
          },
          "metadata": {},
          "output_type": "display_data"
        },
        {
          "data": {
            "text/html": [
              "<pre style=\"white-space:pre;overflow-x:auto;line-height:normal;font-family:Menlo,'DejaVu Sans Mono',consolas,'Courier New',monospace\">Episode length: 98.40 +/- 35.70\n",
              "</pre>\n"
            ],
            "text/plain": [
              "Episode length: 98.40 +/- 35.70\n"
            ]
          },
          "metadata": {},
          "output_type": "display_data"
        },
        {
          "data": {
            "text/html": [
              "<pre style=\"white-space:pre;overflow-x:auto;line-height:normal;font-family:Menlo,'DejaVu Sans Mono',consolas,'Courier New',monospace\">Success rate: 0.00%\n",
              "</pre>\n"
            ],
            "text/plain": [
              "Success rate: 0.00%\n"
            ]
          },
          "metadata": {},
          "output_type": "display_data"
        },
        {
          "name": "stdout",
          "output_type": "stream",
          "text": [
            "----------------------------------------\n",
            "| eval/                   |            |\n",
            "|    arrive_dest          | 0.0138     |\n",
            "|    crash                | 0.214      |\n",
            "|    max_step             | 0          |\n",
            "|    mean_ep_length       | 98.4       |\n",
            "|    mean_reward          | 90.7       |\n",
            "|    num_episodes         | 5          |\n",
            "|    out_of_road          | 0.986      |\n",
            "|    raw_action           | 0.41385093 |\n",
            "|    route_completion     | 0.296      |\n",
            "|    success_rate         | 0          |\n",
            "|    total_cost           | 5.5        |\n",
            "| time/                   |            |\n",
            "|    total_timesteps      | 290000     |\n",
            "| train/                  |            |\n",
            "|    approx_kl            | 0.00292307 |\n",
            "|    clip_fraction        | 0.109      |\n",
            "|    clip_range           | 0.1        |\n",
            "|    entropy_loss         | -2.26      |\n",
            "|    explained_variance   | 0.149      |\n",
            "|    learning_rate        | 5e-05      |\n",
            "|    loss                 | 20.3       |\n",
            "|    n_updates            | 1140       |\n",
            "|    policy_gradient_loss | 0.00052    |\n",
            "|    std                  | 0.746      |\n",
            "|    value_loss           | 31.9       |\n",
            "----------------------------------------\n",
            "---------------------------------\n",
            "| rollout/           |          |\n",
            "|    ep_len_mean     | 422      |\n",
            "|    ep_rew_mean     | 233      |\n",
            "| time/              |          |\n",
            "|    fps             | 686      |\n",
            "|    iterations      | 58       |\n",
            "|    time_elapsed    | 422      |\n",
            "|    total_timesteps | 290000   |\n",
            "---------------------------------\n",
            "------------------------------------------\n",
            "| rollout/                |              |\n",
            "|    ep_len_mean          | 426          |\n",
            "|    ep_rew_mean          | 235          |\n",
            "| time/                   |              |\n",
            "|    fps                  | 688          |\n",
            "|    iterations           | 59           |\n",
            "|    time_elapsed         | 428          |\n",
            "|    total_timesteps      | 295000       |\n",
            "| train/                  |              |\n",
            "|    approx_kl            | 0.0015471267 |\n",
            "|    clip_fraction        | 0.0912       |\n",
            "|    clip_range           | 0.1          |\n",
            "|    entropy_loss         | -2.25        |\n",
            "|    explained_variance   | 0.6          |\n",
            "|    learning_rate        | 5e-05        |\n",
            "|    loss                 | 15.2         |\n",
            "|    n_updates            | 1160         |\n",
            "|    policy_gradient_loss | -0.00118     |\n",
            "|    std                  | 0.745        |\n",
            "|    value_loss           | 39.4         |\n",
            "------------------------------------------\n"
          ]
        },
        {
          "data": {
            "text/html": [
              "<pre style=\"white-space:pre;overflow-x:auto;line-height:normal;font-family:Menlo,'DejaVu Sans Mono',consolas,'Courier New',monospace\">Saving model checkpoint to \n",
              "runs\\ppo_metadrive\\ppo_metadrive_2025-03-16_17-43-31_a51009e7\\models\\rl_model_300000_steps.zip\n",
              "</pre>\n"
            ],
            "text/plain": [
              "Saving model checkpoint to \n",
              "runs\\ppo_metadrive\\ppo_metadrive_2025-03-16_17-43-31_a51009e7\\models\\rl_model_300000_steps.zip\n"
            ]
          },
          "metadata": {},
          "output_type": "display_data"
        },
        {
          "data": {
            "text/html": [
              "<pre style=\"white-space:pre;overflow-x:auto;line-height:normal;font-family:Menlo,'DejaVu Sans Mono',consolas,'Courier New',monospace\">Eval num_timesteps=300000, episode_reward=162.12 +/- 41.64\n",
              "</pre>\n"
            ],
            "text/plain": [
              "Eval num_timesteps=300000, episode_reward=162.12 +/- 41.64\n"
            ]
          },
          "metadata": {},
          "output_type": "display_data"
        },
        {
          "data": {
            "text/html": [
              "<pre style=\"white-space:pre;overflow-x:auto;line-height:normal;font-family:Menlo,'DejaVu Sans Mono',consolas,'Courier New',monospace\">Episode length: 162.00 +/- 75.73\n",
              "</pre>\n"
            ],
            "text/plain": [
              "Episode length: 162.00 +/- 75.73\n"
            ]
          },
          "metadata": {},
          "output_type": "display_data"
        },
        {
          "data": {
            "text/html": [
              "<pre style=\"white-space:pre;overflow-x:auto;line-height:normal;font-family:Menlo,'DejaVu Sans Mono',consolas,'Courier New',monospace\">Success rate: 20.00%\n",
              "</pre>\n"
            ],
            "text/plain": [
              "Success rate: 20.00%\n"
            ]
          },
          "metadata": {},
          "output_type": "display_data"
        },
        {
          "name": "stdout",
          "output_type": "stream",
          "text": [
            "-----------------------------------------\n",
            "| eval/                   |             |\n",
            "|    arrive_dest          | 0.02        |\n",
            "|    crash                | 0.207       |\n",
            "|    max_step             | 0           |\n",
            "|    mean_ep_length       | 162         |\n",
            "|    mean_reward          | 162         |\n",
            "|    num_episodes         | 5           |\n",
            "|    out_of_road          | 0.98        |\n",
            "|    raw_action           | 0.41905218  |\n",
            "|    route_completion     | 0.307       |\n",
            "|    success_rate         | 0.2         |\n",
            "|    total_cost           | 5.89        |\n",
            "| time/                   |             |\n",
            "|    total_timesteps      | 300000      |\n",
            "| train/                  |             |\n",
            "|    approx_kl            | 0.003908264 |\n",
            "|    clip_fraction        | 0.107       |\n",
            "|    clip_range           | 0.1         |\n",
            "|    entropy_loss         | -2.25       |\n",
            "|    explained_variance   | 0.592       |\n",
            "|    learning_rate        | 5e-05       |\n",
            "|    loss                 | 12.5        |\n",
            "|    n_updates            | 1180        |\n",
            "|    policy_gradient_loss | -0.00217    |\n",
            "|    std                  | 0.744       |\n",
            "|    value_loss           | 37.7        |\n",
            "-----------------------------------------\n",
            "---------------------------------\n",
            "| rollout/           |          |\n",
            "|    ep_len_mean     | 440      |\n",
            "|    ep_rew_mean     | 245      |\n",
            "| time/              |          |\n",
            "|    fps             | 687      |\n",
            "|    iterations      | 60       |\n",
            "|    time_elapsed    | 436      |\n",
            "|    total_timesteps | 300000   |\n",
            "---------------------------------\n",
            "------------------------------------------\n",
            "| rollout/                |              |\n",
            "|    ep_len_mean          | 449          |\n",
            "|    ep_rew_mean          | 250          |\n",
            "| time/                   |              |\n",
            "|    fps                  | 690          |\n",
            "|    iterations           | 61           |\n",
            "|    time_elapsed         | 441          |\n",
            "|    total_timesteps      | 305000       |\n",
            "| train/                  |              |\n",
            "|    approx_kl            | 0.0013183707 |\n",
            "|    clip_fraction        | 0.176        |\n",
            "|    clip_range           | 0.1          |\n",
            "|    entropy_loss         | -2.25        |\n",
            "|    explained_variance   | 0.119        |\n",
            "|    learning_rate        | 5e-05        |\n",
            "|    loss                 | 10           |\n",
            "|    n_updates            | 1200         |\n",
            "|    policy_gradient_loss | 0.000258     |\n",
            "|    std                  | 0.745        |\n",
            "|    value_loss           | 27.3         |\n",
            "------------------------------------------\n"
          ]
        },
        {
          "data": {
            "text/html": [
              "<pre style=\"white-space:pre;overflow-x:auto;line-height:normal;font-family:Menlo,'DejaVu Sans Mono',consolas,'Courier New',monospace\">Eval num_timesteps=310000, episode_reward=141.10 +/- 95.01\n",
              "</pre>\n"
            ],
            "text/plain": [
              "Eval num_timesteps=310000, episode_reward=141.10 +/- 95.01\n"
            ]
          },
          "metadata": {},
          "output_type": "display_data"
        },
        {
          "data": {
            "text/html": [
              "<pre style=\"white-space:pre;overflow-x:auto;line-height:normal;font-family:Menlo,'DejaVu Sans Mono',consolas,'Courier New',monospace\">Episode length: 120.40 +/- 53.95\n",
              "</pre>\n"
            ],
            "text/plain": [
              "Episode length: 120.40 +/- 53.95\n"
            ]
          },
          "metadata": {},
          "output_type": "display_data"
        },
        {
          "data": {
            "text/html": [
              "<pre style=\"white-space:pre;overflow-x:auto;line-height:normal;font-family:Menlo,'DejaVu Sans Mono',consolas,'Courier New',monospace\">Success rate: 20.00%\n",
              "</pre>\n"
            ],
            "text/plain": [
              "Success rate: 20.00%\n"
            ]
          },
          "metadata": {},
          "output_type": "display_data"
        },
        {
          "name": "stdout",
          "output_type": "stream",
          "text": [
            "------------------------------------------\n",
            "| eval/                   |              |\n",
            "|    arrive_dest          | 0.0258       |\n",
            "|    crash                | 0.206        |\n",
            "|    max_step             | 0            |\n",
            "|    mean_ep_length       | 120          |\n",
            "|    mean_reward          | 141          |\n",
            "|    num_episodes         | 5            |\n",
            "|    out_of_road          | 0.974        |\n",
            "|    raw_action           | 0.42381582   |\n",
            "|    route_completion     | 0.312        |\n",
            "|    success_rate         | 0.2          |\n",
            "|    total_cost           | 5.88         |\n",
            "| time/                   |              |\n",
            "|    total_timesteps      | 310000       |\n",
            "| train/                  |              |\n",
            "|    approx_kl            | 0.0011302407 |\n",
            "|    clip_fraction        | 0.0531       |\n",
            "|    clip_range           | 0.1          |\n",
            "|    entropy_loss         | -2.24        |\n",
            "|    explained_variance   | 0.315        |\n",
            "|    learning_rate        | 5e-05        |\n",
            "|    loss                 | 19.5         |\n",
            "|    n_updates            | 1220         |\n",
            "|    policy_gradient_loss | -0.00163     |\n",
            "|    std                  | 0.742        |\n",
            "|    value_loss           | 36           |\n",
            "------------------------------------------\n",
            "---------------------------------\n",
            "| rollout/           |          |\n",
            "|    ep_len_mean     | 450      |\n",
            "|    ep_rew_mean     | 255      |\n",
            "| time/              |          |\n",
            "|    fps             | 691      |\n",
            "|    iterations      | 62       |\n",
            "|    time_elapsed    | 448      |\n",
            "|    total_timesteps | 310000   |\n",
            "---------------------------------\n",
            "------------------------------------------\n",
            "| rollout/                |              |\n",
            "|    ep_len_mean          | 449          |\n",
            "|    ep_rew_mean          | 260          |\n",
            "| time/                   |              |\n",
            "|    fps                  | 693          |\n",
            "|    iterations           | 63           |\n",
            "|    time_elapsed         | 454          |\n",
            "|    total_timesteps      | 315000       |\n",
            "| train/                  |              |\n",
            "|    approx_kl            | 0.0011160129 |\n",
            "|    clip_fraction        | 0.0699       |\n",
            "|    clip_range           | 0.1          |\n",
            "|    entropy_loss         | -2.24        |\n",
            "|    explained_variance   | 0.281        |\n",
            "|    learning_rate        | 5e-05        |\n",
            "|    loss                 | 24.8         |\n",
            "|    n_updates            | 1240         |\n",
            "|    policy_gradient_loss | -0.0013      |\n",
            "|    std                  | 0.741        |\n",
            "|    value_loss           | 44.7         |\n",
            "------------------------------------------\n"
          ]
        },
        {
          "data": {
            "text/html": [
              "<pre style=\"white-space:pre;overflow-x:auto;line-height:normal;font-family:Menlo,'DejaVu Sans Mono',consolas,'Courier New',monospace\">Eval num_timesteps=320000, episode_reward=127.86 +/- 70.36\n",
              "</pre>\n"
            ],
            "text/plain": [
              "Eval num_timesteps=320000, episode_reward=127.86 +/- 70.36\n"
            ]
          },
          "metadata": {},
          "output_type": "display_data"
        },
        {
          "data": {
            "text/html": [
              "<pre style=\"white-space:pre;overflow-x:auto;line-height:normal;font-family:Menlo,'DejaVu Sans Mono',consolas,'Courier New',monospace\">Episode length: 167.00 +/- 118.43\n",
              "</pre>\n"
            ],
            "text/plain": [
              "Episode length: 167.00 +/- 118.43\n"
            ]
          },
          "metadata": {},
          "output_type": "display_data"
        },
        {
          "data": {
            "text/html": [
              "<pre style=\"white-space:pre;overflow-x:auto;line-height:normal;font-family:Menlo,'DejaVu Sans Mono',consolas,'Courier New',monospace\">Success rate: 0.00%\n",
              "</pre>\n"
            ],
            "text/plain": [
              "Success rate: 0.00%\n"
            ]
          },
          "metadata": {},
          "output_type": "display_data"
        },
        {
          "name": "stdout",
          "output_type": "stream",
          "text": [
            "------------------------------------------\n",
            "| eval/                   |              |\n",
            "|    arrive_dest          | 0.025        |\n",
            "|    crash                | 0.206        |\n",
            "|    max_step             | 0            |\n",
            "|    mean_ep_length       | 167          |\n",
            "|    mean_reward          | 128          |\n",
            "|    num_episodes         | 5            |\n",
            "|    out_of_road          | 0.975        |\n",
            "|    raw_action           | 0.4296858    |\n",
            "|    route_completion     | 0.317        |\n",
            "|    success_rate         | 0            |\n",
            "|    total_cost           | 6.39         |\n",
            "| time/                   |              |\n",
            "|    total_timesteps      | 320000       |\n",
            "| train/                  |              |\n",
            "|    approx_kl            | 0.0027951784 |\n",
            "|    clip_fraction        | 0.0915       |\n",
            "|    clip_range           | 0.1          |\n",
            "|    entropy_loss         | -2.24        |\n",
            "|    explained_variance   | 0.203        |\n",
            "|    learning_rate        | 5e-05        |\n",
            "|    loss                 | 26.7         |\n",
            "|    n_updates            | 1260         |\n",
            "|    policy_gradient_loss | -0.0018      |\n",
            "|    std                  | 0.74         |\n",
            "|    value_loss           | 53           |\n",
            "------------------------------------------\n",
            "---------------------------------\n",
            "| rollout/           |          |\n",
            "|    ep_len_mean     | 442      |\n",
            "|    ep_rew_mean     | 256      |\n",
            "| time/              |          |\n",
            "|    fps             | 689      |\n",
            "|    iterations      | 64       |\n",
            "|    time_elapsed    | 463      |\n",
            "|    total_timesteps | 320000   |\n",
            "---------------------------------\n",
            "-------------------------------------------\n",
            "| rollout/                |               |\n",
            "|    ep_len_mean          | 437           |\n",
            "|    ep_rew_mean          | 253           |\n",
            "| time/                   |               |\n",
            "|    fps                  | 691           |\n",
            "|    iterations           | 65            |\n",
            "|    time_elapsed         | 469           |\n",
            "|    total_timesteps      | 325000        |\n",
            "| train/                  |               |\n",
            "|    approx_kl            | 0.00040479112 |\n",
            "|    clip_fraction        | 0.119         |\n",
            "|    clip_range           | 0.1           |\n",
            "|    entropy_loss         | -2.23         |\n",
            "|    explained_variance   | 0.179         |\n",
            "|    learning_rate        | 5e-05         |\n",
            "|    loss                 | 18.5          |\n",
            "|    n_updates            | 1280          |\n",
            "|    policy_gradient_loss | 0.000243      |\n",
            "|    std                  | 0.737         |\n",
            "|    value_loss           | 47            |\n",
            "-------------------------------------------\n"
          ]
        },
        {
          "data": {
            "text/html": [
              "<pre style=\"white-space:pre;overflow-x:auto;line-height:normal;font-family:Menlo,'DejaVu Sans Mono',consolas,'Courier New',monospace\">Eval num_timesteps=330000, episode_reward=193.58 +/- 113.99\n",
              "</pre>\n"
            ],
            "text/plain": [
              "Eval num_timesteps=330000, episode_reward=193.58 +/- 113.99\n"
            ]
          },
          "metadata": {},
          "output_type": "display_data"
        },
        {
          "data": {
            "text/html": [
              "<pre style=\"white-space:pre;overflow-x:auto;line-height:normal;font-family:Menlo,'DejaVu Sans Mono',consolas,'Courier New',monospace\">Episode length: 163.40 +/- 68.43\n",
              "</pre>\n"
            ],
            "text/plain": [
              "Episode length: 163.40 +/- 68.43\n"
            ]
          },
          "metadata": {},
          "output_type": "display_data"
        },
        {
          "data": {
            "text/html": [
              "<pre style=\"white-space:pre;overflow-x:auto;line-height:normal;font-family:Menlo,'DejaVu Sans Mono',consolas,'Courier New',monospace\">Success rate: 20.00%\n",
              "</pre>\n"
            ],
            "text/plain": [
              "Success rate: 20.00%\n"
            ]
          },
          "metadata": {},
          "output_type": "display_data"
        },
        {
          "name": "stdout",
          "output_type": "stream",
          "text": [
            "-----------------------------------------\n",
            "| eval/                   |             |\n",
            "|    arrive_dest          | 0.0303      |\n",
            "|    crash                | 0.212       |\n",
            "|    max_step             | 0           |\n",
            "|    mean_ep_length       | 163         |\n",
            "|    mean_reward          | 194         |\n",
            "|    num_episodes         | 5           |\n",
            "|    out_of_road          | 0.97        |\n",
            "|    raw_action           | 0.43397808  |\n",
            "|    route_completion     | 0.327       |\n",
            "|    success_rate         | 0.2         |\n",
            "|    total_cost           | 6.67        |\n",
            "| time/                   |             |\n",
            "|    total_timesteps      | 330000      |\n",
            "| train/                  |             |\n",
            "|    approx_kl            | 0.016417982 |\n",
            "|    clip_fraction        | 0.14        |\n",
            "|    clip_range           | 0.1         |\n",
            "|    entropy_loss         | -2.22       |\n",
            "|    explained_variance   | 0.359       |\n",
            "|    learning_rate        | 5e-05       |\n",
            "|    loss                 | 18.5        |\n",
            "|    n_updates            | 1300        |\n",
            "|    policy_gradient_loss | 4.54e-05    |\n",
            "|    std                  | 0.733       |\n",
            "|    value_loss           | 41.9        |\n",
            "-----------------------------------------\n",
            "---------------------------------\n",
            "| rollout/           |          |\n",
            "|    ep_len_mean     | 441      |\n",
            "|    ep_rew_mean     | 261      |\n",
            "| time/              |          |\n",
            "|    fps             | 691      |\n",
            "|    iterations      | 66       |\n",
            "|    time_elapsed    | 476      |\n",
            "|    total_timesteps | 330000   |\n",
            "---------------------------------\n",
            "------------------------------------------\n",
            "| rollout/                |              |\n",
            "|    ep_len_mean          | 434          |\n",
            "|    ep_rew_mean          | 267          |\n",
            "| time/                   |              |\n",
            "|    fps                  | 694          |\n",
            "|    iterations           | 67           |\n",
            "|    time_elapsed         | 482          |\n",
            "|    total_timesteps      | 335000       |\n",
            "| train/                  |              |\n",
            "|    approx_kl            | 0.0023691352 |\n",
            "|    clip_fraction        | 0.12         |\n",
            "|    clip_range           | 0.1          |\n",
            "|    entropy_loss         | -2.21        |\n",
            "|    explained_variance   | 0.198        |\n",
            "|    learning_rate        | 5e-05        |\n",
            "|    loss                 | 36.3         |\n",
            "|    n_updates            | 1320         |\n",
            "|    policy_gradient_loss | -0.00101     |\n",
            "|    std                  | 0.729        |\n",
            "|    value_loss           | 46.5         |\n",
            "------------------------------------------\n"
          ]
        },
        {
          "data": {
            "text/html": [
              "<pre style=\"white-space:pre;overflow-x:auto;line-height:normal;font-family:Menlo,'DejaVu Sans Mono',consolas,'Courier New',monospace\">Eval num_timesteps=340000, episode_reward=95.20 +/- 40.49\n",
              "</pre>\n"
            ],
            "text/plain": [
              "Eval num_timesteps=340000, episode_reward=95.20 +/- 40.49\n"
            ]
          },
          "metadata": {},
          "output_type": "display_data"
        },
        {
          "data": {
            "text/html": [
              "<pre style=\"white-space:pre;overflow-x:auto;line-height:normal;font-family:Menlo,'DejaVu Sans Mono',consolas,'Courier New',monospace\">Episode length: 148.40 +/- 94.98\n",
              "</pre>\n"
            ],
            "text/plain": [
              "Episode length: 148.40 +/- 94.98\n"
            ]
          },
          "metadata": {},
          "output_type": "display_data"
        },
        {
          "data": {
            "text/html": [
              "<pre style=\"white-space:pre;overflow-x:auto;line-height:normal;font-family:Menlo,'DejaVu Sans Mono',consolas,'Courier New',monospace\">Success rate: 20.00%\n",
              "</pre>\n"
            ],
            "text/plain": [
              "Success rate: 20.00%\n"
            ]
          },
          "metadata": {},
          "output_type": "display_data"
        },
        {
          "name": "stdout",
          "output_type": "stream",
          "text": [
            "------------------------------------------\n",
            "| eval/                   |              |\n",
            "|    arrive_dest          | 0.0353       |\n",
            "|    crash                | 0.212        |\n",
            "|    max_step             | 0            |\n",
            "|    mean_ep_length       | 148          |\n",
            "|    mean_reward          | 95.2         |\n",
            "|    num_episodes         | 5            |\n",
            "|    out_of_road          | 0.965        |\n",
            "|    raw_action           | 0.4357877    |\n",
            "|    route_completion     | 0.332        |\n",
            "|    success_rate         | 0.2          |\n",
            "|    total_cost           | 7.39         |\n",
            "| time/                   |              |\n",
            "|    total_timesteps      | 340000       |\n",
            "| train/                  |              |\n",
            "|    approx_kl            | 0.0034473422 |\n",
            "|    clip_fraction        | 0.0822       |\n",
            "|    clip_range           | 0.1          |\n",
            "|    entropy_loss         | -2.2         |\n",
            "|    explained_variance   | 0.279        |\n",
            "|    learning_rate        | 5e-05        |\n",
            "|    loss                 | 30.6         |\n",
            "|    n_updates            | 1340         |\n",
            "|    policy_gradient_loss | -0.00152     |\n",
            "|    std                  | 0.724        |\n",
            "|    value_loss           | 41.8         |\n",
            "------------------------------------------\n",
            "---------------------------------\n",
            "| rollout/           |          |\n",
            "|    ep_len_mean     | 432      |\n",
            "|    ep_rew_mean     | 266      |\n",
            "| time/              |          |\n",
            "|    fps             | 693      |\n",
            "|    iterations      | 68       |\n",
            "|    time_elapsed    | 490      |\n",
            "|    total_timesteps | 340000   |\n",
            "---------------------------------\n",
            "------------------------------------------\n",
            "| rollout/                |              |\n",
            "|    ep_len_mean          | 411          |\n",
            "|    ep_rew_mean          | 257          |\n",
            "| time/                   |              |\n",
            "|    fps                  | 696          |\n",
            "|    iterations           | 69           |\n",
            "|    time_elapsed         | 495          |\n",
            "|    total_timesteps      | 345000       |\n",
            "| train/                  |              |\n",
            "|    approx_kl            | 0.0020817178 |\n",
            "|    clip_fraction        | 0.113        |\n",
            "|    clip_range           | 0.1          |\n",
            "|    entropy_loss         | -2.19        |\n",
            "|    explained_variance   | 0.141        |\n",
            "|    learning_rate        | 5e-05        |\n",
            "|    loss                 | 19.2         |\n",
            "|    n_updates            | 1360         |\n",
            "|    policy_gradient_loss | -0.000436    |\n",
            "|    std                  | 0.722        |\n",
            "|    value_loss           | 56.7         |\n",
            "------------------------------------------\n"
          ]
        },
        {
          "data": {
            "text/html": [
              "<pre style=\"white-space:pre;overflow-x:auto;line-height:normal;font-family:Menlo,'DejaVu Sans Mono',consolas,'Courier New',monospace\">Eval num_timesteps=350000, episode_reward=122.06 +/- 55.24\n",
              "</pre>\n"
            ],
            "text/plain": [
              "Eval num_timesteps=350000, episode_reward=122.06 +/- 55.24\n"
            ]
          },
          "metadata": {},
          "output_type": "display_data"
        },
        {
          "data": {
            "text/html": [
              "<pre style=\"white-space:pre;overflow-x:auto;line-height:normal;font-family:Menlo,'DejaVu Sans Mono',consolas,'Courier New',monospace\">Episode length: 161.20 +/- 91.42\n",
              "</pre>\n"
            ],
            "text/plain": [
              "Episode length: 161.20 +/- 91.42\n"
            ]
          },
          "metadata": {},
          "output_type": "display_data"
        },
        {
          "data": {
            "text/html": [
              "<pre style=\"white-space:pre;overflow-x:auto;line-height:normal;font-family:Menlo,'DejaVu Sans Mono',consolas,'Courier New',monospace\">Success rate: 20.00%\n",
              "</pre>\n"
            ],
            "text/plain": [
              "Success rate: 20.00%\n"
            ]
          },
          "metadata": {},
          "output_type": "display_data"
        },
        {
          "name": "stdout",
          "output_type": "stream",
          "text": [
            "------------------------------------------\n",
            "| eval/                   |              |\n",
            "|    arrive_dest          | 0.04         |\n",
            "|    crash                | 0.223        |\n",
            "|    max_step             | 0            |\n",
            "|    mean_ep_length       | 161          |\n",
            "|    mean_reward          | 122          |\n",
            "|    num_episodes         | 5            |\n",
            "|    out_of_road          | 0.96         |\n",
            "|    raw_action           | 0.4385816    |\n",
            "|    route_completion     | 0.337        |\n",
            "|    success_rate         | 0.2          |\n",
            "|    total_cost           | 8.01         |\n",
            "| time/                   |              |\n",
            "|    total_timesteps      | 350000       |\n",
            "| train/                  |              |\n",
            "|    approx_kl            | 0.0012599599 |\n",
            "|    clip_fraction        | 0.0985       |\n",
            "|    clip_range           | 0.1          |\n",
            "|    entropy_loss         | -2.18        |\n",
            "|    explained_variance   | 0.312        |\n",
            "|    learning_rate        | 5e-05        |\n",
            "|    loss                 | 29.4         |\n",
            "|    n_updates            | 1380         |\n",
            "|    policy_gradient_loss | -0.000284    |\n",
            "|    std                  | 0.72         |\n",
            "|    value_loss           | 57.5         |\n",
            "------------------------------------------\n",
            "---------------------------------\n",
            "| rollout/           |          |\n",
            "|    ep_len_mean     | 399      |\n",
            "|    ep_rew_mean     | 251      |\n",
            "| time/              |          |\n",
            "|    fps             | 693      |\n",
            "|    iterations      | 70       |\n",
            "|    time_elapsed    | 504      |\n",
            "|    total_timesteps | 350000   |\n",
            "---------------------------------\n",
            "------------------------------------------\n",
            "| rollout/                |              |\n",
            "|    ep_len_mean          | 407          |\n",
            "|    ep_rew_mean          | 258          |\n",
            "| time/                   |              |\n",
            "|    fps                  | 695          |\n",
            "|    iterations           | 71           |\n",
            "|    time_elapsed         | 510          |\n",
            "|    total_timesteps      | 355000       |\n",
            "| train/                  |              |\n",
            "|    approx_kl            | 0.0013140849 |\n",
            "|    clip_fraction        | 0.0806       |\n",
            "|    clip_range           | 0.1          |\n",
            "|    entropy_loss         | -2.18        |\n",
            "|    explained_variance   | 0.268        |\n",
            "|    learning_rate        | 5e-05        |\n",
            "|    loss                 | 26.2         |\n",
            "|    n_updates            | 1400         |\n",
            "|    policy_gradient_loss | -0.00139     |\n",
            "|    std                  | 0.718        |\n",
            "|    value_loss           | 58.9         |\n",
            "------------------------------------------\n"
          ]
        },
        {
          "data": {
            "text/html": [
              "<pre style=\"white-space:pre;overflow-x:auto;line-height:normal;font-family:Menlo,'DejaVu Sans Mono',consolas,'Courier New',monospace\">Eval num_timesteps=360000, episode_reward=102.12 +/- 50.61\n",
              "</pre>\n"
            ],
            "text/plain": [
              "Eval num_timesteps=360000, episode_reward=102.12 +/- 50.61\n"
            ]
          },
          "metadata": {},
          "output_type": "display_data"
        },
        {
          "data": {
            "text/html": [
              "<pre style=\"white-space:pre;overflow-x:auto;line-height:normal;font-family:Menlo,'DejaVu Sans Mono',consolas,'Courier New',monospace\">Episode length: 101.60 +/- 33.05\n",
              "</pre>\n"
            ],
            "text/plain": [
              "Episode length: 101.60 +/- 33.05\n"
            ]
          },
          "metadata": {},
          "output_type": "display_data"
        },
        {
          "data": {
            "text/html": [
              "<pre style=\"white-space:pre;overflow-x:auto;line-height:normal;font-family:Menlo,'DejaVu Sans Mono',consolas,'Courier New',monospace\">Success rate: 0.00%\n",
              "</pre>\n"
            ],
            "text/plain": [
              "Success rate: 0.00%\n"
            ]
          },
          "metadata": {},
          "output_type": "display_data"
        },
        {
          "name": "stdout",
          "output_type": "stream",
          "text": [
            "------------------------------------------\n",
            "| eval/                   |              |\n",
            "|    arrive_dest          | 0.0389       |\n",
            "|    crash                | 0.233        |\n",
            "|    max_step             | 0            |\n",
            "|    mean_ep_length       | 102          |\n",
            "|    mean_reward          | 102          |\n",
            "|    num_episodes         | 5            |\n",
            "|    out_of_road          | 0.961        |\n",
            "|    raw_action           | 0.43845674   |\n",
            "|    route_completion     | 0.336        |\n",
            "|    success_rate         | 0            |\n",
            "|    total_cost           | 7.84         |\n",
            "| time/                   |              |\n",
            "|    total_timesteps      | 360000       |\n",
            "| train/                  |              |\n",
            "|    approx_kl            | 0.0028784208 |\n",
            "|    clip_fraction        | 0.155        |\n",
            "|    clip_range           | 0.1          |\n",
            "|    entropy_loss         | -2.17        |\n",
            "|    explained_variance   | 0.25         |\n",
            "|    learning_rate        | 5e-05        |\n",
            "|    loss                 | 20.8         |\n",
            "|    n_updates            | 1420         |\n",
            "|    policy_gradient_loss | -0.000517    |\n",
            "|    std                  | 0.715        |\n",
            "|    value_loss           | 53.2         |\n",
            "------------------------------------------\n",
            "---------------------------------\n",
            "| rollout/           |          |\n",
            "|    ep_len_mean     | 399      |\n",
            "|    ep_rew_mean     | 257      |\n",
            "| time/              |          |\n",
            "|    fps             | 696      |\n",
            "|    iterations      | 72       |\n",
            "|    time_elapsed    | 516      |\n",
            "|    total_timesteps | 360000   |\n",
            "---------------------------------\n",
            "-----------------------------------------\n",
            "| rollout/                |             |\n",
            "|    ep_len_mean          | 396         |\n",
            "|    ep_rew_mean          | 259         |\n",
            "| time/                   |             |\n",
            "|    fps                  | 699         |\n",
            "|    iterations           | 73          |\n",
            "|    time_elapsed         | 522         |\n",
            "|    total_timesteps      | 365000      |\n",
            "| train/                  |             |\n",
            "|    approx_kl            | 0.006504187 |\n",
            "|    clip_fraction        | 0.128       |\n",
            "|    clip_range           | 0.1         |\n",
            "|    entropy_loss         | -2.16       |\n",
            "|    explained_variance   | 0.236       |\n",
            "|    learning_rate        | 5e-05       |\n",
            "|    loss                 | 11.8        |\n",
            "|    n_updates            | 1440        |\n",
            "|    policy_gradient_loss | -0.00109    |\n",
            "|    std                  | 0.713       |\n",
            "|    value_loss           | 58.7        |\n",
            "-----------------------------------------\n"
          ]
        },
        {
          "data": {
            "text/html": [
              "<pre style=\"white-space:pre;overflow-x:auto;line-height:normal;font-family:Menlo,'DejaVu Sans Mono',consolas,'Courier New',monospace\">Eval num_timesteps=370000, episode_reward=134.71 +/- 50.59\n",
              "</pre>\n"
            ],
            "text/plain": [
              "Eval num_timesteps=370000, episode_reward=134.71 +/- 50.59\n"
            ]
          },
          "metadata": {},
          "output_type": "display_data"
        },
        {
          "data": {
            "text/html": [
              "<pre style=\"white-space:pre;overflow-x:auto;line-height:normal;font-family:Menlo,'DejaVu Sans Mono',consolas,'Courier New',monospace\">Episode length: 124.20 +/- 28.33\n",
              "</pre>\n"
            ],
            "text/plain": [
              "Episode length: 124.20 +/- 28.33\n"
            ]
          },
          "metadata": {},
          "output_type": "display_data"
        },
        {
          "data": {
            "text/html": [
              "<pre style=\"white-space:pre;overflow-x:auto;line-height:normal;font-family:Menlo,'DejaVu Sans Mono',consolas,'Courier New',monospace\">Success rate: 0.00%\n",
              "</pre>\n"
            ],
            "text/plain": [
              "Success rate: 0.00%\n"
            ]
          },
          "metadata": {},
          "output_type": "display_data"
        },
        {
          "name": "stdout",
          "output_type": "stream",
          "text": [
            "------------------------------------------\n",
            "| eval/                   |              |\n",
            "|    arrive_dest          | 0.0378       |\n",
            "|    crash                | 0.232        |\n",
            "|    max_step             | 0            |\n",
            "|    mean_ep_length       | 124          |\n",
            "|    mean_reward          | 135          |\n",
            "|    num_episodes         | 5            |\n",
            "|    out_of_road          | 0.962        |\n",
            "|    raw_action           | 0.43909484   |\n",
            "|    route_completion     | 0.338        |\n",
            "|    success_rate         | 0            |\n",
            "|    total_cost           | 7.71         |\n",
            "| time/                   |              |\n",
            "|    total_timesteps      | 370000       |\n",
            "| train/                  |              |\n",
            "|    approx_kl            | 0.0047182753 |\n",
            "|    clip_fraction        | 0.148        |\n",
            "|    clip_range           | 0.1          |\n",
            "|    entropy_loss         | -2.15        |\n",
            "|    explained_variance   | 0.308        |\n",
            "|    learning_rate        | 5e-05        |\n",
            "|    loss                 | 19.9         |\n",
            "|    n_updates            | 1460         |\n",
            "|    policy_gradient_loss | -0.00154     |\n",
            "|    std                  | 0.71         |\n",
            "|    value_loss           | 50.1         |\n",
            "------------------------------------------\n",
            "---------------------------------\n",
            "| rollout/           |          |\n",
            "|    ep_len_mean     | 385      |\n",
            "|    ep_rew_mean     | 253      |\n",
            "| time/              |          |\n",
            "|    fps             | 700      |\n",
            "|    iterations      | 74       |\n",
            "|    time_elapsed    | 528      |\n",
            "|    total_timesteps | 370000   |\n",
            "---------------------------------\n",
            "-----------------------------------------\n",
            "| rollout/                |             |\n",
            "|    ep_len_mean          | 384         |\n",
            "|    ep_rew_mean          | 256         |\n",
            "| time/                   |             |\n",
            "|    fps                  | 703         |\n",
            "|    iterations           | 75          |\n",
            "|    time_elapsed         | 533         |\n",
            "|    total_timesteps      | 375000      |\n",
            "| train/                  |             |\n",
            "|    approx_kl            | 0.006172828 |\n",
            "|    clip_fraction        | 0.119       |\n",
            "|    clip_range           | 0.1         |\n",
            "|    entropy_loss         | -2.15       |\n",
            "|    explained_variance   | 0.315       |\n",
            "|    learning_rate        | 5e-05       |\n",
            "|    loss                 | 8.76        |\n",
            "|    n_updates            | 1480        |\n",
            "|    policy_gradient_loss | 0.00105     |\n",
            "|    std                  | 0.707       |\n",
            "|    value_loss           | 60.1        |\n",
            "-----------------------------------------\n"
          ]
        },
        {
          "data": {
            "text/html": [
              "<pre style=\"white-space:pre;overflow-x:auto;line-height:normal;font-family:Menlo,'DejaVu Sans Mono',consolas,'Courier New',monospace\">Eval num_timesteps=380000, episode_reward=108.50 +/- 68.55\n",
              "</pre>\n"
            ],
            "text/plain": [
              "Eval num_timesteps=380000, episode_reward=108.50 +/- 68.55\n"
            ]
          },
          "metadata": {},
          "output_type": "display_data"
        },
        {
          "data": {
            "text/html": [
              "<pre style=\"white-space:pre;overflow-x:auto;line-height:normal;font-family:Menlo,'DejaVu Sans Mono',consolas,'Courier New',monospace\">Episode length: 114.00 +/- 63.40\n",
              "</pre>\n"
            ],
            "text/plain": [
              "Episode length: 114.00 +/- 63.40\n"
            ]
          },
          "metadata": {},
          "output_type": "display_data"
        },
        {
          "data": {
            "text/html": [
              "<pre style=\"white-space:pre;overflow-x:auto;line-height:normal;font-family:Menlo,'DejaVu Sans Mono',consolas,'Courier New',monospace\">Success rate: 0.00%\n",
              "</pre>\n"
            ],
            "text/plain": [
              "Success rate: 0.00%\n"
            ]
          },
          "metadata": {},
          "output_type": "display_data"
        },
        {
          "name": "stdout",
          "output_type": "stream",
          "text": [
            "-----------------------------------------\n",
            "| eval/                   |             |\n",
            "|    arrive_dest          | 0.0368      |\n",
            "|    crash                | 0.237       |\n",
            "|    max_step             | 0           |\n",
            "|    mean_ep_length       | 114         |\n",
            "|    mean_reward          | 109         |\n",
            "|    num_episodes         | 5           |\n",
            "|    out_of_road          | 0.963       |\n",
            "|    raw_action           | 0.44021443  |\n",
            "|    route_completion     | 0.339       |\n",
            "|    success_rate         | 0           |\n",
            "|    total_cost           | 7.74        |\n",
            "| time/                   |             |\n",
            "|    total_timesteps      | 380000      |\n",
            "| train/                  |             |\n",
            "|    approx_kl            | 0.002455233 |\n",
            "|    clip_fraction        | 0.137       |\n",
            "|    clip_range           | 0.1         |\n",
            "|    entropy_loss         | -2.14       |\n",
            "|    explained_variance   | 0.33        |\n",
            "|    learning_rate        | 5e-05       |\n",
            "|    loss                 | 16.7        |\n",
            "|    n_updates            | 1500        |\n",
            "|    policy_gradient_loss | 0.000802    |\n",
            "|    std                  | 0.704       |\n",
            "|    value_loss           | 57.8        |\n",
            "-----------------------------------------\n",
            "---------------------------------\n",
            "| rollout/           |          |\n",
            "|    ep_len_mean     | 368      |\n",
            "|    ep_rew_mean     | 246      |\n",
            "| time/              |          |\n",
            "|    fps             | 702      |\n",
            "|    iterations      | 76       |\n",
            "|    time_elapsed    | 540      |\n",
            "|    total_timesteps | 380000   |\n",
            "---------------------------------\n",
            "------------------------------------------\n",
            "| rollout/                |              |\n",
            "|    ep_len_mean          | 370          |\n",
            "|    ep_rew_mean          | 251          |\n",
            "| time/                   |              |\n",
            "|    fps                  | 705          |\n",
            "|    iterations           | 77           |\n",
            "|    time_elapsed         | 546          |\n",
            "|    total_timesteps      | 385000       |\n",
            "| train/                  |              |\n",
            "|    approx_kl            | 0.0011319022 |\n",
            "|    clip_fraction        | 0.0922       |\n",
            "|    clip_range           | 0.1          |\n",
            "|    entropy_loss         | -2.13        |\n",
            "|    explained_variance   | 0.214        |\n",
            "|    learning_rate        | 5e-05        |\n",
            "|    loss                 | 36.5         |\n",
            "|    n_updates            | 1520         |\n",
            "|    policy_gradient_loss | -0.00247     |\n",
            "|    std                  | 0.701        |\n",
            "|    value_loss           | 78.8         |\n",
            "------------------------------------------\n"
          ]
        },
        {
          "data": {
            "text/html": [
              "<pre style=\"white-space:pre;overflow-x:auto;line-height:normal;font-family:Menlo,'DejaVu Sans Mono',consolas,'Courier New',monospace\">Eval num_timesteps=390000, episode_reward=230.26 +/- 107.55\n",
              "</pre>\n"
            ],
            "text/plain": [
              "Eval num_timesteps=390000, episode_reward=230.26 +/- 107.55\n"
            ]
          },
          "metadata": {},
          "output_type": "display_data"
        },
        {
          "data": {
            "text/html": [
              "<pre style=\"white-space:pre;overflow-x:auto;line-height:normal;font-family:Menlo,'DejaVu Sans Mono',consolas,'Courier New',monospace\">Episode length: 168.00 +/- 64.83\n",
              "</pre>\n"
            ],
            "text/plain": [
              "Episode length: 168.00 +/- 64.83\n"
            ]
          },
          "metadata": {},
          "output_type": "display_data"
        },
        {
          "data": {
            "text/html": [
              "<pre style=\"white-space:pre;overflow-x:auto;line-height:normal;font-family:Menlo,'DejaVu Sans Mono',consolas,'Courier New',monospace\">Success rate: 0.00%\n",
              "</pre>\n"
            ],
            "text/plain": [
              "Success rate: 0.00%\n"
            ]
          },
          "metadata": {},
          "output_type": "display_data"
        },
        {
          "name": "stdout",
          "output_type": "stream",
          "text": [
            "-----------------------------------------\n",
            "| eval/                   |             |\n",
            "|    arrive_dest          | 0.0359      |\n",
            "|    crash                | 0.236       |\n",
            "|    max_step             | 0           |\n",
            "|    mean_ep_length       | 168         |\n",
            "|    mean_reward          | 230         |\n",
            "|    num_episodes         | 5           |\n",
            "|    out_of_road          | 0.964       |\n",
            "|    raw_action           | 0.4423072   |\n",
            "|    route_completion     | 0.346       |\n",
            "|    success_rate         | 0           |\n",
            "|    total_cost           | 7.59        |\n",
            "| time/                   |             |\n",
            "|    total_timesteps      | 390000      |\n",
            "| train/                  |             |\n",
            "|    approx_kl            | 0.003034351 |\n",
            "|    clip_fraction        | 0.15        |\n",
            "|    clip_range           | 0.1         |\n",
            "|    entropy_loss         | -2.13       |\n",
            "|    explained_variance   | 0.309       |\n",
            "|    learning_rate        | 5e-05       |\n",
            "|    loss                 | 17.2        |\n",
            "|    n_updates            | 1540        |\n",
            "|    policy_gradient_loss | 0.000962    |\n",
            "|    std                  | 0.702       |\n",
            "|    value_loss           | 60.6        |\n",
            "-----------------------------------------\n"
          ]
        },
        {
          "data": {
            "text/html": [
              "<pre style=\"white-space:pre;overflow-x:auto;line-height:normal;font-family:Menlo,'DejaVu Sans Mono',consolas,'Courier New',monospace\">New best mean reward!\n",
              "</pre>\n"
            ],
            "text/plain": [
              "New best mean reward!\n"
            ]
          },
          "metadata": {},
          "output_type": "display_data"
        },
        {
          "name": "stdout",
          "output_type": "stream",
          "text": [
            "---------------------------------\n",
            "| rollout/           |          |\n",
            "|    ep_len_mean     | 360      |\n",
            "|    ep_rew_mean     | 247      |\n",
            "| time/              |          |\n",
            "|    fps             | 704      |\n",
            "|    iterations      | 78       |\n",
            "|    time_elapsed    | 553      |\n",
            "|    total_timesteps | 390000   |\n",
            "---------------------------------\n",
            "------------------------------------------\n",
            "| rollout/                |              |\n",
            "|    ep_len_mean          | 366          |\n",
            "|    ep_rew_mean          | 254          |\n",
            "| time/                   |              |\n",
            "|    fps                  | 707          |\n",
            "|    iterations           | 79           |\n",
            "|    time_elapsed         | 558          |\n",
            "|    total_timesteps      | 395000       |\n",
            "| train/                  |              |\n",
            "|    approx_kl            | 0.0011041415 |\n",
            "|    clip_fraction        | 0.0959       |\n",
            "|    clip_range           | 0.1          |\n",
            "|    entropy_loss         | -2.12        |\n",
            "|    explained_variance   | 0.405        |\n",
            "|    learning_rate        | 5e-05        |\n",
            "|    loss                 | 27.6         |\n",
            "|    n_updates            | 1560         |\n",
            "|    policy_gradient_loss | -0.00171     |\n",
            "|    std                  | 0.698        |\n",
            "|    value_loss           | 62.1         |\n",
            "------------------------------------------\n"
          ]
        },
        {
          "data": {
            "text/html": [
              "<pre style=\"white-space:pre;overflow-x:auto;line-height:normal;font-family:Menlo,'DejaVu Sans Mono',consolas,'Courier New',monospace\">Saving model checkpoint to \n",
              "runs\\ppo_metadrive\\ppo_metadrive_2025-03-16_17-43-31_a51009e7\\models\\rl_model_400000_steps.zip\n",
              "</pre>\n"
            ],
            "text/plain": [
              "Saving model checkpoint to \n",
              "runs\\ppo_metadrive\\ppo_metadrive_2025-03-16_17-43-31_a51009e7\\models\\rl_model_400000_steps.zip\n"
            ]
          },
          "metadata": {},
          "output_type": "display_data"
        },
        {
          "data": {
            "text/html": [
              "<pre style=\"white-space:pre;overflow-x:auto;line-height:normal;font-family:Menlo,'DejaVu Sans Mono',consolas,'Courier New',monospace\">Eval num_timesteps=400000, episode_reward=211.12 +/- 133.33\n",
              "</pre>\n"
            ],
            "text/plain": [
              "Eval num_timesteps=400000, episode_reward=211.12 +/- 133.33\n"
            ]
          },
          "metadata": {},
          "output_type": "display_data"
        },
        {
          "data": {
            "text/html": [
              "<pre style=\"white-space:pre;overflow-x:auto;line-height:normal;font-family:Menlo,'DejaVu Sans Mono',consolas,'Courier New',monospace\">Episode length: 186.00 +/- 92.71\n",
              "</pre>\n"
            ],
            "text/plain": [
              "Episode length: 186.00 +/- 92.71\n"
            ]
          },
          "metadata": {},
          "output_type": "display_data"
        },
        {
          "data": {
            "text/html": [
              "<pre style=\"white-space:pre;overflow-x:auto;line-height:normal;font-family:Menlo,'DejaVu Sans Mono',consolas,'Courier New',monospace\">Success rate: 40.00%\n",
              "</pre>\n"
            ],
            "text/plain": [
              "Success rate: 40.00%\n"
            ]
          },
          "metadata": {},
          "output_type": "display_data"
        },
        {
          "name": "stdout",
          "output_type": "stream",
          "text": [
            "-----------------------------------------\n",
            "| eval/                   |             |\n",
            "|    arrive_dest          | 0.045       |\n",
            "|    crash                | 0.235       |\n",
            "|    max_step             | 0           |\n",
            "|    mean_ep_length       | 186         |\n",
            "|    mean_reward          | 211         |\n",
            "|    num_episodes         | 5           |\n",
            "|    out_of_road          | 0.955       |\n",
            "|    raw_action           | 0.44515857  |\n",
            "|    route_completion     | 0.353       |\n",
            "|    success_rate         | 0.4         |\n",
            "|    total_cost           | 7.72        |\n",
            "| time/                   |             |\n",
            "|    total_timesteps      | 400000      |\n",
            "| train/                  |             |\n",
            "|    approx_kl            | 0.002093027 |\n",
            "|    clip_fraction        | 0.133       |\n",
            "|    clip_range           | 0.1         |\n",
            "|    entropy_loss         | -2.11       |\n",
            "|    explained_variance   | 0.326       |\n",
            "|    learning_rate        | 5e-05       |\n",
            "|    loss                 | 33.5        |\n",
            "|    n_updates            | 1580        |\n",
            "|    policy_gradient_loss | -0.00117    |\n",
            "|    std                  | 0.696       |\n",
            "|    value_loss           | 55.9        |\n",
            "-----------------------------------------\n",
            "---------------------------------\n",
            "| rollout/           |          |\n",
            "|    ep_len_mean     | 362      |\n",
            "|    ep_rew_mean     | 252      |\n",
            "| time/              |          |\n",
            "|    fps             | 706      |\n",
            "|    iterations      | 80       |\n",
            "|    time_elapsed    | 566      |\n",
            "|    total_timesteps | 400000   |\n",
            "---------------------------------\n",
            "------------------------------------------\n",
            "| rollout/                |              |\n",
            "|    ep_len_mean          | 366          |\n",
            "|    ep_rew_mean          | 257          |\n",
            "| time/                   |              |\n",
            "|    fps                  | 708          |\n",
            "|    iterations           | 81           |\n",
            "|    time_elapsed         | 571          |\n",
            "|    total_timesteps      | 405000       |\n",
            "| train/                  |              |\n",
            "|    approx_kl            | 0.0057929913 |\n",
            "|    clip_fraction        | 0.111        |\n",
            "|    clip_range           | 0.1          |\n",
            "|    entropy_loss         | -2.11        |\n",
            "|    explained_variance   | 0.391        |\n",
            "|    learning_rate        | 5e-05        |\n",
            "|    loss                 | 34.4         |\n",
            "|    n_updates            | 1600         |\n",
            "|    policy_gradient_loss | -0.000394    |\n",
            "|    std                  | 0.694        |\n",
            "|    value_loss           | 63.7         |\n",
            "------------------------------------------\n"
          ]
        },
        {
          "data": {
            "text/html": [
              "<pre style=\"white-space:pre;overflow-x:auto;line-height:normal;font-family:Menlo,'DejaVu Sans Mono',consolas,'Courier New',monospace\">Eval num_timesteps=410000, episode_reward=134.72 +/- 55.99\n",
              "</pre>\n"
            ],
            "text/plain": [
              "Eval num_timesteps=410000, episode_reward=134.72 +/- 55.99\n"
            ]
          },
          "metadata": {},
          "output_type": "display_data"
        },
        {
          "data": {
            "text/html": [
              "<pre style=\"white-space:pre;overflow-x:auto;line-height:normal;font-family:Menlo,'DejaVu Sans Mono',consolas,'Courier New',monospace\">Episode length: 154.60 +/- 108.85\n",
              "</pre>\n"
            ],
            "text/plain": [
              "Episode length: 154.60 +/- 108.85\n"
            ]
          },
          "metadata": {},
          "output_type": "display_data"
        },
        {
          "data": {
            "text/html": [
              "<pre style=\"white-space:pre;overflow-x:auto;line-height:normal;font-family:Menlo,'DejaVu Sans Mono',consolas,'Courier New',monospace\">Success rate: 20.00%\n",
              "</pre>\n"
            ],
            "text/plain": [
              "Success rate: 20.00%\n"
            ]
          },
          "metadata": {},
          "output_type": "display_data"
        },
        {
          "name": "stdout",
          "output_type": "stream",
          "text": [
            "------------------------------------------\n",
            "| eval/                   |              |\n",
            "|    arrive_dest          | 0.0488       |\n",
            "|    crash                | 0.234        |\n",
            "|    max_step             | 0            |\n",
            "|    mean_ep_length       | 155          |\n",
            "|    mean_reward          | 135          |\n",
            "|    num_episodes         | 5            |\n",
            "|    out_of_road          | 0.951        |\n",
            "|    raw_action           | 0.4456217    |\n",
            "|    route_completion     | 0.356        |\n",
            "|    success_rate         | 0.2          |\n",
            "|    total_cost           | 8.12         |\n",
            "| time/                   |              |\n",
            "|    total_timesteps      | 410000       |\n",
            "| train/                  |              |\n",
            "|    approx_kl            | 0.0026373935 |\n",
            "|    clip_fraction        | 0.172        |\n",
            "|    clip_range           | 0.1          |\n",
            "|    entropy_loss         | -2.1         |\n",
            "|    explained_variance   | 0.393        |\n",
            "|    learning_rate        | 5e-05        |\n",
            "|    loss                 | 19.7         |\n",
            "|    n_updates            | 1620         |\n",
            "|    policy_gradient_loss | 0.00316      |\n",
            "|    std                  | 0.69         |\n",
            "|    value_loss           | 63.5         |\n",
            "------------------------------------------\n",
            "---------------------------------\n",
            "| rollout/           |          |\n",
            "|    ep_len_mean     | 371      |\n",
            "|    ep_rew_mean     | 262      |\n",
            "| time/              |          |\n",
            "|    fps             | 707      |\n",
            "|    iterations      | 82       |\n",
            "|    time_elapsed    | 579      |\n",
            "|    total_timesteps | 410000   |\n",
            "---------------------------------\n",
            "------------------------------------------\n",
            "| rollout/                |              |\n",
            "|    ep_len_mean          | 378          |\n",
            "|    ep_rew_mean          | 261          |\n",
            "| time/                   |              |\n",
            "|    fps                  | 710          |\n",
            "|    iterations           | 83           |\n",
            "|    time_elapsed         | 584          |\n",
            "|    total_timesteps      | 415000       |\n",
            "| train/                  |              |\n",
            "|    approx_kl            | 0.0046448363 |\n",
            "|    clip_fraction        | 0.13         |\n",
            "|    clip_range           | 0.1          |\n",
            "|    entropy_loss         | -2.09        |\n",
            "|    explained_variance   | 0.481        |\n",
            "|    learning_rate        | 5e-05        |\n",
            "|    loss                 | 24.9         |\n",
            "|    n_updates            | 1640         |\n",
            "|    policy_gradient_loss | -0.00105     |\n",
            "|    std                  | 0.688        |\n",
            "|    value_loss           | 50.1         |\n",
            "------------------------------------------\n"
          ]
        },
        {
          "data": {
            "text/html": [
              "<pre style=\"white-space:pre;overflow-x:auto;line-height:normal;font-family:Menlo,'DejaVu Sans Mono',consolas,'Courier New',monospace\">Eval num_timesteps=420000, episode_reward=142.58 +/- 82.28\n",
              "</pre>\n"
            ],
            "text/plain": [
              "Eval num_timesteps=420000, episode_reward=142.58 +/- 82.28\n"
            ]
          },
          "metadata": {},
          "output_type": "display_data"
        },
        {
          "data": {
            "text/html": [
              "<pre style=\"white-space:pre;overflow-x:auto;line-height:normal;font-family:Menlo,'DejaVu Sans Mono',consolas,'Courier New',monospace\">Episode length: 114.40 +/- 39.60\n",
              "</pre>\n"
            ],
            "text/plain": [
              "Episode length: 114.40 +/- 39.60\n"
            ]
          },
          "metadata": {},
          "output_type": "display_data"
        },
        {
          "data": {
            "text/html": [
              "<pre style=\"white-space:pre;overflow-x:auto;line-height:normal;font-family:Menlo,'DejaVu Sans Mono',consolas,'Courier New',monospace\">Success rate: 0.00%\n",
              "</pre>\n"
            ],
            "text/plain": [
              "Success rate: 0.00%\n"
            ]
          },
          "metadata": {},
          "output_type": "display_data"
        },
        {
          "name": "stdout",
          "output_type": "stream",
          "text": [
            "------------------------------------------\n",
            "| eval/                   |              |\n",
            "|    arrive_dest          | 0.0476       |\n",
            "|    crash                | 0.238        |\n",
            "|    max_step             | 0            |\n",
            "|    mean_ep_length       | 114          |\n",
            "|    mean_reward          | 143          |\n",
            "|    num_episodes         | 5            |\n",
            "|    out_of_road          | 0.952        |\n",
            "|    raw_action           | 0.4469892    |\n",
            "|    route_completion     | 0.356        |\n",
            "|    success_rate         | 0            |\n",
            "|    total_cost           | 7.95         |\n",
            "| time/                   |              |\n",
            "|    total_timesteps      | 420000       |\n",
            "| train/                  |              |\n",
            "|    approx_kl            | 0.0014550366 |\n",
            "|    clip_fraction        | 0.0789       |\n",
            "|    clip_range           | 0.1          |\n",
            "|    entropy_loss         | -2.08        |\n",
            "|    explained_variance   | 0.631        |\n",
            "|    learning_rate        | 5e-05        |\n",
            "|    loss                 | 23           |\n",
            "|    n_updates            | 1660         |\n",
            "|    policy_gradient_loss | -0.00208     |\n",
            "|    std                  | 0.687        |\n",
            "|    value_loss           | 67.2         |\n",
            "------------------------------------------\n",
            "---------------------------------\n",
            "| rollout/           |          |\n",
            "|    ep_len_mean     | 380      |\n",
            "|    ep_rew_mean     | 264      |\n",
            "| time/              |          |\n",
            "|    fps             | 709      |\n",
            "|    iterations      | 84       |\n",
            "|    time_elapsed    | 591      |\n",
            "|    total_timesteps | 420000   |\n",
            "---------------------------------\n",
            "-----------------------------------------\n",
            "| rollout/                |             |\n",
            "|    ep_len_mean          | 380         |\n",
            "|    ep_rew_mean          | 267         |\n",
            "| time/                   |             |\n",
            "|    fps                  | 712         |\n",
            "|    iterations           | 85          |\n",
            "|    time_elapsed         | 596         |\n",
            "|    total_timesteps      | 425000      |\n",
            "| train/                  |             |\n",
            "|    approx_kl            | 0.001329047 |\n",
            "|    clip_fraction        | 0.164       |\n",
            "|    clip_range           | 0.1         |\n",
            "|    entropy_loss         | -2.09       |\n",
            "|    explained_variance   | 0.364       |\n",
            "|    learning_rate        | 5e-05       |\n",
            "|    loss                 | 24.6        |\n",
            "|    n_updates            | 1680        |\n",
            "|    policy_gradient_loss | -0.00112    |\n",
            "|    std                  | 0.688       |\n",
            "|    value_loss           | 80.9        |\n",
            "-----------------------------------------\n"
          ]
        },
        {
          "data": {
            "text/html": [
              "<pre style=\"white-space:pre;overflow-x:auto;line-height:normal;font-family:Menlo,'DejaVu Sans Mono',consolas,'Courier New',monospace\">Eval num_timesteps=430000, episode_reward=143.55 +/- 60.30\n",
              "</pre>\n"
            ],
            "text/plain": [
              "Eval num_timesteps=430000, episode_reward=143.55 +/- 60.30\n"
            ]
          },
          "metadata": {},
          "output_type": "display_data"
        },
        {
          "data": {
            "text/html": [
              "<pre style=\"white-space:pre;overflow-x:auto;line-height:normal;font-family:Menlo,'DejaVu Sans Mono',consolas,'Courier New',monospace\">Episode length: 119.00 +/- 36.16\n",
              "</pre>\n"
            ],
            "text/plain": [
              "Episode length: 119.00 +/- 36.16\n"
            ]
          },
          "metadata": {},
          "output_type": "display_data"
        },
        {
          "data": {
            "text/html": [
              "<pre style=\"white-space:pre;overflow-x:auto;line-height:normal;font-family:Menlo,'DejaVu Sans Mono',consolas,'Courier New',monospace\">Success rate: 0.00%\n",
              "</pre>\n"
            ],
            "text/plain": [
              "Success rate: 0.00%\n"
            ]
          },
          "metadata": {},
          "output_type": "display_data"
        },
        {
          "name": "stdout",
          "output_type": "stream",
          "text": [
            "-----------------------------------------\n",
            "| eval/                   |             |\n",
            "|    arrive_dest          | 0.0465      |\n",
            "|    crash                | 0.237       |\n",
            "|    max_step             | 0           |\n",
            "|    mean_ep_length       | 119         |\n",
            "|    mean_reward          | 144         |\n",
            "|    num_episodes         | 5           |\n",
            "|    out_of_road          | 0.953       |\n",
            "|    raw_action           | 0.44605944  |\n",
            "|    route_completion     | 0.357       |\n",
            "|    success_rate         | 0           |\n",
            "|    total_cost           | 7.8         |\n",
            "| time/                   |             |\n",
            "|    total_timesteps      | 430000      |\n",
            "| train/                  |             |\n",
            "|    approx_kl            | 0.016840424 |\n",
            "|    clip_fraction        | 0.167       |\n",
            "|    clip_range           | 0.1         |\n",
            "|    entropy_loss         | -2.09       |\n",
            "|    explained_variance   | 0.401       |\n",
            "|    learning_rate        | 5e-05       |\n",
            "|    loss                 | 20.8        |\n",
            "|    n_updates            | 1700        |\n",
            "|    policy_gradient_loss | 0.000692    |\n",
            "|    std                  | 0.688       |\n",
            "|    value_loss           | 51.4        |\n",
            "-----------------------------------------\n",
            "---------------------------------\n",
            "| rollout/           |          |\n",
            "|    ep_len_mean     | 397      |\n",
            "|    ep_rew_mean     | 280      |\n",
            "| time/              |          |\n",
            "|    fps             | 712      |\n",
            "|    iterations      | 86       |\n",
            "|    time_elapsed    | 603      |\n",
            "|    total_timesteps | 430000   |\n",
            "---------------------------------\n",
            "------------------------------------------\n",
            "| rollout/                |              |\n",
            "|    ep_len_mean          | 380          |\n",
            "|    ep_rew_mean          | 268          |\n",
            "| time/                   |              |\n",
            "|    fps                  | 714          |\n",
            "|    iterations           | 87           |\n",
            "|    time_elapsed         | 608          |\n",
            "|    total_timesteps      | 435000       |\n",
            "| train/                  |              |\n",
            "|    approx_kl            | 0.0055317776 |\n",
            "|    clip_fraction        | 0.115        |\n",
            "|    clip_range           | 0.1          |\n",
            "|    entropy_loss         | -2.08        |\n",
            "|    explained_variance   | 0.475        |\n",
            "|    learning_rate        | 5e-05        |\n",
            "|    loss                 | 20.9         |\n",
            "|    n_updates            | 1720         |\n",
            "|    policy_gradient_loss | -5.29e-05    |\n",
            "|    std                  | 0.686        |\n",
            "|    value_loss           | 53.8         |\n",
            "------------------------------------------\n"
          ]
        },
        {
          "data": {
            "text/html": [
              "<pre style=\"white-space:pre;overflow-x:auto;line-height:normal;font-family:Menlo,'DejaVu Sans Mono',consolas,'Courier New',monospace\">Eval num_timesteps=440000, episode_reward=137.54 +/- 101.59\n",
              "</pre>\n"
            ],
            "text/plain": [
              "Eval num_timesteps=440000, episode_reward=137.54 +/- 101.59\n"
            ]
          },
          "metadata": {},
          "output_type": "display_data"
        },
        {
          "data": {
            "text/html": [
              "<pre style=\"white-space:pre;overflow-x:auto;line-height:normal;font-family:Menlo,'DejaVu Sans Mono',consolas,'Courier New',monospace\">Episode length: 126.60 +/- 72.08\n",
              "</pre>\n"
            ],
            "text/plain": [
              "Episode length: 126.60 +/- 72.08\n"
            ]
          },
          "metadata": {},
          "output_type": "display_data"
        },
        {
          "data": {
            "text/html": [
              "<pre style=\"white-space:pre;overflow-x:auto;line-height:normal;font-family:Menlo,'DejaVu Sans Mono',consolas,'Courier New',monospace\">Success rate: 0.00%\n",
              "</pre>\n"
            ],
            "text/plain": [
              "Success rate: 0.00%\n"
            ]
          },
          "metadata": {},
          "output_type": "display_data"
        },
        {
          "name": "stdout",
          "output_type": "stream",
          "text": [
            "------------------------------------------\n",
            "| eval/                   |              |\n",
            "|    arrive_dest          | 0.0455       |\n",
            "|    crash                | 0.241        |\n",
            "|    max_step             | 0            |\n",
            "|    mean_ep_length       | 127          |\n",
            "|    mean_reward          | 138          |\n",
            "|    num_episodes         | 5            |\n",
            "|    out_of_road          | 0.955        |\n",
            "|    raw_action           | 0.4476871    |\n",
            "|    route_completion     | 0.36         |\n",
            "|    success_rate         | 0            |\n",
            "|    total_cost           | 7.82         |\n",
            "| time/                   |              |\n",
            "|    total_timesteps      | 440000       |\n",
            "| train/                  |              |\n",
            "|    approx_kl            | 0.0012328071 |\n",
            "|    clip_fraction        | 0.0863       |\n",
            "|    clip_range           | 0.1          |\n",
            "|    entropy_loss         | -2.08        |\n",
            "|    explained_variance   | 0.614        |\n",
            "|    learning_rate        | 5e-05        |\n",
            "|    loss                 | 23.1         |\n",
            "|    n_updates            | 1740         |\n",
            "|    policy_gradient_loss | -0.00162     |\n",
            "|    std                  | 0.685        |\n",
            "|    value_loss           | 71.4         |\n",
            "------------------------------------------\n",
            "---------------------------------\n",
            "| rollout/           |          |\n",
            "|    ep_len_mean     | 379      |\n",
            "|    ep_rew_mean     | 266      |\n",
            "| time/              |          |\n",
            "|    fps             | 715      |\n",
            "|    iterations      | 88       |\n",
            "|    time_elapsed    | 615      |\n",
            "|    total_timesteps | 440000   |\n",
            "---------------------------------\n",
            "------------------------------------------\n",
            "| rollout/                |              |\n",
            "|    ep_len_mean          | 374          |\n",
            "|    ep_rew_mean          | 262          |\n",
            "| time/                   |              |\n",
            "|    fps                  | 717          |\n",
            "|    iterations           | 89           |\n",
            "|    time_elapsed         | 620          |\n",
            "|    total_timesteps      | 445000       |\n",
            "| train/                  |              |\n",
            "|    approx_kl            | 0.0017520677 |\n",
            "|    clip_fraction        | 0.182        |\n",
            "|    clip_range           | 0.1          |\n",
            "|    entropy_loss         | -2.07        |\n",
            "|    explained_variance   | 0.58         |\n",
            "|    learning_rate        | 5e-05        |\n",
            "|    loss                 | 35.5         |\n",
            "|    n_updates            | 1760         |\n",
            "|    policy_gradient_loss | 0.00222      |\n",
            "|    std                  | 0.684        |\n",
            "|    value_loss           | 78.7         |\n",
            "------------------------------------------\n"
          ]
        },
        {
          "data": {
            "text/html": [
              "<pre style=\"white-space:pre;overflow-x:auto;line-height:normal;font-family:Menlo,'DejaVu Sans Mono',consolas,'Courier New',monospace\">Eval num_timesteps=450000, episode_reward=75.50 +/- 30.38\n",
              "</pre>\n"
            ],
            "text/plain": [
              "Eval num_timesteps=450000, episode_reward=75.50 +/- 30.38\n"
            ]
          },
          "metadata": {},
          "output_type": "display_data"
        },
        {
          "data": {
            "text/html": [
              "<pre style=\"white-space:pre;overflow-x:auto;line-height:normal;font-family:Menlo,'DejaVu Sans Mono',consolas,'Courier New',monospace\">Episode length: 77.00 +/- 15.80\n",
              "</pre>\n"
            ],
            "text/plain": [
              "Episode length: 77.00 +/- 15.80\n"
            ]
          },
          "metadata": {},
          "output_type": "display_data"
        },
        {
          "data": {
            "text/html": [
              "<pre style=\"white-space:pre;overflow-x:auto;line-height:normal;font-family:Menlo,'DejaVu Sans Mono',consolas,'Courier New',monospace\">Success rate: 0.00%\n",
              "</pre>\n"
            ],
            "text/plain": [
              "Success rate: 0.00%\n"
            ]
          },
          "metadata": {},
          "output_type": "display_data"
        },
        {
          "name": "stdout",
          "output_type": "stream",
          "text": [
            "-----------------------------------------\n",
            "| eval/                   |             |\n",
            "|    arrive_dest          | 0.0444      |\n",
            "|    crash                | 0.236       |\n",
            "|    max_step             | 0           |\n",
            "|    mean_ep_length       | 77          |\n",
            "|    mean_reward          | 75.5        |\n",
            "|    num_episodes         | 5           |\n",
            "|    out_of_road          | 0.956       |\n",
            "|    raw_action           | 0.44824728  |\n",
            "|    route_completion     | 0.357       |\n",
            "|    success_rate         | 0           |\n",
            "|    total_cost           | 7.67        |\n",
            "| time/                   |             |\n",
            "|    total_timesteps      | 450000      |\n",
            "| train/                  |             |\n",
            "|    approx_kl            | 0.014898786 |\n",
            "|    clip_fraction        | 0.116       |\n",
            "|    clip_range           | 0.1         |\n",
            "|    entropy_loss         | -2.07       |\n",
            "|    explained_variance   | 0.515       |\n",
            "|    learning_rate        | 5e-05       |\n",
            "|    loss                 | 25          |\n",
            "|    n_updates            | 1780        |\n",
            "|    policy_gradient_loss | -0.00114    |\n",
            "|    std                  | 0.683       |\n",
            "|    value_loss           | 66.6        |\n",
            "-----------------------------------------\n",
            "---------------------------------\n",
            "| rollout/           |          |\n",
            "|    ep_len_mean     | 381      |\n",
            "|    ep_rew_mean     | 265      |\n",
            "| time/              |          |\n",
            "|    fps             | 717      |\n",
            "|    iterations      | 90       |\n",
            "|    time_elapsed    | 626      |\n",
            "|    total_timesteps | 450000   |\n",
            "---------------------------------\n",
            "-----------------------------------------\n",
            "| rollout/                |             |\n",
            "|    ep_len_mean          | 371         |\n",
            "|    ep_rew_mean          | 267         |\n",
            "| time/                   |             |\n",
            "|    fps                  | 719         |\n",
            "|    iterations           | 91          |\n",
            "|    time_elapsed         | 632         |\n",
            "|    total_timesteps      | 455000      |\n",
            "| train/                  |             |\n",
            "|    approx_kl            | 0.003736989 |\n",
            "|    clip_fraction        | 0.145       |\n",
            "|    clip_range           | 0.1         |\n",
            "|    entropy_loss         | -2.06       |\n",
            "|    explained_variance   | 0.506       |\n",
            "|    learning_rate        | 5e-05       |\n",
            "|    loss                 | 38.7        |\n",
            "|    n_updates            | 1800        |\n",
            "|    policy_gradient_loss | 0.000525    |\n",
            "|    std                  | 0.679       |\n",
            "|    value_loss           | 49.5        |\n",
            "-----------------------------------------\n"
          ]
        },
        {
          "data": {
            "text/html": [
              "<pre style=\"white-space:pre;overflow-x:auto;line-height:normal;font-family:Menlo,'DejaVu Sans Mono',consolas,'Courier New',monospace\">Eval num_timesteps=460000, episode_reward=150.31 +/- 79.16\n",
              "</pre>\n"
            ],
            "text/plain": [
              "Eval num_timesteps=460000, episode_reward=150.31 +/- 79.16\n"
            ]
          },
          "metadata": {},
          "output_type": "display_data"
        },
        {
          "data": {
            "text/html": [
              "<pre style=\"white-space:pre;overflow-x:auto;line-height:normal;font-family:Menlo,'DejaVu Sans Mono',consolas,'Courier New',monospace\">Episode length: 133.40 +/- 62.49\n",
              "</pre>\n"
            ],
            "text/plain": [
              "Episode length: 133.40 +/- 62.49\n"
            ]
          },
          "metadata": {},
          "output_type": "display_data"
        },
        {
          "data": {
            "text/html": [
              "<pre style=\"white-space:pre;overflow-x:auto;line-height:normal;font-family:Menlo,'DejaVu Sans Mono',consolas,'Courier New',monospace\">Success rate: 0.00%\n",
              "</pre>\n"
            ],
            "text/plain": [
              "Success rate: 0.00%\n"
            ]
          },
          "metadata": {},
          "output_type": "display_data"
        },
        {
          "name": "stdout",
          "output_type": "stream",
          "text": [
            "------------------------------------------\n",
            "| eval/                   |              |\n",
            "|    arrive_dest          | 0.0435       |\n",
            "|    crash                | 0.23         |\n",
            "|    max_step             | 0            |\n",
            "|    mean_ep_length       | 133          |\n",
            "|    mean_reward          | 150          |\n",
            "|    num_episodes         | 5            |\n",
            "|    out_of_road          | 0.957        |\n",
            "|    raw_action           | 0.44893825   |\n",
            "|    route_completion     | 0.36         |\n",
            "|    success_rate         | 0            |\n",
            "|    total_cost           | 7.7          |\n",
            "| time/                   |              |\n",
            "|    total_timesteps      | 460000       |\n",
            "| train/                  |              |\n",
            "|    approx_kl            | 0.0027336474 |\n",
            "|    clip_fraction        | 0.103        |\n",
            "|    clip_range           | 0.1          |\n",
            "|    entropy_loss         | -2.05        |\n",
            "|    explained_variance   | 0.38         |\n",
            "|    learning_rate        | 5e-05        |\n",
            "|    loss                 | 50.6         |\n",
            "|    n_updates            | 1820         |\n",
            "|    policy_gradient_loss | -0.000817    |\n",
            "|    std                  | 0.676        |\n",
            "|    value_loss           | 89.8         |\n",
            "------------------------------------------\n",
            "---------------------------------\n",
            "| rollout/           |          |\n",
            "|    ep_len_mean     | 371      |\n",
            "|    ep_rew_mean     | 268      |\n",
            "| time/              |          |\n",
            "|    fps             | 719      |\n",
            "|    iterations      | 92       |\n",
            "|    time_elapsed    | 639      |\n",
            "|    total_timesteps | 460000   |\n",
            "---------------------------------\n",
            "------------------------------------------\n",
            "| rollout/                |              |\n",
            "|    ep_len_mean          | 368          |\n",
            "|    ep_rew_mean          | 261          |\n",
            "| time/                   |              |\n",
            "|    fps                  | 721          |\n",
            "|    iterations           | 93           |\n",
            "|    time_elapsed         | 644          |\n",
            "|    total_timesteps      | 465000       |\n",
            "| train/                  |              |\n",
            "|    approx_kl            | 0.0021405178 |\n",
            "|    clip_fraction        | 0.082        |\n",
            "|    clip_range           | 0.1          |\n",
            "|    entropy_loss         | -2.05        |\n",
            "|    explained_variance   | 0.683        |\n",
            "|    learning_rate        | 5e-05        |\n",
            "|    loss                 | 23.2         |\n",
            "|    n_updates            | 1840         |\n",
            "|    policy_gradient_loss | -0.00184     |\n",
            "|    std                  | 0.676        |\n",
            "|    value_loss           | 58.2         |\n",
            "------------------------------------------\n"
          ]
        },
        {
          "data": {
            "text/html": [
              "<pre style=\"white-space:pre;overflow-x:auto;line-height:normal;font-family:Menlo,'DejaVu Sans Mono',consolas,'Courier New',monospace\">Eval num_timesteps=470000, episode_reward=99.68 +/- 31.94\n",
              "</pre>\n"
            ],
            "text/plain": [
              "Eval num_timesteps=470000, episode_reward=99.68 +/- 31.94\n"
            ]
          },
          "metadata": {},
          "output_type": "display_data"
        },
        {
          "data": {
            "text/html": [
              "<pre style=\"white-space:pre;overflow-x:auto;line-height:normal;font-family:Menlo,'DejaVu Sans Mono',consolas,'Courier New',monospace\">Episode length: 92.80 +/- 17.46\n",
              "</pre>\n"
            ],
            "text/plain": [
              "Episode length: 92.80 +/- 17.46\n"
            ]
          },
          "metadata": {},
          "output_type": "display_data"
        },
        {
          "data": {
            "text/html": [
              "<pre style=\"white-space:pre;overflow-x:auto;line-height:normal;font-family:Menlo,'DejaVu Sans Mono',consolas,'Courier New',monospace\">Success rate: 0.00%\n",
              "</pre>\n"
            ],
            "text/plain": [
              "Success rate: 0.00%\n"
            ]
          },
          "metadata": {},
          "output_type": "display_data"
        },
        {
          "name": "stdout",
          "output_type": "stream",
          "text": [
            "-----------------------------------------\n",
            "| eval/                   |             |\n",
            "|    arrive_dest          | 0.0426      |\n",
            "|    crash                | 0.23        |\n",
            "|    max_step             | 0           |\n",
            "|    mean_ep_length       | 92.8        |\n",
            "|    mean_reward          | 99.7        |\n",
            "|    num_episodes         | 5           |\n",
            "|    out_of_road          | 0.957       |\n",
            "|    raw_action           | 0.45052528  |\n",
            "|    route_completion     | 0.36        |\n",
            "|    success_rate         | 0           |\n",
            "|    total_cost           | 7.58        |\n",
            "| time/                   |             |\n",
            "|    total_timesteps      | 470000      |\n",
            "| train/                  |             |\n",
            "|    approx_kl            | 0.003292445 |\n",
            "|    clip_fraction        | 0.15        |\n",
            "|    clip_range           | 0.1         |\n",
            "|    entropy_loss         | -2.05       |\n",
            "|    explained_variance   | 0.747       |\n",
            "|    learning_rate        | 5e-05       |\n",
            "|    loss                 | 21.1        |\n",
            "|    n_updates            | 1860        |\n",
            "|    policy_gradient_loss | 0.00129     |\n",
            "|    std                  | 0.676       |\n",
            "|    value_loss           | 68.3        |\n",
            "-----------------------------------------\n",
            "---------------------------------\n",
            "| rollout/           |          |\n",
            "|    ep_len_mean     | 354      |\n",
            "|    ep_rew_mean     | 254      |\n",
            "| time/              |          |\n",
            "|    fps             | 721      |\n",
            "|    iterations      | 94       |\n",
            "|    time_elapsed    | 651      |\n",
            "|    total_timesteps | 470000   |\n",
            "---------------------------------\n",
            "------------------------------------------\n",
            "| rollout/                |              |\n",
            "|    ep_len_mean          | 347          |\n",
            "|    ep_rew_mean          | 252          |\n",
            "| time/                   |              |\n",
            "|    fps                  | 723          |\n",
            "|    iterations           | 95           |\n",
            "|    time_elapsed         | 656          |\n",
            "|    total_timesteps      | 475000       |\n",
            "| train/                  |              |\n",
            "|    approx_kl            | 0.0016652724 |\n",
            "|    clip_fraction        | 0.128        |\n",
            "|    clip_range           | 0.1          |\n",
            "|    entropy_loss         | -2.04        |\n",
            "|    explained_variance   | 0.519        |\n",
            "|    learning_rate        | 5e-05        |\n",
            "|    loss                 | 45.5         |\n",
            "|    n_updates            | 1880         |\n",
            "|    policy_gradient_loss | 0.0006       |\n",
            "|    std                  | 0.674        |\n",
            "|    value_loss           | 89.7         |\n",
            "------------------------------------------\n"
          ]
        },
        {
          "data": {
            "text/html": [
              "<pre style=\"white-space:pre;overflow-x:auto;line-height:normal;font-family:Menlo,'DejaVu Sans Mono',consolas,'Courier New',monospace\">Eval num_timesteps=480000, episode_reward=148.79 +/- 89.19\n",
              "</pre>\n"
            ],
            "text/plain": [
              "Eval num_timesteps=480000, episode_reward=148.79 +/- 89.19\n"
            ]
          },
          "metadata": {},
          "output_type": "display_data"
        },
        {
          "data": {
            "text/html": [
              "<pre style=\"white-space:pre;overflow-x:auto;line-height:normal;font-family:Menlo,'DejaVu Sans Mono',consolas,'Courier New',monospace\">Episode length: 143.60 +/- 77.22\n",
              "</pre>\n"
            ],
            "text/plain": [
              "Episode length: 143.60 +/- 77.22\n"
            ]
          },
          "metadata": {},
          "output_type": "display_data"
        },
        {
          "data": {
            "text/html": [
              "<pre style=\"white-space:pre;overflow-x:auto;line-height:normal;font-family:Menlo,'DejaVu Sans Mono',consolas,'Courier New',monospace\">Success rate: 40.00%\n",
              "</pre>\n"
            ],
            "text/plain": [
              "Success rate: 40.00%\n"
            ]
          },
          "metadata": {},
          "output_type": "display_data"
        },
        {
          "name": "stdout",
          "output_type": "stream",
          "text": [
            "----------------------------------------\n",
            "| eval/                   |            |\n",
            "|    arrive_dest          | 0.05       |\n",
            "|    crash                | 0.229      |\n",
            "|    max_step             | 0          |\n",
            "|    mean_ep_length       | 144        |\n",
            "|    mean_reward          | 149        |\n",
            "|    num_episodes         | 5          |\n",
            "|    out_of_road          | 0.95       |\n",
            "|    raw_action           | 0.45271283 |\n",
            "|    route_completion     | 0.364      |\n",
            "|    success_rate         | 0.4        |\n",
            "|    total_cost           | 7.6        |\n",
            "| time/                   |            |\n",
            "|    total_timesteps      | 480000     |\n",
            "| train/                  |            |\n",
            "|    approx_kl            | 0.01507427 |\n",
            "|    clip_fraction        | 0.13       |\n",
            "|    clip_range           | 0.1        |\n",
            "|    entropy_loss         | -2.04      |\n",
            "|    explained_variance   | 0.537      |\n",
            "|    learning_rate        | 5e-05      |\n",
            "|    loss                 | 27.5       |\n",
            "|    n_updates            | 1900       |\n",
            "|    policy_gradient_loss | 1.22e-05   |\n",
            "|    std                  | 0.672      |\n",
            "|    value_loss           | 78.3       |\n",
            "----------------------------------------\n",
            "---------------------------------\n",
            "| rollout/           |          |\n",
            "|    ep_len_mean     | 335      |\n",
            "|    ep_rew_mean     | 248      |\n",
            "| time/              |          |\n",
            "|    fps             | 724      |\n",
            "|    iterations      | 96       |\n",
            "|    time_elapsed    | 662      |\n",
            "|    total_timesteps | 480000   |\n",
            "---------------------------------\n",
            "------------------------------------------\n",
            "| rollout/                |              |\n",
            "|    ep_len_mean          | 334          |\n",
            "|    ep_rew_mean          | 249          |\n",
            "| time/                   |              |\n",
            "|    fps                  | 726          |\n",
            "|    iterations           | 97           |\n",
            "|    time_elapsed         | 667          |\n",
            "|    total_timesteps      | 485000       |\n",
            "| train/                  |              |\n",
            "|    approx_kl            | 0.0064509185 |\n",
            "|    clip_fraction        | 0.133        |\n",
            "|    clip_range           | 0.1          |\n",
            "|    entropy_loss         | -2.03        |\n",
            "|    explained_variance   | 0.524        |\n",
            "|    learning_rate        | 5e-05        |\n",
            "|    loss                 | 29.4         |\n",
            "|    n_updates            | 1920         |\n",
            "|    policy_gradient_loss | 0.000317     |\n",
            "|    std                  | 0.671        |\n",
            "|    value_loss           | 70.6         |\n",
            "------------------------------------------\n"
          ]
        },
        {
          "data": {
            "text/html": [
              "<pre style=\"white-space:pre;overflow-x:auto;line-height:normal;font-family:Menlo,'DejaVu Sans Mono',consolas,'Courier New',monospace\">Eval num_timesteps=490000, episode_reward=128.45 +/- 62.86\n",
              "</pre>\n"
            ],
            "text/plain": [
              "Eval num_timesteps=490000, episode_reward=128.45 +/- 62.86\n"
            ]
          },
          "metadata": {},
          "output_type": "display_data"
        },
        {
          "data": {
            "text/html": [
              "<pre style=\"white-space:pre;overflow-x:auto;line-height:normal;font-family:Menlo,'DejaVu Sans Mono',consolas,'Courier New',monospace\">Episode length: 170.60 +/- 112.93\n",
              "</pre>\n"
            ],
            "text/plain": [
              "Episode length: 170.60 +/- 112.93\n"
            ]
          },
          "metadata": {},
          "output_type": "display_data"
        },
        {
          "data": {
            "text/html": [
              "<pre style=\"white-space:pre;overflow-x:auto;line-height:normal;font-family:Menlo,'DejaVu Sans Mono',consolas,'Courier New',monospace\">Success rate: 20.00%\n",
              "</pre>\n"
            ],
            "text/plain": [
              "Success rate: 20.00%\n"
            ]
          },
          "metadata": {},
          "output_type": "display_data"
        },
        {
          "name": "stdout",
          "output_type": "stream",
          "text": [
            "----------------------------------------\n",
            "| eval/                   |            |\n",
            "|    arrive_dest          | 0.0531     |\n",
            "|    crash                | 0.229      |\n",
            "|    max_step             | 0          |\n",
            "|    mean_ep_length       | 171        |\n",
            "|    mean_reward          | 128        |\n",
            "|    num_episodes         | 5          |\n",
            "|    out_of_road          | 0.947      |\n",
            "|    raw_action           | 0.45416123 |\n",
            "|    route_completion     | 0.366      |\n",
            "|    success_rate         | 0.2        |\n",
            "|    total_cost           | 7.98       |\n",
            "| time/                   |            |\n",
            "|    total_timesteps      | 490000     |\n",
            "| train/                  |            |\n",
            "|    approx_kl            | 0.00463545 |\n",
            "|    clip_fraction        | 0.16       |\n",
            "|    clip_range           | 0.1        |\n",
            "|    entropy_loss         | -2.03      |\n",
            "|    explained_variance   | 0.523      |\n",
            "|    learning_rate        | 5e-05      |\n",
            "|    loss                 | 28.2       |\n",
            "|    n_updates            | 1940       |\n",
            "|    policy_gradient_loss | -0.000478  |\n",
            "|    std                  | 0.669      |\n",
            "|    value_loss           | 63.1       |\n",
            "----------------------------------------\n",
            "---------------------------------\n",
            "| rollout/           |          |\n",
            "|    ep_len_mean     | 338      |\n",
            "|    ep_rew_mean     | 253      |\n",
            "| time/              |          |\n",
            "|    fps             | 725      |\n",
            "|    iterations      | 98       |\n",
            "|    time_elapsed    | 675      |\n",
            "|    total_timesteps | 490000   |\n",
            "---------------------------------\n",
            "-----------------------------------------\n",
            "| rollout/                |             |\n",
            "|    ep_len_mean          | 335         |\n",
            "|    ep_rew_mean          | 253         |\n",
            "| time/                   |             |\n",
            "|    fps                  | 727         |\n",
            "|    iterations           | 99          |\n",
            "|    time_elapsed         | 680         |\n",
            "|    total_timesteps      | 495000      |\n",
            "| train/                  |             |\n",
            "|    approx_kl            | 0.002396465 |\n",
            "|    clip_fraction        | 0.169       |\n",
            "|    clip_range           | 0.1         |\n",
            "|    entropy_loss         | -2.03       |\n",
            "|    explained_variance   | 0.448       |\n",
            "|    learning_rate        | 5e-05       |\n",
            "|    loss                 | 21.9        |\n",
            "|    n_updates            | 1960        |\n",
            "|    policy_gradient_loss | 0.00138     |\n",
            "|    std                  | 0.669       |\n",
            "|    value_loss           | 80.3        |\n",
            "-----------------------------------------\n"
          ]
        },
        {
          "data": {
            "text/html": [
              "<pre style=\"white-space:pre;overflow-x:auto;line-height:normal;font-family:Menlo,'DejaVu Sans Mono',consolas,'Courier New',monospace\">Saving model checkpoint to \n",
              "runs\\ppo_metadrive\\ppo_metadrive_2025-03-16_17-43-31_a51009e7\\models\\rl_model_500000_steps.zip\n",
              "</pre>\n"
            ],
            "text/plain": [
              "Saving model checkpoint to \n",
              "runs\\ppo_metadrive\\ppo_metadrive_2025-03-16_17-43-31_a51009e7\\models\\rl_model_500000_steps.zip\n"
            ]
          },
          "metadata": {},
          "output_type": "display_data"
        },
        {
          "data": {
            "text/html": [
              "<pre style=\"white-space:pre;overflow-x:auto;line-height:normal;font-family:Menlo,'DejaVu Sans Mono',consolas,'Courier New',monospace\">Eval num_timesteps=500000, episode_reward=190.60 +/- 112.18\n",
              "</pre>\n"
            ],
            "text/plain": [
              "Eval num_timesteps=500000, episode_reward=190.60 +/- 112.18\n"
            ]
          },
          "metadata": {},
          "output_type": "display_data"
        },
        {
          "data": {
            "text/html": [
              "<pre style=\"white-space:pre;overflow-x:auto;line-height:normal;font-family:Menlo,'DejaVu Sans Mono',consolas,'Courier New',monospace\">Episode length: 162.00 +/- 99.06\n",
              "</pre>\n"
            ],
            "text/plain": [
              "Episode length: 162.00 +/- 99.06\n"
            ]
          },
          "metadata": {},
          "output_type": "display_data"
        },
        {
          "data": {
            "text/html": [
              "<pre style=\"white-space:pre;overflow-x:auto;line-height:normal;font-family:Menlo,'DejaVu Sans Mono',consolas,'Courier New',monospace\">Success rate: 20.00%\n",
              "</pre>\n"
            ],
            "text/plain": [
              "Success rate: 20.00%\n"
            ]
          },
          "metadata": {},
          "output_type": "display_data"
        },
        {
          "name": "stdout",
          "output_type": "stream",
          "text": [
            "------------------------------------------\n",
            "| eval/                   |              |\n",
            "|    arrive_dest          | 0.056        |\n",
            "|    crash                | 0.232        |\n",
            "|    max_step             | 0            |\n",
            "|    mean_ep_length       | 162          |\n",
            "|    mean_reward          | 191          |\n",
            "|    num_episodes         | 5            |\n",
            "|    out_of_road          | 0.944        |\n",
            "|    raw_action           | 0.45573094   |\n",
            "|    route_completion     | 0.372        |\n",
            "|    success_rate         | 0.2          |\n",
            "|    total_cost           | 8.09         |\n",
            "| time/                   |              |\n",
            "|    total_timesteps      | 500000       |\n",
            "| train/                  |              |\n",
            "|    approx_kl            | 0.0019258012 |\n",
            "|    clip_fraction        | 0.0865       |\n",
            "|    clip_range           | 0.1          |\n",
            "|    entropy_loss         | -2.02        |\n",
            "|    explained_variance   | 0.531        |\n",
            "|    learning_rate        | 5e-05        |\n",
            "|    loss                 | 30.8         |\n",
            "|    n_updates            | 1980         |\n",
            "|    policy_gradient_loss | -0.00137     |\n",
            "|    std                  | 0.668        |\n",
            "|    value_loss           | 79           |\n",
            "------------------------------------------\n",
            "---------------------------------\n",
            "| rollout/           |          |\n",
            "|    ep_len_mean     | 330      |\n",
            "|    ep_rew_mean     | 254      |\n",
            "| time/              |          |\n",
            "|    fps             | 726      |\n",
            "|    iterations      | 100      |\n",
            "|    time_elapsed    | 688      |\n",
            "|    total_timesteps | 500000   |\n",
            "---------------------------------\n",
            "------------------------------------------\n",
            "| rollout/                |              |\n",
            "|    ep_len_mean          | 334          |\n",
            "|    ep_rew_mean          | 258          |\n",
            "| time/                   |              |\n",
            "|    fps                  | 727          |\n",
            "|    iterations           | 101          |\n",
            "|    time_elapsed         | 694          |\n",
            "|    total_timesteps      | 505000       |\n",
            "| train/                  |              |\n",
            "|    approx_kl            | 0.0010545428 |\n",
            "|    clip_fraction        | 0.119        |\n",
            "|    clip_range           | 0.1          |\n",
            "|    entropy_loss         | -2.02        |\n",
            "|    explained_variance   | 0.608        |\n",
            "|    learning_rate        | 5e-05        |\n",
            "|    loss                 | 39.6         |\n",
            "|    n_updates            | 2000         |\n",
            "|    policy_gradient_loss | 0.0003       |\n",
            "|    std                  | 0.667        |\n",
            "|    value_loss           | 72.8         |\n",
            "------------------------------------------\n"
          ]
        },
        {
          "data": {
            "text/html": [
              "<pre style=\"white-space:pre;overflow-x:auto;line-height:normal;font-family:Menlo,'DejaVu Sans Mono',consolas,'Courier New',monospace\">Eval num_timesteps=510000, episode_reward=202.48 +/- 135.30\n",
              "</pre>\n"
            ],
            "text/plain": [
              "Eval num_timesteps=510000, episode_reward=202.48 +/- 135.30\n"
            ]
          },
          "metadata": {},
          "output_type": "display_data"
        },
        {
          "data": {
            "text/html": [
              "<pre style=\"white-space:pre;overflow-x:auto;line-height:normal;font-family:Menlo,'DejaVu Sans Mono',consolas,'Courier New',monospace\">Episode length: 146.60 +/- 72.11\n",
              "</pre>\n"
            ],
            "text/plain": [
              "Episode length: 146.60 +/- 72.11\n"
            ]
          },
          "metadata": {},
          "output_type": "display_data"
        },
        {
          "data": {
            "text/html": [
              "<pre style=\"white-space:pre;overflow-x:auto;line-height:normal;font-family:Menlo,'DejaVu Sans Mono',consolas,'Courier New',monospace\">Success rate: 20.00%\n",
              "</pre>\n"
            ],
            "text/plain": [
              "Success rate: 20.00%\n"
            ]
          },
          "metadata": {},
          "output_type": "display_data"
        },
        {
          "name": "stdout",
          "output_type": "stream",
          "text": [
            "------------------------------------------\n",
            "| eval/                   |              |\n",
            "|    arrive_dest          | 0.0588       |\n",
            "|    crash                | 0.235        |\n",
            "|    max_step             | 0            |\n",
            "|    mean_ep_length       | 147          |\n",
            "|    mean_reward          | 202          |\n",
            "|    num_episodes         | 5            |\n",
            "|    out_of_road          | 0.941        |\n",
            "|    raw_action           | 0.4566249    |\n",
            "|    route_completion     | 0.376        |\n",
            "|    success_rate         | 0.2          |\n",
            "|    total_cost           | 8.01         |\n",
            "| time/                   |              |\n",
            "|    total_timesteps      | 510000       |\n",
            "| train/                  |              |\n",
            "|    approx_kl            | 0.0022608102 |\n",
            "|    clip_fraction        | 0.115        |\n",
            "|    clip_range           | 0.1          |\n",
            "|    entropy_loss         | -2.02        |\n",
            "|    explained_variance   | 0.497        |\n",
            "|    learning_rate        | 5e-05        |\n",
            "|    loss                 | 57.6         |\n",
            "|    n_updates            | 2020         |\n",
            "|    policy_gradient_loss | -0.000604    |\n",
            "|    std                  | 0.665        |\n",
            "|    value_loss           | 90.2         |\n",
            "------------------------------------------\n",
            "---------------------------------\n",
            "| rollout/           |          |\n",
            "|    ep_len_mean     | 338      |\n",
            "|    ep_rew_mean     | 261      |\n",
            "| time/              |          |\n",
            "|    fps             | 726      |\n",
            "|    iterations      | 102      |\n",
            "|    time_elapsed    | 701      |\n",
            "|    total_timesteps | 510000   |\n",
            "---------------------------------\n",
            "------------------------------------------\n",
            "| rollout/                |              |\n",
            "|    ep_len_mean          | 339          |\n",
            "|    ep_rew_mean          | 264          |\n",
            "| time/                   |              |\n",
            "|    fps                  | 728          |\n",
            "|    iterations           | 103          |\n",
            "|    time_elapsed         | 706          |\n",
            "|    total_timesteps      | 515000       |\n",
            "| train/                  |              |\n",
            "|    approx_kl            | 0.0019228349 |\n",
            "|    clip_fraction        | 0.186        |\n",
            "|    clip_range           | 0.1          |\n",
            "|    entropy_loss         | -2.01        |\n",
            "|    explained_variance   | 0.509        |\n",
            "|    learning_rate        | 5e-05        |\n",
            "|    loss                 | 79.4         |\n",
            "|    n_updates            | 2040         |\n",
            "|    policy_gradient_loss | 0.00231      |\n",
            "|    std                  | 0.663        |\n",
            "|    value_loss           | 81           |\n",
            "------------------------------------------\n"
          ]
        },
        {
          "data": {
            "text/html": [
              "<pre style=\"white-space:pre;overflow-x:auto;line-height:normal;font-family:Menlo,'DejaVu Sans Mono',consolas,'Courier New',monospace\">Eval num_timesteps=520000, episode_reward=152.79 +/- 57.74\n",
              "</pre>\n"
            ],
            "text/plain": [
              "Eval num_timesteps=520000, episode_reward=152.79 +/- 57.74\n"
            ]
          },
          "metadata": {},
          "output_type": "display_data"
        },
        {
          "data": {
            "text/html": [
              "<pre style=\"white-space:pre;overflow-x:auto;line-height:normal;font-family:Menlo,'DejaVu Sans Mono',consolas,'Courier New',monospace\">Episode length: 157.20 +/- 87.80\n",
              "</pre>\n"
            ],
            "text/plain": [
              "Episode length: 157.20 +/- 87.80\n"
            ]
          },
          "metadata": {},
          "output_type": "display_data"
        },
        {
          "data": {
            "text/html": [
              "<pre style=\"white-space:pre;overflow-x:auto;line-height:normal;font-family:Menlo,'DejaVu Sans Mono',consolas,'Courier New',monospace\">Success rate: 20.00%\n",
              "</pre>\n"
            ],
            "text/plain": [
              "Success rate: 20.00%\n"
            ]
          },
          "metadata": {},
          "output_type": "display_data"
        },
        {
          "name": "stdout",
          "output_type": "stream",
          "text": [
            "------------------------------------------\n",
            "| eval/                   |              |\n",
            "|    arrive_dest          | 0.0615       |\n",
            "|    crash                | 0.242        |\n",
            "|    max_step             | 0            |\n",
            "|    mean_ep_length       | 157          |\n",
            "|    mean_reward          | 153          |\n",
            "|    num_episodes         | 5            |\n",
            "|    out_of_road          | 0.938        |\n",
            "|    raw_action           | 0.45856723   |\n",
            "|    route_completion     | 0.38         |\n",
            "|    success_rate         | 0.2          |\n",
            "|    total_cost           | 8.28         |\n",
            "| time/                   |              |\n",
            "|    total_timesteps      | 520000       |\n",
            "| train/                  |              |\n",
            "|    approx_kl            | 0.0014395001 |\n",
            "|    clip_fraction        | 0.134        |\n",
            "|    clip_range           | 0.1          |\n",
            "|    entropy_loss         | -2           |\n",
            "|    explained_variance   | 0.634        |\n",
            "|    learning_rate        | 5e-05        |\n",
            "|    loss                 | 36.6         |\n",
            "|    n_updates            | 2060         |\n",
            "|    policy_gradient_loss | 0.000488     |\n",
            "|    std                  | 0.663        |\n",
            "|    value_loss           | 65.1         |\n",
            "------------------------------------------\n",
            "---------------------------------\n",
            "| rollout/           |          |\n",
            "|    ep_len_mean     | 342      |\n",
            "|    ep_rew_mean     | 267      |\n",
            "| time/              |          |\n",
            "|    fps             | 728      |\n",
            "|    iterations      | 104      |\n",
            "|    time_elapsed    | 714      |\n",
            "|    total_timesteps | 520000   |\n",
            "---------------------------------\n",
            "-----------------------------------------\n",
            "| rollout/                |             |\n",
            "|    ep_len_mean          | 340         |\n",
            "|    ep_rew_mean          | 265         |\n",
            "| time/                   |             |\n",
            "|    fps                  | 729         |\n",
            "|    iterations           | 105         |\n",
            "|    time_elapsed         | 719         |\n",
            "|    total_timesteps      | 525000      |\n",
            "| train/                  |             |\n",
            "|    approx_kl            | 0.002646322 |\n",
            "|    clip_fraction        | 0.157       |\n",
            "|    clip_range           | 0.1         |\n",
            "|    entropy_loss         | -2          |\n",
            "|    explained_variance   | 0.701       |\n",
            "|    learning_rate        | 5e-05       |\n",
            "|    loss                 | 15.4        |\n",
            "|    n_updates            | 2080        |\n",
            "|    policy_gradient_loss | 0.000815    |\n",
            "|    std                  | 0.663       |\n",
            "|    value_loss           | 44.1        |\n",
            "-----------------------------------------\n"
          ]
        },
        {
          "data": {
            "text/html": [
              "<pre style=\"white-space:pre;overflow-x:auto;line-height:normal;font-family:Menlo,'DejaVu Sans Mono',consolas,'Courier New',monospace\">Eval num_timesteps=530000, episode_reward=185.84 +/- 78.05\n",
              "</pre>\n"
            ],
            "text/plain": [
              "Eval num_timesteps=530000, episode_reward=185.84 +/- 78.05\n"
            ]
          },
          "metadata": {},
          "output_type": "display_data"
        },
        {
          "data": {
            "text/html": [
              "<pre style=\"white-space:pre;overflow-x:auto;line-height:normal;font-family:Menlo,'DejaVu Sans Mono',consolas,'Courier New',monospace\">Episode length: 162.60 +/- 50.15\n",
              "</pre>\n"
            ],
            "text/plain": [
              "Episode length: 162.60 +/- 50.15\n"
            ]
          },
          "metadata": {},
          "output_type": "display_data"
        },
        {
          "data": {
            "text/html": [
              "<pre style=\"white-space:pre;overflow-x:auto;line-height:normal;font-family:Menlo,'DejaVu Sans Mono',consolas,'Courier New',monospace\">Success rate: 0.00%\n",
              "</pre>\n"
            ],
            "text/plain": [
              "Success rate: 0.00%\n"
            ]
          },
          "metadata": {},
          "output_type": "display_data"
        },
        {
          "name": "stdout",
          "output_type": "stream",
          "text": [
            "------------------------------------------\n",
            "| eval/                   |              |\n",
            "|    arrive_dest          | 0.0604       |\n",
            "|    crash                | 0.245        |\n",
            "|    max_step             | 0            |\n",
            "|    mean_ep_length       | 163          |\n",
            "|    mean_reward          | 186          |\n",
            "|    num_episodes         | 5            |\n",
            "|    out_of_road          | 0.94         |\n",
            "|    raw_action           | 0.4593429    |\n",
            "|    route_completion     | 0.384        |\n",
            "|    success_rate         | 0            |\n",
            "|    total_cost           | 8.35         |\n",
            "| time/                   |              |\n",
            "|    total_timesteps      | 530000       |\n",
            "| train/                  |              |\n",
            "|    approx_kl            | 0.0019632378 |\n",
            "|    clip_fraction        | 0.143        |\n",
            "|    clip_range           | 0.1          |\n",
            "|    entropy_loss         | -2           |\n",
            "|    explained_variance   | 0.507        |\n",
            "|    learning_rate        | 5e-05        |\n",
            "|    loss                 | 63.2         |\n",
            "|    n_updates            | 2100         |\n",
            "|    policy_gradient_loss | -0.000691    |\n",
            "|    std                  | 0.661        |\n",
            "|    value_loss           | 92           |\n",
            "------------------------------------------\n",
            "---------------------------------\n",
            "| rollout/           |          |\n",
            "|    ep_len_mean     | 341      |\n",
            "|    ep_rew_mean     | 270      |\n",
            "| time/              |          |\n",
            "|    fps             | 729      |\n",
            "|    iterations      | 106      |\n",
            "|    time_elapsed    | 726      |\n",
            "|    total_timesteps | 530000   |\n",
            "---------------------------------\n",
            "------------------------------------------\n",
            "| rollout/                |              |\n",
            "|    ep_len_mean          | 336          |\n",
            "|    ep_rew_mean          | 266          |\n",
            "| time/                   |              |\n",
            "|    fps                  | 731          |\n",
            "|    iterations           | 107          |\n",
            "|    time_elapsed         | 731          |\n",
            "|    total_timesteps      | 535000       |\n",
            "| train/                  |              |\n",
            "|    approx_kl            | 0.0021460168 |\n",
            "|    clip_fraction        | 0.0816       |\n",
            "|    clip_range           | 0.1          |\n",
            "|    entropy_loss         | -2           |\n",
            "|    explained_variance   | 0.551        |\n",
            "|    learning_rate        | 5e-05        |\n",
            "|    loss                 | 20.4         |\n",
            "|    n_updates            | 2120         |\n",
            "|    policy_gradient_loss | -0.00113     |\n",
            "|    std                  | 0.66         |\n",
            "|    value_loss           | 71.7         |\n",
            "------------------------------------------\n"
          ]
        },
        {
          "data": {
            "text/html": [
              "<pre style=\"white-space:pre;overflow-x:auto;line-height:normal;font-family:Menlo,'DejaVu Sans Mono',consolas,'Courier New',monospace\">Eval num_timesteps=540000, episode_reward=120.50 +/- 37.25\n",
              "</pre>\n"
            ],
            "text/plain": [
              "Eval num_timesteps=540000, episode_reward=120.50 +/- 37.25\n"
            ]
          },
          "metadata": {},
          "output_type": "display_data"
        },
        {
          "data": {
            "text/html": [
              "<pre style=\"white-space:pre;overflow-x:auto;line-height:normal;font-family:Menlo,'DejaVu Sans Mono',consolas,'Courier New',monospace\">Episode length: 110.60 +/- 34.96\n",
              "</pre>\n"
            ],
            "text/plain": [
              "Episode length: 110.60 +/- 34.96\n"
            ]
          },
          "metadata": {},
          "output_type": "display_data"
        },
        {
          "data": {
            "text/html": [
              "<pre style=\"white-space:pre;overflow-x:auto;line-height:normal;font-family:Menlo,'DejaVu Sans Mono',consolas,'Courier New',monospace\">Success rate: 0.00%\n",
              "</pre>\n"
            ],
            "text/plain": [
              "Success rate: 0.00%\n"
            ]
          },
          "metadata": {},
          "output_type": "display_data"
        },
        {
          "name": "stdout",
          "output_type": "stream",
          "text": [
            "------------------------------------------\n",
            "| eval/                   |              |\n",
            "|    arrive_dest          | 0.0593       |\n",
            "|    crash                | 0.244        |\n",
            "|    max_step             | 0            |\n",
            "|    mean_ep_length       | 111          |\n",
            "|    mean_reward          | 121          |\n",
            "|    num_episodes         | 5            |\n",
            "|    out_of_road          | 0.941        |\n",
            "|    raw_action           | 0.4588907    |\n",
            "|    route_completion     | 0.384        |\n",
            "|    success_rate         | 0            |\n",
            "|    total_cost           | 8.32         |\n",
            "| time/                   |              |\n",
            "|    total_timesteps      | 540000       |\n",
            "| train/                  |              |\n",
            "|    approx_kl            | 0.0011301633 |\n",
            "|    clip_fraction        | 0.114        |\n",
            "|    clip_range           | 0.1          |\n",
            "|    entropy_loss         | -1.99        |\n",
            "|    explained_variance   | 0.576        |\n",
            "|    learning_rate        | 5e-05        |\n",
            "|    loss                 | 31.3         |\n",
            "|    n_updates            | 2140         |\n",
            "|    policy_gradient_loss | -0.000133    |\n",
            "|    std                  | 0.66         |\n",
            "|    value_loss           | 70.1         |\n",
            "------------------------------------------\n",
            "---------------------------------\n",
            "| rollout/           |          |\n",
            "|    ep_len_mean     | 336      |\n",
            "|    ep_rew_mean     | 271      |\n",
            "| time/              |          |\n",
            "|    fps             | 732      |\n",
            "|    iterations      | 108      |\n",
            "|    time_elapsed    | 737      |\n",
            "|    total_timesteps | 540000   |\n",
            "---------------------------------\n",
            "------------------------------------------\n",
            "| rollout/                |              |\n",
            "|    ep_len_mean          | 327          |\n",
            "|    ep_rew_mean          | 263          |\n",
            "| time/                   |              |\n",
            "|    fps                  | 734          |\n",
            "|    iterations           | 109          |\n",
            "|    time_elapsed         | 742          |\n",
            "|    total_timesteps      | 545000       |\n",
            "| train/                  |              |\n",
            "|    approx_kl            | 0.0038788735 |\n",
            "|    clip_fraction        | 0.143        |\n",
            "|    clip_range           | 0.1          |\n",
            "|    entropy_loss         | -1.99        |\n",
            "|    explained_variance   | 0.634        |\n",
            "|    learning_rate        | 5e-05        |\n",
            "|    loss                 | 31.8         |\n",
            "|    n_updates            | 2160         |\n",
            "|    policy_gradient_loss | 0.00073      |\n",
            "|    std                  | 0.659        |\n",
            "|    value_loss           | 84.3         |\n",
            "------------------------------------------\n"
          ]
        },
        {
          "data": {
            "text/html": [
              "<pre style=\"white-space:pre;overflow-x:auto;line-height:normal;font-family:Menlo,'DejaVu Sans Mono',consolas,'Courier New',monospace\">Eval num_timesteps=550000, episode_reward=103.05 +/- 51.46\n",
              "</pre>\n"
            ],
            "text/plain": [
              "Eval num_timesteps=550000, episode_reward=103.05 +/- 51.46\n"
            ]
          },
          "metadata": {},
          "output_type": "display_data"
        },
        {
          "data": {
            "text/html": [
              "<pre style=\"white-space:pre;overflow-x:auto;line-height:normal;font-family:Menlo,'DejaVu Sans Mono',consolas,'Courier New',monospace\">Episode length: 103.80 +/- 37.75\n",
              "</pre>\n"
            ],
            "text/plain": [
              "Episode length: 103.80 +/- 37.75\n"
            ]
          },
          "metadata": {},
          "output_type": "display_data"
        },
        {
          "data": {
            "text/html": [
              "<pre style=\"white-space:pre;overflow-x:auto;line-height:normal;font-family:Menlo,'DejaVu Sans Mono',consolas,'Courier New',monospace\">Success rate: 0.00%\n",
              "</pre>\n"
            ],
            "text/plain": [
              "Success rate: 0.00%\n"
            ]
          },
          "metadata": {},
          "output_type": "display_data"
        },
        {
          "name": "stdout",
          "output_type": "stream",
          "text": [
            "-----------------------------------------\n",
            "| eval/                   |             |\n",
            "|    arrive_dest          | 0.0582      |\n",
            "|    crash                | 0.244       |\n",
            "|    max_step             | 0           |\n",
            "|    mean_ep_length       | 104         |\n",
            "|    mean_reward          | 103         |\n",
            "|    num_episodes         | 5           |\n",
            "|    out_of_road          | 0.942       |\n",
            "|    raw_action           | 0.45899388  |\n",
            "|    route_completion     | 0.383       |\n",
            "|    success_rate         | 0           |\n",
            "|    total_cost           | 8.25        |\n",
            "| time/                   |             |\n",
            "|    total_timesteps      | 550000      |\n",
            "| train/                  |             |\n",
            "|    approx_kl            | 0.002420627 |\n",
            "|    clip_fraction        | 0.0904      |\n",
            "|    clip_range           | 0.1         |\n",
            "|    entropy_loss         | -1.99       |\n",
            "|    explained_variance   | 0.517       |\n",
            "|    learning_rate        | 5e-05       |\n",
            "|    loss                 | 28.1        |\n",
            "|    n_updates            | 2180        |\n",
            "|    policy_gradient_loss | -0.0022     |\n",
            "|    std                  | 0.657       |\n",
            "|    value_loss           | 83.1        |\n",
            "-----------------------------------------\n",
            "---------------------------------\n",
            "| rollout/           |          |\n",
            "|    ep_len_mean     | 328      |\n",
            "|    ep_rew_mean     | 264      |\n",
            "| time/              |          |\n",
            "|    fps             | 734      |\n",
            "|    iterations      | 110      |\n",
            "|    time_elapsed    | 748      |\n",
            "|    total_timesteps | 550000   |\n",
            "---------------------------------\n",
            "------------------------------------------\n",
            "| rollout/                |              |\n",
            "|    ep_len_mean          | 330          |\n",
            "|    ep_rew_mean          | 262          |\n",
            "| time/                   |              |\n",
            "|    fps                  | 736          |\n",
            "|    iterations           | 111          |\n",
            "|    time_elapsed         | 753          |\n",
            "|    total_timesteps      | 555000       |\n",
            "| train/                  |              |\n",
            "|    approx_kl            | 0.0014092253 |\n",
            "|    clip_fraction        | 0.126        |\n",
            "|    clip_range           | 0.1          |\n",
            "|    entropy_loss         | -1.98        |\n",
            "|    explained_variance   | 0.696        |\n",
            "|    learning_rate        | 5e-05        |\n",
            "|    loss                 | 22.5         |\n",
            "|    n_updates            | 2200         |\n",
            "|    policy_gradient_loss | -0.000318    |\n",
            "|    std                  | 0.657        |\n",
            "|    value_loss           | 53.7         |\n",
            "------------------------------------------\n"
          ]
        },
        {
          "data": {
            "text/html": [
              "<pre style=\"white-space:pre;overflow-x:auto;line-height:normal;font-family:Menlo,'DejaVu Sans Mono',consolas,'Courier New',monospace\">Eval num_timesteps=560000, episode_reward=124.60 +/- 63.21\n",
              "</pre>\n"
            ],
            "text/plain": [
              "Eval num_timesteps=560000, episode_reward=124.60 +/- 63.21\n"
            ]
          },
          "metadata": {},
          "output_type": "display_data"
        },
        {
          "data": {
            "text/html": [
              "<pre style=\"white-space:pre;overflow-x:auto;line-height:normal;font-family:Menlo,'DejaVu Sans Mono',consolas,'Courier New',monospace\">Episode length: 121.60 +/- 60.19\n",
              "</pre>\n"
            ],
            "text/plain": [
              "Episode length: 121.60 +/- 60.19\n"
            ]
          },
          "metadata": {},
          "output_type": "display_data"
        },
        {
          "data": {
            "text/html": [
              "<pre style=\"white-space:pre;overflow-x:auto;line-height:normal;font-family:Menlo,'DejaVu Sans Mono',consolas,'Courier New',monospace\">Success rate: 0.00%\n",
              "</pre>\n"
            ],
            "text/plain": [
              "Success rate: 0.00%\n"
            ]
          },
          "metadata": {},
          "output_type": "display_data"
        },
        {
          "name": "stdout",
          "output_type": "stream",
          "text": [
            "------------------------------------------\n",
            "| eval/                   |              |\n",
            "|    arrive_dest          | 0.0571       |\n",
            "|    crash                | 0.239        |\n",
            "|    max_step             | 0            |\n",
            "|    mean_ep_length       | 122          |\n",
            "|    mean_reward          | 125          |\n",
            "|    num_episodes         | 5            |\n",
            "|    out_of_road          | 0.943        |\n",
            "|    raw_action           | 0.45923236   |\n",
            "|    route_completion     | 0.383        |\n",
            "|    success_rate         | 0            |\n",
            "|    total_cost           | 8.27         |\n",
            "| time/                   |              |\n",
            "|    total_timesteps      | 560000       |\n",
            "| train/                  |              |\n",
            "|    approx_kl            | 0.0015172607 |\n",
            "|    clip_fraction        | 0.174        |\n",
            "|    clip_range           | 0.1          |\n",
            "|    entropy_loss         | -1.98        |\n",
            "|    explained_variance   | 0.744        |\n",
            "|    learning_rate        | 5e-05        |\n",
            "|    loss                 | 27.1         |\n",
            "|    n_updates            | 2220         |\n",
            "|    policy_gradient_loss | 6.43e-05     |\n",
            "|    std                  | 0.656        |\n",
            "|    value_loss           | 67.7         |\n",
            "------------------------------------------\n",
            "---------------------------------\n",
            "| rollout/           |          |\n",
            "|    ep_len_mean     | 328      |\n",
            "|    ep_rew_mean     | 264      |\n",
            "| time/              |          |\n",
            "|    fps             | 736      |\n",
            "|    iterations      | 112      |\n",
            "|    time_elapsed    | 760      |\n",
            "|    total_timesteps | 560000   |\n",
            "---------------------------------\n",
            "-----------------------------------------\n",
            "| rollout/                |             |\n",
            "|    ep_len_mean          | 328         |\n",
            "|    ep_rew_mean          | 264         |\n",
            "| time/                   |             |\n",
            "|    fps                  | 738         |\n",
            "|    iterations           | 113         |\n",
            "|    time_elapsed         | 765         |\n",
            "|    total_timesteps      | 565000      |\n",
            "| train/                  |             |\n",
            "|    approx_kl            | 0.005824237 |\n",
            "|    clip_fraction        | 0.171       |\n",
            "|    clip_range           | 0.1         |\n",
            "|    entropy_loss         | -1.98       |\n",
            "|    explained_variance   | 0.669       |\n",
            "|    learning_rate        | 5e-05       |\n",
            "|    loss                 | 33.7        |\n",
            "|    n_updates            | 2240        |\n",
            "|    policy_gradient_loss | 0.00259     |\n",
            "|    std                  | 0.655       |\n",
            "|    value_loss           | 63.8        |\n",
            "-----------------------------------------\n"
          ]
        },
        {
          "data": {
            "text/html": [
              "<pre style=\"white-space:pre;overflow-x:auto;line-height:normal;font-family:Menlo,'DejaVu Sans Mono',consolas,'Courier New',monospace\">Eval num_timesteps=570000, episode_reward=82.61 +/- 30.76\n",
              "</pre>\n"
            ],
            "text/plain": [
              "Eval num_timesteps=570000, episode_reward=82.61 +/- 30.76\n"
            ]
          },
          "metadata": {},
          "output_type": "display_data"
        },
        {
          "data": {
            "text/html": [
              "<pre style=\"white-space:pre;overflow-x:auto;line-height:normal;font-family:Menlo,'DejaVu Sans Mono',consolas,'Courier New',monospace\">Episode length: 84.80 +/- 17.29\n",
              "</pre>\n"
            ],
            "text/plain": [
              "Episode length: 84.80 +/- 17.29\n"
            ]
          },
          "metadata": {},
          "output_type": "display_data"
        },
        {
          "data": {
            "text/html": [
              "<pre style=\"white-space:pre;overflow-x:auto;line-height:normal;font-family:Menlo,'DejaVu Sans Mono',consolas,'Courier New',monospace\">Success rate: 0.00%\n",
              "</pre>\n"
            ],
            "text/plain": [
              "Success rate: 0.00%\n"
            ]
          },
          "metadata": {},
          "output_type": "display_data"
        },
        {
          "name": "stdout",
          "output_type": "stream",
          "text": [
            "------------------------------------------\n",
            "| eval/                   |              |\n",
            "|    arrive_dest          | 0.0561       |\n",
            "|    crash                | 0.239        |\n",
            "|    max_step             | 0            |\n",
            "|    mean_ep_length       | 84.8         |\n",
            "|    mean_reward          | 82.6         |\n",
            "|    num_episodes         | 5            |\n",
            "|    out_of_road          | 0.944        |\n",
            "|    raw_action           | 0.45869      |\n",
            "|    route_completion     | 0.382        |\n",
            "|    success_rate         | 0            |\n",
            "|    total_cost           | 8.17         |\n",
            "| time/                   |              |\n",
            "|    total_timesteps      | 570000       |\n",
            "| train/                  |              |\n",
            "|    approx_kl            | 0.0043407744 |\n",
            "|    clip_fraction        | 0.155        |\n",
            "|    clip_range           | 0.1          |\n",
            "|    entropy_loss         | -1.98        |\n",
            "|    explained_variance   | 0.708        |\n",
            "|    learning_rate        | 5e-05        |\n",
            "|    loss                 | 40.2         |\n",
            "|    n_updates            | 2260         |\n",
            "|    policy_gradient_loss | 0.001        |\n",
            "|    std                  | 0.656        |\n",
            "|    value_loss           | 74.7         |\n",
            "------------------------------------------\n",
            "---------------------------------\n",
            "| rollout/           |          |\n",
            "|    ep_len_mean     | 332      |\n",
            "|    ep_rew_mean     | 265      |\n",
            "| time/              |          |\n",
            "|    fps             | 738      |\n",
            "|    iterations      | 114      |\n",
            "|    time_elapsed    | 771      |\n",
            "|    total_timesteps | 570000   |\n",
            "---------------------------------\n",
            "------------------------------------------\n",
            "| rollout/                |              |\n",
            "|    ep_len_mean          | 334          |\n",
            "|    ep_rew_mean          | 263          |\n",
            "| time/                   |              |\n",
            "|    fps                  | 739          |\n",
            "|    iterations           | 115          |\n",
            "|    time_elapsed         | 777          |\n",
            "|    total_timesteps      | 575000       |\n",
            "| train/                  |              |\n",
            "|    approx_kl            | 0.0021793551 |\n",
            "|    clip_fraction        | 0.136        |\n",
            "|    clip_range           | 0.1          |\n",
            "|    entropy_loss         | -1.98        |\n",
            "|    explained_variance   | 0.729        |\n",
            "|    learning_rate        | 5e-05        |\n",
            "|    loss                 | 43           |\n",
            "|    n_updates            | 2280         |\n",
            "|    policy_gradient_loss | 0.000338     |\n",
            "|    std                  | 0.656        |\n",
            "|    value_loss           | 84.8         |\n",
            "------------------------------------------\n"
          ]
        },
        {
          "data": {
            "text/html": [
              "<pre style=\"white-space:pre;overflow-x:auto;line-height:normal;font-family:Menlo,'DejaVu Sans Mono',consolas,'Courier New',monospace\">Eval num_timesteps=580000, episode_reward=130.26 +/- 79.40\n",
              "</pre>\n"
            ],
            "text/plain": [
              "Eval num_timesteps=580000, episode_reward=130.26 +/- 79.40\n"
            ]
          },
          "metadata": {},
          "output_type": "display_data"
        },
        {
          "data": {
            "text/html": [
              "<pre style=\"white-space:pre;overflow-x:auto;line-height:normal;font-family:Menlo,'DejaVu Sans Mono',consolas,'Courier New',monospace\">Episode length: 109.00 +/- 47.80\n",
              "</pre>\n"
            ],
            "text/plain": [
              "Episode length: 109.00 +/- 47.80\n"
            ]
          },
          "metadata": {},
          "output_type": "display_data"
        },
        {
          "data": {
            "text/html": [
              "<pre style=\"white-space:pre;overflow-x:auto;line-height:normal;font-family:Menlo,'DejaVu Sans Mono',consolas,'Courier New',monospace\">Success rate: 0.00%\n",
              "</pre>\n"
            ],
            "text/plain": [
              "Success rate: 0.00%\n"
            ]
          },
          "metadata": {},
          "output_type": "display_data"
        },
        {
          "name": "stdout",
          "output_type": "stream",
          "text": [
            "-------------------------------------------\n",
            "| eval/                   |               |\n",
            "|    arrive_dest          | 0.0552        |\n",
            "|    crash                | 0.234         |\n",
            "|    max_step             | 0             |\n",
            "|    mean_ep_length       | 109           |\n",
            "|    mean_reward          | 130           |\n",
            "|    num_episodes         | 5             |\n",
            "|    out_of_road          | 0.945         |\n",
            "|    raw_action           | 0.4584982     |\n",
            "|    route_completion     | 0.382         |\n",
            "|    success_rate         | 0             |\n",
            "|    total_cost           | 8.07          |\n",
            "| time/                   |               |\n",
            "|    total_timesteps      | 580000        |\n",
            "| train/                  |               |\n",
            "|    approx_kl            | 0.00094536936 |\n",
            "|    clip_fraction        | 0.0687        |\n",
            "|    clip_range           | 0.1           |\n",
            "|    entropy_loss         | -1.98         |\n",
            "|    explained_variance   | 0.697         |\n",
            "|    learning_rate        | 5e-05         |\n",
            "|    loss                 | 61.5          |\n",
            "|    n_updates            | 2300          |\n",
            "|    policy_gradient_loss | -0.00156      |\n",
            "|    std                  | 0.654         |\n",
            "|    value_loss           | 114           |\n",
            "-------------------------------------------\n",
            "---------------------------------\n",
            "| rollout/           |          |\n",
            "|    ep_len_mean     | 326      |\n",
            "|    ep_rew_mean     | 254      |\n",
            "| time/              |          |\n",
            "|    fps             | 739      |\n",
            "|    iterations      | 116      |\n",
            "|    time_elapsed    | 783      |\n",
            "|    total_timesteps | 580000   |\n",
            "---------------------------------\n",
            "------------------------------------------\n",
            "| rollout/                |              |\n",
            "|    ep_len_mean          | 329          |\n",
            "|    ep_rew_mean          | 256          |\n",
            "| time/                   |              |\n",
            "|    fps                  | 741          |\n",
            "|    iterations           | 117          |\n",
            "|    time_elapsed         | 789          |\n",
            "|    total_timesteps      | 585000       |\n",
            "| train/                  |              |\n",
            "|    approx_kl            | 0.0012205914 |\n",
            "|    clip_fraction        | 0.177        |\n",
            "|    clip_range           | 0.1          |\n",
            "|    entropy_loss         | -1.97        |\n",
            "|    explained_variance   | 0.848        |\n",
            "|    learning_rate        | 5e-05        |\n",
            "|    loss                 | 31.4         |\n",
            "|    n_updates            | 2320         |\n",
            "|    policy_gradient_loss | 0.00254      |\n",
            "|    std                  | 0.651        |\n",
            "|    value_loss           | 75.4         |\n",
            "------------------------------------------\n"
          ]
        },
        {
          "data": {
            "text/html": [
              "<pre style=\"white-space:pre;overflow-x:auto;line-height:normal;font-family:Menlo,'DejaVu Sans Mono',consolas,'Courier New',monospace\">Eval num_timesteps=590000, episode_reward=173.25 +/- 84.22\n",
              "</pre>\n"
            ],
            "text/plain": [
              "Eval num_timesteps=590000, episode_reward=173.25 +/- 84.22\n"
            ]
          },
          "metadata": {},
          "output_type": "display_data"
        },
        {
          "data": {
            "text/html": [
              "<pre style=\"white-space:pre;overflow-x:auto;line-height:normal;font-family:Menlo,'DejaVu Sans Mono',consolas,'Courier New',monospace\">Episode length: 194.00 +/- 98.84\n",
              "</pre>\n"
            ],
            "text/plain": [
              "Episode length: 194.00 +/- 98.84\n"
            ]
          },
          "metadata": {},
          "output_type": "display_data"
        },
        {
          "data": {
            "text/html": [
              "<pre style=\"white-space:pre;overflow-x:auto;line-height:normal;font-family:Menlo,'DejaVu Sans Mono',consolas,'Courier New',monospace\">Success rate: 0.00%\n",
              "</pre>\n"
            ],
            "text/plain": [
              "Success rate: 0.00%\n"
            ]
          },
          "metadata": {},
          "output_type": "display_data"
        },
        {
          "name": "stdout",
          "output_type": "stream",
          "text": [
            "------------------------------------------\n",
            "| eval/                   |              |\n",
            "|    arrive_dest          | 0.0542       |\n",
            "|    crash                | 0.234        |\n",
            "|    max_step             | 0            |\n",
            "|    mean_ep_length       | 194          |\n",
            "|    mean_reward          | 173          |\n",
            "|    num_episodes         | 5            |\n",
            "|    out_of_road          | 0.946        |\n",
            "|    raw_action           | 0.4591161    |\n",
            "|    route_completion     | 0.385        |\n",
            "|    success_rate         | 0            |\n",
            "|    total_cost           | 8.38         |\n",
            "| time/                   |              |\n",
            "|    total_timesteps      | 590000       |\n",
            "| train/                  |              |\n",
            "|    approx_kl            | 0.0026405773 |\n",
            "|    clip_fraction        | 0.155        |\n",
            "|    clip_range           | 0.1          |\n",
            "|    entropy_loss         | -1.96        |\n",
            "|    explained_variance   | 0.859        |\n",
            "|    learning_rate        | 5e-05        |\n",
            "|    loss                 | 28           |\n",
            "|    n_updates            | 2340         |\n",
            "|    policy_gradient_loss | 0.000213     |\n",
            "|    std                  | 0.647        |\n",
            "|    value_loss           | 52           |\n",
            "------------------------------------------\n",
            "---------------------------------\n",
            "| rollout/           |          |\n",
            "|    ep_len_mean     | 318      |\n",
            "|    ep_rew_mean     | 249      |\n",
            "| time/              |          |\n",
            "|    fps             | 740      |\n",
            "|    iterations      | 118      |\n",
            "|    time_elapsed    | 797      |\n",
            "|    total_timesteps | 590000   |\n",
            "---------------------------------\n",
            "-----------------------------------------\n",
            "| rollout/                |             |\n",
            "|    ep_len_mean          | 318         |\n",
            "|    ep_rew_mean          | 248         |\n",
            "| time/                   |             |\n",
            "|    fps                  | 741         |\n",
            "|    iterations           | 119         |\n",
            "|    time_elapsed         | 802         |\n",
            "|    total_timesteps      | 595000      |\n",
            "| train/                  |             |\n",
            "|    approx_kl            | 0.002587267 |\n",
            "|    clip_fraction        | 0.17        |\n",
            "|    clip_range           | 0.1         |\n",
            "|    entropy_loss         | -1.95       |\n",
            "|    explained_variance   | 0.607       |\n",
            "|    learning_rate        | 5e-05       |\n",
            "|    loss                 | 60.8        |\n",
            "|    n_updates            | 2360        |\n",
            "|    policy_gradient_loss | 0.000815    |\n",
            "|    std                  | 0.645       |\n",
            "|    value_loss           | 75.7        |\n",
            "-----------------------------------------\n"
          ]
        },
        {
          "data": {
            "text/html": [
              "<pre style=\"white-space:pre;overflow-x:auto;line-height:normal;font-family:Menlo,'DejaVu Sans Mono',consolas,'Courier New',monospace\">Saving model checkpoint to \n",
              "runs\\ppo_metadrive\\ppo_metadrive_2025-03-16_17-43-31_a51009e7\\models\\rl_model_600000_steps.zip\n",
              "</pre>\n"
            ],
            "text/plain": [
              "Saving model checkpoint to \n",
              "runs\\ppo_metadrive\\ppo_metadrive_2025-03-16_17-43-31_a51009e7\\models\\rl_model_600000_steps.zip\n"
            ]
          },
          "metadata": {},
          "output_type": "display_data"
        },
        {
          "data": {
            "text/html": [
              "<pre style=\"white-space:pre;overflow-x:auto;line-height:normal;font-family:Menlo,'DejaVu Sans Mono',consolas,'Courier New',monospace\">Eval num_timesteps=600000, episode_reward=174.97 +/- 78.45\n",
              "</pre>\n"
            ],
            "text/plain": [
              "Eval num_timesteps=600000, episode_reward=174.97 +/- 78.45\n"
            ]
          },
          "metadata": {},
          "output_type": "display_data"
        },
        {
          "data": {
            "text/html": [
              "<pre style=\"white-space:pre;overflow-x:auto;line-height:normal;font-family:Menlo,'DejaVu Sans Mono',consolas,'Courier New',monospace\">Episode length: 135.00 +/- 46.19\n",
              "</pre>\n"
            ],
            "text/plain": [
              "Episode length: 135.00 +/- 46.19\n"
            ]
          },
          "metadata": {},
          "output_type": "display_data"
        },
        {
          "data": {
            "text/html": [
              "<pre style=\"white-space:pre;overflow-x:auto;line-height:normal;font-family:Menlo,'DejaVu Sans Mono',consolas,'Courier New',monospace\">Success rate: 0.00%\n",
              "</pre>\n"
            ],
            "text/plain": [
              "Success rate: 0.00%\n"
            ]
          },
          "metadata": {},
          "output_type": "display_data"
        },
        {
          "name": "stdout",
          "output_type": "stream",
          "text": [
            "------------------------------------------\n",
            "| eval/                   |              |\n",
            "|    arrive_dest          | 0.0533       |\n",
            "|    crash                | 0.233        |\n",
            "|    max_step             | 0            |\n",
            "|    mean_ep_length       | 135          |\n",
            "|    mean_reward          | 175          |\n",
            "|    num_episodes         | 5            |\n",
            "|    out_of_road          | 0.947        |\n",
            "|    raw_action           | 0.45938647   |\n",
            "|    route_completion     | 0.388        |\n",
            "|    success_rate         | 0            |\n",
            "|    total_cost           | 8.3          |\n",
            "| time/                   |              |\n",
            "|    total_timesteps      | 600000       |\n",
            "| train/                  |              |\n",
            "|    approx_kl            | 0.0026783838 |\n",
            "|    clip_fraction        | 0.108        |\n",
            "|    clip_range           | 0.1          |\n",
            "|    entropy_loss         | -1.94        |\n",
            "|    explained_variance   | 0.681        |\n",
            "|    learning_rate        | 5e-05        |\n",
            "|    loss                 | 25.9         |\n",
            "|    n_updates            | 2380         |\n",
            "|    policy_gradient_loss | -0.000781    |\n",
            "|    std                  | 0.642        |\n",
            "|    value_loss           | 81.1         |\n",
            "------------------------------------------\n",
            "---------------------------------\n",
            "| rollout/           |          |\n",
            "|    ep_len_mean     | 323      |\n",
            "|    ep_rew_mean     | 257      |\n",
            "| time/              |          |\n",
            "|    fps             | 742      |\n",
            "|    iterations      | 120      |\n",
            "|    time_elapsed    | 808      |\n",
            "|    total_timesteps | 600000   |\n",
            "---------------------------------\n",
            "------------------------------------------\n",
            "| rollout/                |              |\n",
            "|    ep_len_mean          | 334          |\n",
            "|    ep_rew_mean          | 255          |\n",
            "| time/                   |              |\n",
            "|    fps                  | 743          |\n",
            "|    iterations           | 121          |\n",
            "|    time_elapsed         | 813          |\n",
            "|    total_timesteps      | 605000       |\n",
            "| train/                  |              |\n",
            "|    approx_kl            | 0.0046191285 |\n",
            "|    clip_fraction        | 0.184        |\n",
            "|    clip_range           | 0.1          |\n",
            "|    entropy_loss         | -1.93        |\n",
            "|    explained_variance   | 0.81         |\n",
            "|    learning_rate        | 5e-05        |\n",
            "|    loss                 | 22.9         |\n",
            "|    n_updates            | 2400         |\n",
            "|    policy_gradient_loss | 0.00163      |\n",
            "|    std                  | 0.641        |\n",
            "|    value_loss           | 73.8         |\n",
            "------------------------------------------\n"
          ]
        },
        {
          "data": {
            "text/html": [
              "<pre style=\"white-space:pre;overflow-x:auto;line-height:normal;font-family:Menlo,'DejaVu Sans Mono',consolas,'Courier New',monospace\">Eval num_timesteps=610000, episode_reward=204.05 +/- 85.04\n",
              "</pre>\n"
            ],
            "text/plain": [
              "Eval num_timesteps=610000, episode_reward=204.05 +/- 85.04\n"
            ]
          },
          "metadata": {},
          "output_type": "display_data"
        },
        {
          "data": {
            "text/html": [
              "<pre style=\"white-space:pre;overflow-x:auto;line-height:normal;font-family:Menlo,'DejaVu Sans Mono',consolas,'Courier New',monospace\">Episode length: 148.60 +/- 46.07\n",
              "</pre>\n"
            ],
            "text/plain": [
              "Episode length: 148.60 +/- 46.07\n"
            ]
          },
          "metadata": {},
          "output_type": "display_data"
        },
        {
          "data": {
            "text/html": [
              "<pre style=\"white-space:pre;overflow-x:auto;line-height:normal;font-family:Menlo,'DejaVu Sans Mono',consolas,'Courier New',monospace\">Success rate: 0.00%\n",
              "</pre>\n"
            ],
            "text/plain": [
              "Success rate: 0.00%\n"
            ]
          },
          "metadata": {},
          "output_type": "display_data"
        },
        {
          "name": "stdout",
          "output_type": "stream",
          "text": [
            "------------------------------------------\n",
            "| eval/                   |              |\n",
            "|    arrive_dest          | 0.0525       |\n",
            "|    crash                | 0.236        |\n",
            "|    max_step             | 0            |\n",
            "|    mean_ep_length       | 149          |\n",
            "|    mean_reward          | 204          |\n",
            "|    num_episodes         | 5            |\n",
            "|    out_of_road          | 0.948        |\n",
            "|    raw_action           | 0.4600119    |\n",
            "|    route_completion     | 0.391        |\n",
            "|    success_rate         | 0            |\n",
            "|    total_cost           | 8.25         |\n",
            "| time/                   |              |\n",
            "|    total_timesteps      | 610000       |\n",
            "| train/                  |              |\n",
            "|    approx_kl            | 0.0018975653 |\n",
            "|    clip_fraction        | 0.0852       |\n",
            "|    clip_range           | 0.1          |\n",
            "|    entropy_loss         | -1.93        |\n",
            "|    explained_variance   | 0.823        |\n",
            "|    learning_rate        | 5e-05        |\n",
            "|    loss                 | 29.4         |\n",
            "|    n_updates            | 2420         |\n",
            "|    policy_gradient_loss | -0.00189     |\n",
            "|    std                  | 0.642        |\n",
            "|    value_loss           | 69.3         |\n",
            "------------------------------------------\n",
            "---------------------------------\n",
            "| rollout/           |          |\n",
            "|    ep_len_mean     | 332      |\n",
            "|    ep_rew_mean     | 253      |\n",
            "| time/              |          |\n",
            "|    fps             | 743      |\n",
            "|    iterations      | 122      |\n",
            "|    time_elapsed    | 820      |\n",
            "|    total_timesteps | 610000   |\n",
            "---------------------------------\n",
            "-----------------------------------------\n",
            "| rollout/                |             |\n",
            "|    ep_len_mean          | 341         |\n",
            "|    ep_rew_mean          | 262         |\n",
            "| time/                   |             |\n",
            "|    fps                  | 744         |\n",
            "|    iterations           | 123         |\n",
            "|    time_elapsed         | 826         |\n",
            "|    total_timesteps      | 615000      |\n",
            "| train/                  |             |\n",
            "|    approx_kl            | 0.001076109 |\n",
            "|    clip_fraction        | 0.081       |\n",
            "|    clip_range           | 0.1         |\n",
            "|    entropy_loss         | -1.93       |\n",
            "|    explained_variance   | 0.674       |\n",
            "|    learning_rate        | 5e-05       |\n",
            "|    loss                 | 45.9        |\n",
            "|    n_updates            | 2440        |\n",
            "|    policy_gradient_loss | -0.00119    |\n",
            "|    std                  | 0.641       |\n",
            "|    value_loss           | 102         |\n",
            "-----------------------------------------\n"
          ]
        },
        {
          "data": {
            "text/html": [
              "<pre style=\"white-space:pre;overflow-x:auto;line-height:normal;font-family:Menlo,'DejaVu Sans Mono',consolas,'Courier New',monospace\">Eval num_timesteps=620000, episode_reward=122.61 +/- 91.90\n",
              "</pre>\n"
            ],
            "text/plain": [
              "Eval num_timesteps=620000, episode_reward=122.61 +/- 91.90\n"
            ]
          },
          "metadata": {},
          "output_type": "display_data"
        },
        {
          "data": {
            "text/html": [
              "<pre style=\"white-space:pre;overflow-x:auto;line-height:normal;font-family:Menlo,'DejaVu Sans Mono',consolas,'Courier New',monospace\">Episode length: 132.00 +/- 106.40\n",
              "</pre>\n"
            ],
            "text/plain": [
              "Episode length: 132.00 +/- 106.40\n"
            ]
          },
          "metadata": {},
          "output_type": "display_data"
        },
        {
          "data": {
            "text/html": [
              "<pre style=\"white-space:pre;overflow-x:auto;line-height:normal;font-family:Menlo,'DejaVu Sans Mono',consolas,'Courier New',monospace\">Success rate: 20.00%\n",
              "</pre>\n"
            ],
            "text/plain": [
              "Success rate: 20.00%\n"
            ]
          },
          "metadata": {},
          "output_type": "display_data"
        },
        {
          "name": "stdout",
          "output_type": "stream",
          "text": [
            "------------------------------------------\n",
            "| eval/                   |              |\n",
            "|    arrive_dest          | 0.0548       |\n",
            "|    crash                | 0.235        |\n",
            "|    max_step             | 0            |\n",
            "|    mean_ep_length       | 132          |\n",
            "|    mean_reward          | 123          |\n",
            "|    num_episodes         | 5            |\n",
            "|    out_of_road          | 0.945        |\n",
            "|    raw_action           | 0.461105     |\n",
            "|    route_completion     | 0.39         |\n",
            "|    success_rate         | 0.2          |\n",
            "|    total_cost           | 8.39         |\n",
            "| time/                   |              |\n",
            "|    total_timesteps      | 620000       |\n",
            "| train/                  |              |\n",
            "|    approx_kl            | 0.0015291976 |\n",
            "|    clip_fraction        | 0.208        |\n",
            "|    clip_range           | 0.1          |\n",
            "|    entropy_loss         | -1.93        |\n",
            "|    explained_variance   | 0.721        |\n",
            "|    learning_rate        | 5e-05        |\n",
            "|    loss                 | 41.5         |\n",
            "|    n_updates            | 2460         |\n",
            "|    policy_gradient_loss | 0.00182      |\n",
            "|    std                  | 0.643        |\n",
            "|    value_loss           | 55.8         |\n",
            "------------------------------------------\n",
            "---------------------------------\n",
            "| rollout/           |          |\n",
            "|    ep_len_mean     | 340      |\n",
            "|    ep_rew_mean     | 265      |\n",
            "| time/              |          |\n",
            "|    fps             | 743      |\n",
            "|    iterations      | 124      |\n",
            "|    time_elapsed    | 833      |\n",
            "|    total_timesteps | 620000   |\n",
            "---------------------------------\n",
            "-----------------------------------------\n",
            "| rollout/                |             |\n",
            "|    ep_len_mean          | 345         |\n",
            "|    ep_rew_mean          | 268         |\n",
            "| time/                   |             |\n",
            "|    fps                  | 744         |\n",
            "|    iterations           | 125         |\n",
            "|    time_elapsed         | 839         |\n",
            "|    total_timesteps      | 625000      |\n",
            "| train/                  |             |\n",
            "|    approx_kl            | 0.002411202 |\n",
            "|    clip_fraction        | 0.126       |\n",
            "|    clip_range           | 0.1         |\n",
            "|    entropy_loss         | -1.94       |\n",
            "|    explained_variance   | 0.661       |\n",
            "|    learning_rate        | 5e-05       |\n",
            "|    loss                 | 31          |\n",
            "|    n_updates            | 2480        |\n",
            "|    policy_gradient_loss | -0.00145    |\n",
            "|    std                  | 0.644       |\n",
            "|    value_loss           | 75.1        |\n",
            "-----------------------------------------\n"
          ]
        },
        {
          "data": {
            "text/html": [
              "<pre style=\"white-space:pre;overflow-x:auto;line-height:normal;font-family:Menlo,'DejaVu Sans Mono',consolas,'Courier New',monospace\">Eval num_timesteps=630000, episode_reward=180.86 +/- 113.88\n",
              "</pre>\n"
            ],
            "text/plain": [
              "Eval num_timesteps=630000, episode_reward=180.86 +/- 113.88\n"
            ]
          },
          "metadata": {},
          "output_type": "display_data"
        },
        {
          "data": {
            "text/html": [
              "<pre style=\"white-space:pre;overflow-x:auto;line-height:normal;font-family:Menlo,'DejaVu Sans Mono',consolas,'Courier New',monospace\">Episode length: 176.00 +/- 107.76\n",
              "</pre>\n"
            ],
            "text/plain": [
              "Episode length: 176.00 +/- 107.76\n"
            ]
          },
          "metadata": {},
          "output_type": "display_data"
        },
        {
          "data": {
            "text/html": [
              "<pre style=\"white-space:pre;overflow-x:auto;line-height:normal;font-family:Menlo,'DejaVu Sans Mono',consolas,'Courier New',monospace\">Success rate: 20.00%\n",
              "</pre>\n"
            ],
            "text/plain": [
              "Success rate: 20.00%\n"
            ]
          },
          "metadata": {},
          "output_type": "display_data"
        },
        {
          "name": "stdout",
          "output_type": "stream",
          "text": [
            "-----------------------------------------\n",
            "| eval/                   |             |\n",
            "|    arrive_dest          | 0.0571      |\n",
            "|    crash                | 0.235       |\n",
            "|    max_step             | 0           |\n",
            "|    mean_ep_length       | 176         |\n",
            "|    mean_reward          | 181         |\n",
            "|    num_episodes         | 5           |\n",
            "|    out_of_road          | 0.943       |\n",
            "|    raw_action           | 0.46072963  |\n",
            "|    route_completion     | 0.393       |\n",
            "|    success_rate         | 0.2         |\n",
            "|    total_cost           | 8.65        |\n",
            "| time/                   |             |\n",
            "|    total_timesteps      | 630000      |\n",
            "| train/                  |             |\n",
            "|    approx_kl            | 0.008572719 |\n",
            "|    clip_fraction        | 0.19        |\n",
            "|    clip_range           | 0.1         |\n",
            "|    entropy_loss         | -1.93       |\n",
            "|    explained_variance   | 0.661       |\n",
            "|    learning_rate        | 5e-05       |\n",
            "|    loss                 | 47.5        |\n",
            "|    n_updates            | 2500        |\n",
            "|    policy_gradient_loss | 0.00211     |\n",
            "|    std                  | 0.642       |\n",
            "|    value_loss           | 80.4        |\n",
            "-----------------------------------------\n",
            "---------------------------------\n",
            "| rollout/           |          |\n",
            "|    ep_len_mean     | 350      |\n",
            "|    ep_rew_mean     | 269      |\n",
            "| time/              |          |\n",
            "|    fps             | 743      |\n",
            "|    iterations      | 126      |\n",
            "|    time_elapsed    | 846      |\n",
            "|    total_timesteps | 630000   |\n",
            "---------------------------------\n",
            "------------------------------------------\n",
            "| rollout/                |              |\n",
            "|    ep_len_mean          | 355          |\n",
            "|    ep_rew_mean          | 274          |\n",
            "| time/                   |              |\n",
            "|    fps                  | 745          |\n",
            "|    iterations           | 127          |\n",
            "|    time_elapsed         | 852          |\n",
            "|    total_timesteps      | 635000       |\n",
            "| train/                  |              |\n",
            "|    approx_kl            | 0.0035771667 |\n",
            "|    clip_fraction        | 0.151        |\n",
            "|    clip_range           | 0.1          |\n",
            "|    entropy_loss         | -1.93        |\n",
            "|    explained_variance   | 0.694        |\n",
            "|    learning_rate        | 5e-05        |\n",
            "|    loss                 | 21.5         |\n",
            "|    n_updates            | 2520         |\n",
            "|    policy_gradient_loss | -0.0011      |\n",
            "|    std                  | 0.642        |\n",
            "|    value_loss           | 71.2         |\n",
            "------------------------------------------\n"
          ]
        },
        {
          "data": {
            "text/html": [
              "<pre style=\"white-space:pre;overflow-x:auto;line-height:normal;font-family:Menlo,'DejaVu Sans Mono',consolas,'Courier New',monospace\">Eval num_timesteps=640000, episode_reward=90.31 +/- 30.18\n",
              "</pre>\n"
            ],
            "text/plain": [
              "Eval num_timesteps=640000, episode_reward=90.31 +/- 30.18\n"
            ]
          },
          "metadata": {},
          "output_type": "display_data"
        },
        {
          "data": {
            "text/html": [
              "<pre style=\"white-space:pre;overflow-x:auto;line-height:normal;font-family:Menlo,'DejaVu Sans Mono',consolas,'Courier New',monospace\">Episode length: 95.40 +/- 24.48\n",
              "</pre>\n"
            ],
            "text/plain": [
              "Episode length: 95.40 +/- 24.48\n"
            ]
          },
          "metadata": {},
          "output_type": "display_data"
        },
        {
          "data": {
            "text/html": [
              "<pre style=\"white-space:pre;overflow-x:auto;line-height:normal;font-family:Menlo,'DejaVu Sans Mono',consolas,'Courier New',monospace\">Success rate: 0.00%\n",
              "</pre>\n"
            ],
            "text/plain": [
              "Success rate: 0.00%\n"
            ]
          },
          "metadata": {},
          "output_type": "display_data"
        },
        {
          "name": "stdout",
          "output_type": "stream",
          "text": [
            "------------------------------------------\n",
            "| eval/                   |              |\n",
            "|    arrive_dest          | 0.0563       |\n",
            "|    crash                | 0.241        |\n",
            "|    max_step             | 0            |\n",
            "|    mean_ep_length       | 95.4         |\n",
            "|    mean_reward          | 90.3         |\n",
            "|    num_episodes         | 5            |\n",
            "|    out_of_road          | 0.944        |\n",
            "|    raw_action           | 0.46111807   |\n",
            "|    route_completion     | 0.393        |\n",
            "|    success_rate         | 0            |\n",
            "|    total_cost           | 8.58         |\n",
            "| time/                   |              |\n",
            "|    total_timesteps      | 640000       |\n",
            "| train/                  |              |\n",
            "|    approx_kl            | 0.0023555637 |\n",
            "|    clip_fraction        | 0.199        |\n",
            "|    clip_range           | 0.1          |\n",
            "|    entropy_loss         | -1.93        |\n",
            "|    explained_variance   | 0.754        |\n",
            "|    learning_rate        | 5e-05        |\n",
            "|    loss                 | 20.5         |\n",
            "|    n_updates            | 2540         |\n",
            "|    policy_gradient_loss | 0.00104      |\n",
            "|    std                  | 0.642        |\n",
            "|    value_loss           | 49.5         |\n",
            "------------------------------------------\n",
            "---------------------------------\n",
            "| rollout/           |          |\n",
            "|    ep_len_mean     | 366      |\n",
            "|    ep_rew_mean     | 287      |\n",
            "| time/              |          |\n",
            "|    fps             | 745      |\n",
            "|    iterations      | 128      |\n",
            "|    time_elapsed    | 858      |\n",
            "|    total_timesteps | 640000   |\n",
            "---------------------------------\n",
            "------------------------------------------\n",
            "| rollout/                |              |\n",
            "|    ep_len_mean          | 364          |\n",
            "|    ep_rew_mean          | 299          |\n",
            "| time/                   |              |\n",
            "|    fps                  | 747          |\n",
            "|    iterations           | 129          |\n",
            "|    time_elapsed         | 863          |\n",
            "|    total_timesteps      | 645000       |\n",
            "| train/                  |              |\n",
            "|    approx_kl            | 0.0043029143 |\n",
            "|    clip_fraction        | 0.161        |\n",
            "|    clip_range           | 0.1          |\n",
            "|    entropy_loss         | -1.93        |\n",
            "|    explained_variance   | 0.742        |\n",
            "|    learning_rate        | 5e-05        |\n",
            "|    loss                 | 45           |\n",
            "|    n_updates            | 2560         |\n",
            "|    policy_gradient_loss | -0.000293    |\n",
            "|    std                  | 0.64         |\n",
            "|    value_loss           | 55.8         |\n",
            "------------------------------------------\n"
          ]
        },
        {
          "data": {
            "text/html": [
              "<pre style=\"white-space:pre;overflow-x:auto;line-height:normal;font-family:Menlo,'DejaVu Sans Mono',consolas,'Courier New',monospace\">Eval num_timesteps=650000, episode_reward=162.28 +/- 118.33\n",
              "</pre>\n"
            ],
            "text/plain": [
              "Eval num_timesteps=650000, episode_reward=162.28 +/- 118.33\n"
            ]
          },
          "metadata": {},
          "output_type": "display_data"
        },
        {
          "data": {
            "text/html": [
              "<pre style=\"white-space:pre;overflow-x:auto;line-height:normal;font-family:Menlo,'DejaVu Sans Mono',consolas,'Courier New',monospace\">Episode length: 125.80 +/- 60.68\n",
              "</pre>\n"
            ],
            "text/plain": [
              "Episode length: 125.80 +/- 60.68\n"
            ]
          },
          "metadata": {},
          "output_type": "display_data"
        },
        {
          "data": {
            "text/html": [
              "<pre style=\"white-space:pre;overflow-x:auto;line-height:normal;font-family:Menlo,'DejaVu Sans Mono',consolas,'Courier New',monospace\">Success rate: 0.00%\n",
              "</pre>\n"
            ],
            "text/plain": [
              "Success rate: 0.00%\n"
            ]
          },
          "metadata": {},
          "output_type": "display_data"
        },
        {
          "name": "stdout",
          "output_type": "stream",
          "text": [
            "------------------------------------------\n",
            "| eval/                   |              |\n",
            "|    arrive_dest          | 0.0554       |\n",
            "|    crash                | 0.24         |\n",
            "|    max_step             | 0            |\n",
            "|    mean_ep_length       | 126          |\n",
            "|    mean_reward          | 162          |\n",
            "|    num_episodes         | 5            |\n",
            "|    out_of_road          | 0.945        |\n",
            "|    raw_action           | 0.46184558   |\n",
            "|    route_completion     | 0.393        |\n",
            "|    success_rate         | 0            |\n",
            "|    total_cost           | 8.49         |\n",
            "| time/                   |              |\n",
            "|    total_timesteps      | 650000       |\n",
            "| train/                  |              |\n",
            "|    approx_kl            | 0.0015351316 |\n",
            "|    clip_fraction        | 0.124        |\n",
            "|    clip_range           | 0.1          |\n",
            "|    entropy_loss         | -1.92        |\n",
            "|    explained_variance   | 0.702        |\n",
            "|    learning_rate        | 5e-05        |\n",
            "|    loss                 | 35.2         |\n",
            "|    n_updates            | 2580         |\n",
            "|    policy_gradient_loss | -0.00103     |\n",
            "|    std                  | 0.64         |\n",
            "|    value_loss           | 67.2         |\n",
            "------------------------------------------\n",
            "---------------------------------\n",
            "| rollout/           |          |\n",
            "|    ep_len_mean     | 362      |\n",
            "|    ep_rew_mean     | 294      |\n",
            "| time/              |          |\n",
            "|    fps             | 747      |\n",
            "|    iterations      | 130      |\n",
            "|    time_elapsed    | 869      |\n",
            "|    total_timesteps | 650000   |\n",
            "---------------------------------\n",
            "------------------------------------------\n",
            "| rollout/                |              |\n",
            "|    ep_len_mean          | 361          |\n",
            "|    ep_rew_mean          | 294          |\n",
            "| time/                   |              |\n",
            "|    fps                  | 748          |\n",
            "|    iterations           | 131          |\n",
            "|    time_elapsed         | 874          |\n",
            "|    total_timesteps      | 655000       |\n",
            "| train/                  |              |\n",
            "|    approx_kl            | 0.0029040452 |\n",
            "|    clip_fraction        | 0.132        |\n",
            "|    clip_range           | 0.1          |\n",
            "|    entropy_loss         | -1.92        |\n",
            "|    explained_variance   | 0.707        |\n",
            "|    learning_rate        | 5e-05        |\n",
            "|    loss                 | 21.1         |\n",
            "|    n_updates            | 2600         |\n",
            "|    policy_gradient_loss | -0.000101    |\n",
            "|    std                  | 0.638        |\n",
            "|    value_loss           | 76.5         |\n",
            "------------------------------------------\n"
          ]
        },
        {
          "data": {
            "text/html": [
              "<pre style=\"white-space:pre;overflow-x:auto;line-height:normal;font-family:Menlo,'DejaVu Sans Mono',consolas,'Courier New',monospace\">Eval num_timesteps=660000, episode_reward=152.53 +/- 75.23\n",
              "</pre>\n"
            ],
            "text/plain": [
              "Eval num_timesteps=660000, episode_reward=152.53 +/- 75.23\n"
            ]
          },
          "metadata": {},
          "output_type": "display_data"
        },
        {
          "data": {
            "text/html": [
              "<pre style=\"white-space:pre;overflow-x:auto;line-height:normal;font-family:Menlo,'DejaVu Sans Mono',consolas,'Courier New',monospace\">Episode length: 128.60 +/- 55.51\n",
              "</pre>\n"
            ],
            "text/plain": [
              "Episode length: 128.60 +/- 55.51\n"
            ]
          },
          "metadata": {},
          "output_type": "display_data"
        },
        {
          "data": {
            "text/html": [
              "<pre style=\"white-space:pre;overflow-x:auto;line-height:normal;font-family:Menlo,'DejaVu Sans Mono',consolas,'Courier New',monospace\">Success rate: 0.00%\n",
              "</pre>\n"
            ],
            "text/plain": [
              "Success rate: 0.00%\n"
            ]
          },
          "metadata": {},
          "output_type": "display_data"
        },
        {
          "name": "stdout",
          "output_type": "stream",
          "text": [
            "-----------------------------------------\n",
            "| eval/                   |             |\n",
            "|    arrive_dest          | 0.0545      |\n",
            "|    crash                | 0.242       |\n",
            "|    max_step             | 0           |\n",
            "|    mean_ep_length       | 129         |\n",
            "|    mean_reward          | 153         |\n",
            "|    num_episodes         | 5           |\n",
            "|    out_of_road          | 0.945       |\n",
            "|    raw_action           | 0.4617454   |\n",
            "|    route_completion     | 0.395       |\n",
            "|    success_rate         | 0           |\n",
            "|    total_cost           | 8.43        |\n",
            "| time/                   |             |\n",
            "|    total_timesteps      | 660000      |\n",
            "| train/                  |             |\n",
            "|    approx_kl            | 0.001116737 |\n",
            "|    clip_fraction        | 0.0804      |\n",
            "|    clip_range           | 0.1         |\n",
            "|    entropy_loss         | -1.92       |\n",
            "|    explained_variance   | 0.707       |\n",
            "|    learning_rate        | 5e-05       |\n",
            "|    loss                 | 50.2        |\n",
            "|    n_updates            | 2620        |\n",
            "|    policy_gradient_loss | -0.001      |\n",
            "|    std                  | 0.638       |\n",
            "|    value_loss           | 66.7        |\n",
            "-----------------------------------------\n",
            "---------------------------------\n",
            "| rollout/           |          |\n",
            "|    ep_len_mean     | 364      |\n",
            "|    ep_rew_mean     | 297      |\n",
            "| time/              |          |\n",
            "|    fps             | 748      |\n",
            "|    iterations      | 132      |\n",
            "|    time_elapsed    | 881      |\n",
            "|    total_timesteps | 660000   |\n",
            "---------------------------------\n",
            "------------------------------------------\n",
            "| rollout/                |              |\n",
            "|    ep_len_mean          | 358          |\n",
            "|    ep_rew_mean          | 299          |\n",
            "| time/                   |              |\n",
            "|    fps                  | 749          |\n",
            "|    iterations           | 133          |\n",
            "|    time_elapsed         | 886          |\n",
            "|    total_timesteps      | 665000       |\n",
            "| train/                  |              |\n",
            "|    approx_kl            | 0.0035500962 |\n",
            "|    clip_fraction        | 0.168        |\n",
            "|    clip_range           | 0.1          |\n",
            "|    entropy_loss         | -1.91        |\n",
            "|    explained_variance   | 0.696        |\n",
            "|    learning_rate        | 5e-05        |\n",
            "|    loss                 | 26.3         |\n",
            "|    n_updates            | 2640         |\n",
            "|    policy_gradient_loss | 0.000506     |\n",
            "|    std                  | 0.638        |\n",
            "|    value_loss           | 59.2         |\n",
            "------------------------------------------\n"
          ]
        },
        {
          "data": {
            "text/html": [
              "<pre style=\"white-space:pre;overflow-x:auto;line-height:normal;font-family:Menlo,'DejaVu Sans Mono',consolas,'Courier New',monospace\">Eval num_timesteps=670000, episode_reward=97.26 +/- 22.57\n",
              "</pre>\n"
            ],
            "text/plain": [
              "Eval num_timesteps=670000, episode_reward=97.26 +/- 22.57\n"
            ]
          },
          "metadata": {},
          "output_type": "display_data"
        },
        {
          "data": {
            "text/html": [
              "<pre style=\"white-space:pre;overflow-x:auto;line-height:normal;font-family:Menlo,'DejaVu Sans Mono',consolas,'Courier New',monospace\">Episode length: 88.80 +/- 10.19\n",
              "</pre>\n"
            ],
            "text/plain": [
              "Episode length: 88.80 +/- 10.19\n"
            ]
          },
          "metadata": {},
          "output_type": "display_data"
        },
        {
          "data": {
            "text/html": [
              "<pre style=\"white-space:pre;overflow-x:auto;line-height:normal;font-family:Menlo,'DejaVu Sans Mono',consolas,'Courier New',monospace\">Success rate: 0.00%\n",
              "</pre>\n"
            ],
            "text/plain": [
              "Success rate: 0.00%\n"
            ]
          },
          "metadata": {},
          "output_type": "display_data"
        },
        {
          "name": "stdout",
          "output_type": "stream",
          "text": [
            "-----------------------------------------\n",
            "| eval/                   |             |\n",
            "|    arrive_dest          | 0.0537      |\n",
            "|    crash                | 0.239       |\n",
            "|    max_step             | 0           |\n",
            "|    mean_ep_length       | 88.8        |\n",
            "|    mean_reward          | 97.3        |\n",
            "|    num_episodes         | 5           |\n",
            "|    out_of_road          | 0.946       |\n",
            "|    raw_action           | 0.46184334  |\n",
            "|    route_completion     | 0.393       |\n",
            "|    success_rate         | 0           |\n",
            "|    total_cost           | 8.32        |\n",
            "| time/                   |             |\n",
            "|    total_timesteps      | 670000      |\n",
            "| train/                  |             |\n",
            "|    approx_kl            | 0.004387529 |\n",
            "|    clip_fraction        | 0.117       |\n",
            "|    clip_range           | 0.1         |\n",
            "|    entropy_loss         | -1.91       |\n",
            "|    explained_variance   | 0.714       |\n",
            "|    learning_rate        | 5e-05       |\n",
            "|    loss                 | 27.4        |\n",
            "|    n_updates            | 2660        |\n",
            "|    policy_gradient_loss | -0.00167    |\n",
            "|    std                  | 0.637       |\n",
            "|    value_loss           | 74.2        |\n",
            "-----------------------------------------\n",
            "---------------------------------\n",
            "| rollout/           |          |\n",
            "|    ep_len_mean     | 358      |\n",
            "|    ep_rew_mean     | 300      |\n",
            "| time/              |          |\n",
            "|    fps             | 750      |\n",
            "|    iterations      | 134      |\n",
            "|    time_elapsed    | 892      |\n",
            "|    total_timesteps | 670000   |\n",
            "---------------------------------\n",
            "-----------------------------------------\n",
            "| rollout/                |             |\n",
            "|    ep_len_mean          | 343         |\n",
            "|    ep_rew_mean          | 292         |\n",
            "| time/                   |             |\n",
            "|    fps                  | 752         |\n",
            "|    iterations           | 135         |\n",
            "|    time_elapsed         | 897         |\n",
            "|    total_timesteps      | 675000      |\n",
            "| train/                  |             |\n",
            "|    approx_kl            | 0.001129987 |\n",
            "|    clip_fraction        | 0.184       |\n",
            "|    clip_range           | 0.1         |\n",
            "|    entropy_loss         | -1.91       |\n",
            "|    explained_variance   | 0.671       |\n",
            "|    learning_rate        | 5e-05       |\n",
            "|    loss                 | 29.2        |\n",
            "|    n_updates            | 2680        |\n",
            "|    policy_gradient_loss | 0.000844    |\n",
            "|    std                  | 0.635       |\n",
            "|    value_loss           | 78.6        |\n",
            "-----------------------------------------\n"
          ]
        },
        {
          "data": {
            "text/html": [
              "<pre style=\"white-space:pre;overflow-x:auto;line-height:normal;font-family:Menlo,'DejaVu Sans Mono',consolas,'Courier New',monospace\">Eval num_timesteps=680000, episode_reward=97.66 +/- 50.12\n",
              "</pre>\n"
            ],
            "text/plain": [
              "Eval num_timesteps=680000, episode_reward=97.66 +/- 50.12\n"
            ]
          },
          "metadata": {},
          "output_type": "display_data"
        },
        {
          "data": {
            "text/html": [
              "<pre style=\"white-space:pre;overflow-x:auto;line-height:normal;font-family:Menlo,'DejaVu Sans Mono',consolas,'Courier New',monospace\">Episode length: 111.20 +/- 51.33\n",
              "</pre>\n"
            ],
            "text/plain": [
              "Episode length: 111.20 +/- 51.33\n"
            ]
          },
          "metadata": {},
          "output_type": "display_data"
        },
        {
          "data": {
            "text/html": [
              "<pre style=\"white-space:pre;overflow-x:auto;line-height:normal;font-family:Menlo,'DejaVu Sans Mono',consolas,'Courier New',monospace\">Success rate: 0.00%\n",
              "</pre>\n"
            ],
            "text/plain": [
              "Success rate: 0.00%\n"
            ]
          },
          "metadata": {},
          "output_type": "display_data"
        },
        {
          "name": "stdout",
          "output_type": "stream",
          "text": [
            "------------------------------------------\n",
            "| eval/                   |              |\n",
            "|    arrive_dest          | 0.0529       |\n",
            "|    crash                | 0.238        |\n",
            "|    max_step             | 0            |\n",
            "|    mean_ep_length       | 111          |\n",
            "|    mean_reward          | 97.7         |\n",
            "|    num_episodes         | 5            |\n",
            "|    out_of_road          | 0.947        |\n",
            "|    raw_action           | 0.46195564   |\n",
            "|    route_completion     | 0.393        |\n",
            "|    success_rate         | 0            |\n",
            "|    total_cost           | 8.35         |\n",
            "| time/                   |              |\n",
            "|    total_timesteps      | 680000       |\n",
            "| train/                  |              |\n",
            "|    approx_kl            | 0.0012545893 |\n",
            "|    clip_fraction        | 0.136        |\n",
            "|    clip_range           | 0.1          |\n",
            "|    entropy_loss         | -1.9         |\n",
            "|    explained_variance   | 0.651        |\n",
            "|    learning_rate        | 5e-05        |\n",
            "|    loss                 | 56.5         |\n",
            "|    n_updates            | 2700         |\n",
            "|    policy_gradient_loss | -0.000677    |\n",
            "|    std                  | 0.636        |\n",
            "|    value_loss           | 88           |\n",
            "------------------------------------------\n",
            "---------------------------------\n",
            "| rollout/           |          |\n",
            "|    ep_len_mean     | 336      |\n",
            "|    ep_rew_mean     | 286      |\n",
            "| time/              |          |\n",
            "|    fps             | 752      |\n",
            "|    iterations      | 136      |\n",
            "|    time_elapsed    | 904      |\n",
            "|    total_timesteps | 680000   |\n",
            "---------------------------------\n",
            "------------------------------------------\n",
            "| rollout/                |              |\n",
            "|    ep_len_mean          | 325          |\n",
            "|    ep_rew_mean          | 279          |\n",
            "| time/                   |              |\n",
            "|    fps                  | 753          |\n",
            "|    iterations           | 137          |\n",
            "|    time_elapsed         | 909          |\n",
            "|    total_timesteps      | 685000       |\n",
            "| train/                  |              |\n",
            "|    approx_kl            | 0.0044864817 |\n",
            "|    clip_fraction        | 0.143        |\n",
            "|    clip_range           | 0.1          |\n",
            "|    entropy_loss         | -1.9         |\n",
            "|    explained_variance   | 0.619        |\n",
            "|    learning_rate        | 5e-05        |\n",
            "|    loss                 | 35.9         |\n",
            "|    n_updates            | 2720         |\n",
            "|    policy_gradient_loss | 0.000117     |\n",
            "|    std                  | 0.636        |\n",
            "|    value_loss           | 85.2         |\n",
            "------------------------------------------\n"
          ]
        },
        {
          "data": {
            "text/html": [
              "<pre style=\"white-space:pre;overflow-x:auto;line-height:normal;font-family:Menlo,'DejaVu Sans Mono',consolas,'Courier New',monospace\">Eval num_timesteps=690000, episode_reward=194.52 +/- 85.92\n",
              "</pre>\n"
            ],
            "text/plain": [
              "Eval num_timesteps=690000, episode_reward=194.52 +/- 85.92\n"
            ]
          },
          "metadata": {},
          "output_type": "display_data"
        },
        {
          "data": {
            "text/html": [
              "<pre style=\"white-space:pre;overflow-x:auto;line-height:normal;font-family:Menlo,'DejaVu Sans Mono',consolas,'Courier New',monospace\">Episode length: 158.20 +/- 59.86\n",
              "</pre>\n"
            ],
            "text/plain": [
              "Episode length: 158.20 +/- 59.86\n"
            ]
          },
          "metadata": {},
          "output_type": "display_data"
        },
        {
          "data": {
            "text/html": [
              "<pre style=\"white-space:pre;overflow-x:auto;line-height:normal;font-family:Menlo,'DejaVu Sans Mono',consolas,'Courier New',monospace\">Success rate: 0.00%\n",
              "</pre>\n"
            ],
            "text/plain": [
              "Success rate: 0.00%\n"
            ]
          },
          "metadata": {},
          "output_type": "display_data"
        },
        {
          "name": "stdout",
          "output_type": "stream",
          "text": [
            "------------------------------------------\n",
            "| eval/                   |              |\n",
            "|    arrive_dest          | 0.0522       |\n",
            "|    crash                | 0.235        |\n",
            "|    max_step             | 0            |\n",
            "|    mean_ep_length       | 158          |\n",
            "|    mean_reward          | 195          |\n",
            "|    num_episodes         | 5            |\n",
            "|    out_of_road          | 0.948        |\n",
            "|    raw_action           | 0.46223566   |\n",
            "|    route_completion     | 0.395        |\n",
            "|    success_rate         | 0            |\n",
            "|    total_cost           | 8.3          |\n",
            "| time/                   |              |\n",
            "|    total_timesteps      | 690000       |\n",
            "| train/                  |              |\n",
            "|    approx_kl            | 0.0011712838 |\n",
            "|    clip_fraction        | 0.108        |\n",
            "|    clip_range           | 0.1          |\n",
            "|    entropy_loss         | -1.9         |\n",
            "|    explained_variance   | 0.644        |\n",
            "|    learning_rate        | 5e-05        |\n",
            "|    loss                 | 40.3         |\n",
            "|    n_updates            | 2740         |\n",
            "|    policy_gradient_loss | -0.00132     |\n",
            "|    std                  | 0.636        |\n",
            "|    value_loss           | 96.4         |\n",
            "------------------------------------------\n",
            "---------------------------------\n",
            "| rollout/           |          |\n",
            "|    ep_len_mean     | 324      |\n",
            "|    ep_rew_mean     | 280      |\n",
            "| time/              |          |\n",
            "|    fps             | 753      |\n",
            "|    iterations      | 138      |\n",
            "|    time_elapsed    | 915      |\n",
            "|    total_timesteps | 690000   |\n",
            "---------------------------------\n",
            "-----------------------------------------\n",
            "| rollout/                |             |\n",
            "|    ep_len_mean          | 323         |\n",
            "|    ep_rew_mean          | 274         |\n",
            "| time/                   |             |\n",
            "|    fps                  | 754         |\n",
            "|    iterations           | 139         |\n",
            "|    time_elapsed         | 921         |\n",
            "|    total_timesteps      | 695000      |\n",
            "| train/                  |             |\n",
            "|    approx_kl            | 0.001963633 |\n",
            "|    clip_fraction        | 0.177       |\n",
            "|    clip_range           | 0.1         |\n",
            "|    entropy_loss         | -1.9        |\n",
            "|    explained_variance   | 0.752       |\n",
            "|    learning_rate        | 5e-05       |\n",
            "|    loss                 | 26          |\n",
            "|    n_updates            | 2760        |\n",
            "|    policy_gradient_loss | 0.00197     |\n",
            "|    std                  | 0.635       |\n",
            "|    value_loss           | 53.4        |\n",
            "-----------------------------------------\n"
          ]
        },
        {
          "data": {
            "text/html": [
              "<pre style=\"white-space:pre;overflow-x:auto;line-height:normal;font-family:Menlo,'DejaVu Sans Mono',consolas,'Courier New',monospace\">Saving model checkpoint to \n",
              "runs\\ppo_metadrive\\ppo_metadrive_2025-03-16_17-43-31_a51009e7\\models\\rl_model_700000_steps.zip\n",
              "</pre>\n"
            ],
            "text/plain": [
              "Saving model checkpoint to \n",
              "runs\\ppo_metadrive\\ppo_metadrive_2025-03-16_17-43-31_a51009e7\\models\\rl_model_700000_steps.zip\n"
            ]
          },
          "metadata": {},
          "output_type": "display_data"
        },
        {
          "data": {
            "text/html": [
              "<pre style=\"white-space:pre;overflow-x:auto;line-height:normal;font-family:Menlo,'DejaVu Sans Mono',consolas,'Courier New',monospace\">Eval num_timesteps=700000, episode_reward=195.29 +/- 124.58\n",
              "</pre>\n"
            ],
            "text/plain": [
              "Eval num_timesteps=700000, episode_reward=195.29 +/- 124.58\n"
            ]
          },
          "metadata": {},
          "output_type": "display_data"
        },
        {
          "data": {
            "text/html": [
              "<pre style=\"white-space:pre;overflow-x:auto;line-height:normal;font-family:Menlo,'DejaVu Sans Mono',consolas,'Courier New',monospace\">Episode length: 149.80 +/- 69.22\n",
              "</pre>\n"
            ],
            "text/plain": [
              "Episode length: 149.80 +/- 69.22\n"
            ]
          },
          "metadata": {},
          "output_type": "display_data"
        },
        {
          "data": {
            "text/html": [
              "<pre style=\"white-space:pre;overflow-x:auto;line-height:normal;font-family:Menlo,'DejaVu Sans Mono',consolas,'Courier New',monospace\">Success rate: 0.00%\n",
              "</pre>\n"
            ],
            "text/plain": [
              "Success rate: 0.00%\n"
            ]
          },
          "metadata": {},
          "output_type": "display_data"
        },
        {
          "name": "stdout",
          "output_type": "stream",
          "text": [
            "-----------------------------------------\n",
            "| eval/                   |             |\n",
            "|    arrive_dest          | 0.0514      |\n",
            "|    crash                | 0.231       |\n",
            "|    max_step             | 0           |\n",
            "|    mean_ep_length       | 150         |\n",
            "|    mean_reward          | 195         |\n",
            "|    num_episodes         | 5           |\n",
            "|    out_of_road          | 0.949       |\n",
            "|    raw_action           | 0.46190226  |\n",
            "|    route_completion     | 0.397       |\n",
            "|    success_rate         | 0           |\n",
            "|    total_cost           | 8.26        |\n",
            "| time/                   |             |\n",
            "|    total_timesteps      | 700000      |\n",
            "| train/                  |             |\n",
            "|    approx_kl            | 0.009255468 |\n",
            "|    clip_fraction        | 0.165       |\n",
            "|    clip_range           | 0.1         |\n",
            "|    entropy_loss         | -1.9        |\n",
            "|    explained_variance   | 0.741       |\n",
            "|    learning_rate        | 5e-05       |\n",
            "|    loss                 | 34.3        |\n",
            "|    n_updates            | 2780        |\n",
            "|    policy_gradient_loss | 0.00272     |\n",
            "|    std                  | 0.633       |\n",
            "|    value_loss           | 72.8        |\n",
            "-----------------------------------------\n",
            "---------------------------------\n",
            "| rollout/           |          |\n",
            "|    ep_len_mean     | 323      |\n",
            "|    ep_rew_mean     | 274      |\n",
            "| time/              |          |\n",
            "|    fps             | 753      |\n",
            "|    iterations      | 140      |\n",
            "|    time_elapsed    | 928      |\n",
            "|    total_timesteps | 700000   |\n",
            "---------------------------------\n",
            "------------------------------------------\n",
            "| rollout/                |              |\n",
            "|    ep_len_mean          | 327          |\n",
            "|    ep_rew_mean          | 277          |\n",
            "| time/                   |              |\n",
            "|    fps                  | 755          |\n",
            "|    iterations           | 141          |\n",
            "|    time_elapsed         | 933          |\n",
            "|    total_timesteps      | 705000       |\n",
            "| train/                  |              |\n",
            "|    approx_kl            | 0.0009903199 |\n",
            "|    clip_fraction        | 0.205        |\n",
            "|    clip_range           | 0.1          |\n",
            "|    entropy_loss         | -1.89        |\n",
            "|    explained_variance   | 0.7          |\n",
            "|    learning_rate        | 5e-05        |\n",
            "|    loss                 | 48.2         |\n",
            "|    n_updates            | 2800         |\n",
            "|    policy_gradient_loss | 0.00342      |\n",
            "|    std                  | 0.632        |\n",
            "|    value_loss           | 73.2         |\n",
            "------------------------------------------\n"
          ]
        },
        {
          "data": {
            "text/html": [
              "<pre style=\"white-space:pre;overflow-x:auto;line-height:normal;font-family:Menlo,'DejaVu Sans Mono',consolas,'Courier New',monospace\">Eval num_timesteps=710000, episode_reward=178.77 +/- 164.42\n",
              "</pre>\n"
            ],
            "text/plain": [
              "Eval num_timesteps=710000, episode_reward=178.77 +/- 164.42\n"
            ]
          },
          "metadata": {},
          "output_type": "display_data"
        },
        {
          "data": {
            "text/html": [
              "<pre style=\"white-space:pre;overflow-x:auto;line-height:normal;font-family:Menlo,'DejaVu Sans Mono',consolas,'Courier New',monospace\">Episode length: 140.20 +/- 86.22\n",
              "</pre>\n"
            ],
            "text/plain": [
              "Episode length: 140.20 +/- 86.22\n"
            ]
          },
          "metadata": {},
          "output_type": "display_data"
        },
        {
          "data": {
            "text/html": [
              "<pre style=\"white-space:pre;overflow-x:auto;line-height:normal;font-family:Menlo,'DejaVu Sans Mono',consolas,'Courier New',monospace\">Success rate: 20.00%\n",
              "</pre>\n"
            ],
            "text/plain": [
              "Success rate: 20.00%\n"
            ]
          },
          "metadata": {},
          "output_type": "display_data"
        },
        {
          "name": "stdout",
          "output_type": "stream",
          "text": [
            "------------------------------------------\n",
            "| eval/                   |              |\n",
            "|    arrive_dest          | 0.0535       |\n",
            "|    crash                | 0.228        |\n",
            "|    max_step             | 0            |\n",
            "|    mean_ep_length       | 140          |\n",
            "|    mean_reward          | 179          |\n",
            "|    num_episodes         | 5            |\n",
            "|    out_of_road          | 0.946        |\n",
            "|    raw_action           | 0.46233445   |\n",
            "|    route_completion     | 0.398        |\n",
            "|    success_rate         | 0.2          |\n",
            "|    total_cost           | 8.19         |\n",
            "| time/                   |              |\n",
            "|    total_timesteps      | 710000       |\n",
            "| train/                  |              |\n",
            "|    approx_kl            | 0.0028044293 |\n",
            "|    clip_fraction        | 0.0817       |\n",
            "|    clip_range           | 0.1          |\n",
            "|    entropy_loss         | -1.89        |\n",
            "|    explained_variance   | 0.761        |\n",
            "|    learning_rate        | 5e-05        |\n",
            "|    loss                 | 24.9         |\n",
            "|    n_updates            | 2820         |\n",
            "|    policy_gradient_loss | -0.00256     |\n",
            "|    std                  | 0.631        |\n",
            "|    value_loss           | 66.2         |\n",
            "------------------------------------------\n",
            "---------------------------------\n",
            "| rollout/           |          |\n",
            "|    ep_len_mean     | 333      |\n",
            "|    ep_rew_mean     | 282      |\n",
            "| time/              |          |\n",
            "|    fps             | 754      |\n",
            "|    iterations      | 142      |\n",
            "|    time_elapsed    | 941      |\n",
            "|    total_timesteps | 710000   |\n",
            "---------------------------------\n",
            "----------------------------------------\n",
            "| rollout/                |            |\n",
            "|    ep_len_mean          | 335        |\n",
            "|    ep_rew_mean          | 283        |\n",
            "| time/                   |            |\n",
            "|    fps                  | 755        |\n",
            "|    iterations           | 143        |\n",
            "|    time_elapsed         | 946        |\n",
            "|    total_timesteps      | 715000     |\n",
            "| train/                  |            |\n",
            "|    approx_kl            | 0.01084832 |\n",
            "|    clip_fraction        | 0.229      |\n",
            "|    clip_range           | 0.1        |\n",
            "|    entropy_loss         | -1.89      |\n",
            "|    explained_variance   | 0.688      |\n",
            "|    learning_rate        | 5e-05      |\n",
            "|    loss                 | 45.3       |\n",
            "|    n_updates            | 2840       |\n",
            "|    policy_gradient_loss | 0.00428    |\n",
            "|    std                  | 0.632      |\n",
            "|    value_loss           | 80.6       |\n",
            "----------------------------------------\n"
          ]
        },
        {
          "data": {
            "text/html": [
              "<pre style=\"white-space:pre;overflow-x:auto;line-height:normal;font-family:Menlo,'DejaVu Sans Mono',consolas,'Courier New',monospace\">Eval num_timesteps=720000, episode_reward=180.91 +/- 140.98\n",
              "</pre>\n"
            ],
            "text/plain": [
              "Eval num_timesteps=720000, episode_reward=180.91 +/- 140.98\n"
            ]
          },
          "metadata": {},
          "output_type": "display_data"
        },
        {
          "data": {
            "text/html": [
              "<pre style=\"white-space:pre;overflow-x:auto;line-height:normal;font-family:Menlo,'DejaVu Sans Mono',consolas,'Courier New',monospace\">Episode length: 142.80 +/- 89.80\n",
              "</pre>\n"
            ],
            "text/plain": [
              "Episode length: 142.80 +/- 89.80\n"
            ]
          },
          "metadata": {},
          "output_type": "display_data"
        },
        {
          "data": {
            "text/html": [
              "<pre style=\"white-space:pre;overflow-x:auto;line-height:normal;font-family:Menlo,'DejaVu Sans Mono',consolas,'Courier New',monospace\">Success rate: 20.00%\n",
              "</pre>\n"
            ],
            "text/plain": [
              "Success rate: 20.00%\n"
            ]
          },
          "metadata": {},
          "output_type": "display_data"
        },
        {
          "name": "stdout",
          "output_type": "stream",
          "text": [
            "------------------------------------------\n",
            "| eval/                   |              |\n",
            "|    arrive_dest          | 0.0556       |\n",
            "|    crash                | 0.233        |\n",
            "|    max_step             | 0            |\n",
            "|    mean_ep_length       | 143          |\n",
            "|    mean_reward          | 181          |\n",
            "|    num_episodes         | 5            |\n",
            "|    out_of_road          | 0.944        |\n",
            "|    raw_action           | 0.46296272   |\n",
            "|    route_completion     | 0.4          |\n",
            "|    success_rate         | 0.2          |\n",
            "|    total_cost           | 8.17         |\n",
            "| time/                   |              |\n",
            "|    total_timesteps      | 720000       |\n",
            "| train/                  |              |\n",
            "|    approx_kl            | 0.0017288171 |\n",
            "|    clip_fraction        | 0.12         |\n",
            "|    clip_range           | 0.1          |\n",
            "|    entropy_loss         | -1.89        |\n",
            "|    explained_variance   | 0.646        |\n",
            "|    learning_rate        | 5e-05        |\n",
            "|    loss                 | 29.5         |\n",
            "|    n_updates            | 2860         |\n",
            "|    policy_gradient_loss | -0.00111     |\n",
            "|    std                  | 0.632        |\n",
            "|    value_loss           | 99           |\n",
            "------------------------------------------\n",
            "---------------------------------\n",
            "| rollout/           |          |\n",
            "|    ep_len_mean     | 336      |\n",
            "|    ep_rew_mean     | 283      |\n",
            "| time/              |          |\n",
            "|    fps             | 755      |\n",
            "|    iterations      | 144      |\n",
            "|    time_elapsed    | 953      |\n",
            "|    total_timesteps | 720000   |\n",
            "---------------------------------\n",
            "-----------------------------------------\n",
            "| rollout/                |             |\n",
            "|    ep_len_mean          | 329         |\n",
            "|    ep_rew_mean          | 280         |\n",
            "| time/                   |             |\n",
            "|    fps                  | 756         |\n",
            "|    iterations           | 145         |\n",
            "|    time_elapsed         | 958         |\n",
            "|    total_timesteps      | 725000      |\n",
            "| train/                  |             |\n",
            "|    approx_kl            | 0.001068841 |\n",
            "|    clip_fraction        | 0.1         |\n",
            "|    clip_range           | 0.1         |\n",
            "|    entropy_loss         | -1.88       |\n",
            "|    explained_variance   | 0.73        |\n",
            "|    learning_rate        | 5e-05       |\n",
            "|    loss                 | 32.1        |\n",
            "|    n_updates            | 2880        |\n",
            "|    policy_gradient_loss | -0.00139    |\n",
            "|    std                  | 0.631       |\n",
            "|    value_loss           | 60.9        |\n",
            "-----------------------------------------\n"
          ]
        },
        {
          "data": {
            "text/html": [
              "<pre style=\"white-space:pre;overflow-x:auto;line-height:normal;font-family:Menlo,'DejaVu Sans Mono',consolas,'Courier New',monospace\">Eval num_timesteps=730000, episode_reward=170.11 +/- 81.02\n",
              "</pre>\n"
            ],
            "text/plain": [
              "Eval num_timesteps=730000, episode_reward=170.11 +/- 81.02\n"
            ]
          },
          "metadata": {},
          "output_type": "display_data"
        },
        {
          "data": {
            "text/html": [
              "<pre style=\"white-space:pre;overflow-x:auto;line-height:normal;font-family:Menlo,'DejaVu Sans Mono',consolas,'Courier New',monospace\">Episode length: 145.40 +/- 46.84\n",
              "</pre>\n"
            ],
            "text/plain": [
              "Episode length: 145.40 +/- 46.84\n"
            ]
          },
          "metadata": {},
          "output_type": "display_data"
        },
        {
          "data": {
            "text/html": [
              "<pre style=\"white-space:pre;overflow-x:auto;line-height:normal;font-family:Menlo,'DejaVu Sans Mono',consolas,'Courier New',monospace\">Success rate: 0.00%\n",
              "</pre>\n"
            ],
            "text/plain": [
              "Success rate: 0.00%\n"
            ]
          },
          "metadata": {},
          "output_type": "display_data"
        },
        {
          "name": "stdout",
          "output_type": "stream",
          "text": [
            "------------------------------------------\n",
            "| eval/                   |              |\n",
            "|    arrive_dest          | 0.0548       |\n",
            "|    crash                | 0.23         |\n",
            "|    max_step             | 0            |\n",
            "|    mean_ep_length       | 145          |\n",
            "|    mean_reward          | 170          |\n",
            "|    num_episodes         | 5            |\n",
            "|    out_of_road          | 0.945        |\n",
            "|    raw_action           | 0.46337488   |\n",
            "|    route_completion     | 0.401        |\n",
            "|    success_rate         | 0            |\n",
            "|    total_cost           | 8.16         |\n",
            "| time/                   |              |\n",
            "|    total_timesteps      | 730000       |\n",
            "| train/                  |              |\n",
            "|    approx_kl            | 0.0019644871 |\n",
            "|    clip_fraction        | 0.0874       |\n",
            "|    clip_range           | 0.1          |\n",
            "|    entropy_loss         | -1.88        |\n",
            "|    explained_variance   | 0.77         |\n",
            "|    learning_rate        | 5e-05        |\n",
            "|    loss                 | 30.1         |\n",
            "|    n_updates            | 2900         |\n",
            "|    policy_gradient_loss | -0.00115     |\n",
            "|    std                  | 0.629        |\n",
            "|    value_loss           | 86.8         |\n",
            "------------------------------------------\n",
            "---------------------------------\n",
            "| rollout/           |          |\n",
            "|    ep_len_mean     | 321      |\n",
            "|    ep_rew_mean     | 272      |\n",
            "| time/              |          |\n",
            "|    fps             | 756      |\n",
            "|    iterations      | 146      |\n",
            "|    time_elapsed    | 965      |\n",
            "|    total_timesteps | 730000   |\n",
            "---------------------------------\n",
            "------------------------------------------\n",
            "| rollout/                |              |\n",
            "|    ep_len_mean          | 327          |\n",
            "|    ep_rew_mean          | 281          |\n",
            "| time/                   |              |\n",
            "|    fps                  | 757          |\n",
            "|    iterations           | 147          |\n",
            "|    time_elapsed         | 970          |\n",
            "|    total_timesteps      | 735000       |\n",
            "| train/                  |              |\n",
            "|    approx_kl            | 0.0012916148 |\n",
            "|    clip_fraction        | 0.149        |\n",
            "|    clip_range           | 0.1          |\n",
            "|    entropy_loss         | -1.87        |\n",
            "|    explained_variance   | 0.861        |\n",
            "|    learning_rate        | 5e-05        |\n",
            "|    loss                 | 29.9         |\n",
            "|    n_updates            | 2920         |\n",
            "|    policy_gradient_loss | 0.00137      |\n",
            "|    std                  | 0.626        |\n",
            "|    value_loss           | 78.3         |\n",
            "------------------------------------------\n"
          ]
        },
        {
          "data": {
            "text/html": [
              "<pre style=\"white-space:pre;overflow-x:auto;line-height:normal;font-family:Menlo,'DejaVu Sans Mono',consolas,'Courier New',monospace\">Eval num_timesteps=740000, episode_reward=156.88 +/- 84.87\n",
              "</pre>\n"
            ],
            "text/plain": [
              "Eval num_timesteps=740000, episode_reward=156.88 +/- 84.87\n"
            ]
          },
          "metadata": {},
          "output_type": "display_data"
        },
        {
          "data": {
            "text/html": [
              "<pre style=\"white-space:pre;overflow-x:auto;line-height:normal;font-family:Menlo,'DejaVu Sans Mono',consolas,'Courier New',monospace\">Episode length: 120.00 +/- 43.23\n",
              "</pre>\n"
            ],
            "text/plain": [
              "Episode length: 120.00 +/- 43.23\n"
            ]
          },
          "metadata": {},
          "output_type": "display_data"
        },
        {
          "data": {
            "text/html": [
              "<pre style=\"white-space:pre;overflow-x:auto;line-height:normal;font-family:Menlo,'DejaVu Sans Mono',consolas,'Courier New',monospace\">Success rate: 0.00%\n",
              "</pre>\n"
            ],
            "text/plain": [
              "Success rate: 0.00%\n"
            ]
          },
          "metadata": {},
          "output_type": "display_data"
        },
        {
          "name": "stdout",
          "output_type": "stream",
          "text": [
            "------------------------------------------\n",
            "| eval/                   |              |\n",
            "|    arrive_dest          | 0.0541       |\n",
            "|    crash                | 0.23         |\n",
            "|    max_step             | 0            |\n",
            "|    mean_ep_length       | 120          |\n",
            "|    mean_reward          | 157          |\n",
            "|    num_episodes         | 5            |\n",
            "|    out_of_road          | 0.946        |\n",
            "|    raw_action           | 0.4638999    |\n",
            "|    route_completion     | 0.402        |\n",
            "|    success_rate         | 0            |\n",
            "|    total_cost           | 8.09         |\n",
            "| time/                   |              |\n",
            "|    total_timesteps      | 740000       |\n",
            "| train/                  |              |\n",
            "|    approx_kl            | 0.0012717682 |\n",
            "|    clip_fraction        | 0.118        |\n",
            "|    clip_range           | 0.1          |\n",
            "|    entropy_loss         | -1.86        |\n",
            "|    explained_variance   | 0.915        |\n",
            "|    learning_rate        | 5e-05        |\n",
            "|    loss                 | 48.4         |\n",
            "|    n_updates            | 2940         |\n",
            "|    policy_gradient_loss | -0.00101     |\n",
            "|    std                  | 0.624        |\n",
            "|    value_loss           | 66.6         |\n",
            "------------------------------------------\n",
            "---------------------------------\n",
            "| rollout/           |          |\n",
            "|    ep_len_mean     | 326      |\n",
            "|    ep_rew_mean     | 278      |\n",
            "| time/              |          |\n",
            "|    fps             | 757      |\n",
            "|    iterations      | 148      |\n",
            "|    time_elapsed    | 977      |\n",
            "|    total_timesteps | 740000   |\n",
            "---------------------------------\n",
            "-----------------------------------------\n",
            "| rollout/                |             |\n",
            "|    ep_len_mean          | 315         |\n",
            "|    ep_rew_mean          | 271         |\n",
            "| time/                   |             |\n",
            "|    fps                  | 758         |\n",
            "|    iterations           | 149         |\n",
            "|    time_elapsed         | 982         |\n",
            "|    total_timesteps      | 745000      |\n",
            "| train/                  |             |\n",
            "|    approx_kl            | 0.002792193 |\n",
            "|    clip_fraction        | 0.135       |\n",
            "|    clip_range           | 0.1         |\n",
            "|    entropy_loss         | -1.86       |\n",
            "|    explained_variance   | 0.922       |\n",
            "|    learning_rate        | 5e-05       |\n",
            "|    loss                 | 25          |\n",
            "|    n_updates            | 2960        |\n",
            "|    policy_gradient_loss | -0.00153    |\n",
            "|    std                  | 0.624       |\n",
            "|    value_loss           | 69.7        |\n",
            "-----------------------------------------\n"
          ]
        },
        {
          "data": {
            "text/html": [
              "<pre style=\"white-space:pre;overflow-x:auto;line-height:normal;font-family:Menlo,'DejaVu Sans Mono',consolas,'Courier New',monospace\">Eval num_timesteps=750000, episode_reward=135.54 +/- 76.71\n",
              "</pre>\n"
            ],
            "text/plain": [
              "Eval num_timesteps=750000, episode_reward=135.54 +/- 76.71\n"
            ]
          },
          "metadata": {},
          "output_type": "display_data"
        },
        {
          "data": {
            "text/html": [
              "<pre style=\"white-space:pre;overflow-x:auto;line-height:normal;font-family:Menlo,'DejaVu Sans Mono',consolas,'Courier New',monospace\">Episode length: 164.80 +/- 77.30\n",
              "</pre>\n"
            ],
            "text/plain": [
              "Episode length: 164.80 +/- 77.30\n"
            ]
          },
          "metadata": {},
          "output_type": "display_data"
        },
        {
          "data": {
            "text/html": [
              "<pre style=\"white-space:pre;overflow-x:auto;line-height:normal;font-family:Menlo,'DejaVu Sans Mono',consolas,'Courier New',monospace\">Success rate: 20.00%\n",
              "</pre>\n"
            ],
            "text/plain": [
              "Success rate: 20.00%\n"
            ]
          },
          "metadata": {},
          "output_type": "display_data"
        },
        {
          "name": "stdout",
          "output_type": "stream",
          "text": [
            "------------------------------------------\n",
            "| eval/                   |              |\n",
            "|    arrive_dest          | 0.056        |\n",
            "|    crash                | 0.227        |\n",
            "|    max_step             | 0            |\n",
            "|    mean_ep_length       | 165          |\n",
            "|    mean_reward          | 136          |\n",
            "|    num_episodes         | 5            |\n",
            "|    out_of_road          | 0.944        |\n",
            "|    raw_action           | 0.4650784    |\n",
            "|    route_completion     | 0.404        |\n",
            "|    success_rate         | 0.2          |\n",
            "|    total_cost           | 8.34         |\n",
            "| time/                   |              |\n",
            "|    total_timesteps      | 750000       |\n",
            "| train/                  |              |\n",
            "|    approx_kl            | 0.0069511333 |\n",
            "|    clip_fraction        | 0.148        |\n",
            "|    clip_range           | 0.1          |\n",
            "|    entropy_loss         | -1.86        |\n",
            "|    explained_variance   | 0.894        |\n",
            "|    learning_rate        | 5e-05        |\n",
            "|    loss                 | 60.3         |\n",
            "|    n_updates            | 2980         |\n",
            "|    policy_gradient_loss | -0.000471    |\n",
            "|    std                  | 0.625        |\n",
            "|    value_loss           | 95.5         |\n",
            "------------------------------------------\n",
            "---------------------------------\n",
            "| rollout/           |          |\n",
            "|    ep_len_mean     | 319      |\n",
            "|    ep_rew_mean     | 275      |\n",
            "| time/              |          |\n",
            "|    fps             | 757      |\n",
            "|    iterations      | 150      |\n",
            "|    time_elapsed    | 989      |\n",
            "|    total_timesteps | 750000   |\n",
            "---------------------------------\n",
            "------------------------------------------\n",
            "| rollout/                |              |\n",
            "|    ep_len_mean          | 309          |\n",
            "|    ep_rew_mean          | 269          |\n",
            "| time/                   |              |\n",
            "|    fps                  | 759          |\n",
            "|    iterations           | 151          |\n",
            "|    time_elapsed         | 994          |\n",
            "|    total_timesteps      | 755000       |\n",
            "| train/                  |              |\n",
            "|    approx_kl            | 0.0023901141 |\n",
            "|    clip_fraction        | 0.181        |\n",
            "|    clip_range           | 0.1          |\n",
            "|    entropy_loss         | -1.86        |\n",
            "|    explained_variance   | 0.902        |\n",
            "|    learning_rate        | 5e-05        |\n",
            "|    loss                 | 36.6         |\n",
            "|    n_updates            | 3000         |\n",
            "|    policy_gradient_loss | 0.00303      |\n",
            "|    std                  | 0.625        |\n",
            "|    value_loss           | 74           |\n",
            "------------------------------------------\n"
          ]
        },
        {
          "data": {
            "text/html": [
              "<pre style=\"white-space:pre;overflow-x:auto;line-height:normal;font-family:Menlo,'DejaVu Sans Mono',consolas,'Courier New',monospace\">Eval num_timesteps=760000, episode_reward=255.26 +/- 80.16\n",
              "</pre>\n"
            ],
            "text/plain": [
              "Eval num_timesteps=760000, episode_reward=255.26 +/- 80.16\n"
            ]
          },
          "metadata": {},
          "output_type": "display_data"
        },
        {
          "data": {
            "text/html": [
              "<pre style=\"white-space:pre;overflow-x:auto;line-height:normal;font-family:Menlo,'DejaVu Sans Mono',consolas,'Courier New',monospace\">Episode length: 194.60 +/- 45.33\n",
              "</pre>\n"
            ],
            "text/plain": [
              "Episode length: 194.60 +/- 45.33\n"
            ]
          },
          "metadata": {},
          "output_type": "display_data"
        },
        {
          "data": {
            "text/html": [
              "<pre style=\"white-space:pre;overflow-x:auto;line-height:normal;font-family:Menlo,'DejaVu Sans Mono',consolas,'Courier New',monospace\">Success rate: 0.00%\n",
              "</pre>\n"
            ],
            "text/plain": [
              "Success rate: 0.00%\n"
            ]
          },
          "metadata": {},
          "output_type": "display_data"
        },
        {
          "name": "stdout",
          "output_type": "stream",
          "text": [
            "-----------------------------------------\n",
            "| eval/                   |             |\n",
            "|    arrive_dest          | 0.0553      |\n",
            "|    crash                | 0.229       |\n",
            "|    max_step             | 0           |\n",
            "|    mean_ep_length       | 195         |\n",
            "|    mean_reward          | 255         |\n",
            "|    num_episodes         | 5           |\n",
            "|    out_of_road          | 0.945       |\n",
            "|    raw_action           | 0.46490926  |\n",
            "|    route_completion     | 0.408       |\n",
            "|    success_rate         | 0           |\n",
            "|    total_cost           | 8.42        |\n",
            "| time/                   |             |\n",
            "|    total_timesteps      | 760000      |\n",
            "| train/                  |             |\n",
            "|    approx_kl            | 0.002554124 |\n",
            "|    clip_fraction        | 0.137       |\n",
            "|    clip_range           | 0.1         |\n",
            "|    entropy_loss         | -1.86       |\n",
            "|    explained_variance   | 0.864       |\n",
            "|    learning_rate        | 5e-05       |\n",
            "|    loss                 | 34.9        |\n",
            "|    n_updates            | 3020        |\n",
            "|    policy_gradient_loss | -0.000319   |\n",
            "|    std                  | 0.628       |\n",
            "|    value_loss           | 90.2        |\n",
            "-----------------------------------------\n"
          ]
        },
        {
          "data": {
            "text/html": [
              "<pre style=\"white-space:pre;overflow-x:auto;line-height:normal;font-family:Menlo,'DejaVu Sans Mono',consolas,'Courier New',monospace\">New best mean reward!\n",
              "</pre>\n"
            ],
            "text/plain": [
              "New best mean reward!\n"
            ]
          },
          "metadata": {},
          "output_type": "display_data"
        },
        {
          "name": "stdout",
          "output_type": "stream",
          "text": [
            "---------------------------------\n",
            "| rollout/           |          |\n",
            "|    ep_len_mean     | 313      |\n",
            "|    ep_rew_mean     | 272      |\n",
            "| time/              |          |\n",
            "|    fps             | 758      |\n",
            "|    iterations      | 152      |\n",
            "|    time_elapsed    | 1001     |\n",
            "|    total_timesteps | 760000   |\n",
            "---------------------------------\n",
            "------------------------------------------\n",
            "| rollout/                |              |\n",
            "|    ep_len_mean          | 315          |\n",
            "|    ep_rew_mean          | 275          |\n",
            "| time/                   |              |\n",
            "|    fps                  | 760          |\n",
            "|    iterations           | 153          |\n",
            "|    time_elapsed         | 1006         |\n",
            "|    total_timesteps      | 765000       |\n",
            "| train/                  |              |\n",
            "|    approx_kl            | 0.0046933247 |\n",
            "|    clip_fraction        | 0.0856       |\n",
            "|    clip_range           | 0.1          |\n",
            "|    entropy_loss         | -1.87        |\n",
            "|    explained_variance   | 0.866        |\n",
            "|    learning_rate        | 5e-05        |\n",
            "|    loss                 | 43.6         |\n",
            "|    n_updates            | 3040         |\n",
            "|    policy_gradient_loss | -0.000873    |\n",
            "|    std                  | 0.627        |\n",
            "|    value_loss           | 75.8         |\n",
            "------------------------------------------\n"
          ]
        },
        {
          "data": {
            "text/html": [
              "<pre style=\"white-space:pre;overflow-x:auto;line-height:normal;font-family:Menlo,'DejaVu Sans Mono',consolas,'Courier New',monospace\">Eval num_timesteps=770000, episode_reward=124.41 +/- 85.66\n",
              "</pre>\n"
            ],
            "text/plain": [
              "Eval num_timesteps=770000, episode_reward=124.41 +/- 85.66\n"
            ]
          },
          "metadata": {},
          "output_type": "display_data"
        },
        {
          "data": {
            "text/html": [
              "<pre style=\"white-space:pre;overflow-x:auto;line-height:normal;font-family:Menlo,'DejaVu Sans Mono',consolas,'Courier New',monospace\">Episode length: 104.00 +/- 44.92\n",
              "</pre>\n"
            ],
            "text/plain": [
              "Episode length: 104.00 +/- 44.92\n"
            ]
          },
          "metadata": {},
          "output_type": "display_data"
        },
        {
          "data": {
            "text/html": [
              "<pre style=\"white-space:pre;overflow-x:auto;line-height:normal;font-family:Menlo,'DejaVu Sans Mono',consolas,'Courier New',monospace\">Success rate: 0.00%\n",
              "</pre>\n"
            ],
            "text/plain": [
              "Success rate: 0.00%\n"
            ]
          },
          "metadata": {},
          "output_type": "display_data"
        },
        {
          "name": "stdout",
          "output_type": "stream",
          "text": [
            "----------------------------------------\n",
            "| eval/                   |            |\n",
            "|    arrive_dest          | 0.0545     |\n",
            "|    crash                | 0.226      |\n",
            "|    max_step             | 0          |\n",
            "|    mean_ep_length       | 104        |\n",
            "|    mean_reward          | 124        |\n",
            "|    num_episodes         | 5          |\n",
            "|    out_of_road          | 0.945      |\n",
            "|    raw_action           | 0.46475112 |\n",
            "|    route_completion     | 0.408      |\n",
            "|    success_rate         | 0          |\n",
            "|    total_cost           | 8.34       |\n",
            "| time/                   |            |\n",
            "|    total_timesteps      | 770000     |\n",
            "| train/                  |            |\n",
            "|    approx_kl            | 0.01288798 |\n",
            "|    clip_fraction        | 0.154      |\n",
            "|    clip_range           | 0.1        |\n",
            "|    entropy_loss         | -1.87      |\n",
            "|    explained_variance   | 0.826      |\n",
            "|    learning_rate        | 5e-05      |\n",
            "|    loss                 | 29.1       |\n",
            "|    n_updates            | 3060       |\n",
            "|    policy_gradient_loss | -0.000274  |\n",
            "|    std                  | 0.629      |\n",
            "|    value_loss           | 84         |\n",
            "----------------------------------------\n",
            "---------------------------------\n",
            "| rollout/           |          |\n",
            "|    ep_len_mean     | 312      |\n",
            "|    ep_rew_mean     | 271      |\n",
            "| time/              |          |\n",
            "|    fps             | 760      |\n",
            "|    iterations      | 154      |\n",
            "|    time_elapsed    | 1012     |\n",
            "|    total_timesteps | 770000   |\n",
            "---------------------------------\n",
            "------------------------------------------\n",
            "| rollout/                |              |\n",
            "|    ep_len_mean          | 311          |\n",
            "|    ep_rew_mean          | 271          |\n",
            "| time/                   |              |\n",
            "|    fps                  | 761          |\n",
            "|    iterations           | 155          |\n",
            "|    time_elapsed         | 1018         |\n",
            "|    total_timesteps      | 775000       |\n",
            "| train/                  |              |\n",
            "|    approx_kl            | 0.0034588687 |\n",
            "|    clip_fraction        | 0.11         |\n",
            "|    clip_range           | 0.1          |\n",
            "|    entropy_loss         | -1.87        |\n",
            "|    explained_variance   | 0.861        |\n",
            "|    learning_rate        | 5e-05        |\n",
            "|    loss                 | 44.4         |\n",
            "|    n_updates            | 3080         |\n",
            "|    policy_gradient_loss | -0.00142     |\n",
            "|    std                  | 0.628        |\n",
            "|    value_loss           | 75.8         |\n",
            "------------------------------------------\n"
          ]
        },
        {
          "data": {
            "text/html": [
              "<pre style=\"white-space:pre;overflow-x:auto;line-height:normal;font-family:Menlo,'DejaVu Sans Mono',consolas,'Courier New',monospace\">Eval num_timesteps=780000, episode_reward=123.75 +/- 95.51\n",
              "</pre>\n"
            ],
            "text/plain": [
              "Eval num_timesteps=780000, episode_reward=123.75 +/- 95.51\n"
            ]
          },
          "metadata": {},
          "output_type": "display_data"
        },
        {
          "data": {
            "text/html": [
              "<pre style=\"white-space:pre;overflow-x:auto;line-height:normal;font-family:Menlo,'DejaVu Sans Mono',consolas,'Courier New',monospace\">Episode length: 129.20 +/- 102.16\n",
              "</pre>\n"
            ],
            "text/plain": [
              "Episode length: 129.20 +/- 102.16\n"
            ]
          },
          "metadata": {},
          "output_type": "display_data"
        },
        {
          "data": {
            "text/html": [
              "<pre style=\"white-space:pre;overflow-x:auto;line-height:normal;font-family:Menlo,'DejaVu Sans Mono',consolas,'Courier New',monospace\">Success rate: 20.00%\n",
              "</pre>\n"
            ],
            "text/plain": [
              "Success rate: 20.00%\n"
            ]
          },
          "metadata": {},
          "output_type": "display_data"
        },
        {
          "name": "stdout",
          "output_type": "stream",
          "text": [
            "-----------------------------------------\n",
            "| eval/                   |             |\n",
            "|    arrive_dest          | 0.0564      |\n",
            "|    crash                | 0.226       |\n",
            "|    max_step             | 0           |\n",
            "|    mean_ep_length       | 129         |\n",
            "|    mean_reward          | 124         |\n",
            "|    num_episodes         | 5           |\n",
            "|    out_of_road          | 0.944       |\n",
            "|    raw_action           | 0.46576092  |\n",
            "|    route_completion     | 0.408       |\n",
            "|    success_rate         | 0.2         |\n",
            "|    total_cost           | 8.36        |\n",
            "| time/                   |             |\n",
            "|    total_timesteps      | 780000      |\n",
            "| train/                  |             |\n",
            "|    approx_kl            | 0.002290646 |\n",
            "|    clip_fraction        | 0.115       |\n",
            "|    clip_range           | 0.1         |\n",
            "|    entropy_loss         | -1.86       |\n",
            "|    explained_variance   | 0.872       |\n",
            "|    learning_rate        | 5e-05       |\n",
            "|    loss                 | 29.9        |\n",
            "|    n_updates            | 3100        |\n",
            "|    policy_gradient_loss | -0.00109    |\n",
            "|    std                  | 0.626       |\n",
            "|    value_loss           | 72.1        |\n",
            "-----------------------------------------\n",
            "---------------------------------\n",
            "| rollout/           |          |\n",
            "|    ep_len_mean     | 311      |\n",
            "|    ep_rew_mean     | 273      |\n",
            "| time/              |          |\n",
            "|    fps             | 760      |\n",
            "|    iterations      | 156      |\n",
            "|    time_elapsed    | 1025     |\n",
            "|    total_timesteps | 780000   |\n",
            "---------------------------------\n",
            "------------------------------------------\n",
            "| rollout/                |              |\n",
            "|    ep_len_mean          | 306          |\n",
            "|    ep_rew_mean          | 272          |\n",
            "| time/                   |              |\n",
            "|    fps                  | 761          |\n",
            "|    iterations           | 157          |\n",
            "|    time_elapsed         | 1030         |\n",
            "|    total_timesteps      | 785000       |\n",
            "| train/                  |              |\n",
            "|    approx_kl            | 0.0020651715 |\n",
            "|    clip_fraction        | 0.157        |\n",
            "|    clip_range           | 0.1          |\n",
            "|    entropy_loss         | -1.86        |\n",
            "|    explained_variance   | 0.826        |\n",
            "|    learning_rate        | 5e-05        |\n",
            "|    loss                 | 53.1         |\n",
            "|    n_updates            | 3120         |\n",
            "|    policy_gradient_loss | 0.00147      |\n",
            "|    std                  | 0.626        |\n",
            "|    value_loss           | 78.5         |\n",
            "------------------------------------------\n"
          ]
        },
        {
          "data": {
            "text/html": [
              "<pre style=\"white-space:pre;overflow-x:auto;line-height:normal;font-family:Menlo,'DejaVu Sans Mono',consolas,'Courier New',monospace\">Eval num_timesteps=790000, episode_reward=147.69 +/- 99.76\n",
              "</pre>\n"
            ],
            "text/plain": [
              "Eval num_timesteps=790000, episode_reward=147.69 +/- 99.76\n"
            ]
          },
          "metadata": {},
          "output_type": "display_data"
        },
        {
          "data": {
            "text/html": [
              "<pre style=\"white-space:pre;overflow-x:auto;line-height:normal;font-family:Menlo,'DejaVu Sans Mono',consolas,'Courier New',monospace\">Episode length: 108.80 +/- 47.81\n",
              "</pre>\n"
            ],
            "text/plain": [
              "Episode length: 108.80 +/- 47.81\n"
            ]
          },
          "metadata": {},
          "output_type": "display_data"
        },
        {
          "data": {
            "text/html": [
              "<pre style=\"white-space:pre;overflow-x:auto;line-height:normal;font-family:Menlo,'DejaVu Sans Mono',consolas,'Courier New',monospace\">Success rate: 0.00%\n",
              "</pre>\n"
            ],
            "text/plain": [
              "Success rate: 0.00%\n"
            ]
          },
          "metadata": {},
          "output_type": "display_data"
        },
        {
          "name": "stdout",
          "output_type": "stream",
          "text": [
            "------------------------------------------\n",
            "| eval/                   |              |\n",
            "|    arrive_dest          | 0.0557       |\n",
            "|    crash                | 0.23         |\n",
            "|    max_step             | 0            |\n",
            "|    mean_ep_length       | 109          |\n",
            "|    mean_reward          | 148          |\n",
            "|    num_episodes         | 5            |\n",
            "|    out_of_road          | 0.944        |\n",
            "|    raw_action           | 0.4662986    |\n",
            "|    route_completion     | 0.409        |\n",
            "|    success_rate         | 0            |\n",
            "|    total_cost           | 8.27         |\n",
            "| time/                   |              |\n",
            "|    total_timesteps      | 790000       |\n",
            "| train/                  |              |\n",
            "|    approx_kl            | 0.0025845172 |\n",
            "|    clip_fraction        | 0.113        |\n",
            "|    clip_range           | 0.1          |\n",
            "|    entropy_loss         | -1.86        |\n",
            "|    explained_variance   | 0.887        |\n",
            "|    learning_rate        | 5e-05        |\n",
            "|    loss                 | 36.9         |\n",
            "|    n_updates            | 3140         |\n",
            "|    policy_gradient_loss | -0.00133     |\n",
            "|    std                  | 0.627        |\n",
            "|    value_loss           | 88.8         |\n",
            "------------------------------------------\n",
            "---------------------------------\n",
            "| rollout/           |          |\n",
            "|    ep_len_mean     | 307      |\n",
            "|    ep_rew_mean     | 271      |\n",
            "| time/              |          |\n",
            "|    fps             | 762      |\n",
            "|    iterations      | 158      |\n",
            "|    time_elapsed    | 1036     |\n",
            "|    total_timesteps | 790000   |\n",
            "---------------------------------\n",
            "-----------------------------------------\n",
            "| rollout/                |             |\n",
            "|    ep_len_mean          | 309         |\n",
            "|    ep_rew_mean          | 273         |\n",
            "| time/                   |             |\n",
            "|    fps                  | 763         |\n",
            "|    iterations           | 159         |\n",
            "|    time_elapsed         | 1041        |\n",
            "|    total_timesteps      | 795000      |\n",
            "| train/                  |             |\n",
            "|    approx_kl            | 0.003159965 |\n",
            "|    clip_fraction        | 0.134       |\n",
            "|    clip_range           | 0.1         |\n",
            "|    entropy_loss         | -1.86       |\n",
            "|    explained_variance   | 0.901       |\n",
            "|    learning_rate        | 5e-05       |\n",
            "|    loss                 | 50          |\n",
            "|    n_updates            | 3160        |\n",
            "|    policy_gradient_loss | -0.000283   |\n",
            "|    std                  | 0.625       |\n",
            "|    value_loss           | 95.8        |\n",
            "-----------------------------------------\n"
          ]
        },
        {
          "data": {
            "text/html": [
              "<pre style=\"white-space:pre;overflow-x:auto;line-height:normal;font-family:Menlo,'DejaVu Sans Mono',consolas,'Courier New',monospace\">Saving model checkpoint to \n",
              "runs\\ppo_metadrive\\ppo_metadrive_2025-03-16_17-43-31_a51009e7\\models\\rl_model_800000_steps.zip\n",
              "</pre>\n"
            ],
            "text/plain": [
              "Saving model checkpoint to \n",
              "runs\\ppo_metadrive\\ppo_metadrive_2025-03-16_17-43-31_a51009e7\\models\\rl_model_800000_steps.zip\n"
            ]
          },
          "metadata": {},
          "output_type": "display_data"
        },
        {
          "data": {
            "text/html": [
              "<pre style=\"white-space:pre;overflow-x:auto;line-height:normal;font-family:Menlo,'DejaVu Sans Mono',consolas,'Courier New',monospace\">Eval num_timesteps=800000, episode_reward=103.43 +/- 44.54\n",
              "</pre>\n"
            ],
            "text/plain": [
              "Eval num_timesteps=800000, episode_reward=103.43 +/- 44.54\n"
            ]
          },
          "metadata": {},
          "output_type": "display_data"
        },
        {
          "data": {
            "text/html": [
              "<pre style=\"white-space:pre;overflow-x:auto;line-height:normal;font-family:Menlo,'DejaVu Sans Mono',consolas,'Courier New',monospace\">Episode length: 115.60 +/- 55.05\n",
              "</pre>\n"
            ],
            "text/plain": [
              "Episode length: 115.60 +/- 55.05\n"
            ]
          },
          "metadata": {},
          "output_type": "display_data"
        },
        {
          "data": {
            "text/html": [
              "<pre style=\"white-space:pre;overflow-x:auto;line-height:normal;font-family:Menlo,'DejaVu Sans Mono',consolas,'Courier New',monospace\">Success rate: 0.00%\n",
              "</pre>\n"
            ],
            "text/plain": [
              "Success rate: 0.00%\n"
            ]
          },
          "metadata": {},
          "output_type": "display_data"
        },
        {
          "name": "stdout",
          "output_type": "stream",
          "text": [
            "------------------------------------------\n",
            "| eval/                   |              |\n",
            "|    arrive_dest          | 0.055        |\n",
            "|    crash                | 0.233        |\n",
            "|    max_step             | 0            |\n",
            "|    mean_ep_length       | 116          |\n",
            "|    mean_reward          | 103          |\n",
            "|    num_episodes         | 5            |\n",
            "|    out_of_road          | 0.945        |\n",
            "|    raw_action           | 0.46597445   |\n",
            "|    route_completion     | 0.408        |\n",
            "|    success_rate         | 0            |\n",
            "|    total_cost           | 8.36         |\n",
            "| time/                   |              |\n",
            "|    total_timesteps      | 800000       |\n",
            "| train/                  |              |\n",
            "|    approx_kl            | 0.0017692477 |\n",
            "|    clip_fraction        | 0.155        |\n",
            "|    clip_range           | 0.1          |\n",
            "|    entropy_loss         | -1.85        |\n",
            "|    explained_variance   | 0.928        |\n",
            "|    learning_rate        | 5e-05        |\n",
            "|    loss                 | 27.1         |\n",
            "|    n_updates            | 3180         |\n",
            "|    policy_gradient_loss | 0.000603     |\n",
            "|    std                  | 0.625        |\n",
            "|    value_loss           | 80           |\n",
            "------------------------------------------\n",
            "---------------------------------\n",
            "| rollout/           |          |\n",
            "|    ep_len_mean     | 310      |\n",
            "|    ep_rew_mean     | 275      |\n",
            "| time/              |          |\n",
            "|    fps             | 762      |\n",
            "|    iterations      | 160      |\n",
            "|    time_elapsed    | 1048     |\n",
            "|    total_timesteps | 800000   |\n",
            "---------------------------------\n",
            "------------------------------------------\n",
            "| rollout/                |              |\n",
            "|    ep_len_mean          | 308          |\n",
            "|    ep_rew_mean          | 272          |\n",
            "| time/                   |              |\n",
            "|    fps                  | 764          |\n",
            "|    iterations           | 161          |\n",
            "|    time_elapsed         | 1053         |\n",
            "|    total_timesteps      | 805000       |\n",
            "| train/                  |              |\n",
            "|    approx_kl            | 0.0031045994 |\n",
            "|    clip_fraction        | 0.12         |\n",
            "|    clip_range           | 0.1          |\n",
            "|    entropy_loss         | -1.85        |\n",
            "|    explained_variance   | 0.942        |\n",
            "|    learning_rate        | 5e-05        |\n",
            "|    loss                 | 46.3         |\n",
            "|    n_updates            | 3200         |\n",
            "|    policy_gradient_loss | -0.0014      |\n",
            "|    std                  | 0.624        |\n",
            "|    value_loss           | 65           |\n",
            "------------------------------------------\n"
          ]
        },
        {
          "data": {
            "text/html": [
              "<pre style=\"white-space:pre;overflow-x:auto;line-height:normal;font-family:Menlo,'DejaVu Sans Mono',consolas,'Courier New',monospace\">Eval num_timesteps=810000, episode_reward=135.05 +/- 56.01\n",
              "</pre>\n"
            ],
            "text/plain": [
              "Eval num_timesteps=810000, episode_reward=135.05 +/- 56.01\n"
            ]
          },
          "metadata": {},
          "output_type": "display_data"
        },
        {
          "data": {
            "text/html": [
              "<pre style=\"white-space:pre;overflow-x:auto;line-height:normal;font-family:Menlo,'DejaVu Sans Mono',consolas,'Courier New',monospace\">Episode length: 158.40 +/- 101.10\n",
              "</pre>\n"
            ],
            "text/plain": [
              "Episode length: 158.40 +/- 101.10\n"
            ]
          },
          "metadata": {},
          "output_type": "display_data"
        },
        {
          "data": {
            "text/html": [
              "<pre style=\"white-space:pre;overflow-x:auto;line-height:normal;font-family:Menlo,'DejaVu Sans Mono',consolas,'Courier New',monospace\">Success rate: 20.00%\n",
              "</pre>\n"
            ],
            "text/plain": [
              "Success rate: 20.00%\n"
            ]
          },
          "metadata": {},
          "output_type": "display_data"
        },
        {
          "name": "stdout",
          "output_type": "stream",
          "text": [
            "------------------------------------------\n",
            "| eval/                   |              |\n",
            "|    arrive_dest          | 0.0568       |\n",
            "|    crash                | 0.235        |\n",
            "|    max_step             | 0            |\n",
            "|    mean_ep_length       | 158          |\n",
            "|    mean_reward          | 135          |\n",
            "|    num_episodes         | 5            |\n",
            "|    out_of_road          | 0.943        |\n",
            "|    raw_action           | 0.46650156   |\n",
            "|    route_completion     | 0.41         |\n",
            "|    success_rate         | 0.2          |\n",
            "|    total_cost           | 8.57         |\n",
            "| time/                   |              |\n",
            "|    total_timesteps      | 810000       |\n",
            "| train/                  |              |\n",
            "|    approx_kl            | 0.0031125757 |\n",
            "|    clip_fraction        | 0.207        |\n",
            "|    clip_range           | 0.1          |\n",
            "|    entropy_loss         | -1.84        |\n",
            "|    explained_variance   | 0.931        |\n",
            "|    learning_rate        | 5e-05        |\n",
            "|    loss                 | 27.7         |\n",
            "|    n_updates            | 3220         |\n",
            "|    policy_gradient_loss | 0.00531      |\n",
            "|    std                  | 0.622        |\n",
            "|    value_loss           | 79.4         |\n",
            "------------------------------------------\n",
            "---------------------------------\n",
            "| rollout/           |          |\n",
            "|    ep_len_mean     | 306      |\n",
            "|    ep_rew_mean     | 273      |\n",
            "| time/              |          |\n",
            "|    fps             | 763      |\n",
            "|    iterations      | 162      |\n",
            "|    time_elapsed    | 1060     |\n",
            "|    total_timesteps | 810000   |\n",
            "---------------------------------\n",
            "------------------------------------------\n",
            "| rollout/                |              |\n",
            "|    ep_len_mean          | 394          |\n",
            "|    ep_rew_mean          | 222          |\n",
            "| time/                   |              |\n",
            "|    fps                  | 764          |\n",
            "|    iterations           | 163          |\n",
            "|    time_elapsed         | 1066         |\n",
            "|    total_timesteps      | 815000       |\n",
            "| train/                  |              |\n",
            "|    approx_kl            | 0.0014031057 |\n",
            "|    clip_fraction        | 0.152        |\n",
            "|    clip_range           | 0.1          |\n",
            "|    entropy_loss         | -1.84        |\n",
            "|    explained_variance   | 0.919        |\n",
            "|    learning_rate        | 5e-05        |\n",
            "|    loss                 | 47.3         |\n",
            "|    n_updates            | 3240         |\n",
            "|    policy_gradient_loss | 0.000698     |\n",
            "|    std                  | 0.619        |\n",
            "|    value_loss           | 94.9         |\n",
            "------------------------------------------\n"
          ]
        },
        {
          "data": {
            "text/html": [
              "<pre style=\"white-space:pre;overflow-x:auto;line-height:normal;font-family:Menlo,'DejaVu Sans Mono',consolas,'Courier New',monospace\">Eval num_timesteps=820000, episode_reward=215.63 +/- 95.02\n",
              "</pre>\n"
            ],
            "text/plain": [
              "Eval num_timesteps=820000, episode_reward=215.63 +/- 95.02\n"
            ]
          },
          "metadata": {},
          "output_type": "display_data"
        },
        {
          "data": {
            "text/html": [
              "<pre style=\"white-space:pre;overflow-x:auto;line-height:normal;font-family:Menlo,'DejaVu Sans Mono',consolas,'Courier New',monospace\">Episode length: 189.40 +/- 71.91\n",
              "</pre>\n"
            ],
            "text/plain": [
              "Episode length: 189.40 +/- 71.91\n"
            ]
          },
          "metadata": {},
          "output_type": "display_data"
        },
        {
          "data": {
            "text/html": [
              "<pre style=\"white-space:pre;overflow-x:auto;line-height:normal;font-family:Menlo,'DejaVu Sans Mono',consolas,'Courier New',monospace\">Success rate: 60.00%\n",
              "</pre>\n"
            ],
            "text/plain": [
              "Success rate: 60.00%\n"
            ]
          },
          "metadata": {},
          "output_type": "display_data"
        },
        {
          "name": "stdout",
          "output_type": "stream",
          "text": [
            "-----------------------------------------\n",
            "| eval/                   |             |\n",
            "|    arrive_dest          | 0.0634      |\n",
            "|    crash                | 0.234       |\n",
            "|    max_step             | 0           |\n",
            "|    mean_ep_length       | 189         |\n",
            "|    mean_reward          | 216         |\n",
            "|    num_episodes         | 5           |\n",
            "|    out_of_road          | 0.937       |\n",
            "|    raw_action           | 0.4678248   |\n",
            "|    route_completion     | 0.414       |\n",
            "|    success_rate         | 0.6         |\n",
            "|    total_cost           | 8.66        |\n",
            "| time/                   |             |\n",
            "|    total_timesteps      | 820000      |\n",
            "| train/                  |             |\n",
            "|    approx_kl            | 0.003750932 |\n",
            "|    clip_fraction        | 0.136       |\n",
            "|    clip_range           | 0.1         |\n",
            "|    entropy_loss         | -1.83       |\n",
            "|    explained_variance   | 0.865       |\n",
            "|    learning_rate        | 5e-05       |\n",
            "|    loss                 | 27.3        |\n",
            "|    n_updates            | 3260        |\n",
            "|    policy_gradient_loss | -0.000511   |\n",
            "|    std                  | 0.617       |\n",
            "|    value_loss           | 74.8        |\n",
            "-----------------------------------------\n",
            "---------------------------------\n",
            "| rollout/           |          |\n",
            "|    ep_len_mean     | 396      |\n",
            "|    ep_rew_mean     | 225      |\n",
            "| time/              |          |\n",
            "|    fps             | 764      |\n",
            "|    iterations      | 164      |\n",
            "|    time_elapsed    | 1072     |\n",
            "|    total_timesteps | 820000   |\n",
            "---------------------------------\n",
            "------------------------------------------\n",
            "| rollout/                |              |\n",
            "|    ep_len_mean          | 393          |\n",
            "|    ep_rew_mean          | 224          |\n",
            "| time/                   |              |\n",
            "|    fps                  | 765          |\n",
            "|    iterations           | 165          |\n",
            "|    time_elapsed         | 1078         |\n",
            "|    total_timesteps      | 825000       |\n",
            "| train/                  |              |\n",
            "|    approx_kl            | 0.0018388778 |\n",
            "|    clip_fraction        | 0.0795       |\n",
            "|    clip_range           | 0.1          |\n",
            "|    entropy_loss         | -1.82        |\n",
            "|    explained_variance   | 0.702        |\n",
            "|    learning_rate        | 5e-05        |\n",
            "|    loss                 | 46.5         |\n",
            "|    n_updates            | 3280         |\n",
            "|    policy_gradient_loss | -0.00201     |\n",
            "|    std                  | 0.615        |\n",
            "|    value_loss           | 92.5         |\n",
            "------------------------------------------\n"
          ]
        },
        {
          "data": {
            "text/html": [
              "<pre style=\"white-space:pre;overflow-x:auto;line-height:normal;font-family:Menlo,'DejaVu Sans Mono',consolas,'Courier New',monospace\">Eval num_timesteps=830000, episode_reward=172.52 +/- 99.47\n",
              "</pre>\n"
            ],
            "text/plain": [
              "Eval num_timesteps=830000, episode_reward=172.52 +/- 99.47\n"
            ]
          },
          "metadata": {},
          "output_type": "display_data"
        },
        {
          "data": {
            "text/html": [
              "<pre style=\"white-space:pre;overflow-x:auto;line-height:normal;font-family:Menlo,'DejaVu Sans Mono',consolas,'Courier New',monospace\">Episode length: 137.80 +/- 51.88\n",
              "</pre>\n"
            ],
            "text/plain": [
              "Episode length: 137.80 +/- 51.88\n"
            ]
          },
          "metadata": {},
          "output_type": "display_data"
        },
        {
          "data": {
            "text/html": [
              "<pre style=\"white-space:pre;overflow-x:auto;line-height:normal;font-family:Menlo,'DejaVu Sans Mono',consolas,'Courier New',monospace\">Success rate: 0.00%\n",
              "</pre>\n"
            ],
            "text/plain": [
              "Success rate: 0.00%\n"
            ]
          },
          "metadata": {},
          "output_type": "display_data"
        },
        {
          "name": "stdout",
          "output_type": "stream",
          "text": [
            "-----------------------------------------\n",
            "| eval/                   |             |\n",
            "|    arrive_dest          | 0.0627      |\n",
            "|    crash                | 0.231       |\n",
            "|    max_step             | 0           |\n",
            "|    mean_ep_length       | 138         |\n",
            "|    mean_reward          | 173         |\n",
            "|    num_episodes         | 5           |\n",
            "|    out_of_road          | 0.937       |\n",
            "|    raw_action           | 0.4680888   |\n",
            "|    route_completion     | 0.414       |\n",
            "|    success_rate         | 0           |\n",
            "|    total_cost           | 8.6         |\n",
            "| time/                   |             |\n",
            "|    total_timesteps      | 830000      |\n",
            "| train/                  |             |\n",
            "|    approx_kl            | 0.002583946 |\n",
            "|    clip_fraction        | 0.156       |\n",
            "|    clip_range           | 0.1         |\n",
            "|    entropy_loss         | -1.81       |\n",
            "|    explained_variance   | 0.698       |\n",
            "|    learning_rate        | 5e-05       |\n",
            "|    loss                 | 37.6        |\n",
            "|    n_updates            | 3300        |\n",
            "|    policy_gradient_loss | 0.0003      |\n",
            "|    std                  | 0.612       |\n",
            "|    value_loss           | 91.2        |\n",
            "-----------------------------------------\n",
            "---------------------------------\n",
            "| rollout/           |          |\n",
            "|    ep_len_mean     | 387      |\n",
            "|    ep_rew_mean     | 217      |\n",
            "| time/              |          |\n",
            "|    fps             | 765      |\n",
            "|    iterations      | 166      |\n",
            "|    time_elapsed    | 1084     |\n",
            "|    total_timesteps | 830000   |\n",
            "---------------------------------\n",
            "------------------------------------------\n",
            "| rollout/                |              |\n",
            "|    ep_len_mean          | 379          |\n",
            "|    ep_rew_mean          | 215          |\n",
            "| time/                   |              |\n",
            "|    fps                  | 766          |\n",
            "|    iterations           | 167          |\n",
            "|    time_elapsed         | 1089         |\n",
            "|    total_timesteps      | 835000       |\n",
            "| train/                  |              |\n",
            "|    approx_kl            | 0.0065606497 |\n",
            "|    clip_fraction        | 0.194        |\n",
            "|    clip_range           | 0.1          |\n",
            "|    entropy_loss         | -1.81        |\n",
            "|    explained_variance   | 0.678        |\n",
            "|    learning_rate        | 5e-05        |\n",
            "|    loss                 | 30.9         |\n",
            "|    n_updates            | 3320         |\n",
            "|    policy_gradient_loss | 0.00278      |\n",
            "|    std                  | 0.612        |\n",
            "|    value_loss           | 102          |\n",
            "------------------------------------------\n"
          ]
        },
        {
          "data": {
            "text/html": [
              "<pre style=\"white-space:pre;overflow-x:auto;line-height:normal;font-family:Menlo,'DejaVu Sans Mono',consolas,'Courier New',monospace\">Eval num_timesteps=840000, episode_reward=116.16 +/- 32.12\n",
              "</pre>\n"
            ],
            "text/plain": [
              "Eval num_timesteps=840000, episode_reward=116.16 +/- 32.12\n"
            ]
          },
          "metadata": {},
          "output_type": "display_data"
        },
        {
          "data": {
            "text/html": [
              "<pre style=\"white-space:pre;overflow-x:auto;line-height:normal;font-family:Menlo,'DejaVu Sans Mono',consolas,'Courier New',monospace\">Episode length: 101.00 +/- 14.62\n",
              "</pre>\n"
            ],
            "text/plain": [
              "Episode length: 101.00 +/- 14.62\n"
            ]
          },
          "metadata": {},
          "output_type": "display_data"
        },
        {
          "data": {
            "text/html": [
              "<pre style=\"white-space:pre;overflow-x:auto;line-height:normal;font-family:Menlo,'DejaVu Sans Mono',consolas,'Courier New',monospace\">Success rate: 0.00%\n",
              "</pre>\n"
            ],
            "text/plain": [
              "Success rate: 0.00%\n"
            ]
          },
          "metadata": {},
          "output_type": "display_data"
        },
        {
          "name": "stdout",
          "output_type": "stream",
          "text": [
            "------------------------------------------\n",
            "| eval/                   |              |\n",
            "|    arrive_dest          | 0.0619       |\n",
            "|    crash                | 0.233        |\n",
            "|    max_step             | 0            |\n",
            "|    mean_ep_length       | 101          |\n",
            "|    mean_reward          | 116          |\n",
            "|    num_episodes         | 5            |\n",
            "|    out_of_road          | 0.938        |\n",
            "|    raw_action           | 0.46831536   |\n",
            "|    route_completion     | 0.413        |\n",
            "|    success_rate         | 0            |\n",
            "|    total_cost           | 8.52         |\n",
            "| time/                   |              |\n",
            "|    total_timesteps      | 840000       |\n",
            "| train/                  |              |\n",
            "|    approx_kl            | 0.0025514937 |\n",
            "|    clip_fraction        | 0.168        |\n",
            "|    clip_range           | 0.1          |\n",
            "|    entropy_loss         | -1.81        |\n",
            "|    explained_variance   | 0.595        |\n",
            "|    learning_rate        | 5e-05        |\n",
            "|    loss                 | 54.3         |\n",
            "|    n_updates            | 3340         |\n",
            "|    policy_gradient_loss | 0.000308     |\n",
            "|    std                  | 0.611        |\n",
            "|    value_loss           | 121          |\n",
            "------------------------------------------\n",
            "---------------------------------\n",
            "| rollout/           |          |\n",
            "|    ep_len_mean     | 283      |\n",
            "|    ep_rew_mean     | 255      |\n",
            "| time/              |          |\n",
            "|    fps             | 766      |\n",
            "|    iterations      | 168      |\n",
            "|    time_elapsed    | 1095     |\n",
            "|    total_timesteps | 840000   |\n",
            "---------------------------------\n",
            "------------------------------------------\n",
            "| rollout/                |              |\n",
            "|    ep_len_mean          | 276          |\n",
            "|    ep_rew_mean          | 252          |\n",
            "| time/                   |              |\n",
            "|    fps                  | 767          |\n",
            "|    iterations           | 169          |\n",
            "|    time_elapsed         | 1100         |\n",
            "|    total_timesteps      | 845000       |\n",
            "| train/                  |              |\n",
            "|    approx_kl            | 0.0026552654 |\n",
            "|    clip_fraction        | 0.124        |\n",
            "|    clip_range           | 0.1          |\n",
            "|    entropy_loss         | -1.8         |\n",
            "|    explained_variance   | 0.68         |\n",
            "|    learning_rate        | 5e-05        |\n",
            "|    loss                 | 48.5         |\n",
            "|    n_updates            | 3360         |\n",
            "|    policy_gradient_loss | -0.000456    |\n",
            "|    std                  | 0.613        |\n",
            "|    value_loss           | 105          |\n",
            "------------------------------------------\n"
          ]
        },
        {
          "data": {
            "text/html": [
              "<pre style=\"white-space:pre;overflow-x:auto;line-height:normal;font-family:Menlo,'DejaVu Sans Mono',consolas,'Courier New',monospace\">Eval num_timesteps=850000, episode_reward=151.44 +/- 103.37\n",
              "</pre>\n"
            ],
            "text/plain": [
              "Eval num_timesteps=850000, episode_reward=151.44 +/- 103.37\n"
            ]
          },
          "metadata": {},
          "output_type": "display_data"
        },
        {
          "data": {
            "text/html": [
              "<pre style=\"white-space:pre;overflow-x:auto;line-height:normal;font-family:Menlo,'DejaVu Sans Mono',consolas,'Courier New',monospace\">Episode length: 117.80 +/- 53.79\n",
              "</pre>\n"
            ],
            "text/plain": [
              "Episode length: 117.80 +/- 53.79\n"
            ]
          },
          "metadata": {},
          "output_type": "display_data"
        },
        {
          "data": {
            "text/html": [
              "<pre style=\"white-space:pre;overflow-x:auto;line-height:normal;font-family:Menlo,'DejaVu Sans Mono',consolas,'Courier New',monospace\">Success rate: 0.00%\n",
              "</pre>\n"
            ],
            "text/plain": [
              "Success rate: 0.00%\n"
            ]
          },
          "metadata": {},
          "output_type": "display_data"
        },
        {
          "name": "stdout",
          "output_type": "stream",
          "text": [
            "-----------------------------------------\n",
            "| eval/                   |             |\n",
            "|    arrive_dest          | 0.0612      |\n",
            "|    crash                | 0.233       |\n",
            "|    max_step             | 0           |\n",
            "|    mean_ep_length       | 118         |\n",
            "|    mean_reward          | 151         |\n",
            "|    num_episodes         | 5           |\n",
            "|    out_of_road          | 0.939       |\n",
            "|    raw_action           | 0.46816647  |\n",
            "|    route_completion     | 0.414       |\n",
            "|    success_rate         | 0           |\n",
            "|    total_cost           | 8.45        |\n",
            "| time/                   |             |\n",
            "|    total_timesteps      | 850000      |\n",
            "| train/                  |             |\n",
            "|    approx_kl            | 0.002586177 |\n",
            "|    clip_fraction        | 0.137       |\n",
            "|    clip_range           | 0.1         |\n",
            "|    entropy_loss         | -1.8        |\n",
            "|    explained_variance   | 0.701       |\n",
            "|    learning_rate        | 5e-05       |\n",
            "|    loss                 | 53.5        |\n",
            "|    n_updates            | 3380        |\n",
            "|    policy_gradient_loss | -0.000281   |\n",
            "|    std                  | 0.612       |\n",
            "|    value_loss           | 101         |\n",
            "-----------------------------------------\n",
            "---------------------------------\n",
            "| rollout/           |          |\n",
            "|    ep_len_mean     | 268      |\n",
            "|    ep_rew_mean     | 246      |\n",
            "| time/              |          |\n",
            "|    fps             | 767      |\n",
            "|    iterations      | 170      |\n",
            "|    time_elapsed    | 1107     |\n",
            "|    total_timesteps | 850000   |\n",
            "---------------------------------\n",
            "------------------------------------------\n",
            "| rollout/                |              |\n",
            "|    ep_len_mean          | 273          |\n",
            "|    ep_rew_mean          | 250          |\n",
            "| time/                   |              |\n",
            "|    fps                  | 768          |\n",
            "|    iterations           | 171          |\n",
            "|    time_elapsed         | 1112         |\n",
            "|    total_timesteps      | 855000       |\n",
            "| train/                  |              |\n",
            "|    approx_kl            | 0.0015282301 |\n",
            "|    clip_fraction        | 0.132        |\n",
            "|    clip_range           | 0.1          |\n",
            "|    entropy_loss         | -1.8         |\n",
            "|    explained_variance   | 0.64         |\n",
            "|    learning_rate        | 5e-05        |\n",
            "|    loss                 | 68.8         |\n",
            "|    n_updates            | 3400         |\n",
            "|    policy_gradient_loss | -0.00116     |\n",
            "|    std                  | 0.611        |\n",
            "|    value_loss           | 117          |\n",
            "------------------------------------------\n"
          ]
        },
        {
          "data": {
            "text/html": [
              "<pre style=\"white-space:pre;overflow-x:auto;line-height:normal;font-family:Menlo,'DejaVu Sans Mono',consolas,'Courier New',monospace\">Eval num_timesteps=860000, episode_reward=207.43 +/- 91.39\n",
              "</pre>\n"
            ],
            "text/plain": [
              "Eval num_timesteps=860000, episode_reward=207.43 +/- 91.39\n"
            ]
          },
          "metadata": {},
          "output_type": "display_data"
        },
        {
          "data": {
            "text/html": [
              "<pre style=\"white-space:pre;overflow-x:auto;line-height:normal;font-family:Menlo,'DejaVu Sans Mono',consolas,'Courier New',monospace\">Episode length: 156.00 +/- 52.10\n",
              "</pre>\n"
            ],
            "text/plain": [
              "Episode length: 156.00 +/- 52.10\n"
            ]
          },
          "metadata": {},
          "output_type": "display_data"
        },
        {
          "data": {
            "text/html": [
              "<pre style=\"white-space:pre;overflow-x:auto;line-height:normal;font-family:Menlo,'DejaVu Sans Mono',consolas,'Courier New',monospace\">Success rate: 20.00%\n",
              "</pre>\n"
            ],
            "text/plain": [
              "Success rate: 20.00%\n"
            ]
          },
          "metadata": {},
          "output_type": "display_data"
        },
        {
          "name": "stdout",
          "output_type": "stream",
          "text": [
            "------------------------------------------\n",
            "| eval/                   |              |\n",
            "|    arrive_dest          | 0.0628       |\n",
            "|    crash                | 0.235        |\n",
            "|    max_step             | 0            |\n",
            "|    mean_ep_length       | 156          |\n",
            "|    mean_reward          | 207          |\n",
            "|    num_episodes         | 5            |\n",
            "|    out_of_road          | 0.937        |\n",
            "|    raw_action           | 0.46835357   |\n",
            "|    route_completion     | 0.416        |\n",
            "|    success_rate         | 0.2          |\n",
            "|    total_cost           | 8.45         |\n",
            "| time/                   |              |\n",
            "|    total_timesteps      | 860000       |\n",
            "| train/                  |              |\n",
            "|    approx_kl            | 0.0032259382 |\n",
            "|    clip_fraction        | 0.117        |\n",
            "|    clip_range           | 0.1          |\n",
            "|    entropy_loss         | -1.8         |\n",
            "|    explained_variance   | 0.732        |\n",
            "|    learning_rate        | 5e-05        |\n",
            "|    loss                 | 41.2         |\n",
            "|    n_updates            | 3420         |\n",
            "|    policy_gradient_loss | -0.00189     |\n",
            "|    std                  | 0.61         |\n",
            "|    value_loss           | 84.7         |\n",
            "------------------------------------------\n",
            "---------------------------------\n",
            "| rollout/           |          |\n",
            "|    ep_len_mean     | 274      |\n",
            "|    ep_rew_mean     | 252      |\n",
            "| time/              |          |\n",
            "|    fps             | 768      |\n",
            "|    iterations      | 172      |\n",
            "|    time_elapsed    | 1119     |\n",
            "|    total_timesteps | 860000   |\n",
            "---------------------------------\n",
            "----------------------------------------\n",
            "| rollout/                |            |\n",
            "|    ep_len_mean          | 288        |\n",
            "|    ep_rew_mean          | 258        |\n",
            "| time/                   |            |\n",
            "|    fps                  | 769        |\n",
            "|    iterations           | 173        |\n",
            "|    time_elapsed         | 1124       |\n",
            "|    total_timesteps      | 865000     |\n",
            "| train/                  |            |\n",
            "|    approx_kl            | 0.13223135 |\n",
            "|    clip_fraction        | 0.187      |\n",
            "|    clip_range           | 0.1        |\n",
            "|    entropy_loss         | -1.79      |\n",
            "|    explained_variance   | 0.699      |\n",
            "|    learning_rate        | 5e-05      |\n",
            "|    loss                 | 114        |\n",
            "|    n_updates            | 3440       |\n",
            "|    policy_gradient_loss | 0.00556    |\n",
            "|    std                  | 0.608      |\n",
            "|    value_loss           | 122        |\n",
            "----------------------------------------\n"
          ]
        },
        {
          "data": {
            "text/html": [
              "<pre style=\"white-space:pre;overflow-x:auto;line-height:normal;font-family:Menlo,'DejaVu Sans Mono',consolas,'Courier New',monospace\">Eval num_timesteps=870000, episode_reward=98.79 +/- 46.82\n",
              "</pre>\n"
            ],
            "text/plain": [
              "Eval num_timesteps=870000, episode_reward=98.79 +/- 46.82\n"
            ]
          },
          "metadata": {},
          "output_type": "display_data"
        },
        {
          "data": {
            "text/html": [
              "<pre style=\"white-space:pre;overflow-x:auto;line-height:normal;font-family:Menlo,'DejaVu Sans Mono',consolas,'Courier New',monospace\">Episode length: 97.60 +/- 27.08\n",
              "</pre>\n"
            ],
            "text/plain": [
              "Episode length: 97.60 +/- 27.08\n"
            ]
          },
          "metadata": {},
          "output_type": "display_data"
        },
        {
          "data": {
            "text/html": [
              "<pre style=\"white-space:pre;overflow-x:auto;line-height:normal;font-family:Menlo,'DejaVu Sans Mono',consolas,'Courier New',monospace\">Success rate: 0.00%\n",
              "</pre>\n"
            ],
            "text/plain": [
              "Success rate: 0.00%\n"
            ]
          },
          "metadata": {},
          "output_type": "display_data"
        },
        {
          "name": "stdout",
          "output_type": "stream",
          "text": [
            "------------------------------------------\n",
            "| eval/                   |              |\n",
            "|    arrive_dest          | 0.0621       |\n",
            "|    crash                | 0.237        |\n",
            "|    max_step             | 0            |\n",
            "|    mean_ep_length       | 97.6         |\n",
            "|    mean_reward          | 98.8         |\n",
            "|    num_episodes         | 5            |\n",
            "|    out_of_road          | 0.938        |\n",
            "|    raw_action           | 0.46900705   |\n",
            "|    route_completion     | 0.415        |\n",
            "|    success_rate         | 0            |\n",
            "|    total_cost           | 8.38         |\n",
            "| time/                   |              |\n",
            "|    total_timesteps      | 870000       |\n",
            "| train/                  |              |\n",
            "|    approx_kl            | 0.0048948023 |\n",
            "|    clip_fraction        | 0.145        |\n",
            "|    clip_range           | 0.1          |\n",
            "|    entropy_loss         | -1.79        |\n",
            "|    explained_variance   | 0.656        |\n",
            "|    learning_rate        | 5e-05        |\n",
            "|    loss                 | 32.2         |\n",
            "|    n_updates            | 3460         |\n",
            "|    policy_gradient_loss | 0.000365     |\n",
            "|    std                  | 0.609        |\n",
            "|    value_loss           | 86.8         |\n",
            "------------------------------------------\n",
            "---------------------------------\n",
            "| rollout/           |          |\n",
            "|    ep_len_mean     | 288      |\n",
            "|    ep_rew_mean     | 259      |\n",
            "| time/              |          |\n",
            "|    fps             | 769      |\n",
            "|    iterations      | 174      |\n",
            "|    time_elapsed    | 1130     |\n",
            "|    total_timesteps | 870000   |\n",
            "---------------------------------\n",
            "------------------------------------------\n",
            "| rollout/                |              |\n",
            "|    ep_len_mean          | 287          |\n",
            "|    ep_rew_mean          | 260          |\n",
            "| time/                   |              |\n",
            "|    fps                  | 769          |\n",
            "|    iterations           | 175          |\n",
            "|    time_elapsed         | 1136         |\n",
            "|    total_timesteps      | 875000       |\n",
            "| train/                  |              |\n",
            "|    approx_kl            | 0.0026456022 |\n",
            "|    clip_fraction        | 0.168        |\n",
            "|    clip_range           | 0.1          |\n",
            "|    entropy_loss         | -1.78        |\n",
            "|    explained_variance   | 0.593        |\n",
            "|    learning_rate        | 5e-05        |\n",
            "|    loss                 | 56.7         |\n",
            "|    n_updates            | 3480         |\n",
            "|    policy_gradient_loss | 0.000773     |\n",
            "|    std                  | 0.607        |\n",
            "|    value_loss           | 116          |\n",
            "------------------------------------------\n"
          ]
        },
        {
          "data": {
            "text/html": [
              "<pre style=\"white-space:pre;overflow-x:auto;line-height:normal;font-family:Menlo,'DejaVu Sans Mono',consolas,'Courier New',monospace\">Eval num_timesteps=880000, episode_reward=152.20 +/- 88.89\n",
              "</pre>\n"
            ],
            "text/plain": [
              "Eval num_timesteps=880000, episode_reward=152.20 +/- 88.89\n"
            ]
          },
          "metadata": {},
          "output_type": "display_data"
        },
        {
          "data": {
            "text/html": [
              "<pre style=\"white-space:pre;overflow-x:auto;line-height:normal;font-family:Menlo,'DejaVu Sans Mono',consolas,'Courier New',monospace\">Episode length: 115.60 +/- 44.14\n",
              "</pre>\n"
            ],
            "text/plain": [
              "Episode length: 115.60 +/- 44.14\n"
            ]
          },
          "metadata": {},
          "output_type": "display_data"
        },
        {
          "data": {
            "text/html": [
              "<pre style=\"white-space:pre;overflow-x:auto;line-height:normal;font-family:Menlo,'DejaVu Sans Mono',consolas,'Courier New',monospace\">Success rate: 0.00%\n",
              "</pre>\n"
            ],
            "text/plain": [
              "Success rate: 0.00%\n"
            ]
          },
          "metadata": {},
          "output_type": "display_data"
        },
        {
          "name": "stdout",
          "output_type": "stream",
          "text": [
            "-----------------------------------------\n",
            "| eval/                   |             |\n",
            "|    arrive_dest          | 0.0614      |\n",
            "|    crash                | 0.239       |\n",
            "|    max_step             | 0           |\n",
            "|    mean_ep_length       | 116         |\n",
            "|    mean_reward          | 152         |\n",
            "|    num_episodes         | 5           |\n",
            "|    out_of_road          | 0.939       |\n",
            "|    raw_action           | 0.46882692  |\n",
            "|    route_completion     | 0.416       |\n",
            "|    success_rate         | 0           |\n",
            "|    total_cost           | 8.31        |\n",
            "| time/                   |             |\n",
            "|    total_timesteps      | 880000      |\n",
            "| train/                  |             |\n",
            "|    approx_kl            | 0.004197233 |\n",
            "|    clip_fraction        | 0.164       |\n",
            "|    clip_range           | 0.1         |\n",
            "|    entropy_loss         | -1.78       |\n",
            "|    explained_variance   | 0.719       |\n",
            "|    learning_rate        | 5e-05       |\n",
            "|    loss                 | 37.7        |\n",
            "|    n_updates            | 3500        |\n",
            "|    policy_gradient_loss | -0.0003     |\n",
            "|    std                  | 0.607       |\n",
            "|    value_loss           | 90          |\n",
            "-----------------------------------------\n",
            "---------------------------------\n",
            "| rollout/           |          |\n",
            "|    ep_len_mean     | 294      |\n",
            "|    ep_rew_mean     | 265      |\n",
            "| time/              |          |\n",
            "|    fps             | 769      |\n",
            "|    iterations      | 176      |\n",
            "|    time_elapsed    | 1143     |\n",
            "|    total_timesteps | 880000   |\n",
            "---------------------------------\n",
            "------------------------------------------\n",
            "| rollout/                |              |\n",
            "|    ep_len_mean          | 297          |\n",
            "|    ep_rew_mean          | 269          |\n",
            "| time/                   |              |\n",
            "|    fps                  | 769          |\n",
            "|    iterations           | 177          |\n",
            "|    time_elapsed         | 1150         |\n",
            "|    total_timesteps      | 885000       |\n",
            "| train/                  |              |\n",
            "|    approx_kl            | 0.0018140789 |\n",
            "|    clip_fraction        | 0.103        |\n",
            "|    clip_range           | 0.1          |\n",
            "|    entropy_loss         | -1.78        |\n",
            "|    explained_variance   | 0.75         |\n",
            "|    learning_rate        | 5e-05        |\n",
            "|    loss                 | 42.1         |\n",
            "|    n_updates            | 3520         |\n",
            "|    policy_gradient_loss | -0.00156     |\n",
            "|    std                  | 0.606        |\n",
            "|    value_loss           | 93.7         |\n",
            "------------------------------------------\n"
          ]
        },
        {
          "data": {
            "text/html": [
              "<pre style=\"white-space:pre;overflow-x:auto;line-height:normal;font-family:Menlo,'DejaVu Sans Mono',consolas,'Courier New',monospace\">Eval num_timesteps=890000, episode_reward=109.52 +/- 35.09\n",
              "</pre>\n"
            ],
            "text/plain": [
              "Eval num_timesteps=890000, episode_reward=109.52 +/- 35.09\n"
            ]
          },
          "metadata": {},
          "output_type": "display_data"
        },
        {
          "data": {
            "text/html": [
              "<pre style=\"white-space:pre;overflow-x:auto;line-height:normal;font-family:Menlo,'DejaVu Sans Mono',consolas,'Courier New',monospace\">Episode length: 94.60 +/- 15.65\n",
              "</pre>\n"
            ],
            "text/plain": [
              "Episode length: 94.60 +/- 15.65\n"
            ]
          },
          "metadata": {},
          "output_type": "display_data"
        },
        {
          "data": {
            "text/html": [
              "<pre style=\"white-space:pre;overflow-x:auto;line-height:normal;font-family:Menlo,'DejaVu Sans Mono',consolas,'Courier New',monospace\">Success rate: 0.00%\n",
              "</pre>\n"
            ],
            "text/plain": [
              "Success rate: 0.00%\n"
            ]
          },
          "metadata": {},
          "output_type": "display_data"
        },
        {
          "name": "stdout",
          "output_type": "stream",
          "text": [
            "-----------------------------------------\n",
            "| eval/                   |             |\n",
            "|    arrive_dest          | 0.0607      |\n",
            "|    crash                | 0.238       |\n",
            "|    max_step             | 0           |\n",
            "|    mean_ep_length       | 94.6        |\n",
            "|    mean_reward          | 110         |\n",
            "|    num_episodes         | 5           |\n",
            "|    out_of_road          | 0.939       |\n",
            "|    raw_action           | 0.46960637  |\n",
            "|    route_completion     | 0.416       |\n",
            "|    success_rate         | 0           |\n",
            "|    total_cost           | 8.23        |\n",
            "| time/                   |             |\n",
            "|    total_timesteps      | 890000      |\n",
            "| train/                  |             |\n",
            "|    approx_kl            | 0.008883422 |\n",
            "|    clip_fraction        | 0.193       |\n",
            "|    clip_range           | 0.1         |\n",
            "|    entropy_loss         | -1.77       |\n",
            "|    explained_variance   | 0.765       |\n",
            "|    learning_rate        | 5e-05       |\n",
            "|    loss                 | 53.2        |\n",
            "|    n_updates            | 3540        |\n",
            "|    policy_gradient_loss | 0.00148     |\n",
            "|    std                  | 0.606       |\n",
            "|    value_loss           | 81.7        |\n",
            "-----------------------------------------\n",
            "---------------------------------\n",
            "| rollout/           |          |\n",
            "|    ep_len_mean     | 298      |\n",
            "|    ep_rew_mean     | 270      |\n",
            "| time/              |          |\n",
            "|    fps             | 768      |\n",
            "|    iterations      | 178      |\n",
            "|    time_elapsed    | 1157     |\n",
            "|    total_timesteps | 890000   |\n",
            "---------------------------------\n",
            "------------------------------------------\n",
            "| rollout/                |              |\n",
            "|    ep_len_mean          | 288          |\n",
            "|    ep_rew_mean          | 268          |\n",
            "| time/                   |              |\n",
            "|    fps                  | 769          |\n",
            "|    iterations           | 179          |\n",
            "|    time_elapsed         | 1163         |\n",
            "|    total_timesteps      | 895000       |\n",
            "| train/                  |              |\n",
            "|    approx_kl            | 0.0028437874 |\n",
            "|    clip_fraction        | 0.113        |\n",
            "|    clip_range           | 0.1          |\n",
            "|    entropy_loss         | -1.77        |\n",
            "|    explained_variance   | 0.702        |\n",
            "|    learning_rate        | 5e-05        |\n",
            "|    loss                 | 31           |\n",
            "|    n_updates            | 3560         |\n",
            "|    policy_gradient_loss | -0.00165     |\n",
            "|    std                  | 0.604        |\n",
            "|    value_loss           | 104          |\n",
            "------------------------------------------\n"
          ]
        },
        {
          "data": {
            "text/html": [
              "<pre style=\"white-space:pre;overflow-x:auto;line-height:normal;font-family:Menlo,'DejaVu Sans Mono',consolas,'Courier New',monospace\">Saving model checkpoint to \n",
              "runs\\ppo_metadrive\\ppo_metadrive_2025-03-16_17-43-31_a51009e7\\models\\rl_model_900000_steps.zip\n",
              "</pre>\n"
            ],
            "text/plain": [
              "Saving model checkpoint to \n",
              "runs\\ppo_metadrive\\ppo_metadrive_2025-03-16_17-43-31_a51009e7\\models\\rl_model_900000_steps.zip\n"
            ]
          },
          "metadata": {},
          "output_type": "display_data"
        },
        {
          "data": {
            "text/html": [
              "<pre style=\"white-space:pre;overflow-x:auto;line-height:normal;font-family:Menlo,'DejaVu Sans Mono',consolas,'Courier New',monospace\">Eval num_timesteps=900000, episode_reward=146.33 +/- 110.60\n",
              "</pre>\n"
            ],
            "text/plain": [
              "Eval num_timesteps=900000, episode_reward=146.33 +/- 110.60\n"
            ]
          },
          "metadata": {},
          "output_type": "display_data"
        },
        {
          "data": {
            "text/html": [
              "<pre style=\"white-space:pre;overflow-x:auto;line-height:normal;font-family:Menlo,'DejaVu Sans Mono',consolas,'Courier New',monospace\">Episode length: 136.00 +/- 95.88\n",
              "</pre>\n"
            ],
            "text/plain": [
              "Episode length: 136.00 +/- 95.88\n"
            ]
          },
          "metadata": {},
          "output_type": "display_data"
        },
        {
          "data": {
            "text/html": [
              "<pre style=\"white-space:pre;overflow-x:auto;line-height:normal;font-family:Menlo,'DejaVu Sans Mono',consolas,'Courier New',monospace\">Success rate: 20.00%\n",
              "</pre>\n"
            ],
            "text/plain": [
              "Success rate: 20.00%\n"
            ]
          },
          "metadata": {},
          "output_type": "display_data"
        },
        {
          "name": "stdout",
          "output_type": "stream",
          "text": [
            "-----------------------------------------\n",
            "| eval/                   |             |\n",
            "|    arrive_dest          | 0.0622      |\n",
            "|    crash                | 0.236       |\n",
            "|    max_step             | 0           |\n",
            "|    mean_ep_length       | 136         |\n",
            "|    mean_reward          | 146         |\n",
            "|    num_episodes         | 5           |\n",
            "|    out_of_road          | 0.938       |\n",
            "|    raw_action           | 0.470301    |\n",
            "|    route_completion     | 0.416       |\n",
            "|    success_rate         | 0.2         |\n",
            "|    total_cost           | 8.19        |\n",
            "| time/                   |             |\n",
            "|    total_timesteps      | 900000      |\n",
            "| train/                  |             |\n",
            "|    approx_kl            | 0.007962584 |\n",
            "|    clip_fraction        | 0.18        |\n",
            "|    clip_range           | 0.1         |\n",
            "|    entropy_loss         | -1.77       |\n",
            "|    explained_variance   | 0.673       |\n",
            "|    learning_rate        | 5e-05       |\n",
            "|    loss                 | 44          |\n",
            "|    n_updates            | 3580        |\n",
            "|    policy_gradient_loss | 0.00158     |\n",
            "|    std                  | 0.604       |\n",
            "|    value_loss           | 102         |\n",
            "-----------------------------------------\n",
            "---------------------------------\n",
            "| rollout/           |          |\n",
            "|    ep_len_mean     | 296      |\n",
            "|    ep_rew_mean     | 272      |\n",
            "| time/              |          |\n",
            "|    fps             | 768      |\n",
            "|    iterations      | 180      |\n",
            "|    time_elapsed    | 1171     |\n",
            "|    total_timesteps | 900000   |\n",
            "---------------------------------\n",
            "-----------------------------------------\n",
            "| rollout/                |             |\n",
            "|    ep_len_mean          | 291         |\n",
            "|    ep_rew_mean          | 261         |\n",
            "| time/                   |             |\n",
            "|    fps                  | 768         |\n",
            "|    iterations           | 181         |\n",
            "|    time_elapsed         | 1176        |\n",
            "|    total_timesteps      | 905000      |\n",
            "| train/                  |             |\n",
            "|    approx_kl            | 0.015549461 |\n",
            "|    clip_fraction        | 0.191       |\n",
            "|    clip_range           | 0.1         |\n",
            "|    entropy_loss         | -1.77       |\n",
            "|    explained_variance   | 0.689       |\n",
            "|    learning_rate        | 5e-05       |\n",
            "|    loss                 | 59.3        |\n",
            "|    n_updates            | 3600        |\n",
            "|    policy_gradient_loss | 0.00318     |\n",
            "|    std                  | 0.603       |\n",
            "|    value_loss           | 110         |\n",
            "-----------------------------------------\n"
          ]
        },
        {
          "data": {
            "text/html": [
              "<pre style=\"white-space:pre;overflow-x:auto;line-height:normal;font-family:Menlo,'DejaVu Sans Mono',consolas,'Courier New',monospace\">Eval num_timesteps=910000, episode_reward=115.70 +/- 29.35\n",
              "</pre>\n"
            ],
            "text/plain": [
              "Eval num_timesteps=910000, episode_reward=115.70 +/- 29.35\n"
            ]
          },
          "metadata": {},
          "output_type": "display_data"
        },
        {
          "data": {
            "text/html": [
              "<pre style=\"white-space:pre;overflow-x:auto;line-height:normal;font-family:Menlo,'DejaVu Sans Mono',consolas,'Courier New',monospace\">Episode length: 127.80 +/- 62.19\n",
              "</pre>\n"
            ],
            "text/plain": [
              "Episode length: 127.80 +/- 62.19\n"
            ]
          },
          "metadata": {},
          "output_type": "display_data"
        },
        {
          "data": {
            "text/html": [
              "<pre style=\"white-space:pre;overflow-x:auto;line-height:normal;font-family:Menlo,'DejaVu Sans Mono',consolas,'Courier New',monospace\">Success rate: 0.00%\n",
              "</pre>\n"
            ],
            "text/plain": [
              "Success rate: 0.00%\n"
            ]
          },
          "metadata": {},
          "output_type": "display_data"
        },
        {
          "name": "stdout",
          "output_type": "stream",
          "text": [
            "------------------------------------------\n",
            "| eval/                   |              |\n",
            "|    arrive_dest          | 0.0615       |\n",
            "|    crash                | 0.233        |\n",
            "|    max_step             | 0            |\n",
            "|    mean_ep_length       | 128          |\n",
            "|    mean_reward          | 116          |\n",
            "|    num_episodes         | 5            |\n",
            "|    out_of_road          | 0.938        |\n",
            "|    raw_action           | 0.47109938   |\n",
            "|    route_completion     | 0.417        |\n",
            "|    success_rate         | 0            |\n",
            "|    total_cost           | 8.29         |\n",
            "| time/                   |              |\n",
            "|    total_timesteps      | 910000       |\n",
            "| train/                  |              |\n",
            "|    approx_kl            | 0.0077061467 |\n",
            "|    clip_fraction        | 0.234        |\n",
            "|    clip_range           | 0.1          |\n",
            "|    entropy_loss         | -1.76        |\n",
            "|    explained_variance   | 0.596        |\n",
            "|    learning_rate        | 5e-05        |\n",
            "|    loss                 | 38.6         |\n",
            "|    n_updates            | 3620         |\n",
            "|    policy_gradient_loss | 0.00214      |\n",
            "|    std                  | 0.602        |\n",
            "|    value_loss           | 108          |\n",
            "------------------------------------------\n",
            "---------------------------------\n",
            "| rollout/           |          |\n",
            "|    ep_len_mean     | 298      |\n",
            "|    ep_rew_mean     | 272      |\n",
            "| time/              |          |\n",
            "|    fps             | 768      |\n",
            "|    iterations      | 182      |\n",
            "|    time_elapsed    | 1184     |\n",
            "|    total_timesteps | 910000   |\n",
            "---------------------------------\n",
            "------------------------------------------\n",
            "| rollout/                |              |\n",
            "|    ep_len_mean          | 288          |\n",
            "|    ep_rew_mean          | 264          |\n",
            "| time/                   |              |\n",
            "|    fps                  | 769          |\n",
            "|    iterations           | 183          |\n",
            "|    time_elapsed         | 1189         |\n",
            "|    total_timesteps      | 915000       |\n",
            "| train/                  |              |\n",
            "|    approx_kl            | 0.0018294345 |\n",
            "|    clip_fraction        | 0.172        |\n",
            "|    clip_range           | 0.1          |\n",
            "|    entropy_loss         | -1.76        |\n",
            "|    explained_variance   | 0.724        |\n",
            "|    learning_rate        | 5e-05        |\n",
            "|    loss                 | 26.4         |\n",
            "|    n_updates            | 3640         |\n",
            "|    policy_gradient_loss | 0.0012       |\n",
            "|    std                  | 0.6          |\n",
            "|    value_loss           | 69.2         |\n",
            "------------------------------------------\n"
          ]
        },
        {
          "data": {
            "text/html": [
              "<pre style=\"white-space:pre;overflow-x:auto;line-height:normal;font-family:Menlo,'DejaVu Sans Mono',consolas,'Courier New',monospace\">Eval num_timesteps=920000, episode_reward=142.84 +/- 86.46\n",
              "</pre>\n"
            ],
            "text/plain": [
              "Eval num_timesteps=920000, episode_reward=142.84 +/- 86.46\n"
            ]
          },
          "metadata": {},
          "output_type": "display_data"
        },
        {
          "data": {
            "text/html": [
              "<pre style=\"white-space:pre;overflow-x:auto;line-height:normal;font-family:Menlo,'DejaVu Sans Mono',consolas,'Courier New',monospace\">Episode length: 113.00 +/- 42.74\n",
              "</pre>\n"
            ],
            "text/plain": [
              "Episode length: 113.00 +/- 42.74\n"
            ]
          },
          "metadata": {},
          "output_type": "display_data"
        },
        {
          "data": {
            "text/html": [
              "<pre style=\"white-space:pre;overflow-x:auto;line-height:normal;font-family:Menlo,'DejaVu Sans Mono',consolas,'Courier New',monospace\">Success rate: 0.00%\n",
              "</pre>\n"
            ],
            "text/plain": [
              "Success rate: 0.00%\n"
            ]
          },
          "metadata": {},
          "output_type": "display_data"
        },
        {
          "name": "stdout",
          "output_type": "stream",
          "text": [
            "-------------------------------------------\n",
            "| eval/                   |               |\n",
            "|    arrive_dest          | 0.0609        |\n",
            "|    crash                | 0.235         |\n",
            "|    max_step             | 0             |\n",
            "|    mean_ep_length       | 113           |\n",
            "|    mean_reward          | 143           |\n",
            "|    num_episodes         | 5             |\n",
            "|    out_of_road          | 0.939         |\n",
            "|    raw_action           | 0.47127813    |\n",
            "|    route_completion     | 0.417         |\n",
            "|    success_rate         | 0             |\n",
            "|    total_cost           | 8.22          |\n",
            "| time/                   |               |\n",
            "|    total_timesteps      | 920000        |\n",
            "| train/                  |               |\n",
            "|    approx_kl            | 0.00092391326 |\n",
            "|    clip_fraction        | 0.0949        |\n",
            "|    clip_range           | 0.1           |\n",
            "|    entropy_loss         | -1.76         |\n",
            "|    explained_variance   | 0.665         |\n",
            "|    learning_rate        | 5e-05         |\n",
            "|    loss                 | 57            |\n",
            "|    n_updates            | 3660          |\n",
            "|    policy_gradient_loss | -0.00176      |\n",
            "|    std                  | 0.601         |\n",
            "|    value_loss           | 121           |\n",
            "-------------------------------------------\n",
            "---------------------------------\n",
            "| rollout/           |          |\n",
            "|    ep_len_mean     | 282      |\n",
            "|    ep_rew_mean     | 259      |\n",
            "| time/              |          |\n",
            "|    fps             | 769      |\n",
            "|    iterations      | 184      |\n",
            "|    time_elapsed    | 1196     |\n",
            "|    total_timesteps | 920000   |\n",
            "---------------------------------\n",
            "------------------------------------------\n",
            "| rollout/                |              |\n",
            "|    ep_len_mean          | 281          |\n",
            "|    ep_rew_mean          | 259          |\n",
            "| time/                   |              |\n",
            "|    fps                  | 769          |\n",
            "|    iterations           | 185          |\n",
            "|    time_elapsed         | 1201         |\n",
            "|    total_timesteps      | 925000       |\n",
            "| train/                  |              |\n",
            "|    approx_kl            | 0.0031316008 |\n",
            "|    clip_fraction        | 0.141        |\n",
            "|    clip_range           | 0.1          |\n",
            "|    entropy_loss         | -1.75        |\n",
            "|    explained_variance   | 0.685        |\n",
            "|    learning_rate        | 5e-05        |\n",
            "|    loss                 | 61           |\n",
            "|    n_updates            | 3680         |\n",
            "|    policy_gradient_loss | -0.00122     |\n",
            "|    std                  | 0.6          |\n",
            "|    value_loss           | 107          |\n",
            "------------------------------------------\n"
          ]
        },
        {
          "data": {
            "text/html": [
              "<pre style=\"white-space:pre;overflow-x:auto;line-height:normal;font-family:Menlo,'DejaVu Sans Mono',consolas,'Courier New',monospace\">Eval num_timesteps=930000, episode_reward=219.94 +/- 82.73\n",
              "</pre>\n"
            ],
            "text/plain": [
              "Eval num_timesteps=930000, episode_reward=219.94 +/- 82.73\n"
            ]
          },
          "metadata": {},
          "output_type": "display_data"
        },
        {
          "data": {
            "text/html": [
              "<pre style=\"white-space:pre;overflow-x:auto;line-height:normal;font-family:Menlo,'DejaVu Sans Mono',consolas,'Courier New',monospace\">Episode length: 185.40 +/- 72.23\n",
              "</pre>\n"
            ],
            "text/plain": [
              "Episode length: 185.40 +/- 72.23\n"
            ]
          },
          "metadata": {},
          "output_type": "display_data"
        },
        {
          "data": {
            "text/html": [
              "<pre style=\"white-space:pre;overflow-x:auto;line-height:normal;font-family:Menlo,'DejaVu Sans Mono',consolas,'Courier New',monospace\">Success rate: 20.00%\n",
              "</pre>\n"
            ],
            "text/plain": [
              "Success rate: 20.00%\n"
            ]
          },
          "metadata": {},
          "output_type": "display_data"
        },
        {
          "name": "stdout",
          "output_type": "stream",
          "text": [
            "------------------------------------------\n",
            "| eval/                   |              |\n",
            "|    arrive_dest          | 0.0624       |\n",
            "|    crash                | 0.234        |\n",
            "|    max_step             | 0            |\n",
            "|    mean_ep_length       | 185          |\n",
            "|    mean_reward          | 220          |\n",
            "|    num_episodes         | 5            |\n",
            "|    out_of_road          | 0.938        |\n",
            "|    raw_action           | 0.4730851    |\n",
            "|    route_completion     | 0.421        |\n",
            "|    success_rate         | 0.2          |\n",
            "|    total_cost           | 8.24         |\n",
            "| time/                   |              |\n",
            "|    total_timesteps      | 930000       |\n",
            "| train/                  |              |\n",
            "|    approx_kl            | 0.0017661791 |\n",
            "|    clip_fraction        | 0.16         |\n",
            "|    clip_range           | 0.1          |\n",
            "|    entropy_loss         | -1.75        |\n",
            "|    explained_variance   | 0.698        |\n",
            "|    learning_rate        | 5e-05        |\n",
            "|    loss                 | 43.5         |\n",
            "|    n_updates            | 3700         |\n",
            "|    policy_gradient_loss | -0.000223    |\n",
            "|    std                  | 0.599        |\n",
            "|    value_loss           | 90.5         |\n",
            "------------------------------------------\n",
            "---------------------------------\n",
            "| rollout/           |          |\n",
            "|    ep_len_mean     | 276      |\n",
            "|    ep_rew_mean     | 263      |\n",
            "| time/              |          |\n",
            "|    fps             | 769      |\n",
            "|    iterations      | 186      |\n",
            "|    time_elapsed    | 1208     |\n",
            "|    total_timesteps | 930000   |\n",
            "---------------------------------\n",
            "------------------------------------------\n",
            "| rollout/                |              |\n",
            "|    ep_len_mean          | 270          |\n",
            "|    ep_rew_mean          | 258          |\n",
            "| time/                   |              |\n",
            "|    fps                  | 769          |\n",
            "|    iterations           | 187          |\n",
            "|    time_elapsed         | 1214         |\n",
            "|    total_timesteps      | 935000       |\n",
            "| train/                  |              |\n",
            "|    approx_kl            | 0.0014734366 |\n",
            "|    clip_fraction        | 0.182        |\n",
            "|    clip_range           | 0.1          |\n",
            "|    entropy_loss         | -1.75        |\n",
            "|    explained_variance   | 0.688        |\n",
            "|    learning_rate        | 5e-05        |\n",
            "|    loss                 | 41           |\n",
            "|    n_updates            | 3720         |\n",
            "|    policy_gradient_loss | 0.00338      |\n",
            "|    std                  | 0.598        |\n",
            "|    value_loss           | 111          |\n",
            "------------------------------------------\n"
          ]
        },
        {
          "data": {
            "text/html": [
              "<pre style=\"white-space:pre;overflow-x:auto;line-height:normal;font-family:Menlo,'DejaVu Sans Mono',consolas,'Courier New',monospace\">Eval num_timesteps=940000, episode_reward=197.40 +/- 81.14\n",
              "</pre>\n"
            ],
            "text/plain": [
              "Eval num_timesteps=940000, episode_reward=197.40 +/- 81.14\n"
            ]
          },
          "metadata": {},
          "output_type": "display_data"
        },
        {
          "data": {
            "text/html": [
              "<pre style=\"white-space:pre;overflow-x:auto;line-height:normal;font-family:Menlo,'DejaVu Sans Mono',consolas,'Courier New',monospace\">Episode length: 138.00 +/- 43.78\n",
              "</pre>\n"
            ],
            "text/plain": [
              "Episode length: 138.00 +/- 43.78\n"
            ]
          },
          "metadata": {},
          "output_type": "display_data"
        },
        {
          "data": {
            "text/html": [
              "<pre style=\"white-space:pre;overflow-x:auto;line-height:normal;font-family:Menlo,'DejaVu Sans Mono',consolas,'Courier New',monospace\">Success rate: 0.00%\n",
              "</pre>\n"
            ],
            "text/plain": [
              "Success rate: 0.00%\n"
            ]
          },
          "metadata": {},
          "output_type": "display_data"
        },
        {
          "name": "stdout",
          "output_type": "stream",
          "text": [
            "-----------------------------------------\n",
            "| eval/                   |             |\n",
            "|    arrive_dest          | 0.0617      |\n",
            "|    crash                | 0.238       |\n",
            "|    max_step             | 0           |\n",
            "|    mean_ep_length       | 138         |\n",
            "|    mean_reward          | 197         |\n",
            "|    num_episodes         | 5           |\n",
            "|    out_of_road          | 0.938       |\n",
            "|    raw_action           | 0.47342178  |\n",
            "|    route_completion     | 0.422       |\n",
            "|    success_rate         | 0           |\n",
            "|    total_cost           | 8.17        |\n",
            "| time/                   |             |\n",
            "|    total_timesteps      | 940000      |\n",
            "| train/                  |             |\n",
            "|    approx_kl            | 0.001781694 |\n",
            "|    clip_fraction        | 0.183       |\n",
            "|    clip_range           | 0.1         |\n",
            "|    entropy_loss         | -1.74       |\n",
            "|    explained_variance   | 0.65        |\n",
            "|    learning_rate        | 5e-05       |\n",
            "|    loss                 | 44.4        |\n",
            "|    n_updates            | 3740        |\n",
            "|    policy_gradient_loss | 0.000504    |\n",
            "|    std                  | 0.597       |\n",
            "|    value_loss           | 105         |\n",
            "-----------------------------------------\n",
            "---------------------------------\n",
            "| rollout/           |          |\n",
            "|    ep_len_mean     | 270      |\n",
            "|    ep_rew_mean     | 253      |\n",
            "| time/              |          |\n",
            "|    fps             | 769      |\n",
            "|    iterations      | 188      |\n",
            "|    time_elapsed    | 1222     |\n",
            "|    total_timesteps | 940000   |\n",
            "---------------------------------\n",
            "------------------------------------------\n",
            "| rollout/                |              |\n",
            "|    ep_len_mean          | 270          |\n",
            "|    ep_rew_mean          | 251          |\n",
            "| time/                   |              |\n",
            "|    fps                  | 769          |\n",
            "|    iterations           | 189          |\n",
            "|    time_elapsed         | 1227         |\n",
            "|    total_timesteps      | 945000       |\n",
            "| train/                  |              |\n",
            "|    approx_kl            | 0.0035762251 |\n",
            "|    clip_fraction        | 0.162        |\n",
            "|    clip_range           | 0.1          |\n",
            "|    entropy_loss         | -1.74        |\n",
            "|    explained_variance   | 0.736        |\n",
            "|    learning_rate        | 5e-05        |\n",
            "|    loss                 | 52.5         |\n",
            "|    n_updates            | 3760         |\n",
            "|    policy_gradient_loss | -0.00141     |\n",
            "|    std                  | 0.597        |\n",
            "|    value_loss           | 118          |\n",
            "------------------------------------------\n"
          ]
        },
        {
          "data": {
            "text/html": [
              "<pre style=\"white-space:pre;overflow-x:auto;line-height:normal;font-family:Menlo,'DejaVu Sans Mono',consolas,'Courier New',monospace\">Eval num_timesteps=950000, episode_reward=121.39 +/- 49.73\n",
              "</pre>\n"
            ],
            "text/plain": [
              "Eval num_timesteps=950000, episode_reward=121.39 +/- 49.73\n"
            ]
          },
          "metadata": {},
          "output_type": "display_data"
        },
        {
          "data": {
            "text/html": [
              "<pre style=\"white-space:pre;overflow-x:auto;line-height:normal;font-family:Menlo,'DejaVu Sans Mono',consolas,'Courier New',monospace\">Episode length: 99.80 +/- 20.93\n",
              "</pre>\n"
            ],
            "text/plain": [
              "Episode length: 99.80 +/- 20.93\n"
            ]
          },
          "metadata": {},
          "output_type": "display_data"
        },
        {
          "data": {
            "text/html": [
              "<pre style=\"white-space:pre;overflow-x:auto;line-height:normal;font-family:Menlo,'DejaVu Sans Mono',consolas,'Courier New',monospace\">Success rate: 0.00%\n",
              "</pre>\n"
            ],
            "text/plain": [
              "Success rate: 0.00%\n"
            ]
          },
          "metadata": {},
          "output_type": "display_data"
        },
        {
          "name": "stdout",
          "output_type": "stream",
          "text": [
            "------------------------------------------\n",
            "| eval/                   |              |\n",
            "|    arrive_dest          | 0.0611       |\n",
            "|    crash                | 0.238        |\n",
            "|    max_step             | 0            |\n",
            "|    mean_ep_length       | 99.8         |\n",
            "|    mean_reward          | 121          |\n",
            "|    num_episodes         | 5            |\n",
            "|    out_of_road          | 0.939        |\n",
            "|    raw_action           | 0.4740604    |\n",
            "|    route_completion     | 0.422        |\n",
            "|    success_rate         | 0            |\n",
            "|    total_cost           | 8.09         |\n",
            "| time/                   |              |\n",
            "|    total_timesteps      | 950000       |\n",
            "| train/                  |              |\n",
            "|    approx_kl            | 0.0010033199 |\n",
            "|    clip_fraction        | 0.121        |\n",
            "|    clip_range           | 0.1          |\n",
            "|    entropy_loss         | -1.73        |\n",
            "|    explained_variance   | 0.846        |\n",
            "|    learning_rate        | 5e-05        |\n",
            "|    loss                 | 30.6         |\n",
            "|    n_updates            | 3780         |\n",
            "|    policy_gradient_loss | -0.00135     |\n",
            "|    std                  | 0.594        |\n",
            "|    value_loss           | 98.9         |\n",
            "------------------------------------------\n",
            "---------------------------------\n",
            "| rollout/           |          |\n",
            "|    ep_len_mean     | 265      |\n",
            "|    ep_rew_mean     | 246      |\n",
            "| time/              |          |\n",
            "|    fps             | 770      |\n",
            "|    iterations      | 190      |\n",
            "|    time_elapsed    | 1233     |\n",
            "|    total_timesteps | 950000   |\n",
            "---------------------------------\n",
            "------------------------------------------\n",
            "| rollout/                |              |\n",
            "|    ep_len_mean          | 267          |\n",
            "|    ep_rew_mean          | 246          |\n",
            "| time/                   |              |\n",
            "|    fps                  | 770          |\n",
            "|    iterations           | 191          |\n",
            "|    time_elapsed         | 1239         |\n",
            "|    total_timesteps      | 955000       |\n",
            "| train/                  |              |\n",
            "|    approx_kl            | 0.0036452091 |\n",
            "|    clip_fraction        | 0.137        |\n",
            "|    clip_range           | 0.1          |\n",
            "|    entropy_loss         | -1.73        |\n",
            "|    explained_variance   | 0.906        |\n",
            "|    learning_rate        | 5e-05        |\n",
            "|    loss                 | 47.1         |\n",
            "|    n_updates            | 3800         |\n",
            "|    policy_gradient_loss | -0.000526    |\n",
            "|    std                  | 0.594        |\n",
            "|    value_loss           | 88           |\n",
            "------------------------------------------\n"
          ]
        },
        {
          "data": {
            "text/html": [
              "<pre style=\"white-space:pre;overflow-x:auto;line-height:normal;font-family:Menlo,'DejaVu Sans Mono',consolas,'Courier New',monospace\">Eval num_timesteps=960000, episode_reward=161.79 +/- 72.89\n",
              "</pre>\n"
            ],
            "text/plain": [
              "Eval num_timesteps=960000, episode_reward=161.79 +/- 72.89\n"
            ]
          },
          "metadata": {},
          "output_type": "display_data"
        },
        {
          "data": {
            "text/html": [
              "<pre style=\"white-space:pre;overflow-x:auto;line-height:normal;font-family:Menlo,'DejaVu Sans Mono',consolas,'Courier New',monospace\">Episode length: 125.80 +/- 41.52\n",
              "</pre>\n"
            ],
            "text/plain": [
              "Episode length: 125.80 +/- 41.52\n"
            ]
          },
          "metadata": {},
          "output_type": "display_data"
        },
        {
          "data": {
            "text/html": [
              "<pre style=\"white-space:pre;overflow-x:auto;line-height:normal;font-family:Menlo,'DejaVu Sans Mono',consolas,'Courier New',monospace\">Success rate: 0.00%\n",
              "</pre>\n"
            ],
            "text/plain": [
              "Success rate: 0.00%\n"
            ]
          },
          "metadata": {},
          "output_type": "display_data"
        },
        {
          "name": "stdout",
          "output_type": "stream",
          "text": [
            "-----------------------------------------\n",
            "| eval/                   |             |\n",
            "|    arrive_dest          | 0.0604      |\n",
            "|    crash                | 0.235       |\n",
            "|    max_step             | 0           |\n",
            "|    mean_ep_length       | 126         |\n",
            "|    mean_reward          | 162         |\n",
            "|    num_episodes         | 5           |\n",
            "|    out_of_road          | 0.94        |\n",
            "|    raw_action           | 0.47390705  |\n",
            "|    route_completion     | 0.422       |\n",
            "|    success_rate         | 0           |\n",
            "|    total_cost           | 8.05        |\n",
            "| time/                   |             |\n",
            "|    total_timesteps      | 960000      |\n",
            "| train/                  |             |\n",
            "|    approx_kl            | 0.001614628 |\n",
            "|    clip_fraction        | 0.119       |\n",
            "|    clip_range           | 0.1         |\n",
            "|    entropy_loss         | -1.73       |\n",
            "|    explained_variance   | 0.909       |\n",
            "|    learning_rate        | 5e-05       |\n",
            "|    loss                 | 48.7        |\n",
            "|    n_updates            | 3820        |\n",
            "|    policy_gradient_loss | -0.000309   |\n",
            "|    std                  | 0.595       |\n",
            "|    value_loss           | 97.3        |\n",
            "-----------------------------------------\n",
            "---------------------------------\n",
            "| rollout/           |          |\n",
            "|    ep_len_mean     | 270      |\n",
            "|    ep_rew_mean     | 246      |\n",
            "| time/              |          |\n",
            "|    fps             | 770      |\n",
            "|    iterations      | 192      |\n",
            "|    time_elapsed    | 1245     |\n",
            "|    total_timesteps | 960000   |\n",
            "---------------------------------\n",
            "------------------------------------------\n",
            "| rollout/                |              |\n",
            "|    ep_len_mean          | 261          |\n",
            "|    ep_rew_mean          | 238          |\n",
            "| time/                   |              |\n",
            "|    fps                  | 770          |\n",
            "|    iterations           | 193          |\n",
            "|    time_elapsed         | 1251         |\n",
            "|    total_timesteps      | 965000       |\n",
            "| train/                  |              |\n",
            "|    approx_kl            | 0.0075705377 |\n",
            "|    clip_fraction        | 0.176        |\n",
            "|    clip_range           | 0.1          |\n",
            "|    entropy_loss         | -1.72        |\n",
            "|    explained_variance   | 0.927        |\n",
            "|    learning_rate        | 5e-05        |\n",
            "|    loss                 | 30.7         |\n",
            "|    n_updates            | 3840         |\n",
            "|    policy_gradient_loss | -0.000802    |\n",
            "|    std                  | 0.594        |\n",
            "|    value_loss           | 85.3         |\n",
            "------------------------------------------\n"
          ]
        },
        {
          "data": {
            "text/html": [
              "<pre style=\"white-space:pre;overflow-x:auto;line-height:normal;font-family:Menlo,'DejaVu Sans Mono',consolas,'Courier New',monospace\">Eval num_timesteps=970000, episode_reward=121.70 +/- 35.01\n",
              "</pre>\n"
            ],
            "text/plain": [
              "Eval num_timesteps=970000, episode_reward=121.70 +/- 35.01\n"
            ]
          },
          "metadata": {},
          "output_type": "display_data"
        },
        {
          "data": {
            "text/html": [
              "<pre style=\"white-space:pre;overflow-x:auto;line-height:normal;font-family:Menlo,'DejaVu Sans Mono',consolas,'Courier New',monospace\">Episode length: 106.80 +/- 25.25\n",
              "</pre>\n"
            ],
            "text/plain": [
              "Episode length: 106.80 +/- 25.25\n"
            ]
          },
          "metadata": {},
          "output_type": "display_data"
        },
        {
          "data": {
            "text/html": [
              "<pre style=\"white-space:pre;overflow-x:auto;line-height:normal;font-family:Menlo,'DejaVu Sans Mono',consolas,'Courier New',monospace\">Success rate: 0.00%\n",
              "</pre>\n"
            ],
            "text/plain": [
              "Success rate: 0.00%\n"
            ]
          },
          "metadata": {},
          "output_type": "display_data"
        },
        {
          "name": "stdout",
          "output_type": "stream",
          "text": [
            "------------------------------------------\n",
            "| eval/                   |              |\n",
            "|    arrive_dest          | 0.0598       |\n",
            "|    crash                | 0.235        |\n",
            "|    max_step             | 0            |\n",
            "|    mean_ep_length       | 107          |\n",
            "|    mean_reward          | 122          |\n",
            "|    num_episodes         | 5            |\n",
            "|    out_of_road          | 0.94         |\n",
            "|    raw_action           | 0.47443315   |\n",
            "|    route_completion     | 0.422        |\n",
            "|    success_rate         | 0            |\n",
            "|    total_cost           | 7.99         |\n",
            "| time/                   |              |\n",
            "|    total_timesteps      | 970000       |\n",
            "| train/                  |              |\n",
            "|    approx_kl            | 0.0013747392 |\n",
            "|    clip_fraction        | 0.147        |\n",
            "|    clip_range           | 0.1          |\n",
            "|    entropy_loss         | -1.72        |\n",
            "|    explained_variance   | 0.891        |\n",
            "|    learning_rate        | 5e-05        |\n",
            "|    loss                 | 82.4         |\n",
            "|    n_updates            | 3860         |\n",
            "|    policy_gradient_loss | -0.00016     |\n",
            "|    std                  | 0.594        |\n",
            "|    value_loss           | 134          |\n",
            "------------------------------------------\n",
            "---------------------------------\n",
            "| rollout/           |          |\n",
            "|    ep_len_mean     | 257      |\n",
            "|    ep_rew_mean     | 235      |\n",
            "| time/              |          |\n",
            "|    fps             | 770      |\n",
            "|    iterations      | 194      |\n",
            "|    time_elapsed    | 1258     |\n",
            "|    total_timesteps | 970000   |\n",
            "---------------------------------\n",
            "------------------------------------------\n",
            "| rollout/                |              |\n",
            "|    ep_len_mean          | 260          |\n",
            "|    ep_rew_mean          | 239          |\n",
            "| time/                   |              |\n",
            "|    fps                  | 771          |\n",
            "|    iterations           | 195          |\n",
            "|    time_elapsed         | 1264         |\n",
            "|    total_timesteps      | 975000       |\n",
            "| train/                  |              |\n",
            "|    approx_kl            | 0.0033246193 |\n",
            "|    clip_fraction        | 0.114        |\n",
            "|    clip_range           | 0.1          |\n",
            "|    entropy_loss         | -1.72        |\n",
            "|    explained_variance   | 0.912        |\n",
            "|    learning_rate        | 5e-05        |\n",
            "|    loss                 | 36.7         |\n",
            "|    n_updates            | 3880         |\n",
            "|    policy_gradient_loss | -0.0019      |\n",
            "|    std                  | 0.593        |\n",
            "|    value_loss           | 109          |\n",
            "------------------------------------------\n"
          ]
        },
        {
          "data": {
            "text/html": [
              "<pre style=\"white-space:pre;overflow-x:auto;line-height:normal;font-family:Menlo,'DejaVu Sans Mono',consolas,'Courier New',monospace\">Eval num_timesteps=980000, episode_reward=173.50 +/- 101.29\n",
              "</pre>\n"
            ],
            "text/plain": [
              "Eval num_timesteps=980000, episode_reward=173.50 +/- 101.29\n"
            ]
          },
          "metadata": {},
          "output_type": "display_data"
        },
        {
          "data": {
            "text/html": [
              "<pre style=\"white-space:pre;overflow-x:auto;line-height:normal;font-family:Menlo,'DejaVu Sans Mono',consolas,'Courier New',monospace\">Episode length: 138.40 +/- 64.82\n",
              "</pre>\n"
            ],
            "text/plain": [
              "Episode length: 138.40 +/- 64.82\n"
            ]
          },
          "metadata": {},
          "output_type": "display_data"
        },
        {
          "data": {
            "text/html": [
              "<pre style=\"white-space:pre;overflow-x:auto;line-height:normal;font-family:Menlo,'DejaVu Sans Mono',consolas,'Courier New',monospace\">Success rate: 0.00%\n",
              "</pre>\n"
            ],
            "text/plain": [
              "Success rate: 0.00%\n"
            ]
          },
          "metadata": {},
          "output_type": "display_data"
        },
        {
          "name": "stdout",
          "output_type": "stream",
          "text": [
            "-----------------------------------------\n",
            "| eval/                   |             |\n",
            "|    arrive_dest          | 0.0592      |\n",
            "|    crash                | 0.235       |\n",
            "|    max_step             | 0           |\n",
            "|    mean_ep_length       | 138         |\n",
            "|    mean_reward          | 174         |\n",
            "|    num_episodes         | 5           |\n",
            "|    out_of_road          | 0.941       |\n",
            "|    raw_action           | 0.4745727   |\n",
            "|    route_completion     | 0.423       |\n",
            "|    success_rate         | 0           |\n",
            "|    total_cost           | 7.97        |\n",
            "| time/                   |             |\n",
            "|    total_timesteps      | 980000      |\n",
            "| train/                  |             |\n",
            "|    approx_kl            | 0.002338577 |\n",
            "|    clip_fraction        | 0.15        |\n",
            "|    clip_range           | 0.1         |\n",
            "|    entropy_loss         | -1.72       |\n",
            "|    explained_variance   | 0.925       |\n",
            "|    learning_rate        | 5e-05       |\n",
            "|    loss                 | 64.4        |\n",
            "|    n_updates            | 3900        |\n",
            "|    policy_gradient_loss | -7.82e-05   |\n",
            "|    std                  | 0.595       |\n",
            "|    value_loss           | 88.8        |\n",
            "-----------------------------------------\n",
            "---------------------------------\n",
            "| rollout/           |          |\n",
            "|    ep_len_mean     | 261      |\n",
            "|    ep_rew_mean     | 237      |\n",
            "| time/              |          |\n",
            "|    fps             | 770      |\n",
            "|    iterations      | 196      |\n",
            "|    time_elapsed    | 1272     |\n",
            "|    total_timesteps | 980000   |\n",
            "---------------------------------\n",
            "------------------------------------------\n",
            "| rollout/                |              |\n",
            "|    ep_len_mean          | 244          |\n",
            "|    ep_rew_mean          | 222          |\n",
            "| time/                   |              |\n",
            "|    fps                  | 771          |\n",
            "|    iterations           | 197          |\n",
            "|    time_elapsed         | 1277         |\n",
            "|    total_timesteps      | 985000       |\n",
            "| train/                  |              |\n",
            "|    approx_kl            | 0.0031890802 |\n",
            "|    clip_fraction        | 0.163        |\n",
            "|    clip_range           | 0.1          |\n",
            "|    entropy_loss         | -1.72        |\n",
            "|    explained_variance   | 0.93         |\n",
            "|    learning_rate        | 5e-05        |\n",
            "|    loss                 | 37.4         |\n",
            "|    n_updates            | 3920         |\n",
            "|    policy_gradient_loss | -0.000225    |\n",
            "|    std                  | 0.594        |\n",
            "|    value_loss           | 97.6         |\n",
            "------------------------------------------\n"
          ]
        },
        {
          "data": {
            "text/html": [
              "<pre style=\"white-space:pre;overflow-x:auto;line-height:normal;font-family:Menlo,'DejaVu Sans Mono',consolas,'Courier New',monospace\">Eval num_timesteps=990000, episode_reward=157.47 +/- 99.54\n",
              "</pre>\n"
            ],
            "text/plain": [
              "Eval num_timesteps=990000, episode_reward=157.47 +/- 99.54\n"
            ]
          },
          "metadata": {},
          "output_type": "display_data"
        },
        {
          "data": {
            "text/html": [
              "<pre style=\"white-space:pre;overflow-x:auto;line-height:normal;font-family:Menlo,'DejaVu Sans Mono',consolas,'Courier New',monospace\">Episode length: 126.60 +/- 58.58\n",
              "</pre>\n"
            ],
            "text/plain": [
              "Episode length: 126.60 +/- 58.58\n"
            ]
          },
          "metadata": {},
          "output_type": "display_data"
        },
        {
          "data": {
            "text/html": [
              "<pre style=\"white-space:pre;overflow-x:auto;line-height:normal;font-family:Menlo,'DejaVu Sans Mono',consolas,'Courier New',monospace\">Success rate: 0.00%\n",
              "</pre>\n"
            ],
            "text/plain": [
              "Success rate: 0.00%\n"
            ]
          },
          "metadata": {},
          "output_type": "display_data"
        },
        {
          "name": "stdout",
          "output_type": "stream",
          "text": [
            "------------------------------------------\n",
            "| eval/                   |              |\n",
            "|    arrive_dest          | 0.0586       |\n",
            "|    crash                | 0.236        |\n",
            "|    max_step             | 0            |\n",
            "|    mean_ep_length       | 127          |\n",
            "|    mean_reward          | 157          |\n",
            "|    num_episodes         | 5            |\n",
            "|    out_of_road          | 0.941        |\n",
            "|    raw_action           | 0.47443172   |\n",
            "|    route_completion     | 0.423        |\n",
            "|    success_rate         | 0            |\n",
            "|    total_cost           | 7.92         |\n",
            "| time/                   |              |\n",
            "|    total_timesteps      | 990000       |\n",
            "| train/                  |              |\n",
            "|    approx_kl            | 0.0015454286 |\n",
            "|    clip_fraction        | 0.167        |\n",
            "|    clip_range           | 0.1          |\n",
            "|    entropy_loss         | -1.72        |\n",
            "|    explained_variance   | 0.915        |\n",
            "|    learning_rate        | 5e-05        |\n",
            "|    loss                 | 28.6         |\n",
            "|    n_updates            | 3940         |\n",
            "|    policy_gradient_loss | -0.0013      |\n",
            "|    std                  | 0.594        |\n",
            "|    value_loss           | 122          |\n",
            "------------------------------------------\n",
            "---------------------------------\n",
            "| rollout/           |          |\n",
            "|    ep_len_mean     | 247      |\n",
            "|    ep_rew_mean     | 227      |\n",
            "| time/              |          |\n",
            "|    fps             | 770      |\n",
            "|    iterations      | 198      |\n",
            "|    time_elapsed    | 1284     |\n",
            "|    total_timesteps | 990000   |\n",
            "---------------------------------\n",
            "-----------------------------------------\n",
            "| rollout/                |             |\n",
            "|    ep_len_mean          | 306         |\n",
            "|    ep_rew_mean          | 202         |\n",
            "| time/                   |             |\n",
            "|    fps                  | 771         |\n",
            "|    iterations           | 199         |\n",
            "|    time_elapsed         | 1289        |\n",
            "|    total_timesteps      | 995000      |\n",
            "| train/                  |             |\n",
            "|    approx_kl            | 0.011416991 |\n",
            "|    clip_fraction        | 0.191       |\n",
            "|    clip_range           | 0.1         |\n",
            "|    entropy_loss         | -1.71       |\n",
            "|    explained_variance   | 0.922       |\n",
            "|    learning_rate        | 5e-05       |\n",
            "|    loss                 | 36.5        |\n",
            "|    n_updates            | 3960        |\n",
            "|    policy_gradient_loss | 0.00226     |\n",
            "|    std                  | 0.592       |\n",
            "|    value_loss           | 99.8        |\n",
            "-----------------------------------------\n"
          ]
        },
        {
          "data": {
            "text/html": [
              "<pre style=\"white-space:pre;overflow-x:auto;line-height:normal;font-family:Menlo,'DejaVu Sans Mono',consolas,'Courier New',monospace\">Saving model checkpoint to \n",
              "runs\\ppo_metadrive\\ppo_metadrive_2025-03-16_17-43-31_a51009e7\\models\\rl_model_1000000_steps.zip\n",
              "</pre>\n"
            ],
            "text/plain": [
              "Saving model checkpoint to \n",
              "runs\\ppo_metadrive\\ppo_metadrive_2025-03-16_17-43-31_a51009e7\\models\\rl_model_1000000_steps.zip\n"
            ]
          },
          "metadata": {},
          "output_type": "display_data"
        },
        {
          "data": {
            "text/html": [
              "<pre style=\"white-space:pre;overflow-x:auto;line-height:normal;font-family:Menlo,'DejaVu Sans Mono',consolas,'Courier New',monospace\">Eval num_timesteps=1000000, episode_reward=118.60 +/- 72.36\n",
              "</pre>\n"
            ],
            "text/plain": [
              "Eval num_timesteps=1000000, episode_reward=118.60 +/- 72.36\n"
            ]
          },
          "metadata": {},
          "output_type": "display_data"
        },
        {
          "data": {
            "text/html": [
              "<pre style=\"white-space:pre;overflow-x:auto;line-height:normal;font-family:Menlo,'DejaVu Sans Mono',consolas,'Courier New',monospace\">Episode length: 108.40 +/- 42.91\n",
              "</pre>\n"
            ],
            "text/plain": [
              "Episode length: 108.40 +/- 42.91\n"
            ]
          },
          "metadata": {},
          "output_type": "display_data"
        },
        {
          "data": {
            "text/html": [
              "<pre style=\"white-space:pre;overflow-x:auto;line-height:normal;font-family:Menlo,'DejaVu Sans Mono',consolas,'Courier New',monospace\">Success rate: 0.00%\n",
              "</pre>\n"
            ],
            "text/plain": [
              "Success rate: 0.00%\n"
            ]
          },
          "metadata": {},
          "output_type": "display_data"
        },
        {
          "name": "stdout",
          "output_type": "stream",
          "text": [
            "------------------------------------------\n",
            "| eval/                   |              |\n",
            "|    arrive_dest          | 0.058        |\n",
            "|    crash                | 0.236        |\n",
            "|    max_step             | 0            |\n",
            "|    mean_ep_length       | 108          |\n",
            "|    mean_reward          | 119          |\n",
            "|    num_episodes         | 5            |\n",
            "|    out_of_road          | 0.942        |\n",
            "|    raw_action           | 0.4746339    |\n",
            "|    route_completion     | 0.422        |\n",
            "|    success_rate         | 0            |\n",
            "|    total_cost           | 7.89         |\n",
            "| time/                   |              |\n",
            "|    total_timesteps      | 1000000      |\n",
            "| train/                  |              |\n",
            "|    approx_kl            | 0.0031997715 |\n",
            "|    clip_fraction        | 0.155        |\n",
            "|    clip_range           | 0.1          |\n",
            "|    entropy_loss         | -1.71        |\n",
            "|    explained_variance   | 0.875        |\n",
            "|    learning_rate        | 5e-05        |\n",
            "|    loss                 | 38.3         |\n",
            "|    n_updates            | 3980         |\n",
            "|    policy_gradient_loss | -0.000471    |\n",
            "|    std                  | 0.593        |\n",
            "|    value_loss           | 85.3         |\n",
            "------------------------------------------\n",
            "---------------------------------\n",
            "| rollout/           |          |\n",
            "|    ep_len_mean     | 306      |\n",
            "|    ep_rew_mean     | 201      |\n",
            "| time/              |          |\n",
            "|    fps             | 771      |\n",
            "|    iterations      | 200      |\n",
            "|    time_elapsed    | 1296     |\n",
            "|    total_timesteps | 1000000  |\n",
            "---------------------------------\n"
          ]
        },
        {
          "data": {
            "text/html": [
              "<pre style=\"white-space:pre;overflow-x:auto;line-height:normal;font-family:Menlo,'DejaVu Sans Mono',consolas,'Courier New',monospace\"></pre>\n"
            ],
            "text/plain": []
          },
          "metadata": {},
          "output_type": "display_data"
        },
        {
          "data": {
            "text/plain": [
              "<stable_baselines3.ppo.ppo.PPO at 0x27316794490>"
            ]
          },
          "execution_count": 12,
          "metadata": {},
          "output_type": "execute_result"
        }
      ],
      "source": [
        "# ===== Launch training =====\n",
        "total_timesteps = 1_000_000  # 1M steps\n",
        "model.learn(\n",
        "    total_timesteps=total_timesteps,\n",
        "    callback=callbacks,\n",
        "    reset_num_timesteps=True,\n",
        "    tb_log_name=experiment_batch_name,\n",
        "    log_interval=1,\n",
        "    progress_bar=True,\n",
        ")"
      ]
    },
    {
      "cell_type": "code",
      "execution_count": null,
      "metadata": {
        "id": "KDvN_9_0NRw4"
      },
      "outputs": [],
      "source": []
    }
  ],
  "metadata": {
    "colab": {
      "collapsed_sections": [
        "RydCRCp7Q7YD",
        "uurzjp7fQ-2W"
      ],
      "provenance": []
    },
    "kernelspec": {
      "display_name": "cs260r",
      "language": "python",
      "name": "python3"
    },
    "language_info": {
      "codemirror_mode": {
        "name": "ipython",
        "version": 3
      },
      "file_extension": ".py",
      "mimetype": "text/x-python",
      "name": "python",
      "nbconvert_exporter": "python",
      "pygments_lexer": "ipython3",
      "version": "3.11.11"
    },
    "widgets": {
      "application/vnd.jupyter.widget-state+json": {
        "3e5e2d50d1834c5cab2df25e8e1572f6": {
          "model_module": "@jupyter-widgets/base",
          "model_module_version": "1.2.0",
          "model_name": "LayoutModel",
          "state": {
            "_model_module": "@jupyter-widgets/base",
            "_model_module_version": "1.2.0",
            "_model_name": "LayoutModel",
            "_view_count": null,
            "_view_module": "@jupyter-widgets/base",
            "_view_module_version": "1.2.0",
            "_view_name": "LayoutView",
            "align_content": null,
            "align_items": null,
            "align_self": null,
            "border": null,
            "bottom": null,
            "display": null,
            "flex": null,
            "flex_flow": null,
            "grid_area": null,
            "grid_auto_columns": null,
            "grid_auto_flow": null,
            "grid_auto_rows": null,
            "grid_column": null,
            "grid_gap": null,
            "grid_row": null,
            "grid_template_areas": null,
            "grid_template_columns": null,
            "grid_template_rows": null,
            "height": null,
            "justify_content": null,
            "justify_items": null,
            "left": null,
            "margin": null,
            "max_height": null,
            "max_width": null,
            "min_height": null,
            "min_width": null,
            "object_fit": null,
            "object_position": null,
            "order": null,
            "overflow": null,
            "overflow_x": null,
            "overflow_y": null,
            "padding": null,
            "right": null,
            "top": null,
            "visibility": null,
            "width": null
          }
        },
        "cb659f3e50024c13acdf9aa0be6c085e": {
          "model_module": "@jupyter-widgets/output",
          "model_module_version": "1.0.0",
          "model_name": "OutputModel",
          "state": {
            "_dom_classes": [],
            "_model_module": "@jupyter-widgets/output",
            "_model_module_version": "1.0.0",
            "_model_name": "OutputModel",
            "_view_count": null,
            "_view_module": "@jupyter-widgets/output",
            "_view_module_version": "1.0.0",
            "_view_name": "OutputView",
            "layout": "IPY_MODEL_3e5e2d50d1834c5cab2df25e8e1572f6",
            "msg_id": "",
            "outputs": [
              {
                "data": {
                  "text/html": "<pre style=\"white-space:pre;overflow-x:auto;line-height:normal;font-family:Menlo,'DejaVu Sans Mono',consolas,'Courier New',monospace\"><span style=\"color: #800080; text-decoration-color: #800080\">   8%</span> <span style=\"color: #f92672; text-decoration-color: #f92672\">━━━━╸</span><span style=\"color: #3a3a3a; text-decoration-color: #3a3a3a\">━━━━━━━━━━━━━━━━━━━━━━━━━━━━━━━━━━━━━━━━━━━━━━━━━━━━━</span> <span style=\"color: #008000; text-decoration-color: #008000\">84,940/1,000,000 </span> [ <span style=\"color: #808000; text-decoration-color: #808000\">0:02:50</span> &lt; <span style=\"color: #008080; text-decoration-color: #008080\">0:35:35</span> , <span style=\"color: #800000; text-decoration-color: #800000\">429 it/s</span> ]\n</pre>\n",
                  "text/plain": "\u001b[35m   8%\u001b[0m \u001b[38;2;249;38;114m━━━━\u001b[0m\u001b[38;2;249;38;114m╸\u001b[0m\u001b[38;5;237m━━━━━━━━━━━━━━━━━━━━━━━━━━━━━━━━━━━━━━━━━━━━━━━━━━━━━\u001b[0m \u001b[32m84,940/1,000,000 \u001b[0m [ \u001b[33m0:02:50\u001b[0m < \u001b[36m0:35:35\u001b[0m , \u001b[31m429 it/s\u001b[0m ]\n"
                },
                "metadata": {},
                "output_type": "display_data"
              }
            ]
          }
        }
      }
    }
  },
  "nbformat": 4,
  "nbformat_minor": 0
}

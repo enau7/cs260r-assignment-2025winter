{
  "cells": [
    {
      "cell_type": "code",
      "execution_count": 1,
      "metadata": {},
      "outputs": [],
      "source": [
        "SCENARIOS = 5000\n",
        "VALIDATION_SCENARIOS = 50"
      ]
    },
    {
      "cell_type": "markdown",
      "metadata": {
        "id": "RydCRCp7Q7YD"
      },
      "source": [
        "## RL Environment"
      ]
    },
    {
      "cell_type": "code",
      "execution_count": 2,
      "metadata": {
        "id": "fFBku609MWPU"
      },
      "outputs": [],
      "source": [
        "import copy\n",
        "from metadrive.envs.safe_metadrive_env import SafeMetaDriveEnv\n",
        "\n",
        "DEFAULT_CONFIG = {\n",
        "    # The below are default configs copied from SafeMetaDriveEnv\n",
        "    # Environment difficulty\n",
        "    \"accident_prob\": 0.8,\n",
        "    \"traffic_density\": 0.05,\n",
        "    # Termination conditions\n",
        "    \"crash_vehicle_done\": False,\n",
        "    \"crash_object_done\": False,\n",
        "    # Reward\n",
        "    \"success_reward\": 10.0,\n",
        "    \"driving_reward\": 1.0,\n",
        "    \"speed_reward\": 0.1,\n",
        "    # Penalty will be negated and added to reward\n",
        "    \"out_of_road_penalty\": 2.0,\n",
        "    \"crash_vehicle_penalty\": 0.5,\n",
        "    \"crash_object_penalty\": 0.5,\n",
        "    # Cost will be return in info[\"cost\"] and you can do constrained optimization with it\n",
        "    \"crash_vehicle_cost\": 1.0,\n",
        "    \"crash_object_cost\": 1.0,\n",
        "    \"out_of_road_cost\": 1.0,\n",
        "}\n",
        "\n",
        "# Use deepcopy to avoid modifying the DEFAULT_CONFIG\n",
        "TRAINING_CONFIG = copy.deepcopy(DEFAULT_CONFIG)\n",
        "TRAINING_CONFIG.update(\n",
        "    {  # Environment setting\n",
        "        \"num_scenarios\": SCENARIOS,  # There are totally 50 possible maps.\n",
        "        \"start_seed\": 100,  # We will use the map with seeds in [100, 150) as the default training environment.\n",
        "    }\n",
        ")\n",
        "\n",
        "\n",
        "def get_training_env(extra_config=None):\n",
        "    config = copy.deepcopy(TRAINING_CONFIG)\n",
        "    if extra_config:\n",
        "        config.update(extra_config)\n",
        "    return SafeMetaDriveEnv(config)\n",
        "\n",
        "\n",
        "VALIDATION_CONFIG = copy.deepcopy(DEFAULT_CONFIG)\n",
        "VALIDATION_CONFIG.update(\n",
        "    {  # Environment setting\n",
        "        \"num_scenarios\": VALIDATION_SCENARIOS,  # There are totally 50 possible maps.\n",
        "        \"start_seed\": SCENARIOS * 2,  # We will use the map with seeds in [1000, 1050) as the default validation environment.\n",
        "    }\n",
        ")\n",
        "\n",
        "\n",
        "def get_validation_env(extra_config=None):\n",
        "    config = copy.deepcopy(VALIDATION_CONFIG)\n",
        "    if extra_config:\n",
        "        config.update(extra_config)\n",
        "    return SafeMetaDriveEnv(config)\n"
      ]
    },
    {
      "cell_type": "markdown",
      "metadata": {
        "id": "uurzjp7fQ-2W"
      },
      "source": [
        "## Import and utilities"
      ]
    },
    {
      "cell_type": "code",
      "execution_count": 3,
      "metadata": {
        "id": "gIfW6RQSMGmk"
      },
      "outputs": [],
      "source": [
        "import argparse\n",
        "import datetime\n",
        "import logging\n",
        "import os\n",
        "import uuid\n",
        "from collections import defaultdict\n",
        "from pathlib import Path\n",
        "\n",
        "import numpy as np\n",
        "from metadrive.engine.logger import set_log_level\n",
        "from stable_baselines3.common.callbacks import CallbackList, CheckpointCallback\n",
        "from stable_baselines3.common.callbacks import EvalCallback\n",
        "from stable_baselines3.common.env_util import make_vec_env\n",
        "from stable_baselines3.common.vec_env import SubprocVecEnv\n",
        "from stable_baselines3.ppo import PPO\n",
        "from stable_baselines3.ppo.policies import ActorCriticPolicy\n",
        "from stable_baselines3.ppo import MultiInputPolicy\n",
        "\n",
        "from stable_baselines3.td3 import TD3\n",
        "from stable_baselines3.td3.policies import TD3Policy\n",
        "\n",
        "from stable_baselines3.sac import SAC\n",
        "from stable_baselines3.sac.policies import SACPolicy\n",
        "\n",
        "from wandb.integration.sb3 import WandbCallback\n",
        "\n",
        "import wandb\n",
        "\n",
        "\n",
        "# Remove MetaDrive's logging information when episode ends.\n",
        "set_log_level(logging.ERROR)"
      ]
    },
    {
      "cell_type": "code",
      "execution_count": 4,
      "metadata": {
        "id": "g5dhUBr7MHFa"
      },
      "outputs": [],
      "source": [
        "\n",
        "def get_time_str():\n",
        "    return datetime.datetime.now().strftime(\"%Y-%m-%d_%H-%M-%S\")\n",
        "\n",
        "\n",
        "def remove_reset_seed_and_add_monitor(make_env, trial_dir):\n",
        "    \"\"\"\n",
        "    MetaDrive env's reset function takes a seed argument and use it to determine the map to load.\n",
        "    However, in stable-baselines3, it calls reset function with a seed argument serving as the random seed,\n",
        "    which is not what we want. We do a trick here to remap the random seed to map index.\n",
        "\n",
        "    Stable-baselines3 recommends using Monitor wrapper to log training data. We add a Monitor wrapper here.\n",
        "    \"\"\"\n",
        "    from gymnasium import Wrapper\n",
        "    from stable_baselines3.common.monitor import Monitor\n",
        "    class NewClass(Wrapper):\n",
        "        def reset(self, seed=None, **kwargs):\n",
        "            # PZH: We do a trick here to remap the seed to the map index. This can help randomize the maps.\n",
        "            if seed is not None:\n",
        "                new_seed = self.env.start_index + (seed % self.env.num_scenarios)\n",
        "            else:\n",
        "                new_seed = None\n",
        "            return self.env.reset(seed=new_seed, **kwargs)\n",
        "\n",
        "    def new_make_env():\n",
        "        env = make_env()\n",
        "        NewClass.__name__ = env.__class__.__name__ + \"WithoutResetSeed\"\n",
        "        wrapped_env = NewClass(env)\n",
        "        wrapped_env = Monitor(env=wrapped_env, filename=str(trial_dir))\n",
        "        return wrapped_env\n",
        "\n",
        "    return new_make_env\n",
        "\n",
        "\n",
        "class CustomizedEvalCallback(EvalCallback):\n",
        "    def __init__(self, *args, **kwargs):\n",
        "        super().__init__(*args, **kwargs)\n",
        "        self.evaluations_info_buffer = defaultdict(list)\n",
        "        self.training_info_buffer = defaultdict(list)\n",
        "        self.train_timesteps = list()\n",
        "        self.train_results = list()\n",
        "        self.train_length = list()\n",
        "\n",
        "    def _log_success_callback(self, locals_, globals_):\n",
        "        info = locals_[\"info\"]\n",
        "\n",
        "        if locals_[\"done\"]:\n",
        "            maybe_is_success = info.get(\"is_success\")\n",
        "            if maybe_is_success is not None:\n",
        "                self._is_success_buffer.append(maybe_is_success)\n",
        "\n",
        "            maybe_is_success2 = info.get(\"arrive_dest\", None)\n",
        "            if maybe_is_success2 is not None:\n",
        "                self._is_success_buffer.append(maybe_is_success2)\n",
        "\n",
        "            assert (maybe_is_success is None) or (maybe_is_success2 is None), \"We cannot have two success flags!\"\n",
        "\n",
        "            for k in [\"route_completion\", \"total_cost\", \"arrive_dest\", \"max_step\", \"out_of_road\", \"crash\"]:\n",
        "                if k in info:\n",
        "                    self.evaluations_info_buffer[k].append(info[k])\n",
        "    \n",
        "    def _log_train_success_callback(self, locals_, globals_):\n",
        "        info = locals_[\"info\"]\n",
        "\n",
        "        if locals_[\"done\"]:\n",
        "            maybe_is_success = info.get(\"is_success\")\n",
        "            if maybe_is_success is not None:\n",
        "                self._is_success_buffer.append(maybe_is_success)\n",
        "\n",
        "            maybe_is_success2 = info.get(\"arrive_dest\", None)\n",
        "            if maybe_is_success2 is not None:\n",
        "                self._is_success_buffer.append(maybe_is_success2)\n",
        "\n",
        "            assert (maybe_is_success is None) or (maybe_is_success2 is None), \"We cannot have two success flags!\"\n",
        "\n",
        "            for k in [\"route_completion\", \"total_cost\", \"arrive_dest\", \"max_step\", \"out_of_road\", \"crash\"]:\n",
        "                if k in info:\n",
        "                    self.training_info_buffer[k].append(info[k])\n",
        "\n",
        "        if \"raw_action\" in info:\n",
        "            self.evaluations_info_buffer[\"raw_action\"].append(info[\"raw_action\"])\n",
        "\n",
        "    def _on_step(self) -> bool:\n",
        "        \"\"\"\n",
        "        PZH Note: Overall this function is copied from original EvalCallback._on_step.\n",
        "        We additionally record evaluations_info_buffer to the logger.\n",
        "        \"\"\"\n",
        "\n",
        "        from stable_baselines3.common.evaluation import evaluate_policy\n",
        "        from stable_baselines3.common.vec_env import sync_envs_normalization\n",
        "\n",
        "        continue_training = True\n",
        "\n",
        "        if self.eval_freq > 0 and self.n_calls % self.eval_freq == 0:\n",
        "            # Sync training and eval env if there is VecNormalize\n",
        "            if self.model.get_vec_normalize_env() is not None:\n",
        "                try:\n",
        "                    sync_envs_normalization(self.training_env, self.eval_env)\n",
        "                except AttributeError as e:\n",
        "                    raise AssertionError(\n",
        "                        \"Training and eval env are not wrapped the same way, \"\n",
        "                        \"see https://stable-baselines3.readthedocs.io/en/master/guide/callbacks.html#evalcallback \"\n",
        "                        \"and warning above.\"\n",
        "                    ) from e\n",
        "\n",
        "            # Reset success rate buffer\n",
        "            self._is_success_buffer = []\n",
        "\n",
        "            episode_rewards, episode_lengths = evaluate_policy(\n",
        "                self.model,\n",
        "                self.eval_env,\n",
        "                n_eval_episodes=self.n_eval_episodes,\n",
        "                render=self.render,\n",
        "                deterministic=self.deterministic,\n",
        "                return_episode_rewards=True,\n",
        "                warn=self.warn,\n",
        "                callback=self._log_success_callback,\n",
        "            )\n",
        "\n",
        "            train_episode_rewards, train_episode_lengths = evaluate_policy(\n",
        "                self.model,\n",
        "                self.training_env,\n",
        "                n_eval_episodes=self.n_eval_episodes,\n",
        "                render=self.render,\n",
        "                deterministic=self.deterministic,\n",
        "                return_episode_rewards=True,\n",
        "                warn=self.warn,\n",
        "                callback=self._log_train_success_callback,\n",
        "            )\n",
        "\n",
        "            if self.log_path is not None:\n",
        "                assert isinstance(episode_rewards, list)\n",
        "                assert isinstance(episode_lengths, list)\n",
        "                assert isinstance(train_episode_rewards, list)\n",
        "                assert isinstance(train_episode_lengths, list)\n",
        "                self.evaluations_timesteps.append(self.num_timesteps)\n",
        "                self.evaluations_results.append(episode_rewards)\n",
        "                self.evaluations_length.append(episode_lengths)\n",
        "\n",
        "                kwargs = {}\n",
        "                # Save success log if present\n",
        "                if len(self._is_success_buffer) > 0:\n",
        "                    self.evaluations_successes.append(self._is_success_buffer)\n",
        "                    kwargs = dict(successes=self.evaluations_successes)\n",
        "\n",
        "                # PZH: Save evaluations_info_buffer to the log file\n",
        "                for k, v in self.evaluations_info_buffer.items():\n",
        "                    kwargs[k] = v\n",
        "\n",
        "                np.savez(\n",
        "                    self.log_path,\n",
        "                    timesteps=self.evaluations_timesteps,\n",
        "                    results=self.evaluations_results,\n",
        "                    ep_lengths=self.evaluations_length,\n",
        "                    **kwargs,  # type: ignore[arg-type]\n",
        "                )\n",
        "\n",
        "            mean_reward, std_reward = np.mean(episode_rewards), np.std(episode_rewards)\n",
        "            mean_ep_length, std_ep_length = np.mean(episode_lengths), np.std(episode_lengths)\n",
        "            self.last_mean_reward = float(mean_reward)\n",
        "\n",
        "            if self.verbose >= 1:\n",
        "                print(\n",
        "                    f\"Eval num_timesteps={self.num_timesteps}, \" f\"episode_reward={mean_reward:.2f} +/- {std_reward:.2f}\")\n",
        "                print(f\"Episode length: {mean_ep_length:.2f} +/- {std_ep_length:.2f}\")\n",
        "            # Add to current Logger\n",
        "            self.logger.record(\"eval/mean_reward\", float(mean_reward))\n",
        "            self.logger.record(\"eval/mean_ep_length\", mean_ep_length)\n",
        "\n",
        "            # PZH: Add this metric.\n",
        "            self.logger.record(\"eval/num_episodes\", len(episode_rewards))\n",
        "\n",
        "            if len(self._is_success_buffer) > 0:\n",
        "                success_rate = np.mean(self._is_success_buffer)\n",
        "                if self.verbose >= 1:\n",
        "                    print(f\"Success rate: {100 * success_rate:.2f}%\")\n",
        "                self.logger.record(\"eval/success_rate\", success_rate)\n",
        "\n",
        "            # PZH: We record evaluations_info_buffer to the logger\n",
        "            for k, v in self.evaluations_info_buffer.items():\n",
        "                self.logger.record(\"eval/{}\".format(k), np.mean(np.asarray(v)))\n",
        "\n",
        "            for k, v in self.training_info_buffer.items():\n",
        "                self.logger.record(\"train/{}\".format(k), np.mean(np.asarray(v)))\n",
        "\n",
        "            # Dump log so the evaluation results are printed with the correct timestep\n",
        "            self.logger.record(\"time/total_timesteps\", self.num_timesteps, exclude=\"tensorboard\")\n",
        "            self.logger.dump(self.num_timesteps)\n",
        "\n",
        "            if mean_reward > self.best_mean_reward:\n",
        "                if self.verbose >= 1:\n",
        "                    print(\"New best mean reward!\")\n",
        "                if self.best_model_save_path is not None:\n",
        "                    self.model.save(os.path.join(self.best_model_save_path, \"best_model\"))\n",
        "                self.best_mean_reward = float(mean_reward)\n",
        "                # Trigger callback on new best model, if needed\n",
        "                if self.callback_on_new_best is not None:\n",
        "                    continue_training = self.callback_on_new_best.on_step()\n",
        "\n",
        "            # Trigger callback after every evaluation, if needed\n",
        "            if self.callback is not None:\n",
        "                continue_training = continue_training and self._on_event()\n",
        "\n",
        "        return continue_training\n"
      ]
    },
    {
      "cell_type": "markdown",
      "metadata": {
        "id": "YeOXgzj7RDTe"
      },
      "source": [
        "## Setup PPO trainer\n"
      ]
    },
    {
      "cell_type": "code",
      "execution_count": 5,
      "metadata": {
        "colab": {
          "base_uri": "https://localhost:8080/"
        },
        "id": "k4I25BRYMltK",
        "outputId": "2bc95044-3a02-4ebc-c096-f395468de6fd"
      },
      "outputs": [
        {
          "name": "stdout",
          "output_type": "stream",
          "text": [
            "We start logging training data into runs\\ppo_metadrive_new_reward_5000\\ppo_metadrive_new_reward_5000_2025-03-20_10-44-32_97412f1e\n"
          ]
        }
      ],
      "source": [
        "\n",
        "# ===== Set up some arguments =====\n",
        "exp_name = \"ppo_metadrive\" + \"_new_reward_\" + str(SCENARIOS)\n",
        "use_wandb = True\n",
        "\n",
        "experiment_batch_name = \"{}\".format(exp_name)\n",
        "trial_name = \"{}_{}_{}\".format(experiment_batch_name, get_time_str(), uuid.uuid4().hex[:8])\n",
        "experiment_dir = Path(\"runs\") / experiment_batch_name\n",
        "trial_dir = experiment_dir / trial_name\n",
        "os.makedirs(experiment_dir, exist_ok=True)\n",
        "os.makedirs(trial_dir, exist_ok=True)\n",
        "print(f\"We start logging training data into {trial_dir}\")\n"
      ]
    },
    {
      "cell_type": "code",
      "execution_count": 6,
      "metadata": {
        "id": "Yle5pkCvOQAL"
      },
      "outputs": [],
      "source": [
        "# ===== Setup environment =====\n",
        "num_train_envs = 10\n",
        "num_eval_envs = 5\n",
        "train_env = make_vec_env(remove_reset_seed_and_add_monitor(get_training_env, trial_dir), n_envs=num_train_envs,\n",
        "                            vec_env_cls=SubprocVecEnv)\n",
        "eval_env = make_vec_env(remove_reset_seed_and_add_monitor(get_validation_env, trial_dir), n_envs=num_eval_envs,\n",
        "                        vec_env_cls=SubprocVecEnv)"
      ]
    },
    {
      "cell_type": "code",
      "execution_count": 7,
      "metadata": {
        "colab": {
          "base_uri": "https://localhost:8080/",
          "height": 228
        },
        "id": "IP_wvQMBMzoR",
        "outputId": "be907254-74fc-483c-f1c4-4cba051355c1"
      },
      "outputs": [
        {
          "name": "stderr",
          "output_type": "stream",
          "text": [
            "wandb: Using wandb-core as the SDK backend.  Please refer to https://wandb.me/wandb-core for more information.\n",
            "wandb: Currently logged in as: coltonrowe (coltonrowe-ucla) to https://api.wandb.ai. Use `wandb login --relogin` to force relogin\n"
          ]
        },
        {
          "data": {
            "text/html": [
              "Tracking run with wandb version 0.19.8"
            ],
            "text/plain": [
              "<IPython.core.display.HTML object>"
            ]
          },
          "metadata": {},
          "output_type": "display_data"
        },
        {
          "data": {
            "text/html": [
              "Run data is saved locally in <code>runs\\ppo_metadrive_new_reward_5000\\ppo_metadrive_new_reward_5000_2025-03-20_10-44-32_97412f1e\\wandb\\run-20250320_104443-ppo_metadrive_new_reward_5000_2025-03-20_10-44-32_97412f1e</code>"
            ],
            "text/plain": [
              "<IPython.core.display.HTML object>"
            ]
          },
          "metadata": {},
          "output_type": "display_data"
        },
        {
          "data": {
            "text/html": [
              "Syncing run <strong><a href='https://wandb.ai/coltonrowe-ucla/cs260r/runs/ppo_metadrive_new_reward_5000_2025-03-20_10-44-32_97412f1e' target=\"_blank\">ppo_metadrive_new_reward_5000</a></strong> to <a href='https://wandb.ai/coltonrowe-ucla/cs260r' target=\"_blank\">Weights & Biases</a> (<a href='https://wandb.me/developer-guide' target=\"_blank\">docs</a>)<br>"
            ],
            "text/plain": [
              "<IPython.core.display.HTML object>"
            ]
          },
          "metadata": {},
          "output_type": "display_data"
        },
        {
          "data": {
            "text/html": [
              " View project at <a href='https://wandb.ai/coltonrowe-ucla/cs260r' target=\"_blank\">https://wandb.ai/coltonrowe-ucla/cs260r</a>"
            ],
            "text/plain": [
              "<IPython.core.display.HTML object>"
            ]
          },
          "metadata": {},
          "output_type": "display_data"
        },
        {
          "data": {
            "text/html": [
              " View run at <a href='https://wandb.ai/coltonrowe-ucla/cs260r/runs/ppo_metadrive_new_reward_5000_2025-03-20_10-44-32_97412f1e' target=\"_blank\">https://wandb.ai/coltonrowe-ucla/cs260r/runs/ppo_metadrive_new_reward_5000_2025-03-20_10-44-32_97412f1e</a>"
            ],
            "text/plain": [
              "<IPython.core.display.HTML object>"
            ]
          },
          "metadata": {},
          "output_type": "display_data"
        }
      ],
      "source": [
        "# ===== Setup evaluation, checkpointing, and wandb =====\n",
        "save_freq = 10_000  # Number of steps per model checkpoint\n",
        "eval_freq = 10_000  # Number of steps per evaluation\n",
        "\n",
        "wandb_save_freq = 10_000  # Number of steps per evaluation\n",
        "\n",
        "num_eval_episodes = 5\n",
        "\n",
        "checkpoint_callback = CheckpointCallback(\n",
        "    name_prefix=\"rl_model\",\n",
        "    verbose=2,\n",
        "    save_freq=save_freq,\n",
        "    save_path=str(trial_dir / \"models\")\n",
        ")\n",
        "eval_callback = CustomizedEvalCallback(\n",
        "    eval_env,\n",
        "    best_model_save_path=str(trial_dir / \"eval\"),\n",
        "    log_path=str(trial_dir / \"eval\"),\n",
        "    eval_freq=max(eval_freq // num_train_envs, 1),\n",
        "    n_eval_episodes=num_eval_episodes,\n",
        ")\n",
        "callbacks = [checkpoint_callback, eval_callback]\n",
        "if use_wandb:\n",
        "    wandb.init(\n",
        "        project=\"cs260r\",\n",
        "        id=trial_name,\n",
        "        name=experiment_batch_name,\n",
        "        sync_tensorboard=True,\n",
        "        dir=str(trial_dir),\n",
        "    )\n",
        "    callbacks.append(WandbCallback(model_save_path=str(trial_dir / \"wandb_models\"), model_save_freq=wandb_save_freq))\n",
        "callbacks = CallbackList(callbacks)"
      ]
    },
    {
      "cell_type": "code",
      "execution_count": 8,
      "metadata": {
        "colab": {
          "base_uri": "https://localhost:8080/"
        },
        "id": "y7umQKXAMuJf",
        "outputId": "ff850c72-31d4-4748-913a-bb190c4ebfbf"
      },
      "outputs": [
        {
          "name": "stdout",
          "output_type": "stream",
          "text": [
            "Using cpu device\n"
          ]
        }
      ],
      "source": [
        "model = PPO(\n",
        "    env=train_env,\n",
        "    policy=ActorCriticPolicy,\n",
        "    n_steps=512,  # n_steps * n_envs = total_batch_size\n",
        "    n_epochs=20,\n",
        "    learning_rate=5e-5,\n",
        "    batch_size=256,\n",
        "    gamma = 0.995,\n",
        "    clip_range=0.1,\n",
        "    vf_coef=0.5,\n",
        "    ent_coef=0.0,\n",
        "    max_grad_norm=10.0,\n",
        "    tensorboard_log=str(trial_dir),\n",
        "    verbose=2,\n",
        "    device=\"auto\",\n",
        ")\n"
      ]
    },
    {
      "cell_type": "code",
      "execution_count": null,
      "metadata": {
        "id": "YfnwlEiTNKeB"
      },
      "outputs": [
        {
          "name": "stdout",
          "output_type": "stream",
          "text": [
            "Loading checkpoint from C:\\Users\\Colton\\Documents\\GitHub\\cs260r-assignment-2025winter\\mini_project\\runs\\ppo_metadrive_new_reward_5000\\ppo_metadrive_new_reward_5000_2025-03-20_09-12-37_679e3d6f\\models\\rl_model_1300000_steps.zip!\n"
          ]
        }
      ],
      "source": [
        "ckpt = r\"C:\\Users\\Colton\\Documents\\GitHub\\cs260r-assignment-2025winter\\mini_project\\runs\\ppo_metadrive_new_reward_5000\\ppo_metadrive_new_reward_5000_2025-03-20_10-44-32_97412f1e\\models\\rl_model_500000_steps.zip\"\n",
        "if ckpt:\n",
        "    ckpt = Path(ckpt)\n",
        "    print(f\"Loading checkpoint from {ckpt}!\")\n",
        "    from stable_baselines3.common.save_util import load_from_zip_file\n",
        "    data, params, pytorch_variables = load_from_zip_file(ckpt, device=model.device, print_system_info=False)\n",
        "    model.set_parameters(params, exact_match=True, device=model.device)\n"
      ]
    },
    {
      "cell_type": "code",
      "execution_count": null,
      "metadata": {
        "colab": {
          "base_uri": "https://localhost:8080/",
          "height": 1000,
          "referenced_widgets": [
            "f778b5a3593e43b7a182293b092f1b5a",
            "2baad5feb680425bba7086366451eb85"
          ]
        },
        "id": "W1baXGNANOQ-",
        "outputId": "3d5d46ec-68bc-4e00-ee3b-753d548160f5"
      },
      "outputs": [
        {
          "name": "stdout",
          "output_type": "stream",
          "text": [
            "Logging to runs\\ppo_metadrive_new_reward_5000\\ppo_metadrive_new_reward_5000_2025-03-20_10-44-32_97412f1e\\ppo_metadrive_new_reward_5000_1\n"
          ]
        },
        {
          "data": {
            "text/html": [
              "<pre style=\"white-space:pre;overflow-x:auto;line-height:normal;font-family:Menlo,'DejaVu Sans Mono',consolas,'Courier New',monospace\">c:\\Users\\Colton\\anaconda3\\envs\\cs260r\\Lib\\site-packages\\rich\\live.py:231: UserWarning: install \"ipywidgets\" for \n",
              "Jupyter support\n",
              "  warnings.warn('install \"ipywidgets\" for Jupyter support')\n",
              "</pre>\n"
            ],
            "text/plain": [
              "c:\\Users\\Colton\\anaconda3\\envs\\cs260r\\Lib\\site-packages\\rich\\live.py:231: UserWarning: install \"ipywidgets\" for \n",
              "Jupyter support\n",
              "  warnings.warn('install \"ipywidgets\" for Jupyter support')\n"
            ]
          },
          "metadata": {},
          "output_type": "display_data"
        },
        {
          "name": "stdout",
          "output_type": "stream",
          "text": [
            "---------------------------------\n",
            "| rollout/           |          |\n",
            "|    ep_len_mean     | 370      |\n",
            "|    ep_rew_mean     | 325      |\n",
            "| time/              |          |\n",
            "|    fps             | 772      |\n",
            "|    iterations      | 1        |\n",
            "|    time_elapsed    | 6        |\n",
            "|    total_timesteps | 5120     |\n",
            "---------------------------------\n"
          ]
        },
        {
          "data": {
            "text/html": [
              "<pre style=\"white-space:pre;overflow-x:auto;line-height:normal;font-family:Menlo,'DejaVu Sans Mono',consolas,'Courier New',monospace\">Eval num_timesteps=10000, episode_reward=178.99 +/- 94.83\n",
              "</pre>\n"
            ],
            "text/plain": [
              "Eval num_timesteps=10000, episode_reward=178.99 +/- 94.83\n"
            ]
          },
          "metadata": {},
          "output_type": "display_data"
        },
        {
          "data": {
            "text/html": [
              "<pre style=\"white-space:pre;overflow-x:auto;line-height:normal;font-family:Menlo,'DejaVu Sans Mono',consolas,'Courier New',monospace\">Episode length: 197.00 +/- 127.14\n",
              "</pre>\n"
            ],
            "text/plain": [
              "Episode length: 197.00 +/- 127.14\n"
            ]
          },
          "metadata": {},
          "output_type": "display_data"
        },
        {
          "data": {
            "text/html": [
              "<pre style=\"white-space:pre;overflow-x:auto;line-height:normal;font-family:Menlo,'DejaVu Sans Mono',consolas,'Courier New',monospace\">Success rate: 10.00%\n",
              "</pre>\n"
            ],
            "text/plain": [
              "Success rate: 10.00%\n"
            ]
          },
          "metadata": {},
          "output_type": "display_data"
        },
        {
          "name": "stdout",
          "output_type": "stream",
          "text": [
            "------------------------------------------\n",
            "| eval/                   |              |\n",
            "|    arrive_dest          | 0            |\n",
            "|    crash                | 0.4          |\n",
            "|    max_step             | 0            |\n",
            "|    mean_ep_length       | 197          |\n",
            "|    mean_reward          | 179          |\n",
            "|    num_episodes         | 5            |\n",
            "|    out_of_road          | 1            |\n",
            "|    raw_action           | 0.44354254   |\n",
            "|    route_completion     | 0.55         |\n",
            "|    success_rate         | 0.1          |\n",
            "|    total_cost           | 30.6         |\n",
            "| time/                   |              |\n",
            "|    total_timesteps      | 10000        |\n",
            "| train/                  |              |\n",
            "|    approx_kl            | 0.0011008839 |\n",
            "|    arrive_dest          | 0.2          |\n",
            "|    clip_fraction        | 0.135        |\n",
            "|    clip_range           | 0.1          |\n",
            "|    crash                | 0.4          |\n",
            "|    entropy_loss         | -1.91        |\n",
            "|    explained_variance   | 0.776        |\n",
            "|    learning_rate        | 5e-05        |\n",
            "|    loss                 | 83.1         |\n",
            "|    max_step             | 0            |\n",
            "|    n_updates            | 20           |\n",
            "|    out_of_road          | 0.8          |\n",
            "|    policy_gradient_loss | -0.000767    |\n",
            "|    route_completion     | 0.615        |\n",
            "|    std                  | 0.647        |\n",
            "|    total_cost           | 17           |\n",
            "|    value_loss           | 120          |\n",
            "------------------------------------------\n"
          ]
        },
        {
          "data": {
            "text/html": [
              "<pre style=\"white-space:pre;overflow-x:auto;line-height:normal;font-family:Menlo,'DejaVu Sans Mono',consolas,'Courier New',monospace\">New best mean reward!\n",
              "</pre>\n"
            ],
            "text/plain": [
              "New best mean reward!\n"
            ]
          },
          "metadata": {},
          "output_type": "display_data"
        },
        {
          "name": "stdout",
          "output_type": "stream",
          "text": [
            "---------------------------------\n",
            "| rollout/           |          |\n",
            "|    ep_len_mean     | 362      |\n",
            "|    ep_rew_mean     | 321      |\n",
            "| time/              |          |\n",
            "|    fps             | 391      |\n",
            "|    iterations      | 2        |\n",
            "|    time_elapsed    | 26       |\n",
            "|    total_timesteps | 10240    |\n",
            "---------------------------------\n",
            "-----------------------------------------\n",
            "| rollout/                |             |\n",
            "|    ep_len_mean          | 353         |\n",
            "|    ep_rew_mean          | 316         |\n",
            "| time/                   |             |\n",
            "|    fps                  | 459         |\n",
            "|    iterations           | 3           |\n",
            "|    time_elapsed         | 33          |\n",
            "|    total_timesteps      | 15360       |\n",
            "| train/                  |             |\n",
            "|    approx_kl            | 0.017673183 |\n",
            "|    clip_fraction        | 0.132       |\n",
            "|    clip_range           | 0.1         |\n",
            "|    entropy_loss         | -1.91       |\n",
            "|    explained_variance   | 0.755       |\n",
            "|    learning_rate        | 5e-05       |\n",
            "|    loss                 | 89.1        |\n",
            "|    n_updates            | 40          |\n",
            "|    policy_gradient_loss | 0.000517    |\n",
            "|    std                  | 0.647       |\n",
            "|    value_loss           | 195         |\n",
            "-----------------------------------------\n"
          ]
        },
        {
          "data": {
            "text/html": [
              "<pre style=\"white-space:pre;overflow-x:auto;line-height:normal;font-family:Menlo,'DejaVu Sans Mono',consolas,'Courier New',monospace\">Eval num_timesteps=20000, episode_reward=237.73 +/- 143.95\n",
              "</pre>\n"
            ],
            "text/plain": [
              "Eval num_timesteps=20000, episode_reward=237.73 +/- 143.95\n"
            ]
          },
          "metadata": {},
          "output_type": "display_data"
        },
        {
          "data": {
            "text/html": [
              "<pre style=\"white-space:pre;overflow-x:auto;line-height:normal;font-family:Menlo,'DejaVu Sans Mono',consolas,'Courier New',monospace\">Episode length: 163.80 +/- 78.41\n",
              "</pre>\n"
            ],
            "text/plain": [
              "Episode length: 163.80 +/- 78.41\n"
            ]
          },
          "metadata": {},
          "output_type": "display_data"
        },
        {
          "data": {
            "text/html": [
              "<pre style=\"white-space:pre;overflow-x:auto;line-height:normal;font-family:Menlo,'DejaVu Sans Mono',consolas,'Courier New',monospace\">Success rate: 20.00%\n",
              "</pre>\n"
            ],
            "text/plain": [
              "Success rate: 20.00%\n"
            ]
          },
          "metadata": {},
          "output_type": "display_data"
        },
        {
          "name": "stdout",
          "output_type": "stream",
          "text": [
            "------------------------------------------\n",
            "| eval/                   |              |\n",
            "|    arrive_dest          | 0.2          |\n",
            "|    crash                | 0.2          |\n",
            "|    max_step             | 0            |\n",
            "|    mean_ep_length       | 164          |\n",
            "|    mean_reward          | 238          |\n",
            "|    num_episodes         | 5            |\n",
            "|    out_of_road          | 0.8          |\n",
            "|    raw_action           | 0.45574346   |\n",
            "|    route_completion     | 0.607        |\n",
            "|    success_rate         | 0.2          |\n",
            "|    total_cost           | 16.6         |\n",
            "| time/                   |              |\n",
            "|    total_timesteps      | 20000        |\n",
            "| train/                  |              |\n",
            "|    approx_kl            | 0.0016996687 |\n",
            "|    arrive_dest          | 0.1          |\n",
            "|    clip_fraction        | 0.135        |\n",
            "|    clip_range           | 0.1          |\n",
            "|    crash                | 0.4          |\n",
            "|    entropy_loss         | -1.91        |\n",
            "|    explained_variance   | 0.698        |\n",
            "|    learning_rate        | 5e-05        |\n",
            "|    loss                 | 88.8         |\n",
            "|    max_step             | 0            |\n",
            "|    n_updates            | 60           |\n",
            "|    out_of_road          | 0.9          |\n",
            "|    policy_gradient_loss | -0.000297    |\n",
            "|    route_completion     | 0.482        |\n",
            "|    std                  | 0.647        |\n",
            "|    total_cost           | 9            |\n",
            "|    value_loss           | 160          |\n",
            "------------------------------------------\n"
          ]
        },
        {
          "data": {
            "text/html": [
              "<pre style=\"white-space:pre;overflow-x:auto;line-height:normal;font-family:Menlo,'DejaVu Sans Mono',consolas,'Courier New',monospace\">New best mean reward!\n",
              "</pre>\n"
            ],
            "text/plain": [
              "New best mean reward!\n"
            ]
          },
          "metadata": {},
          "output_type": "display_data"
        },
        {
          "name": "stdout",
          "output_type": "stream",
          "text": [
            "---------------------------------\n",
            "| rollout/           |          |\n",
            "|    ep_len_mean     | 352      |\n",
            "|    ep_rew_mean     | 314      |\n",
            "| time/              |          |\n",
            "|    fps             | 428      |\n",
            "|    iterations      | 4        |\n",
            "|    time_elapsed    | 47       |\n",
            "|    total_timesteps | 20480    |\n",
            "---------------------------------\n",
            "------------------------------------------\n",
            "| rollout/                |              |\n",
            "|    ep_len_mean          | 339          |\n",
            "|    ep_rew_mean          | 306          |\n",
            "| time/                   |              |\n",
            "|    fps                  | 455          |\n",
            "|    iterations           | 5            |\n",
            "|    time_elapsed         | 56           |\n",
            "|    total_timesteps      | 25600        |\n",
            "| train/                  |              |\n",
            "|    approx_kl            | 0.0013729624 |\n",
            "|    clip_fraction        | 0.119        |\n",
            "|    clip_range           | 0.1          |\n",
            "|    entropy_loss         | -1.91        |\n",
            "|    explained_variance   | 0.759        |\n",
            "|    learning_rate        | 5e-05        |\n",
            "|    loss                 | 89.6         |\n",
            "|    n_updates            | 80           |\n",
            "|    policy_gradient_loss | -0.000696    |\n",
            "|    std                  | 0.647        |\n",
            "|    value_loss           | 210          |\n",
            "------------------------------------------\n"
          ]
        },
        {
          "data": {
            "text/html": [
              "<pre style=\"white-space:pre;overflow-x:auto;line-height:normal;font-family:Menlo,'DejaVu Sans Mono',consolas,'Courier New',monospace\">Eval num_timesteps=30000, episode_reward=156.73 +/- 55.90\n",
              "</pre>\n"
            ],
            "text/plain": [
              "Eval num_timesteps=30000, episode_reward=156.73 +/- 55.90\n"
            ]
          },
          "metadata": {},
          "output_type": "display_data"
        },
        {
          "data": {
            "text/html": [
              "<pre style=\"white-space:pre;overflow-x:auto;line-height:normal;font-family:Menlo,'DejaVu Sans Mono',consolas,'Courier New',monospace\">Episode length: 125.80 +/- 40.25\n",
              "</pre>\n"
            ],
            "text/plain": [
              "Episode length: 125.80 +/- 40.25\n"
            ]
          },
          "metadata": {},
          "output_type": "display_data"
        },
        {
          "data": {
            "text/html": [
              "<pre style=\"white-space:pre;overflow-x:auto;line-height:normal;font-family:Menlo,'DejaVu Sans Mono',consolas,'Courier New',monospace\">Success rate: 0.00%\n",
              "</pre>\n"
            ],
            "text/plain": [
              "Success rate: 0.00%\n"
            ]
          },
          "metadata": {},
          "output_type": "display_data"
        },
        {
          "name": "stdout",
          "output_type": "stream",
          "text": [
            "------------------------------------------\n",
            "| eval/                   |              |\n",
            "|    arrive_dest          | 0.133        |\n",
            "|    crash                | 0.2          |\n",
            "|    max_step             | 0            |\n",
            "|    mean_ep_length       | 126          |\n",
            "|    mean_reward          | 157          |\n",
            "|    num_episodes         | 5            |\n",
            "|    out_of_road          | 0.867        |\n",
            "|    raw_action           | 0.48023555   |\n",
            "|    route_completion     | 0.558        |\n",
            "|    success_rate         | 0            |\n",
            "|    total_cost           | 13.3         |\n",
            "| time/                   |              |\n",
            "|    total_timesteps      | 30000        |\n",
            "| train/                  |              |\n",
            "|    approx_kl            | 0.0012976391 |\n",
            "|    arrive_dest          | 0.0667       |\n",
            "|    clip_fraction        | 0.128        |\n",
            "|    clip_range           | 0.1          |\n",
            "|    crash                | 0.467        |\n",
            "|    entropy_loss         | -1.9         |\n",
            "|    explained_variance   | 0.626        |\n",
            "|    learning_rate        | 5e-05        |\n",
            "|    loss                 | 156          |\n",
            "|    max_step             | 0            |\n",
            "|    n_updates            | 100          |\n",
            "|    out_of_road          | 0.933        |\n",
            "|    policy_gradient_loss | -6.94e-05    |\n",
            "|    route_completion     | 0.409        |\n",
            "|    std                  | 0.646        |\n",
            "|    total_cost           | 6.33         |\n",
            "|    value_loss           | 299          |\n",
            "------------------------------------------\n",
            "---------------------------------\n",
            "| rollout/           |          |\n",
            "|    ep_len_mean     | 336      |\n",
            "|    ep_rew_mean     | 305      |\n",
            "| time/              |          |\n",
            "|    fps             | 441      |\n",
            "|    iterations      | 6        |\n",
            "|    time_elapsed    | 69       |\n",
            "|    total_timesteps | 30720    |\n",
            "---------------------------------\n",
            "-----------------------------------------\n",
            "| rollout/                |             |\n",
            "|    ep_len_mean          | 328         |\n",
            "|    ep_rew_mean          | 299         |\n",
            "| time/                   |             |\n",
            "|    fps                  | 453         |\n",
            "|    iterations           | 7           |\n",
            "|    time_elapsed         | 79          |\n",
            "|    total_timesteps      | 35840       |\n",
            "| train/                  |             |\n",
            "|    approx_kl            | 0.003201935 |\n",
            "|    clip_fraction        | 0.151       |\n",
            "|    clip_range           | 0.1         |\n",
            "|    entropy_loss         | -1.9        |\n",
            "|    explained_variance   | 0.663       |\n",
            "|    learning_rate        | 5e-05       |\n",
            "|    loss                 | 76.7        |\n",
            "|    n_updates            | 120         |\n",
            "|    policy_gradient_loss | 0.000516    |\n",
            "|    std                  | 0.646       |\n",
            "|    value_loss           | 203         |\n",
            "-----------------------------------------\n"
          ]
        },
        {
          "data": {
            "text/html": [
              "<pre style=\"white-space:pre;overflow-x:auto;line-height:normal;font-family:Menlo,'DejaVu Sans Mono',consolas,'Courier New',monospace\">Eval num_timesteps=40000, episode_reward=191.57 +/- 64.58\n",
              "</pre>\n"
            ],
            "text/plain": [
              "Eval num_timesteps=40000, episode_reward=191.57 +/- 64.58\n"
            ]
          },
          "metadata": {},
          "output_type": "display_data"
        },
        {
          "data": {
            "text/html": [
              "<pre style=\"white-space:pre;overflow-x:auto;line-height:normal;font-family:Menlo,'DejaVu Sans Mono',consolas,'Courier New',monospace\">Episode length: 139.20 +/- 32.99\n",
              "</pre>\n"
            ],
            "text/plain": [
              "Episode length: 139.20 +/- 32.99\n"
            ]
          },
          "metadata": {},
          "output_type": "display_data"
        },
        {
          "data": {
            "text/html": [
              "<pre style=\"white-space:pre;overflow-x:auto;line-height:normal;font-family:Menlo,'DejaVu Sans Mono',consolas,'Courier New',monospace\">Success rate: 40.00%\n",
              "</pre>\n"
            ],
            "text/plain": [
              "Success rate: 40.00%\n"
            ]
          },
          "metadata": {},
          "output_type": "display_data"
        },
        {
          "name": "stdout",
          "output_type": "stream",
          "text": [
            "------------------------------------------\n",
            "| eval/                   |              |\n",
            "|    arrive_dest          | 0.15         |\n",
            "|    crash                | 0.2          |\n",
            "|    max_step             | 0            |\n",
            "|    mean_ep_length       | 139          |\n",
            "|    mean_reward          | 192          |\n",
            "|    num_episodes         | 5            |\n",
            "|    out_of_road          | 0.85         |\n",
            "|    raw_action           | 0.4722455    |\n",
            "|    route_completion     | 0.556        |\n",
            "|    success_rate         | 0.4          |\n",
            "|    total_cost           | 11.1         |\n",
            "| time/                   |              |\n",
            "|    total_timesteps      | 40000        |\n",
            "| train/                  |              |\n",
            "|    approx_kl            | 0.0015635375 |\n",
            "|    arrive_dest          | 0.2          |\n",
            "|    clip_fraction        | 0.0725       |\n",
            "|    clip_range           | 0.1          |\n",
            "|    crash                | 0.5          |\n",
            "|    entropy_loss         | -1.9         |\n",
            "|    explained_variance   | 0.662        |\n",
            "|    learning_rate        | 5e-05        |\n",
            "|    loss                 | 72.9         |\n",
            "|    max_step             | 0            |\n",
            "|    n_updates            | 140          |\n",
            "|    out_of_road          | 0.8          |\n",
            "|    policy_gradient_loss | -0.00267     |\n",
            "|    route_completion     | 0.48         |\n",
            "|    std                  | 0.644        |\n",
            "|    total_cost           | 15.7         |\n",
            "|    value_loss           | 222          |\n",
            "------------------------------------------\n",
            "---------------------------------\n",
            "| rollout/           |          |\n",
            "|    ep_len_mean     | 312      |\n",
            "|    ep_rew_mean     | 288      |\n",
            "| time/              |          |\n",
            "|    fps             | 416      |\n",
            "|    iterations      | 8        |\n",
            "|    time_elapsed    | 98       |\n",
            "|    total_timesteps | 40960    |\n",
            "---------------------------------\n",
            "-----------------------------------------\n",
            "| rollout/                |             |\n",
            "|    ep_len_mean          | 312         |\n",
            "|    ep_rew_mean          | 287         |\n",
            "| time/                   |             |\n",
            "|    fps                  | 434         |\n",
            "|    iterations           | 9           |\n",
            "|    time_elapsed         | 106         |\n",
            "|    total_timesteps      | 46080       |\n",
            "| train/                  |             |\n",
            "|    approx_kl            | 0.002939344 |\n",
            "|    clip_fraction        | 0.138       |\n",
            "|    clip_range           | 0.1         |\n",
            "|    entropy_loss         | -1.89       |\n",
            "|    explained_variance   | 0.625       |\n",
            "|    learning_rate        | 5e-05       |\n",
            "|    loss                 | 178         |\n",
            "|    n_updates            | 160         |\n",
            "|    policy_gradient_loss | 0.000207    |\n",
            "|    std                  | 0.644       |\n",
            "|    value_loss           | 299         |\n",
            "-----------------------------------------\n"
          ]
        },
        {
          "data": {
            "text/html": [
              "<pre style=\"white-space:pre;overflow-x:auto;line-height:normal;font-family:Menlo,'DejaVu Sans Mono',consolas,'Courier New',monospace\">Eval num_timesteps=50000, episode_reward=213.18 +/- 124.63\n",
              "</pre>\n"
            ],
            "text/plain": [
              "Eval num_timesteps=50000, episode_reward=213.18 +/- 124.63\n"
            ]
          },
          "metadata": {},
          "output_type": "display_data"
        },
        {
          "data": {
            "text/html": [
              "<pre style=\"white-space:pre;overflow-x:auto;line-height:normal;font-family:Menlo,'DejaVu Sans Mono',consolas,'Courier New',monospace\">Episode length: 177.60 +/- 103.16\n",
              "</pre>\n"
            ],
            "text/plain": [
              "Episode length: 177.60 +/- 103.16\n"
            ]
          },
          "metadata": {},
          "output_type": "display_data"
        },
        {
          "data": {
            "text/html": [
              "<pre style=\"white-space:pre;overflow-x:auto;line-height:normal;font-family:Menlo,'DejaVu Sans Mono',consolas,'Courier New',monospace\">Success rate: 20.00%\n",
              "</pre>\n"
            ],
            "text/plain": [
              "Success rate: 20.00%\n"
            ]
          },
          "metadata": {},
          "output_type": "display_data"
        },
        {
          "name": "stdout",
          "output_type": "stream",
          "text": [
            "-----------------------------------------\n",
            "| eval/                   |             |\n",
            "|    arrive_dest          | 0.2         |\n",
            "|    crash                | 0.24        |\n",
            "|    max_step             | 0           |\n",
            "|    mean_ep_length       | 178         |\n",
            "|    mean_reward          | 213         |\n",
            "|    num_episodes         | 5           |\n",
            "|    out_of_road          | 0.8         |\n",
            "|    raw_action           | 0.4777479   |\n",
            "|    route_completion     | 0.568       |\n",
            "|    success_rate         | 0.2         |\n",
            "|    total_cost           | 12.3        |\n",
            "| time/                   |             |\n",
            "|    total_timesteps      | 50000       |\n",
            "| train/                  |             |\n",
            "|    approx_kl            | 0.003964329 |\n",
            "|    arrive_dest          | 0.16        |\n",
            "|    clip_fraction        | 0.146       |\n",
            "|    clip_range           | 0.1         |\n",
            "|    crash                | 0.48        |\n",
            "|    entropy_loss         | -1.89       |\n",
            "|    explained_variance   | 0.687       |\n",
            "|    learning_rate        | 5e-05       |\n",
            "|    loss                 | 91          |\n",
            "|    max_step             | 0           |\n",
            "|    n_updates            | 180         |\n",
            "|    out_of_road          | 0.84        |\n",
            "|    policy_gradient_loss | -0.000775   |\n",
            "|    route_completion     | 0.461       |\n",
            "|    std                  | 0.643       |\n",
            "|    total_cost           | 13.1        |\n",
            "|    value_loss           | 208         |\n",
            "-----------------------------------------\n",
            "---------------------------------\n",
            "| rollout/           |          |\n",
            "|    ep_len_mean     | 296      |\n",
            "|    ep_rew_mean     | 270      |\n",
            "| time/              |          |\n",
            "|    fps             | 418      |\n",
            "|    iterations      | 10       |\n",
            "|    time_elapsed    | 122      |\n",
            "|    total_timesteps | 51200    |\n",
            "---------------------------------\n",
            "------------------------------------------\n",
            "| rollout/                |              |\n",
            "|    ep_len_mean          | 292          |\n",
            "|    ep_rew_mean          | 265          |\n",
            "| time/                   |              |\n",
            "|    fps                  | 428          |\n",
            "|    iterations           | 11           |\n",
            "|    time_elapsed         | 131          |\n",
            "|    total_timesteps      | 56320        |\n",
            "| train/                  |              |\n",
            "|    approx_kl            | 0.0017591908 |\n",
            "|    clip_fraction        | 0.163        |\n",
            "|    clip_range           | 0.1          |\n",
            "|    entropy_loss         | -1.89        |\n",
            "|    explained_variance   | 0.597        |\n",
            "|    learning_rate        | 5e-05        |\n",
            "|    loss                 | 127          |\n",
            "|    n_updates            | 200          |\n",
            "|    policy_gradient_loss | 0.00201      |\n",
            "|    std                  | 0.644        |\n",
            "|    value_loss           | 246          |\n",
            "------------------------------------------\n"
          ]
        },
        {
          "data": {
            "text/html": [
              "<pre style=\"white-space:pre;overflow-x:auto;line-height:normal;font-family:Menlo,'DejaVu Sans Mono',consolas,'Courier New',monospace\">Eval num_timesteps=60000, episode_reward=146.54 +/- 105.41\n",
              "</pre>\n"
            ],
            "text/plain": [
              "Eval num_timesteps=60000, episode_reward=146.54 +/- 105.41\n"
            ]
          },
          "metadata": {},
          "output_type": "display_data"
        },
        {
          "data": {
            "text/html": [
              "<pre style=\"white-space:pre;overflow-x:auto;line-height:normal;font-family:Menlo,'DejaVu Sans Mono',consolas,'Courier New',monospace\">Episode length: 166.00 +/- 153.35\n",
              "</pre>\n"
            ],
            "text/plain": [
              "Episode length: 166.00 +/- 153.35\n"
            ]
          },
          "metadata": {},
          "output_type": "display_data"
        },
        {
          "data": {
            "text/html": [
              "<pre style=\"white-space:pre;overflow-x:auto;line-height:normal;font-family:Menlo,'DejaVu Sans Mono',consolas,'Courier New',monospace\">Success rate: 10.00%\n",
              "</pre>\n"
            ],
            "text/plain": [
              "Success rate: 10.00%\n"
            ]
          },
          "metadata": {},
          "output_type": "display_data"
        },
        {
          "name": "stdout",
          "output_type": "stream",
          "text": [
            "-----------------------------------------\n",
            "| eval/                   |             |\n",
            "|    arrive_dest          | 0.2         |\n",
            "|    crash                | 0.267       |\n",
            "|    max_step             | 0           |\n",
            "|    mean_ep_length       | 166         |\n",
            "|    mean_reward          | 147         |\n",
            "|    num_episodes         | 5           |\n",
            "|    out_of_road          | 0.8         |\n",
            "|    raw_action           | 0.47977427  |\n",
            "|    route_completion     | 0.541       |\n",
            "|    success_rate         | 0.1         |\n",
            "|    total_cost           | 14.4        |\n",
            "| time/                   |             |\n",
            "|    total_timesteps      | 60000       |\n",
            "| train/                  |             |\n",
            "|    approx_kl            | 0.009700579 |\n",
            "|    arrive_dest          | 0.133       |\n",
            "|    clip_fraction        | 0.171       |\n",
            "|    clip_range           | 0.1         |\n",
            "|    crash                | 0.433       |\n",
            "|    entropy_loss         | -1.89       |\n",
            "|    explained_variance   | 0.659       |\n",
            "|    learning_rate        | 5e-05       |\n",
            "|    loss                 | 99.7        |\n",
            "|    max_step             | 0           |\n",
            "|    n_updates            | 220         |\n",
            "|    out_of_road          | 0.867       |\n",
            "|    policy_gradient_loss | 0.000683    |\n",
            "|    route_completion     | 0.441       |\n",
            "|    std                  | 0.644       |\n",
            "|    total_cost           | 11.2        |\n",
            "|    value_loss           | 219         |\n",
            "-----------------------------------------\n",
            "---------------------------------\n",
            "| rollout/           |          |\n",
            "|    ep_len_mean     | 285      |\n",
            "|    ep_rew_mean     | 253      |\n",
            "| time/              |          |\n",
            "|    fps             | 411      |\n",
            "|    iterations      | 12       |\n",
            "|    time_elapsed    | 149      |\n",
            "|    total_timesteps | 61440    |\n",
            "---------------------------------\n",
            "------------------------------------------\n",
            "| rollout/                |              |\n",
            "|    ep_len_mean          | 289          |\n",
            "|    ep_rew_mean          | 253          |\n",
            "| time/                   |              |\n",
            "|    fps                  | 421          |\n",
            "|    iterations           | 13           |\n",
            "|    time_elapsed         | 157          |\n",
            "|    total_timesteps      | 66560        |\n",
            "| train/                  |              |\n",
            "|    approx_kl            | 0.0015681118 |\n",
            "|    clip_fraction        | 0.106        |\n",
            "|    clip_range           | 0.1          |\n",
            "|    entropy_loss         | -1.89        |\n",
            "|    explained_variance   | 0.635        |\n",
            "|    learning_rate        | 5e-05        |\n",
            "|    loss                 | 106          |\n",
            "|    n_updates            | 240          |\n",
            "|    policy_gradient_loss | -0.00132     |\n",
            "|    std                  | 0.642        |\n",
            "|    value_loss           | 267          |\n",
            "------------------------------------------\n"
          ]
        },
        {
          "data": {
            "text/html": [
              "<pre style=\"white-space:pre;overflow-x:auto;line-height:normal;font-family:Menlo,'DejaVu Sans Mono',consolas,'Courier New',monospace\">Eval num_timesteps=70000, episode_reward=189.88 +/- 146.04\n",
              "</pre>\n"
            ],
            "text/plain": [
              "Eval num_timesteps=70000, episode_reward=189.88 +/- 146.04\n"
            ]
          },
          "metadata": {},
          "output_type": "display_data"
        },
        {
          "data": {
            "text/html": [
              "<pre style=\"white-space:pre;overflow-x:auto;line-height:normal;font-family:Menlo,'DejaVu Sans Mono',consolas,'Courier New',monospace\">Episode length: 148.60 +/- 77.00\n",
              "</pre>\n"
            ],
            "text/plain": [
              "Episode length: 148.60 +/- 77.00\n"
            ]
          },
          "metadata": {},
          "output_type": "display_data"
        },
        {
          "data": {
            "text/html": [
              "<pre style=\"white-space:pre;overflow-x:auto;line-height:normal;font-family:Menlo,'DejaVu Sans Mono',consolas,'Courier New',monospace\">Success rate: 10.00%\n",
              "</pre>\n"
            ],
            "text/plain": [
              "Success rate: 10.00%\n"
            ]
          },
          "metadata": {},
          "output_type": "display_data"
        },
        {
          "name": "stdout",
          "output_type": "stream",
          "text": [
            "-----------------------------------------\n",
            "| eval/                   |             |\n",
            "|    arrive_dest          | 0.2         |\n",
            "|    crash                | 0.286       |\n",
            "|    max_step             | 0           |\n",
            "|    mean_ep_length       | 149         |\n",
            "|    mean_reward          | 190         |\n",
            "|    num_episodes         | 5           |\n",
            "|    out_of_road          | 0.8         |\n",
            "|    raw_action           | 0.47800848  |\n",
            "|    route_completion     | 0.531       |\n",
            "|    success_rate         | 0.1         |\n",
            "|    total_cost           | 13.6        |\n",
            "| time/                   |             |\n",
            "|    total_timesteps      | 70000       |\n",
            "| train/                  |             |\n",
            "|    approx_kl            | 0.001163894 |\n",
            "|    arrive_dest          | 0.114       |\n",
            "|    clip_fraction        | 0.14        |\n",
            "|    clip_range           | 0.1         |\n",
            "|    crash                | 0.429       |\n",
            "|    entropy_loss         | -1.88       |\n",
            "|    explained_variance   | 0.588       |\n",
            "|    learning_rate        | 5e-05       |\n",
            "|    loss                 | 126         |\n",
            "|    max_step             | 0           |\n",
            "|    n_updates            | 260         |\n",
            "|    out_of_road          | 0.886       |\n",
            "|    policy_gradient_loss | -0.000777   |\n",
            "|    route_completion     | 0.453       |\n",
            "|    std                  | 0.639       |\n",
            "|    total_cost           | 10.7        |\n",
            "|    value_loss           | 263         |\n",
            "-----------------------------------------\n",
            "---------------------------------\n",
            "| rollout/           |          |\n",
            "|    ep_len_mean     | 270      |\n",
            "|    ep_rew_mean     | 242      |\n",
            "| time/              |          |\n",
            "|    fps             | 411      |\n",
            "|    iterations      | 14       |\n",
            "|    time_elapsed    | 173      |\n",
            "|    total_timesteps | 71680    |\n",
            "---------------------------------\n",
            "-----------------------------------------\n",
            "| rollout/                |             |\n",
            "|    ep_len_mean          | 288         |\n",
            "|    ep_rew_mean          | 256         |\n",
            "| time/                   |             |\n",
            "|    fps                  | 420         |\n",
            "|    iterations           | 15          |\n",
            "|    time_elapsed         | 182         |\n",
            "|    total_timesteps      | 76800       |\n",
            "| train/                  |             |\n",
            "|    approx_kl            | 0.006779805 |\n",
            "|    clip_fraction        | 0.145       |\n",
            "|    clip_range           | 0.1         |\n",
            "|    entropy_loss         | -1.87       |\n",
            "|    explained_variance   | 0.613       |\n",
            "|    learning_rate        | 5e-05       |\n",
            "|    loss                 | 99.6        |\n",
            "|    n_updates            | 280         |\n",
            "|    policy_gradient_loss | -0.00125    |\n",
            "|    std                  | 0.638       |\n",
            "|    value_loss           | 233         |\n",
            "-----------------------------------------\n"
          ]
        },
        {
          "data": {
            "text/html": [
              "<pre style=\"white-space:pre;overflow-x:auto;line-height:normal;font-family:Menlo,'DejaVu Sans Mono',consolas,'Courier New',monospace\">Eval num_timesteps=80000, episode_reward=180.41 +/- 99.62\n",
              "</pre>\n"
            ],
            "text/plain": [
              "Eval num_timesteps=80000, episode_reward=180.41 +/- 99.62\n"
            ]
          },
          "metadata": {},
          "output_type": "display_data"
        },
        {
          "data": {
            "text/html": [
              "<pre style=\"white-space:pre;overflow-x:auto;line-height:normal;font-family:Menlo,'DejaVu Sans Mono',consolas,'Courier New',monospace\">Episode length: 165.20 +/- 88.56\n",
              "</pre>\n"
            ],
            "text/plain": [
              "Episode length: 165.20 +/- 88.56\n"
            ]
          },
          "metadata": {},
          "output_type": "display_data"
        },
        {
          "data": {
            "text/html": [
              "<pre style=\"white-space:pre;overflow-x:auto;line-height:normal;font-family:Menlo,'DejaVu Sans Mono',consolas,'Courier New',monospace\">Success rate: 30.00%\n",
              "</pre>\n"
            ],
            "text/plain": [
              "Success rate: 30.00%\n"
            ]
          },
          "metadata": {},
          "output_type": "display_data"
        },
        {
          "name": "stdout",
          "output_type": "stream",
          "text": [
            "-----------------------------------------\n",
            "| eval/                   |             |\n",
            "|    arrive_dest          | 0.225       |\n",
            "|    crash                | 0.25        |\n",
            "|    max_step             | 0           |\n",
            "|    mean_ep_length       | 165         |\n",
            "|    mean_reward          | 180         |\n",
            "|    num_episodes         | 5           |\n",
            "|    out_of_road          | 0.775       |\n",
            "|    raw_action           | 0.488241    |\n",
            "|    route_completion     | 0.538       |\n",
            "|    success_rate         | 0.3         |\n",
            "|    total_cost           | 14          |\n",
            "| time/                   |             |\n",
            "|    total_timesteps      | 80000       |\n",
            "| train/                  |             |\n",
            "|    approx_kl            | 0.005062279 |\n",
            "|    arrive_dest          | 0.125       |\n",
            "|    clip_fraction        | 0.14        |\n",
            "|    clip_range           | 0.1         |\n",
            "|    crash                | 0.425       |\n",
            "|    entropy_loss         | -1.87       |\n",
            "|    explained_variance   | 0.787       |\n",
            "|    learning_rate        | 5e-05       |\n",
            "|    loss                 | 78.2        |\n",
            "|    max_step             | 0           |\n",
            "|    n_updates            | 300         |\n",
            "|    out_of_road          | 0.875       |\n",
            "|    policy_gradient_loss | 0.000845    |\n",
            "|    route_completion     | 0.457       |\n",
            "|    std                  | 0.637       |\n",
            "|    total_cost           | 10.7        |\n",
            "|    value_loss           | 140         |\n",
            "-----------------------------------------\n",
            "---------------------------------\n",
            "| rollout/           |          |\n",
            "|    ep_len_mean     | 286      |\n",
            "|    ep_rew_mean     | 255      |\n",
            "| time/              |          |\n",
            "|    fps             | 410      |\n",
            "|    iterations      | 16       |\n",
            "|    time_elapsed    | 199      |\n",
            "|    total_timesteps | 81920    |\n",
            "---------------------------------\n",
            "------------------------------------------\n",
            "| rollout/                |              |\n",
            "|    ep_len_mean          | 303          |\n",
            "|    ep_rew_mean          | 266          |\n",
            "| time/                   |              |\n",
            "|    fps                  | 418          |\n",
            "|    iterations           | 17           |\n",
            "|    time_elapsed         | 208          |\n",
            "|    total_timesteps      | 87040        |\n",
            "| train/                  |              |\n",
            "|    approx_kl            | 0.0045521953 |\n",
            "|    clip_fraction        | 0.14         |\n",
            "|    clip_range           | 0.1          |\n",
            "|    entropy_loss         | -1.86        |\n",
            "|    explained_variance   | 0.602        |\n",
            "|    learning_rate        | 5e-05        |\n",
            "|    loss                 | 192          |\n",
            "|    n_updates            | 320          |\n",
            "|    policy_gradient_loss | -0.000385    |\n",
            "|    std                  | 0.636        |\n",
            "|    value_loss           | 255          |\n",
            "------------------------------------------\n"
          ]
        },
        {
          "data": {
            "text/html": [
              "<pre style=\"white-space:pre;overflow-x:auto;line-height:normal;font-family:Menlo,'DejaVu Sans Mono',consolas,'Courier New',monospace\">Eval num_timesteps=90000, episode_reward=107.88 +/- 49.54\n",
              "</pre>\n"
            ],
            "text/plain": [
              "Eval num_timesteps=90000, episode_reward=107.88 +/- 49.54\n"
            ]
          },
          "metadata": {},
          "output_type": "display_data"
        },
        {
          "data": {
            "text/html": [
              "<pre style=\"white-space:pre;overflow-x:auto;line-height:normal;font-family:Menlo,'DejaVu Sans Mono',consolas,'Courier New',monospace\">Episode length: 124.40 +/- 77.46\n",
              "</pre>\n"
            ],
            "text/plain": [
              "Episode length: 124.40 +/- 77.46\n"
            ]
          },
          "metadata": {},
          "output_type": "display_data"
        },
        {
          "data": {
            "text/html": [
              "<pre style=\"white-space:pre;overflow-x:auto;line-height:normal;font-family:Menlo,'DejaVu Sans Mono',consolas,'Courier New',monospace\">Success rate: 0.00%\n",
              "</pre>\n"
            ],
            "text/plain": [
              "Success rate: 0.00%\n"
            ]
          },
          "metadata": {},
          "output_type": "display_data"
        },
        {
          "name": "stdout",
          "output_type": "stream",
          "text": [
            "------------------------------------------\n",
            "| eval/                   |              |\n",
            "|    arrive_dest          | 0.2          |\n",
            "|    crash                | 0.244        |\n",
            "|    max_step             | 0            |\n",
            "|    mean_ep_length       | 124          |\n",
            "|    mean_reward          | 108          |\n",
            "|    num_episodes         | 5            |\n",
            "|    out_of_road          | 0.8          |\n",
            "|    raw_action           | 0.49509937   |\n",
            "|    route_completion     | 0.523        |\n",
            "|    success_rate         | 0            |\n",
            "|    total_cost           | 14.5         |\n",
            "| time/                   |              |\n",
            "|    total_timesteps      | 90000        |\n",
            "| train/                  |              |\n",
            "|    approx_kl            | 0.0036336407 |\n",
            "|    arrive_dest          | 0.111        |\n",
            "|    clip_fraction        | 0.156        |\n",
            "|    clip_range           | 0.1          |\n",
            "|    crash                | 0.422        |\n",
            "|    entropy_loss         | -1.86        |\n",
            "|    explained_variance   | 0.765        |\n",
            "|    learning_rate        | 5e-05        |\n",
            "|    loss                 | 78.8         |\n",
            "|    max_step             | 0            |\n",
            "|    n_updates            | 340          |\n",
            "|    out_of_road          | 0.889        |\n",
            "|    policy_gradient_loss | 0.000838     |\n",
            "|    route_completion     | 0.459        |\n",
            "|    std                  | 0.636        |\n",
            "|    total_cost           | 9.91         |\n",
            "|    value_loss           | 173          |\n",
            "------------------------------------------\n",
            "---------------------------------\n",
            "| rollout/           |          |\n",
            "|    ep_len_mean     | 295      |\n",
            "|    ep_rew_mean     | 262      |\n",
            "| time/              |          |\n",
            "|    fps             | 416      |\n",
            "|    iterations      | 18       |\n",
            "|    time_elapsed    | 221      |\n",
            "|    total_timesteps | 92160    |\n",
            "---------------------------------\n",
            "-----------------------------------------\n",
            "| rollout/                |             |\n",
            "|    ep_len_mean          | 316         |\n",
            "|    ep_rew_mean          | 280         |\n",
            "| time/                   |             |\n",
            "|    fps                  | 424         |\n",
            "|    iterations           | 19          |\n",
            "|    time_elapsed         | 229         |\n",
            "|    total_timesteps      | 97280       |\n",
            "| train/                  |             |\n",
            "|    approx_kl            | 0.005289274 |\n",
            "|    clip_fraction        | 0.203       |\n",
            "|    clip_range           | 0.1         |\n",
            "|    entropy_loss         | -1.86       |\n",
            "|    explained_variance   | 0.646       |\n",
            "|    learning_rate        | 5e-05       |\n",
            "|    loss                 | 98.5        |\n",
            "|    n_updates            | 360         |\n",
            "|    policy_gradient_loss | 0.00125     |\n",
            "|    std                  | 0.636       |\n",
            "|    value_loss           | 185         |\n",
            "-----------------------------------------\n"
          ]
        },
        {
          "data": {
            "text/html": [
              "<pre style=\"white-space:pre;overflow-x:auto;line-height:normal;font-family:Menlo,'DejaVu Sans Mono',consolas,'Courier New',monospace\">Saving model checkpoint to \n",
              "runs\\ppo_metadrive_new_reward_5000\\ppo_metadrive_new_reward_5000_2025-03-20_10-44-32_97412f1e\\models\\rl_model_10000\n",
              "0_steps.zip\n",
              "</pre>\n"
            ],
            "text/plain": [
              "Saving model checkpoint to \n",
              "runs\\ppo_metadrive_new_reward_5000\\ppo_metadrive_new_reward_5000_2025-03-20_10-44-32_97412f1e\\models\\rl_model_10000\n",
              "0_steps.zip\n"
            ]
          },
          "metadata": {},
          "output_type": "display_data"
        },
        {
          "data": {
            "text/html": [
              "<pre style=\"white-space:pre;overflow-x:auto;line-height:normal;font-family:Menlo,'DejaVu Sans Mono',consolas,'Courier New',monospace\">Eval num_timesteps=100000, episode_reward=154.49 +/- 89.95\n",
              "</pre>\n"
            ],
            "text/plain": [
              "Eval num_timesteps=100000, episode_reward=154.49 +/- 89.95\n"
            ]
          },
          "metadata": {},
          "output_type": "display_data"
        },
        {
          "data": {
            "text/html": [
              "<pre style=\"white-space:pre;overflow-x:auto;line-height:normal;font-family:Menlo,'DejaVu Sans Mono',consolas,'Courier New',monospace\">Episode length: 173.60 +/- 91.60\n",
              "</pre>\n"
            ],
            "text/plain": [
              "Episode length: 173.60 +/- 91.60\n"
            ]
          },
          "metadata": {},
          "output_type": "display_data"
        },
        {
          "data": {
            "text/html": [
              "<pre style=\"white-space:pre;overflow-x:auto;line-height:normal;font-family:Menlo,'DejaVu Sans Mono',consolas,'Courier New',monospace\">Success rate: 20.00%\n",
              "</pre>\n"
            ],
            "text/plain": [
              "Success rate: 20.00%\n"
            ]
          },
          "metadata": {},
          "output_type": "display_data"
        },
        {
          "name": "stdout",
          "output_type": "stream",
          "text": [
            "-----------------------------------------\n",
            "| eval/                   |             |\n",
            "|    arrive_dest          | 0.2         |\n",
            "|    crash                | 0.26        |\n",
            "|    max_step             | 0           |\n",
            "|    mean_ep_length       | 174         |\n",
            "|    mean_reward          | 154         |\n",
            "|    num_episodes         | 5           |\n",
            "|    out_of_road          | 0.8         |\n",
            "|    raw_action           | 0.4971272   |\n",
            "|    route_completion     | 0.521       |\n",
            "|    success_rate         | 0.2         |\n",
            "|    total_cost           | 15.9        |\n",
            "| time/                   |             |\n",
            "|    total_timesteps      | 100000      |\n",
            "| train/                  |             |\n",
            "|    approx_kl            | 0.005645705 |\n",
            "|    arrive_dest          | 0.12        |\n",
            "|    clip_fraction        | 0.134       |\n",
            "|    clip_range           | 0.1         |\n",
            "|    crash                | 0.44        |\n",
            "|    entropy_loss         | -1.86       |\n",
            "|    explained_variance   | 0.762       |\n",
            "|    learning_rate        | 5e-05       |\n",
            "|    loss                 | 57.9        |\n",
            "|    max_step             | 0           |\n",
            "|    n_updates            | 380         |\n",
            "|    out_of_road          | 0.88        |\n",
            "|    policy_gradient_loss | -0.00103    |\n",
            "|    route_completion     | 0.464       |\n",
            "|    std                  | 0.636       |\n",
            "|    total_cost           | 9.28        |\n",
            "|    value_loss           | 154         |\n",
            "-----------------------------------------\n",
            "---------------------------------\n",
            "| rollout/           |          |\n",
            "|    ep_len_mean     | 311      |\n",
            "|    ep_rew_mean     | 276      |\n",
            "| time/              |          |\n",
            "|    fps             | 418      |\n",
            "|    iterations      | 20       |\n",
            "|    time_elapsed    | 244      |\n",
            "|    total_timesteps | 102400   |\n",
            "---------------------------------\n",
            "-----------------------------------------\n",
            "| rollout/                |             |\n",
            "|    ep_len_mean          | 323         |\n",
            "|    ep_rew_mean          | 277         |\n",
            "| time/                   |             |\n",
            "|    fps                  | 425         |\n",
            "|    iterations           | 21          |\n",
            "|    time_elapsed         | 252         |\n",
            "|    total_timesteps      | 107520      |\n",
            "| train/                  |             |\n",
            "|    approx_kl            | 0.001702643 |\n",
            "|    clip_fraction        | 0.159       |\n",
            "|    clip_range           | 0.1         |\n",
            "|    entropy_loss         | -1.86       |\n",
            "|    explained_variance   | 0.683       |\n",
            "|    learning_rate        | 5e-05       |\n",
            "|    loss                 | 118         |\n",
            "|    n_updates            | 400         |\n",
            "|    policy_gradient_loss | 0.00155     |\n",
            "|    std                  | 0.634       |\n",
            "|    value_loss           | 238         |\n",
            "-----------------------------------------\n"
          ]
        },
        {
          "data": {
            "text/html": [
              "<pre style=\"white-space:pre;overflow-x:auto;line-height:normal;font-family:Menlo,'DejaVu Sans Mono',consolas,'Courier New',monospace\">Eval num_timesteps=110000, episode_reward=282.76 +/- 73.08\n",
              "</pre>\n"
            ],
            "text/plain": [
              "Eval num_timesteps=110000, episode_reward=282.76 +/- 73.08\n"
            ]
          },
          "metadata": {},
          "output_type": "display_data"
        },
        {
          "data": {
            "text/html": [
              "<pre style=\"white-space:pre;overflow-x:auto;line-height:normal;font-family:Menlo,'DejaVu Sans Mono',consolas,'Courier New',monospace\">Episode length: 192.20 +/- 35.50\n",
              "</pre>\n"
            ],
            "text/plain": [
              "Episode length: 192.20 +/- 35.50\n"
            ]
          },
          "metadata": {},
          "output_type": "display_data"
        },
        {
          "data": {
            "text/html": [
              "<pre style=\"white-space:pre;overflow-x:auto;line-height:normal;font-family:Menlo,'DejaVu Sans Mono',consolas,'Courier New',monospace\">Success rate: 30.00%\n",
              "</pre>\n"
            ],
            "text/plain": [
              "Success rate: 30.00%\n"
            ]
          },
          "metadata": {},
          "output_type": "display_data"
        },
        {
          "name": "stdout",
          "output_type": "stream",
          "text": [
            "------------------------------------------\n",
            "| eval/                   |              |\n",
            "|    arrive_dest          | 0.218        |\n",
            "|    crash                | 0.255        |\n",
            "|    max_step             | 0            |\n",
            "|    mean_ep_length       | 192          |\n",
            "|    mean_reward          | 283          |\n",
            "|    num_episodes         | 5            |\n",
            "|    out_of_road          | 0.782        |\n",
            "|    raw_action           | 0.49764657   |\n",
            "|    route_completion     | 0.547        |\n",
            "|    success_rate         | 0.3          |\n",
            "|    total_cost           | 15.3         |\n",
            "| time/                   |              |\n",
            "|    total_timesteps      | 110000       |\n",
            "| train/                  |              |\n",
            "|    approx_kl            | 0.0019727172 |\n",
            "|    arrive_dest          | 0.127        |\n",
            "|    clip_fraction        | 0.144        |\n",
            "|    clip_range           | 0.1          |\n",
            "|    crash                | 0.4          |\n",
            "|    entropy_loss         | -1.85        |\n",
            "|    explained_variance   | 0.747        |\n",
            "|    learning_rate        | 5e-05        |\n",
            "|    loss                 | 112          |\n",
            "|    max_step             | 0            |\n",
            "|    n_updates            | 420          |\n",
            "|    out_of_road          | 0.873        |\n",
            "|    policy_gradient_loss | 0.000141     |\n",
            "|    route_completion     | 0.457        |\n",
            "|    std                  | 0.633        |\n",
            "|    total_cost           | 8.55         |\n",
            "|    value_loss           | 207          |\n",
            "------------------------------------------\n"
          ]
        },
        {
          "data": {
            "text/html": [
              "<pre style=\"white-space:pre;overflow-x:auto;line-height:normal;font-family:Menlo,'DejaVu Sans Mono',consolas,'Courier New',monospace\">New best mean reward!\n",
              "</pre>\n"
            ],
            "text/plain": [
              "New best mean reward!\n"
            ]
          },
          "metadata": {},
          "output_type": "display_data"
        },
        {
          "name": "stdout",
          "output_type": "stream",
          "text": [
            "---------------------------------\n",
            "| rollout/           |          |\n",
            "|    ep_len_mean     | 318      |\n",
            "|    ep_rew_mean     | 278      |\n",
            "| time/              |          |\n",
            "|    fps             | 424      |\n",
            "|    iterations      | 22       |\n",
            "|    time_elapsed    | 265      |\n",
            "|    total_timesteps | 112640   |\n",
            "---------------------------------\n",
            "------------------------------------------\n",
            "| rollout/                |              |\n",
            "|    ep_len_mean          | 321          |\n",
            "|    ep_rew_mean          | 282          |\n",
            "| time/                   |              |\n",
            "|    fps                  | 431          |\n",
            "|    iterations           | 23           |\n",
            "|    time_elapsed         | 272          |\n",
            "|    total_timesteps      | 117760       |\n",
            "| train/                  |              |\n",
            "|    approx_kl            | 0.0025173412 |\n",
            "|    clip_fraction        | 0.166        |\n",
            "|    clip_range           | 0.1          |\n",
            "|    entropy_loss         | -1.85        |\n",
            "|    explained_variance   | 0.666        |\n",
            "|    learning_rate        | 5e-05        |\n",
            "|    loss                 | 68.7         |\n",
            "|    n_updates            | 440          |\n",
            "|    policy_gradient_loss | -0.000104    |\n",
            "|    std                  | 0.633        |\n",
            "|    value_loss           | 182          |\n",
            "------------------------------------------\n"
          ]
        },
        {
          "data": {
            "text/html": [
              "<pre style=\"white-space:pre;overflow-x:auto;line-height:normal;font-family:Menlo,'DejaVu Sans Mono',consolas,'Courier New',monospace\">Eval num_timesteps=120000, episode_reward=151.51 +/- 40.39\n",
              "</pre>\n"
            ],
            "text/plain": [
              "Eval num_timesteps=120000, episode_reward=151.51 +/- 40.39\n"
            ]
          },
          "metadata": {},
          "output_type": "display_data"
        },
        {
          "data": {
            "text/html": [
              "<pre style=\"white-space:pre;overflow-x:auto;line-height:normal;font-family:Menlo,'DejaVu Sans Mono',consolas,'Courier New',monospace\">Episode length: 122.60 +/- 27.24\n",
              "</pre>\n"
            ],
            "text/plain": [
              "Episode length: 122.60 +/- 27.24\n"
            ]
          },
          "metadata": {},
          "output_type": "display_data"
        },
        {
          "data": {
            "text/html": [
              "<pre style=\"white-space:pre;overflow-x:auto;line-height:normal;font-family:Menlo,'DejaVu Sans Mono',consolas,'Courier New',monospace\">Success rate: 10.00%\n",
              "</pre>\n"
            ],
            "text/plain": [
              "Success rate: 10.00%\n"
            ]
          },
          "metadata": {},
          "output_type": "display_data"
        },
        {
          "name": "stdout",
          "output_type": "stream",
          "text": [
            "------------------------------------------\n",
            "| eval/                   |              |\n",
            "|    arrive_dest          | 0.2          |\n",
            "|    crash                | 0.25         |\n",
            "|    max_step             | 0            |\n",
            "|    mean_ep_length       | 123          |\n",
            "|    mean_reward          | 152          |\n",
            "|    num_episodes         | 5            |\n",
            "|    out_of_road          | 0.8          |\n",
            "|    raw_action           | 0.48189306   |\n",
            "|    route_completion     | 0.543        |\n",
            "|    success_rate         | 0.1          |\n",
            "|    total_cost           | 14.5         |\n",
            "| time/                   |              |\n",
            "|    total_timesteps      | 120000       |\n",
            "| train/                  |              |\n",
            "|    approx_kl            | 0.0036262642 |\n",
            "|    arrive_dest          | 0.133        |\n",
            "|    clip_fraction        | 0.177        |\n",
            "|    clip_range           | 0.1          |\n",
            "|    crash                | 0.367        |\n",
            "|    entropy_loss         | -1.85        |\n",
            "|    explained_variance   | 0.734        |\n",
            "|    learning_rate        | 5e-05        |\n",
            "|    loss                 | 91.6         |\n",
            "|    max_step             | 0            |\n",
            "|    n_updates            | 460          |\n",
            "|    out_of_road          | 0.867        |\n",
            "|    policy_gradient_loss | 0.0012       |\n",
            "|    route_completion     | 0.457        |\n",
            "|    std                  | 0.632        |\n",
            "|    total_cost           | 11.1         |\n",
            "|    value_loss           | 167          |\n",
            "------------------------------------------\n",
            "---------------------------------\n",
            "| rollout/           |          |\n",
            "|    ep_len_mean     | 316      |\n",
            "|    ep_rew_mean     | 276      |\n",
            "| time/              |          |\n",
            "|    fps             | 416      |\n",
            "|    iterations      | 24       |\n",
            "|    time_elapsed    | 294      |\n",
            "|    total_timesteps | 122880   |\n",
            "---------------------------------\n",
            "------------------------------------------\n",
            "| rollout/                |              |\n",
            "|    ep_len_mean          | 334          |\n",
            "|    ep_rew_mean          | 284          |\n",
            "| time/                   |              |\n",
            "|    fps                  | 423          |\n",
            "|    iterations           | 25           |\n",
            "|    time_elapsed         | 302          |\n",
            "|    total_timesteps      | 128000       |\n",
            "| train/                  |              |\n",
            "|    approx_kl            | 0.0018541735 |\n",
            "|    clip_fraction        | 0.159        |\n",
            "|    clip_range           | 0.1          |\n",
            "|    entropy_loss         | -1.85        |\n",
            "|    explained_variance   | 0.608        |\n",
            "|    learning_rate        | 5e-05        |\n",
            "|    loss                 | 128          |\n",
            "|    n_updates            | 480          |\n",
            "|    policy_gradient_loss | 0.000335     |\n",
            "|    std                  | 0.632        |\n",
            "|    value_loss           | 270          |\n",
            "------------------------------------------\n"
          ]
        },
        {
          "data": {
            "text/html": [
              "<pre style=\"white-space:pre;overflow-x:auto;line-height:normal;font-family:Menlo,'DejaVu Sans Mono',consolas,'Courier New',monospace\">Eval num_timesteps=130000, episode_reward=298.11 +/- 100.11\n",
              "</pre>\n"
            ],
            "text/plain": [
              "Eval num_timesteps=130000, episode_reward=298.11 +/- 100.11\n"
            ]
          },
          "metadata": {},
          "output_type": "display_data"
        },
        {
          "data": {
            "text/html": [
              "<pre style=\"white-space:pre;overflow-x:auto;line-height:normal;font-family:Menlo,'DejaVu Sans Mono',consolas,'Courier New',monospace\">Episode length: 251.20 +/- 111.68\n",
              "</pre>\n"
            ],
            "text/plain": [
              "Episode length: 251.20 +/- 111.68\n"
            ]
          },
          "metadata": {},
          "output_type": "display_data"
        },
        {
          "data": {
            "text/html": [
              "<pre style=\"white-space:pre;overflow-x:auto;line-height:normal;font-family:Menlo,'DejaVu Sans Mono',consolas,'Courier New',monospace\">Success rate: 40.00%\n",
              "</pre>\n"
            ],
            "text/plain": [
              "Success rate: 40.00%\n"
            ]
          },
          "metadata": {},
          "output_type": "display_data"
        },
        {
          "name": "stdout",
          "output_type": "stream",
          "text": [
            "-----------------------------------------\n",
            "| eval/                   |             |\n",
            "|    arrive_dest          | 0.231       |\n",
            "|    crash                | 0.231       |\n",
            "|    max_step             | 0           |\n",
            "|    mean_ep_length       | 251         |\n",
            "|    mean_reward          | 298         |\n",
            "|    num_episodes         | 5           |\n",
            "|    out_of_road          | 0.769       |\n",
            "|    raw_action           | 0.47500363  |\n",
            "|    route_completion     | 0.565       |\n",
            "|    success_rate         | 0.4         |\n",
            "|    total_cost           | 15.4        |\n",
            "| time/                   |             |\n",
            "|    total_timesteps      | 130000      |\n",
            "| train/                  |             |\n",
            "|    approx_kl            | 0.001286828 |\n",
            "|    arrive_dest          | 0.138       |\n",
            "|    clip_fraction        | 0.249       |\n",
            "|    clip_range           | 0.1         |\n",
            "|    crash                | 0.354       |\n",
            "|    entropy_loss         | -1.85       |\n",
            "|    explained_variance   | 0.744       |\n",
            "|    learning_rate        | 5e-05       |\n",
            "|    loss                 | 56          |\n",
            "|    max_step             | 0           |\n",
            "|    n_updates            | 500         |\n",
            "|    out_of_road          | 0.862       |\n",
            "|    policy_gradient_loss | 0.00715     |\n",
            "|    route_completion     | 0.463       |\n",
            "|    std                  | 0.633       |\n",
            "|    total_cost           | 12.1        |\n",
            "|    value_loss           | 131         |\n",
            "-----------------------------------------\n"
          ]
        },
        {
          "data": {
            "text/html": [
              "<pre style=\"white-space:pre;overflow-x:auto;line-height:normal;font-family:Menlo,'DejaVu Sans Mono',consolas,'Courier New',monospace\">New best mean reward!\n",
              "</pre>\n"
            ],
            "text/plain": [
              "New best mean reward!\n"
            ]
          },
          "metadata": {},
          "output_type": "display_data"
        },
        {
          "name": "stdout",
          "output_type": "stream",
          "text": [
            "---------------------------------\n",
            "| rollout/           |          |\n",
            "|    ep_len_mean     | 325      |\n",
            "|    ep_rew_mean     | 280      |\n",
            "| time/              |          |\n",
            "|    fps             | 411      |\n",
            "|    iterations      | 26       |\n",
            "|    time_elapsed    | 323      |\n",
            "|    total_timesteps | 133120   |\n",
            "---------------------------------\n",
            "------------------------------------------\n",
            "| rollout/                |              |\n",
            "|    ep_len_mean          | 341          |\n",
            "|    ep_rew_mean          | 289          |\n",
            "| time/                   |              |\n",
            "|    fps                  | 416          |\n",
            "|    iterations           | 27           |\n",
            "|    time_elapsed         | 331          |\n",
            "|    total_timesteps      | 138240       |\n",
            "| train/                  |              |\n",
            "|    approx_kl            | 0.0022764057 |\n",
            "|    clip_fraction        | 0.238        |\n",
            "|    clip_range           | 0.1          |\n",
            "|    entropy_loss         | -1.85        |\n",
            "|    explained_variance   | 0.672        |\n",
            "|    learning_rate        | 5e-05        |\n",
            "|    loss                 | 97.5         |\n",
            "|    n_updates            | 520          |\n",
            "|    policy_gradient_loss | 0.00319      |\n",
            "|    std                  | 0.631        |\n",
            "|    value_loss           | 198          |\n",
            "------------------------------------------\n"
          ]
        },
        {
          "data": {
            "text/html": [
              "<pre style=\"white-space:pre;overflow-x:auto;line-height:normal;font-family:Menlo,'DejaVu Sans Mono',consolas,'Courier New',monospace\">Eval num_timesteps=140000, episode_reward=288.29 +/- 175.78\n",
              "</pre>\n"
            ],
            "text/plain": [
              "Eval num_timesteps=140000, episode_reward=288.29 +/- 175.78\n"
            ]
          },
          "metadata": {},
          "output_type": "display_data"
        },
        {
          "data": {
            "text/html": [
              "<pre style=\"white-space:pre;overflow-x:auto;line-height:normal;font-family:Menlo,'DejaVu Sans Mono',consolas,'Courier New',monospace\">Episode length: 224.00 +/- 131.70\n",
              "</pre>\n"
            ],
            "text/plain": [
              "Episode length: 224.00 +/- 131.70\n"
            ]
          },
          "metadata": {},
          "output_type": "display_data"
        },
        {
          "data": {
            "text/html": [
              "<pre style=\"white-space:pre;overflow-x:auto;line-height:normal;font-family:Menlo,'DejaVu Sans Mono',consolas,'Courier New',monospace\">Success rate: 30.00%\n",
              "</pre>\n"
            ],
            "text/plain": [
              "Success rate: 30.00%\n"
            ]
          },
          "metadata": {},
          "output_type": "display_data"
        },
        {
          "name": "stdout",
          "output_type": "stream",
          "text": [
            "-------------------------------------------\n",
            "| eval/                   |               |\n",
            "|    arrive_dest          | 0.257         |\n",
            "|    crash                | 0.243         |\n",
            "|    max_step             | 0             |\n",
            "|    mean_ep_length       | 224           |\n",
            "|    mean_reward          | 288           |\n",
            "|    num_episodes         | 5             |\n",
            "|    out_of_road          | 0.743         |\n",
            "|    raw_action           | 0.47673443    |\n",
            "|    route_completion     | 0.575         |\n",
            "|    success_rate         | 0.3           |\n",
            "|    total_cost           | 15.6          |\n",
            "| time/                   |               |\n",
            "|    total_timesteps      | 140000        |\n",
            "| train/                  |               |\n",
            "|    approx_kl            | 0.00091250084 |\n",
            "|    arrive_dest          | 0.129         |\n",
            "|    clip_fraction        | 0.145         |\n",
            "|    clip_range           | 0.1           |\n",
            "|    crash                | 0.329         |\n",
            "|    entropy_loss         | -1.85         |\n",
            "|    explained_variance   | 0.775         |\n",
            "|    learning_rate        | 5e-05         |\n",
            "|    loss                 | 47.5          |\n",
            "|    max_step             | 0             |\n",
            "|    n_updates            | 540           |\n",
            "|    out_of_road          | 0.871         |\n",
            "|    policy_gradient_loss | -0.000109     |\n",
            "|    route_completion     | 0.459         |\n",
            "|    std                  | 0.63          |\n",
            "|    total_cost           | 11.4          |\n",
            "|    value_loss           | 131           |\n",
            "-------------------------------------------\n",
            "---------------------------------\n",
            "| rollout/           |          |\n",
            "|    ep_len_mean     | 344      |\n",
            "|    ep_rew_mean     | 294      |\n",
            "| time/              |          |\n",
            "|    fps             | 412      |\n",
            "|    iterations      | 28       |\n",
            "|    time_elapsed    | 347      |\n",
            "|    total_timesteps | 143360   |\n",
            "---------------------------------\n",
            "-----------------------------------------\n",
            "| rollout/                |             |\n",
            "|    ep_len_mean          | 342         |\n",
            "|    ep_rew_mean          | 291         |\n",
            "| time/                   |             |\n",
            "|    fps                  | 416         |\n",
            "|    iterations           | 29          |\n",
            "|    time_elapsed         | 356         |\n",
            "|    total_timesteps      | 148480      |\n",
            "| train/                  |             |\n",
            "|    approx_kl            | 0.002123511 |\n",
            "|    clip_fraction        | 0.133       |\n",
            "|    clip_range           | 0.1         |\n",
            "|    entropy_loss         | -1.84       |\n",
            "|    explained_variance   | 0.669       |\n",
            "|    learning_rate        | 5e-05       |\n",
            "|    loss                 | 112         |\n",
            "|    n_updates            | 560         |\n",
            "|    policy_gradient_loss | -0.00122    |\n",
            "|    std                  | 0.628       |\n",
            "|    value_loss           | 190         |\n",
            "-----------------------------------------\n"
          ]
        },
        {
          "data": {
            "text/html": [
              "<pre style=\"white-space:pre;overflow-x:auto;line-height:normal;font-family:Menlo,'DejaVu Sans Mono',consolas,'Courier New',monospace\">Eval num_timesteps=150000, episode_reward=200.15 +/- 73.43\n",
              "</pre>\n"
            ],
            "text/plain": [
              "Eval num_timesteps=150000, episode_reward=200.15 +/- 73.43\n"
            ]
          },
          "metadata": {},
          "output_type": "display_data"
        },
        {
          "data": {
            "text/html": [
              "<pre style=\"white-space:pre;overflow-x:auto;line-height:normal;font-family:Menlo,'DejaVu Sans Mono',consolas,'Courier New',monospace\">Episode length: 209.00 +/- 81.37\n",
              "</pre>\n"
            ],
            "text/plain": [
              "Episode length: 209.00 +/- 81.37\n"
            ]
          },
          "metadata": {},
          "output_type": "display_data"
        },
        {
          "data": {
            "text/html": [
              "<pre style=\"white-space:pre;overflow-x:auto;line-height:normal;font-family:Menlo,'DejaVu Sans Mono',consolas,'Courier New',monospace\">Success rate: 50.00%\n",
              "</pre>\n"
            ],
            "text/plain": [
              "Success rate: 50.00%\n"
            ]
          },
          "metadata": {},
          "output_type": "display_data"
        },
        {
          "name": "stdout",
          "output_type": "stream",
          "text": [
            "------------------------------------------\n",
            "| eval/                   |              |\n",
            "|    arrive_dest          | 0.28         |\n",
            "|    crash                | 0.24         |\n",
            "|    max_step             | 0            |\n",
            "|    mean_ep_length       | 209          |\n",
            "|    mean_reward          | 200          |\n",
            "|    num_episodes         | 5            |\n",
            "|    out_of_road          | 0.72         |\n",
            "|    raw_action           | 0.47494453   |\n",
            "|    route_completion     | 0.587        |\n",
            "|    success_rate         | 0.5          |\n",
            "|    total_cost           | 17.3         |\n",
            "| time/                   |              |\n",
            "|    total_timesteps      | 150000       |\n",
            "| train/                  |              |\n",
            "|    approx_kl            | 0.0012269138 |\n",
            "|    arrive_dest          | 0.147        |\n",
            "|    clip_fraction        | 0.142        |\n",
            "|    clip_range           | 0.1          |\n",
            "|    crash                | 0.32         |\n",
            "|    entropy_loss         | -1.84        |\n",
            "|    explained_variance   | 0.717        |\n",
            "|    learning_rate        | 5e-05        |\n",
            "|    loss                 | 123          |\n",
            "|    max_step             | 0            |\n",
            "|    n_updates            | 580          |\n",
            "|    out_of_road          | 0.853        |\n",
            "|    policy_gradient_loss | -0.000117    |\n",
            "|    route_completion     | 0.466        |\n",
            "|    std                  | 0.627        |\n",
            "|    total_cost           | 11           |\n",
            "|    value_loss           | 203          |\n",
            "------------------------------------------\n",
            "---------------------------------\n",
            "| rollout/           |          |\n",
            "|    ep_len_mean     | 335      |\n",
            "|    ep_rew_mean     | 286      |\n",
            "| time/              |          |\n",
            "|    fps             | 411      |\n",
            "|    iterations      | 30       |\n",
            "|    time_elapsed    | 373      |\n",
            "|    total_timesteps | 153600   |\n",
            "---------------------------------\n",
            "------------------------------------------\n",
            "| rollout/                |              |\n",
            "|    ep_len_mean          | 338          |\n",
            "|    ep_rew_mean          | 288          |\n",
            "| time/                   |              |\n",
            "|    fps                  | 417          |\n",
            "|    iterations           | 31           |\n",
            "|    time_elapsed         | 380          |\n",
            "|    total_timesteps      | 158720       |\n",
            "| train/                  |              |\n",
            "|    approx_kl            | 0.0027821609 |\n",
            "|    clip_fraction        | 0.111        |\n",
            "|    clip_range           | 0.1          |\n",
            "|    entropy_loss         | -1.83        |\n",
            "|    explained_variance   | 0.64         |\n",
            "|    learning_rate        | 5e-05        |\n",
            "|    loss                 | 72.5         |\n",
            "|    n_updates            | 600          |\n",
            "|    policy_gradient_loss | -0.000747    |\n",
            "|    std                  | 0.628        |\n",
            "|    value_loss           | 241          |\n",
            "------------------------------------------\n"
          ]
        },
        {
          "data": {
            "text/html": [
              "<pre style=\"white-space:pre;overflow-x:auto;line-height:normal;font-family:Menlo,'DejaVu Sans Mono',consolas,'Courier New',monospace\">Eval num_timesteps=160000, episode_reward=218.11 +/- 104.22\n",
              "</pre>\n"
            ],
            "text/plain": [
              "Eval num_timesteps=160000, episode_reward=218.11 +/- 104.22\n"
            ]
          },
          "metadata": {},
          "output_type": "display_data"
        },
        {
          "data": {
            "text/html": [
              "<pre style=\"white-space:pre;overflow-x:auto;line-height:normal;font-family:Menlo,'DejaVu Sans Mono',consolas,'Courier New',monospace\">Episode length: 213.00 +/- 152.77\n",
              "</pre>\n"
            ],
            "text/plain": [
              "Episode length: 213.00 +/- 152.77\n"
            ]
          },
          "metadata": {},
          "output_type": "display_data"
        },
        {
          "data": {
            "text/html": [
              "<pre style=\"white-space:pre;overflow-x:auto;line-height:normal;font-family:Menlo,'DejaVu Sans Mono',consolas,'Courier New',monospace\">Success rate: 10.00%\n",
              "</pre>\n"
            ],
            "text/plain": [
              "Success rate: 10.00%\n"
            ]
          },
          "metadata": {},
          "output_type": "display_data"
        },
        {
          "name": "stdout",
          "output_type": "stream",
          "text": [
            "------------------------------------------\n",
            "| eval/                   |              |\n",
            "|    arrive_dest          | 0.275        |\n",
            "|    crash                | 0.275        |\n",
            "|    max_step             | 0            |\n",
            "|    mean_ep_length       | 213          |\n",
            "|    mean_reward          | 218          |\n",
            "|    num_episodes         | 5            |\n",
            "|    out_of_road          | 0.725        |\n",
            "|    raw_action           | 0.47713265   |\n",
            "|    route_completion     | 0.595        |\n",
            "|    success_rate         | 0.1          |\n",
            "|    total_cost           | 17.8         |\n",
            "| time/                   |              |\n",
            "|    total_timesteps      | 160000       |\n",
            "| train/                  |              |\n",
            "|    approx_kl            | 0.0065000714 |\n",
            "|    arrive_dest          | 0.138        |\n",
            "|    clip_fraction        | 0.206        |\n",
            "|    clip_range           | 0.1          |\n",
            "|    crash                | 0.312        |\n",
            "|    entropy_loss         | -1.83        |\n",
            "|    explained_variance   | 0.745        |\n",
            "|    learning_rate        | 5e-05        |\n",
            "|    loss                 | 91.1         |\n",
            "|    max_step             | 0            |\n",
            "|    n_updates            | 620          |\n",
            "|    out_of_road          | 0.863        |\n",
            "|    policy_gradient_loss | 0.00288      |\n",
            "|    route_completion     | 0.467        |\n",
            "|    std                  | 0.626        |\n",
            "|    total_cost           | 10.8         |\n",
            "|    value_loss           | 146          |\n",
            "------------------------------------------\n",
            "---------------------------------\n",
            "| rollout/           |          |\n",
            "|    ep_len_mean     | 329      |\n",
            "|    ep_rew_mean     | 289      |\n",
            "| time/              |          |\n",
            "|    fps             | 410      |\n",
            "|    iterations      | 32       |\n",
            "|    time_elapsed    | 398      |\n",
            "|    total_timesteps | 163840   |\n",
            "---------------------------------\n",
            "------------------------------------------\n",
            "| rollout/                |              |\n",
            "|    ep_len_mean          | 331          |\n",
            "|    ep_rew_mean          | 292          |\n",
            "| time/                   |              |\n",
            "|    fps                  | 415          |\n",
            "|    iterations           | 33           |\n",
            "|    time_elapsed         | 406          |\n",
            "|    total_timesteps      | 168960       |\n",
            "| train/                  |              |\n",
            "|    approx_kl            | 0.0025311732 |\n",
            "|    clip_fraction        | 0.2          |\n",
            "|    clip_range           | 0.1          |\n",
            "|    entropy_loss         | -1.83        |\n",
            "|    explained_variance   | 0.72         |\n",
            "|    learning_rate        | 5e-05        |\n",
            "|    loss                 | 87.8         |\n",
            "|    n_updates            | 640          |\n",
            "|    policy_gradient_loss | 0.00377      |\n",
            "|    std                  | 0.627        |\n",
            "|    value_loss           | 192          |\n",
            "------------------------------------------\n"
          ]
        },
        {
          "data": {
            "text/html": [
              "<pre style=\"white-space:pre;overflow-x:auto;line-height:normal;font-family:Menlo,'DejaVu Sans Mono',consolas,'Courier New',monospace\">Eval num_timesteps=170000, episode_reward=173.83 +/- 94.92\n",
              "</pre>\n"
            ],
            "text/plain": [
              "Eval num_timesteps=170000, episode_reward=173.83 +/- 94.92\n"
            ]
          },
          "metadata": {},
          "output_type": "display_data"
        },
        {
          "data": {
            "text/html": [
              "<pre style=\"white-space:pre;overflow-x:auto;line-height:normal;font-family:Menlo,'DejaVu Sans Mono',consolas,'Courier New',monospace\">Episode length: 124.60 +/- 43.50\n",
              "</pre>\n"
            ],
            "text/plain": [
              "Episode length: 124.60 +/- 43.50\n"
            ]
          },
          "metadata": {},
          "output_type": "display_data"
        },
        {
          "data": {
            "text/html": [
              "<pre style=\"white-space:pre;overflow-x:auto;line-height:normal;font-family:Menlo,'DejaVu Sans Mono',consolas,'Courier New',monospace\">Success rate: 10.00%\n",
              "</pre>\n"
            ],
            "text/plain": [
              "Success rate: 10.00%\n"
            ]
          },
          "metadata": {},
          "output_type": "display_data"
        },
        {
          "name": "stdout",
          "output_type": "stream",
          "text": [
            "------------------------------------------\n",
            "| eval/                   |              |\n",
            "|    arrive_dest          | 0.259        |\n",
            "|    crash                | 0.282        |\n",
            "|    max_step             | 0            |\n",
            "|    mean_ep_length       | 125          |\n",
            "|    mean_reward          | 174          |\n",
            "|    num_episodes         | 5            |\n",
            "|    out_of_road          | 0.741        |\n",
            "|    raw_action           | 0.4766919    |\n",
            "|    route_completion     | 0.59         |\n",
            "|    success_rate         | 0.1          |\n",
            "|    total_cost           | 16.9         |\n",
            "| time/                   |              |\n",
            "|    total_timesteps      | 170000       |\n",
            "| train/                  |              |\n",
            "|    approx_kl            | 0.0066787787 |\n",
            "|    arrive_dest          | 0.141        |\n",
            "|    clip_fraction        | 0.103        |\n",
            "|    clip_range           | 0.1          |\n",
            "|    crash                | 0.306        |\n",
            "|    entropy_loss         | -1.83        |\n",
            "|    explained_variance   | 0.659        |\n",
            "|    learning_rate        | 5e-05        |\n",
            "|    loss                 | 132          |\n",
            "|    max_step             | 0            |\n",
            "|    n_updates            | 660          |\n",
            "|    out_of_road          | 0.859        |\n",
            "|    policy_gradient_loss | -0.000917    |\n",
            "|    route_completion     | 0.482        |\n",
            "|    std                  | 0.629        |\n",
            "|    total_cost           | 10.7         |\n",
            "|    value_loss           | 216          |\n",
            "------------------------------------------\n",
            "---------------------------------\n",
            "| rollout/           |          |\n",
            "|    ep_len_mean     | 327      |\n",
            "|    ep_rew_mean     | 294      |\n",
            "| time/              |          |\n",
            "|    fps             | 412      |\n",
            "|    iterations      | 34       |\n",
            "|    time_elapsed    | 421      |\n",
            "|    total_timesteps | 174080   |\n",
            "---------------------------------\n",
            "-----------------------------------------\n",
            "| rollout/                |             |\n",
            "|    ep_len_mean          | 324         |\n",
            "|    ep_rew_mean          | 293         |\n",
            "| time/                   |             |\n",
            "|    fps                  | 416         |\n",
            "|    iterations           | 35          |\n",
            "|    time_elapsed         | 430         |\n",
            "|    total_timesteps      | 179200      |\n",
            "| train/                  |             |\n",
            "|    approx_kl            | 0.012688098 |\n",
            "|    clip_fraction        | 0.147       |\n",
            "|    clip_range           | 0.1         |\n",
            "|    entropy_loss         | -1.84       |\n",
            "|    explained_variance   | 0.745       |\n",
            "|    learning_rate        | 5e-05       |\n",
            "|    loss                 | 70.1        |\n",
            "|    n_updates            | 680         |\n",
            "|    policy_gradient_loss | 0.000367    |\n",
            "|    std                  | 0.629       |\n",
            "|    value_loss           | 188         |\n",
            "-----------------------------------------\n"
          ]
        },
        {
          "data": {
            "text/html": [
              "<pre style=\"white-space:pre;overflow-x:auto;line-height:normal;font-family:Menlo,'DejaVu Sans Mono',consolas,'Courier New',monospace\">Eval num_timesteps=180000, episode_reward=221.06 +/- 142.00\n",
              "</pre>\n"
            ],
            "text/plain": [
              "Eval num_timesteps=180000, episode_reward=221.06 +/- 142.00\n"
            ]
          },
          "metadata": {},
          "output_type": "display_data"
        },
        {
          "data": {
            "text/html": [
              "<pre style=\"white-space:pre;overflow-x:auto;line-height:normal;font-family:Menlo,'DejaVu Sans Mono',consolas,'Courier New',monospace\">Episode length: 170.80 +/- 107.30\n",
              "</pre>\n"
            ],
            "text/plain": [
              "Episode length: 170.80 +/- 107.30\n"
            ]
          },
          "metadata": {},
          "output_type": "display_data"
        },
        {
          "data": {
            "text/html": [
              "<pre style=\"white-space:pre;overflow-x:auto;line-height:normal;font-family:Menlo,'DejaVu Sans Mono',consolas,'Courier New',monospace\">Success rate: 20.00%\n",
              "</pre>\n"
            ],
            "text/plain": [
              "Success rate: 20.00%\n"
            ]
          },
          "metadata": {},
          "output_type": "display_data"
        },
        {
          "name": "stdout",
          "output_type": "stream",
          "text": [
            "----------------------------------------\n",
            "| eval/                   |            |\n",
            "|    arrive_dest          | 0.256      |\n",
            "|    crash                | 0.278      |\n",
            "|    max_step             | 0          |\n",
            "|    mean_ep_length       | 171        |\n",
            "|    mean_reward          | 221        |\n",
            "|    num_episodes         | 5          |\n",
            "|    out_of_road          | 0.744      |\n",
            "|    raw_action           | 0.47883412 |\n",
            "|    route_completion     | 0.587      |\n",
            "|    success_rate         | 0.2        |\n",
            "|    total_cost           | 16.5       |\n",
            "| time/                   |            |\n",
            "|    total_timesteps      | 180000     |\n",
            "| train/                  |            |\n",
            "|    approx_kl            | 0.02924499 |\n",
            "|    arrive_dest          | 0.144      |\n",
            "|    clip_fraction        | 0.158      |\n",
            "|    clip_range           | 0.1        |\n",
            "|    crash                | 0.311      |\n",
            "|    entropy_loss         | -1.83      |\n",
            "|    explained_variance   | 0.74       |\n",
            "|    learning_rate        | 5e-05      |\n",
            "|    loss                 | 89.8       |\n",
            "|    max_step             | 0          |\n",
            "|    n_updates            | 700        |\n",
            "|    out_of_road          | 0.856      |\n",
            "|    policy_gradient_loss | 0.00251    |\n",
            "|    route_completion     | 0.486      |\n",
            "|    std                  | 0.628      |\n",
            "|    total_cost           | 10.3       |\n",
            "|    value_loss           | 208        |\n",
            "----------------------------------------\n",
            "---------------------------------\n",
            "| rollout/           |          |\n",
            "|    ep_len_mean     | 322      |\n",
            "|    ep_rew_mean     | 297      |\n",
            "| time/              |          |\n",
            "|    fps             | 412      |\n",
            "|    iterations      | 36       |\n",
            "|    time_elapsed    | 446      |\n",
            "|    total_timesteps | 184320   |\n",
            "---------------------------------\n",
            "------------------------------------------\n",
            "| rollout/                |              |\n",
            "|    ep_len_mean          | 330          |\n",
            "|    ep_rew_mean          | 299          |\n",
            "| time/                   |              |\n",
            "|    fps                  | 417          |\n",
            "|    iterations           | 37           |\n",
            "|    time_elapsed         | 454          |\n",
            "|    total_timesteps      | 189440       |\n",
            "| train/                  |              |\n",
            "|    approx_kl            | 0.0039163996 |\n",
            "|    clip_fraction        | 0.125        |\n",
            "|    clip_range           | 0.1          |\n",
            "|    entropy_loss         | -1.83        |\n",
            "|    explained_variance   | 0.689        |\n",
            "|    learning_rate        | 5e-05        |\n",
            "|    loss                 | 77.5         |\n",
            "|    n_updates            | 720          |\n",
            "|    policy_gradient_loss | -0.0021      |\n",
            "|    std                  | 0.629        |\n",
            "|    value_loss           | 203          |\n",
            "------------------------------------------\n"
          ]
        },
        {
          "data": {
            "text/html": [
              "<pre style=\"white-space:pre;overflow-x:auto;line-height:normal;font-family:Menlo,'DejaVu Sans Mono',consolas,'Courier New',monospace\">Eval num_timesteps=190000, episode_reward=292.96 +/- 157.87\n",
              "</pre>\n"
            ],
            "text/plain": [
              "Eval num_timesteps=190000, episode_reward=292.96 +/- 157.87\n"
            ]
          },
          "metadata": {},
          "output_type": "display_data"
        },
        {
          "data": {
            "text/html": [
              "<pre style=\"white-space:pre;overflow-x:auto;line-height:normal;font-family:Menlo,'DejaVu Sans Mono',consolas,'Courier New',monospace\">Episode length: 196.20 +/- 97.68\n",
              "</pre>\n"
            ],
            "text/plain": [
              "Episode length: 196.20 +/- 97.68\n"
            ]
          },
          "metadata": {},
          "output_type": "display_data"
        },
        {
          "data": {
            "text/html": [
              "<pre style=\"white-space:pre;overflow-x:auto;line-height:normal;font-family:Menlo,'DejaVu Sans Mono',consolas,'Courier New',monospace\">Success rate: 30.00%\n",
              "</pre>\n"
            ],
            "text/plain": [
              "Success rate: 30.00%\n"
            ]
          },
          "metadata": {},
          "output_type": "display_data"
        },
        {
          "name": "stdout",
          "output_type": "stream",
          "text": [
            "-----------------------------------------\n",
            "| eval/                   |             |\n",
            "|    arrive_dest          | 0.263       |\n",
            "|    crash                | 0.295       |\n",
            "|    max_step             | 0           |\n",
            "|    mean_ep_length       | 196         |\n",
            "|    mean_reward          | 293         |\n",
            "|    num_episodes         | 5           |\n",
            "|    out_of_road          | 0.737       |\n",
            "|    raw_action           | 0.47689342  |\n",
            "|    route_completion     | 0.595       |\n",
            "|    success_rate         | 0.3         |\n",
            "|    total_cost           | 16.1        |\n",
            "| time/                   |             |\n",
            "|    total_timesteps      | 190000      |\n",
            "| train/                  |             |\n",
            "|    approx_kl            | 0.002075826 |\n",
            "|    arrive_dest          | 0.147       |\n",
            "|    clip_fraction        | 0.177       |\n",
            "|    clip_range           | 0.1         |\n",
            "|    crash                | 0.305       |\n",
            "|    entropy_loss         | -1.83       |\n",
            "|    explained_variance   | 0.764       |\n",
            "|    learning_rate        | 5e-05       |\n",
            "|    loss                 | 72.9        |\n",
            "|    max_step             | 0           |\n",
            "|    n_updates            | 740         |\n",
            "|    out_of_road          | 0.853       |\n",
            "|    policy_gradient_loss | 0.00141     |\n",
            "|    route_completion     | 0.485       |\n",
            "|    std                  | 0.628       |\n",
            "|    total_cost           | 10.8        |\n",
            "|    value_loss           | 160         |\n",
            "-----------------------------------------\n",
            "---------------------------------\n",
            "| rollout/           |          |\n",
            "|    ep_len_mean     | 336      |\n",
            "|    ep_rew_mean     | 303      |\n",
            "| time/              |          |\n",
            "|    fps             | 413      |\n",
            "|    iterations      | 38       |\n",
            "|    time_elapsed    | 470      |\n",
            "|    total_timesteps | 194560   |\n",
            "---------------------------------\n",
            "-----------------------------------------\n",
            "| rollout/                |             |\n",
            "|    ep_len_mean          | 335         |\n",
            "|    ep_rew_mean          | 306         |\n",
            "| time/                   |             |\n",
            "|    fps                  | 417         |\n",
            "|    iterations           | 39          |\n",
            "|    time_elapsed         | 478         |\n",
            "|    total_timesteps      | 199680      |\n",
            "| train/                  |             |\n",
            "|    approx_kl            | 0.013172326 |\n",
            "|    clip_fraction        | 0.161       |\n",
            "|    clip_range           | 0.1         |\n",
            "|    entropy_loss         | -1.83       |\n",
            "|    explained_variance   | 0.761       |\n",
            "|    learning_rate        | 5e-05       |\n",
            "|    loss                 | 50.7        |\n",
            "|    n_updates            | 760         |\n",
            "|    policy_gradient_loss | 0.000738    |\n",
            "|    std                  | 0.627       |\n",
            "|    value_loss           | 172         |\n",
            "-----------------------------------------\n"
          ]
        },
        {
          "data": {
            "text/html": [
              "<pre style=\"white-space:pre;overflow-x:auto;line-height:normal;font-family:Menlo,'DejaVu Sans Mono',consolas,'Courier New',monospace\">Saving model checkpoint to \n",
              "runs\\ppo_metadrive_new_reward_5000\\ppo_metadrive_new_reward_5000_2025-03-20_10-44-32_97412f1e\\models\\rl_model_20000\n",
              "0_steps.zip\n",
              "</pre>\n"
            ],
            "text/plain": [
              "Saving model checkpoint to \n",
              "runs\\ppo_metadrive_new_reward_5000\\ppo_metadrive_new_reward_5000_2025-03-20_10-44-32_97412f1e\\models\\rl_model_20000\n",
              "0_steps.zip\n"
            ]
          },
          "metadata": {},
          "output_type": "display_data"
        },
        {
          "data": {
            "text/html": [
              "<pre style=\"white-space:pre;overflow-x:auto;line-height:normal;font-family:Menlo,'DejaVu Sans Mono',consolas,'Courier New',monospace\">Eval num_timesteps=200000, episode_reward=186.47 +/- 97.76\n",
              "</pre>\n"
            ],
            "text/plain": [
              "Eval num_timesteps=200000, episode_reward=186.47 +/- 97.76\n"
            ]
          },
          "metadata": {},
          "output_type": "display_data"
        },
        {
          "data": {
            "text/html": [
              "<pre style=\"white-space:pre;overflow-x:auto;line-height:normal;font-family:Menlo,'DejaVu Sans Mono',consolas,'Courier New',monospace\">Episode length: 153.20 +/- 88.34\n",
              "</pre>\n"
            ],
            "text/plain": [
              "Episode length: 153.20 +/- 88.34\n"
            ]
          },
          "metadata": {},
          "output_type": "display_data"
        },
        {
          "data": {
            "text/html": [
              "<pre style=\"white-space:pre;overflow-x:auto;line-height:normal;font-family:Menlo,'DejaVu Sans Mono',consolas,'Courier New',monospace\">Success rate: 20.00%\n",
              "</pre>\n"
            ],
            "text/plain": [
              "Success rate: 20.00%\n"
            ]
          },
          "metadata": {},
          "output_type": "display_data"
        },
        {
          "name": "stdout",
          "output_type": "stream",
          "text": [
            "------------------------------------------\n",
            "| eval/                   |              |\n",
            "|    arrive_dest          | 0.26         |\n",
            "|    crash                | 0.29         |\n",
            "|    max_step             | 0            |\n",
            "|    mean_ep_length       | 153          |\n",
            "|    mean_reward          | 186          |\n",
            "|    num_episodes         | 5            |\n",
            "|    out_of_road          | 0.74         |\n",
            "|    raw_action           | 0.4751262    |\n",
            "|    route_completion     | 0.593        |\n",
            "|    success_rate         | 0.2          |\n",
            "|    total_cost           | 15.7         |\n",
            "| time/                   |              |\n",
            "|    total_timesteps      | 200000       |\n",
            "| train/                  |              |\n",
            "|    approx_kl            | 0.0026646722 |\n",
            "|    arrive_dest          | 0.15         |\n",
            "|    clip_fraction        | 0.292        |\n",
            "|    clip_range           | 0.1          |\n",
            "|    crash                | 0.3          |\n",
            "|    entropy_loss         | -1.83        |\n",
            "|    explained_variance   | 0.878        |\n",
            "|    learning_rate        | 5e-05        |\n",
            "|    loss                 | 57.8         |\n",
            "|    max_step             | 0            |\n",
            "|    n_updates            | 780          |\n",
            "|    out_of_road          | 0.85         |\n",
            "|    policy_gradient_loss | 0.00864      |\n",
            "|    route_completion     | 0.489        |\n",
            "|    std                  | 0.626        |\n",
            "|    total_cost           | 10.7         |\n",
            "|    value_loss           | 122          |\n",
            "------------------------------------------\n",
            "---------------------------------\n",
            "| rollout/           |          |\n",
            "|    ep_len_mean     | 324      |\n",
            "|    ep_rew_mean     | 299      |\n",
            "| time/              |          |\n",
            "|    fps             | 414      |\n",
            "|    iterations      | 40       |\n",
            "|    time_elapsed    | 494      |\n",
            "|    total_timesteps | 204800   |\n",
            "---------------------------------\n",
            "-----------------------------------------\n",
            "| rollout/                |             |\n",
            "|    ep_len_mean          | 333         |\n",
            "|    ep_rew_mean          | 305         |\n",
            "| time/                   |             |\n",
            "|    fps                  | 417         |\n",
            "|    iterations           | 41          |\n",
            "|    time_elapsed         | 502         |\n",
            "|    total_timesteps      | 209920      |\n",
            "| train/                  |             |\n",
            "|    approx_kl            | 0.001393098 |\n",
            "|    clip_fraction        | 0.0879      |\n",
            "|    clip_range           | 0.1         |\n",
            "|    entropy_loss         | -1.83       |\n",
            "|    explained_variance   | 0.681       |\n",
            "|    learning_rate        | 5e-05       |\n",
            "|    loss                 | 119         |\n",
            "|    n_updates            | 800         |\n",
            "|    policy_gradient_loss | -0.0013     |\n",
            "|    std                  | 0.626       |\n",
            "|    value_loss           | 245         |\n",
            "-----------------------------------------\n"
          ]
        },
        {
          "data": {
            "text/html": [
              "<pre style=\"white-space:pre;overflow-x:auto;line-height:normal;font-family:Menlo,'DejaVu Sans Mono',consolas,'Courier New',monospace\">Eval num_timesteps=210000, episode_reward=298.05 +/- 125.86\n",
              "</pre>\n"
            ],
            "text/plain": [
              "Eval num_timesteps=210000, episode_reward=298.05 +/- 125.86\n"
            ]
          },
          "metadata": {},
          "output_type": "display_data"
        },
        {
          "data": {
            "text/html": [
              "<pre style=\"white-space:pre;overflow-x:auto;line-height:normal;font-family:Menlo,'DejaVu Sans Mono',consolas,'Courier New',monospace\">Episode length: 213.60 +/- 75.74\n",
              "</pre>\n"
            ],
            "text/plain": [
              "Episode length: 213.60 +/- 75.74\n"
            ]
          },
          "metadata": {},
          "output_type": "display_data"
        },
        {
          "data": {
            "text/html": [
              "<pre style=\"white-space:pre;overflow-x:auto;line-height:normal;font-family:Menlo,'DejaVu Sans Mono',consolas,'Courier New',monospace\">Success rate: 40.00%\n",
              "</pre>\n"
            ],
            "text/plain": [
              "Success rate: 40.00%\n"
            ]
          },
          "metadata": {},
          "output_type": "display_data"
        },
        {
          "name": "stdout",
          "output_type": "stream",
          "text": [
            "----------------------------------------\n",
            "| eval/                   |            |\n",
            "|    arrive_dest          | 0.276      |\n",
            "|    crash                | 0.286      |\n",
            "|    max_step             | 0          |\n",
            "|    mean_ep_length       | 214        |\n",
            "|    mean_reward          | 298        |\n",
            "|    num_episodes         | 5          |\n",
            "|    out_of_road          | 0.724      |\n",
            "|    raw_action           | 0.4769191  |\n",
            "|    route_completion     | 0.604      |\n",
            "|    success_rate         | 0.4        |\n",
            "|    total_cost           | 15.8       |\n",
            "| time/                   |            |\n",
            "|    total_timesteps      | 210000     |\n",
            "| train/                  |            |\n",
            "|    approx_kl            | 0.00337044 |\n",
            "|    arrive_dest          | 0.152      |\n",
            "|    clip_fraction        | 0.211      |\n",
            "|    clip_range           | 0.1        |\n",
            "|    crash                | 0.305      |\n",
            "|    entropy_loss         | -1.83      |\n",
            "|    explained_variance   | 0.822      |\n",
            "|    learning_rate        | 5e-05      |\n",
            "|    loss                 | 45.8       |\n",
            "|    max_step             | 0          |\n",
            "|    n_updates            | 820        |\n",
            "|    out_of_road          | 0.848      |\n",
            "|    policy_gradient_loss | 0.0073     |\n",
            "|    route_completion     | 0.495      |\n",
            "|    std                  | 0.625      |\n",
            "|    total_cost           | 10.3       |\n",
            "|    value_loss           | 148        |\n",
            "----------------------------------------\n",
            "---------------------------------\n",
            "| rollout/           |          |\n",
            "|    ep_len_mean     | 320      |\n",
            "|    ep_rew_mean     | 293      |\n",
            "| time/              |          |\n",
            "|    fps             | 416      |\n",
            "|    iterations      | 42       |\n",
            "|    time_elapsed    | 516      |\n",
            "|    total_timesteps | 215040   |\n",
            "---------------------------------\n"
          ]
        },
        {
          "data": {
            "text/html": [
              "<pre style=\"white-space:pre;overflow-x:auto;line-height:normal;font-family:Menlo,'DejaVu Sans Mono',consolas,'Courier New',monospace\">Eval num_timesteps=220000, episode_reward=288.01 +/- 107.71\n",
              "</pre>\n"
            ],
            "text/plain": [
              "Eval num_timesteps=220000, episode_reward=288.01 +/- 107.71\n"
            ]
          },
          "metadata": {},
          "output_type": "display_data"
        },
        {
          "data": {
            "text/html": [
              "<pre style=\"white-space:pre;overflow-x:auto;line-height:normal;font-family:Menlo,'DejaVu Sans Mono',consolas,'Courier New',monospace\">Episode length: 273.40 +/- 118.81\n",
              "</pre>\n"
            ],
            "text/plain": [
              "Episode length: 273.40 +/- 118.81\n"
            ]
          },
          "metadata": {},
          "output_type": "display_data"
        },
        {
          "data": {
            "text/html": [
              "<pre style=\"white-space:pre;overflow-x:auto;line-height:normal;font-family:Menlo,'DejaVu Sans Mono',consolas,'Courier New',monospace\">Success rate: 30.00%\n",
              "</pre>\n"
            ],
            "text/plain": [
              "Success rate: 30.00%\n"
            ]
          },
          "metadata": {},
          "output_type": "display_data"
        },
        {
          "name": "stdout",
          "output_type": "stream",
          "text": [
            "------------------------------------------\n",
            "| eval/                   |              |\n",
            "|    arrive_dest          | 0.282        |\n",
            "|    crash                | 0.282        |\n",
            "|    max_step             | 0            |\n",
            "|    mean_ep_length       | 273          |\n",
            "|    mean_reward          | 288          |\n",
            "|    num_episodes         | 5            |\n",
            "|    out_of_road          | 0.718        |\n",
            "|    raw_action           | 0.47824928   |\n",
            "|    route_completion     | 0.615        |\n",
            "|    success_rate         | 0.3          |\n",
            "|    total_cost           | 16.7         |\n",
            "| time/                   |              |\n",
            "|    total_timesteps      | 220000       |\n",
            "| train/                  |              |\n",
            "|    approx_kl            | 0.0015342102 |\n",
            "|    arrive_dest          | 0.155        |\n",
            "|    clip_fraction        | 0.0728       |\n",
            "|    clip_range           | 0.1          |\n",
            "|    crash                | 0.309        |\n",
            "|    entropy_loss         | -1.83        |\n",
            "|    explained_variance   | 0.721        |\n",
            "|    learning_rate        | 5e-05        |\n",
            "|    loss                 | 116          |\n",
            "|    max_step             | 0            |\n",
            "|    n_updates            | 840          |\n",
            "|    out_of_road          | 0.845        |\n",
            "|    policy_gradient_loss | -0.00197     |\n",
            "|    route_completion     | 0.5          |\n",
            "|    std                  | 0.627        |\n",
            "|    total_cost           | 10.4         |\n",
            "|    value_loss           | 202          |\n",
            "------------------------------------------\n",
            "---------------------------------\n",
            "| rollout/           |          |\n",
            "|    ep_len_mean     | 328      |\n",
            "|    ep_rew_mean     | 297      |\n",
            "| time/              |          |\n",
            "|    fps             | 412      |\n",
            "|    iterations      | 43       |\n",
            "|    time_elapsed    | 533      |\n",
            "|    total_timesteps | 220160   |\n",
            "---------------------------------\n",
            "------------------------------------------\n",
            "| rollout/                |              |\n",
            "|    ep_len_mean          | 330          |\n",
            "|    ep_rew_mean          | 303          |\n",
            "| time/                   |              |\n",
            "|    fps                  | 416          |\n",
            "|    iterations           | 44           |\n",
            "|    time_elapsed         | 541          |\n",
            "|    total_timesteps      | 225280       |\n",
            "| train/                  |              |\n",
            "|    approx_kl            | 0.0016511816 |\n",
            "|    clip_fraction        | 0.113        |\n",
            "|    clip_range           | 0.1          |\n",
            "|    entropy_loss         | -1.83        |\n",
            "|    explained_variance   | 0.712        |\n",
            "|    learning_rate        | 5e-05        |\n",
            "|    loss                 | 127          |\n",
            "|    n_updates            | 860          |\n",
            "|    policy_gradient_loss | -0.000689    |\n",
            "|    std                  | 0.628        |\n",
            "|    value_loss           | 253          |\n",
            "------------------------------------------\n"
          ]
        },
        {
          "data": {
            "text/html": [
              "<pre style=\"white-space:pre;overflow-x:auto;line-height:normal;font-family:Menlo,'DejaVu Sans Mono',consolas,'Courier New',monospace\">Eval num_timesteps=230000, episode_reward=226.91 +/- 112.92\n",
              "</pre>\n"
            ],
            "text/plain": [
              "Eval num_timesteps=230000, episode_reward=226.91 +/- 112.92\n"
            ]
          },
          "metadata": {},
          "output_type": "display_data"
        },
        {
          "data": {
            "text/html": [
              "<pre style=\"white-space:pre;overflow-x:auto;line-height:normal;font-family:Menlo,'DejaVu Sans Mono',consolas,'Courier New',monospace\">Episode length: 171.40 +/- 53.54\n",
              "</pre>\n"
            ],
            "text/plain": [
              "Episode length: 171.40 +/- 53.54\n"
            ]
          },
          "metadata": {},
          "output_type": "display_data"
        },
        {
          "data": {
            "text/html": [
              "<pre style=\"white-space:pre;overflow-x:auto;line-height:normal;font-family:Menlo,'DejaVu Sans Mono',consolas,'Courier New',monospace\">Success rate: 10.00%\n",
              "</pre>\n"
            ],
            "text/plain": [
              "Success rate: 10.00%\n"
            ]
          },
          "metadata": {},
          "output_type": "display_data"
        },
        {
          "name": "stdout",
          "output_type": "stream",
          "text": [
            "------------------------------------------\n",
            "| eval/                   |              |\n",
            "|    arrive_dest          | 0.278        |\n",
            "|    crash                | 0.287        |\n",
            "|    max_step             | 0            |\n",
            "|    mean_ep_length       | 171          |\n",
            "|    mean_reward          | 227          |\n",
            "|    num_episodes         | 5            |\n",
            "|    out_of_road          | 0.722        |\n",
            "|    raw_action           | 0.4776758    |\n",
            "|    route_completion     | 0.613        |\n",
            "|    success_rate         | 0.1          |\n",
            "|    total_cost           | 16.3         |\n",
            "| time/                   |              |\n",
            "|    total_timesteps      | 230000       |\n",
            "| train/                  |              |\n",
            "|    approx_kl            | 0.0022064976 |\n",
            "|    arrive_dest          | 0.148        |\n",
            "|    clip_fraction        | 0.166        |\n",
            "|    clip_range           | 0.1          |\n",
            "|    crash                | 0.304        |\n",
            "|    entropy_loss         | -1.83        |\n",
            "|    explained_variance   | 0.73         |\n",
            "|    learning_rate        | 5e-05        |\n",
            "|    loss                 | 80.7         |\n",
            "|    max_step             | 0            |\n",
            "|    n_updates            | 880          |\n",
            "|    out_of_road          | 0.852        |\n",
            "|    policy_gradient_loss | 0.000162     |\n",
            "|    route_completion     | 0.499        |\n",
            "|    std                  | 0.63         |\n",
            "|    total_cost           | 10.1         |\n",
            "|    value_loss           | 169          |\n",
            "------------------------------------------\n",
            "---------------------------------\n",
            "| rollout/           |          |\n",
            "|    ep_len_mean     | 333      |\n",
            "|    ep_rew_mean     | 310      |\n",
            "| time/              |          |\n",
            "|    fps             | 413      |\n",
            "|    iterations      | 45       |\n",
            "|    time_elapsed    | 556      |\n",
            "|    total_timesteps | 230400   |\n",
            "---------------------------------\n",
            "------------------------------------------\n",
            "| rollout/                |              |\n",
            "|    ep_len_mean          | 330          |\n",
            "|    ep_rew_mean          | 306          |\n",
            "| time/                   |              |\n",
            "|    fps                  | 417          |\n",
            "|    iterations           | 46           |\n",
            "|    time_elapsed         | 563          |\n",
            "|    total_timesteps      | 235520       |\n",
            "| train/                  |              |\n",
            "|    approx_kl            | 0.0017958088 |\n",
            "|    clip_fraction        | 0.138        |\n",
            "|    clip_range           | 0.1          |\n",
            "|    entropy_loss         | -1.84        |\n",
            "|    explained_variance   | 0.674        |\n",
            "|    learning_rate        | 5e-05        |\n",
            "|    loss                 | 111          |\n",
            "|    n_updates            | 900          |\n",
            "|    policy_gradient_loss | 5.46e-05     |\n",
            "|    std                  | 0.629        |\n",
            "|    value_loss           | 224          |\n",
            "------------------------------------------\n"
          ]
        },
        {
          "data": {
            "text/html": [
              "<pre style=\"white-space:pre;overflow-x:auto;line-height:normal;font-family:Menlo,'DejaVu Sans Mono',consolas,'Courier New',monospace\">Eval num_timesteps=240000, episode_reward=224.22 +/- 123.62\n",
              "</pre>\n"
            ],
            "text/plain": [
              "Eval num_timesteps=240000, episode_reward=224.22 +/- 123.62\n"
            ]
          },
          "metadata": {},
          "output_type": "display_data"
        },
        {
          "data": {
            "text/html": [
              "<pre style=\"white-space:pre;overflow-x:auto;line-height:normal;font-family:Menlo,'DejaVu Sans Mono',consolas,'Courier New',monospace\">Episode length: 169.60 +/- 81.22\n",
              "</pre>\n"
            ],
            "text/plain": [
              "Episode length: 169.60 +/- 81.22\n"
            ]
          },
          "metadata": {},
          "output_type": "display_data"
        },
        {
          "data": {
            "text/html": [
              "<pre style=\"white-space:pre;overflow-x:auto;line-height:normal;font-family:Menlo,'DejaVu Sans Mono',consolas,'Courier New',monospace\">Success rate: 30.00%\n",
              "</pre>\n"
            ],
            "text/plain": [
              "Success rate: 30.00%\n"
            ]
          },
          "metadata": {},
          "output_type": "display_data"
        },
        {
          "name": "stdout",
          "output_type": "stream",
          "text": [
            "------------------------------------------\n",
            "| eval/                   |              |\n",
            "|    arrive_dest          | 0.283        |\n",
            "|    crash                | 0.283        |\n",
            "|    max_step             | 0            |\n",
            "|    mean_ep_length       | 170          |\n",
            "|    mean_reward          | 224          |\n",
            "|    num_episodes         | 5            |\n",
            "|    out_of_road          | 0.717        |\n",
            "|    raw_action           | 0.47423217   |\n",
            "|    route_completion     | 0.614        |\n",
            "|    success_rate         | 0.3          |\n",
            "|    total_cost           | 16           |\n",
            "| time/                   |              |\n",
            "|    total_timesteps      | 240000       |\n",
            "| train/                  |              |\n",
            "|    approx_kl            | 0.0016437477 |\n",
            "|    arrive_dest          | 0.15         |\n",
            "|    clip_fraction        | 0.255        |\n",
            "|    clip_range           | 0.1          |\n",
            "|    crash                | 0.3          |\n",
            "|    entropy_loss         | -1.83        |\n",
            "|    explained_variance   | 0.762        |\n",
            "|    learning_rate        | 5e-05        |\n",
            "|    loss                 | 30.9         |\n",
            "|    max_step             | 0            |\n",
            "|    n_updates            | 920          |\n",
            "|    out_of_road          | 0.85         |\n",
            "|    policy_gradient_loss | 0.00709      |\n",
            "|    route_completion     | 0.504        |\n",
            "|    std                  | 0.63         |\n",
            "|    total_cost           | 10.4         |\n",
            "|    value_loss           | 94.6         |\n",
            "------------------------------------------\n",
            "---------------------------------\n",
            "| rollout/           |          |\n",
            "|    ep_len_mean     | 344      |\n",
            "|    ep_rew_mean     | 315      |\n",
            "| time/              |          |\n",
            "|    fps             | 414      |\n",
            "|    iterations      | 47       |\n",
            "|    time_elapsed    | 581      |\n",
            "|    total_timesteps | 240640   |\n",
            "---------------------------------\n",
            "------------------------------------------\n",
            "| rollout/                |              |\n",
            "|    ep_len_mean          | 342          |\n",
            "|    ep_rew_mean          | 313          |\n",
            "| time/                   |              |\n",
            "|    fps                  | 417          |\n",
            "|    iterations           | 48           |\n",
            "|    time_elapsed         | 588          |\n",
            "|    total_timesteps      | 245760       |\n",
            "| train/                  |              |\n",
            "|    approx_kl            | 0.0010356845 |\n",
            "|    clip_fraction        | 0.125        |\n",
            "|    clip_range           | 0.1          |\n",
            "|    entropy_loss         | -1.84        |\n",
            "|    explained_variance   | 0.8          |\n",
            "|    learning_rate        | 5e-05        |\n",
            "|    loss                 | 65.4         |\n",
            "|    n_updates            | 940          |\n",
            "|    policy_gradient_loss | 0.000741     |\n",
            "|    std                  | 0.63         |\n",
            "|    value_loss           | 199          |\n",
            "------------------------------------------\n"
          ]
        },
        {
          "data": {
            "text/html": [
              "<pre style=\"white-space:pre;overflow-x:auto;line-height:normal;font-family:Menlo,'DejaVu Sans Mono',consolas,'Courier New',monospace\">Eval num_timesteps=250000, episode_reward=210.47 +/- 132.51\n",
              "</pre>\n"
            ],
            "text/plain": [
              "Eval num_timesteps=250000, episode_reward=210.47 +/- 132.51\n"
            ]
          },
          "metadata": {},
          "output_type": "display_data"
        },
        {
          "data": {
            "text/html": [
              "<pre style=\"white-space:pre;overflow-x:auto;line-height:normal;font-family:Menlo,'DejaVu Sans Mono',consolas,'Courier New',monospace\">Episode length: 169.60 +/- 90.48\n",
              "</pre>\n"
            ],
            "text/plain": [
              "Episode length: 169.60 +/- 90.48\n"
            ]
          },
          "metadata": {},
          "output_type": "display_data"
        },
        {
          "data": {
            "text/html": [
              "<pre style=\"white-space:pre;overflow-x:auto;line-height:normal;font-family:Menlo,'DejaVu Sans Mono',consolas,'Courier New',monospace\">Success rate: 10.00%\n",
              "</pre>\n"
            ],
            "text/plain": [
              "Success rate: 10.00%\n"
            ]
          },
          "metadata": {},
          "output_type": "display_data"
        },
        {
          "name": "stdout",
          "output_type": "stream",
          "text": [
            "------------------------------------------\n",
            "| eval/                   |              |\n",
            "|    arrive_dest          | 0.28         |\n",
            "|    crash                | 0.28         |\n",
            "|    max_step             | 0            |\n",
            "|    mean_ep_length       | 170          |\n",
            "|    mean_reward          | 210          |\n",
            "|    num_episodes         | 5            |\n",
            "|    out_of_road          | 0.72         |\n",
            "|    raw_action           | 0.47393602   |\n",
            "|    route_completion     | 0.616        |\n",
            "|    success_rate         | 0.1          |\n",
            "|    total_cost           | 16.1         |\n",
            "| time/                   |              |\n",
            "|    total_timesteps      | 250000       |\n",
            "| train/                  |              |\n",
            "|    approx_kl            | 0.0024006295 |\n",
            "|    arrive_dest          | 0.144        |\n",
            "|    clip_fraction        | 0.116        |\n",
            "|    clip_range           | 0.1          |\n",
            "|    crash                | 0.296        |\n",
            "|    entropy_loss         | -1.83        |\n",
            "|    explained_variance   | 0.7          |\n",
            "|    learning_rate        | 5e-05        |\n",
            "|    loss                 | 93.9         |\n",
            "|    max_step             | 0            |\n",
            "|    n_updates            | 960          |\n",
            "|    out_of_road          | 0.856        |\n",
            "|    policy_gradient_loss | -0.000234    |\n",
            "|    route_completion     | 0.495        |\n",
            "|    std                  | 0.629        |\n",
            "|    total_cost           | 10.1         |\n",
            "|    value_loss           | 209          |\n",
            "------------------------------------------\n",
            "---------------------------------\n",
            "| rollout/           |          |\n",
            "|    ep_len_mean     | 346      |\n",
            "|    ep_rew_mean     | 315      |\n",
            "| time/              |          |\n",
            "|    fps             | 417      |\n",
            "|    iterations      | 49       |\n",
            "|    time_elapsed    | 600      |\n",
            "|    total_timesteps | 250880   |\n",
            "---------------------------------\n",
            "-----------------------------------------\n",
            "| rollout/                |             |\n",
            "|    ep_len_mean          | 340         |\n",
            "|    ep_rew_mean          | 308         |\n",
            "| time/                   |             |\n",
            "|    fps                  | 420         |\n",
            "|    iterations           | 50          |\n",
            "|    time_elapsed         | 608         |\n",
            "|    total_timesteps      | 256000      |\n",
            "| train/                  |             |\n",
            "|    approx_kl            | 0.004295933 |\n",
            "|    clip_fraction        | 0.119       |\n",
            "|    clip_range           | 0.1         |\n",
            "|    entropy_loss         | -1.83       |\n",
            "|    explained_variance   | 0.777       |\n",
            "|    learning_rate        | 5e-05       |\n",
            "|    loss                 | 78.8        |\n",
            "|    n_updates            | 980         |\n",
            "|    policy_gradient_loss | -0.00119    |\n",
            "|    std                  | 0.627       |\n",
            "|    value_loss           | 178         |\n",
            "-----------------------------------------\n"
          ]
        },
        {
          "data": {
            "text/html": [
              "<pre style=\"white-space:pre;overflow-x:auto;line-height:normal;font-family:Menlo,'DejaVu Sans Mono',consolas,'Courier New',monospace\">Eval num_timesteps=260000, episode_reward=190.09 +/- 37.76\n",
              "</pre>\n"
            ],
            "text/plain": [
              "Eval num_timesteps=260000, episode_reward=190.09 +/- 37.76\n"
            ]
          },
          "metadata": {},
          "output_type": "display_data"
        },
        {
          "data": {
            "text/html": [
              "<pre style=\"white-space:pre;overflow-x:auto;line-height:normal;font-family:Menlo,'DejaVu Sans Mono',consolas,'Courier New',monospace\">Episode length: 137.40 +/- 18.30\n",
              "</pre>\n"
            ],
            "text/plain": [
              "Episode length: 137.40 +/- 18.30\n"
            ]
          },
          "metadata": {},
          "output_type": "display_data"
        },
        {
          "data": {
            "text/html": [
              "<pre style=\"white-space:pre;overflow-x:auto;line-height:normal;font-family:Menlo,'DejaVu Sans Mono',consolas,'Courier New',monospace\">Success rate: 10.00%\n",
              "</pre>\n"
            ],
            "text/plain": [
              "Success rate: 10.00%\n"
            ]
          },
          "metadata": {},
          "output_type": "display_data"
        },
        {
          "name": "stdout",
          "output_type": "stream",
          "text": [
            "----------------------------------------\n",
            "| eval/                   |            |\n",
            "|    arrive_dest          | 0.269      |\n",
            "|    crash                | 0.277      |\n",
            "|    max_step             | 0          |\n",
            "|    mean_ep_length       | 137        |\n",
            "|    mean_reward          | 190        |\n",
            "|    num_episodes         | 5          |\n",
            "|    out_of_road          | 0.731      |\n",
            "|    raw_action           | 0.4737059  |\n",
            "|    route_completion     | 0.617      |\n",
            "|    success_rate         | 0.1        |\n",
            "|    total_cost           | 15.6       |\n",
            "| time/                   |            |\n",
            "|    total_timesteps      | 260000     |\n",
            "| train/                  |            |\n",
            "|    approx_kl            | 0.00538031 |\n",
            "|    arrive_dest          | 0.146      |\n",
            "|    clip_fraction        | 0.16       |\n",
            "|    clip_range           | 0.1        |\n",
            "|    crash                | 0.3        |\n",
            "|    entropy_loss         | -1.82      |\n",
            "|    explained_variance   | 0.71       |\n",
            "|    learning_rate        | 5e-05      |\n",
            "|    loss                 | 93.2       |\n",
            "|    max_step             | 0          |\n",
            "|    n_updates            | 1000       |\n",
            "|    out_of_road          | 0.854      |\n",
            "|    policy_gradient_loss | -0.000452  |\n",
            "|    route_completion     | 0.499      |\n",
            "|    std                  | 0.624      |\n",
            "|    total_cost           | 9.95       |\n",
            "|    value_loss           | 237        |\n",
            "----------------------------------------\n",
            "---------------------------------\n",
            "| rollout/           |          |\n",
            "|    ep_len_mean     | 335      |\n",
            "|    ep_rew_mean     | 304      |\n",
            "| time/              |          |\n",
            "|    fps             | 419      |\n",
            "|    iterations      | 51       |\n",
            "|    time_elapsed    | 622      |\n",
            "|    total_timesteps | 261120   |\n",
            "---------------------------------\n",
            "------------------------------------------\n",
            "| rollout/                |              |\n",
            "|    ep_len_mean          | 331          |\n",
            "|    ep_rew_mean          | 299          |\n",
            "| time/                   |              |\n",
            "|    fps                  | 422          |\n",
            "|    iterations           | 52           |\n",
            "|    time_elapsed         | 629          |\n",
            "|    total_timesteps      | 266240       |\n",
            "| train/                  |              |\n",
            "|    approx_kl            | 0.0014965752 |\n",
            "|    clip_fraction        | 0.147        |\n",
            "|    clip_range           | 0.1          |\n",
            "|    entropy_loss         | -1.82        |\n",
            "|    explained_variance   | 0.608        |\n",
            "|    learning_rate        | 5e-05        |\n",
            "|    loss                 | 97.2         |\n",
            "|    n_updates            | 1020         |\n",
            "|    policy_gradient_loss | 0.000151     |\n",
            "|    std                  | 0.624        |\n",
            "|    value_loss           | 257          |\n",
            "------------------------------------------\n"
          ]
        },
        {
          "data": {
            "text/html": [
              "<pre style=\"white-space:pre;overflow-x:auto;line-height:normal;font-family:Menlo,'DejaVu Sans Mono',consolas,'Courier New',monospace\">Eval num_timesteps=270000, episode_reward=242.77 +/- 127.90\n",
              "</pre>\n"
            ],
            "text/plain": [
              "Eval num_timesteps=270000, episode_reward=242.77 +/- 127.90\n"
            ]
          },
          "metadata": {},
          "output_type": "display_data"
        },
        {
          "data": {
            "text/html": [
              "<pre style=\"white-space:pre;overflow-x:auto;line-height:normal;font-family:Menlo,'DejaVu Sans Mono',consolas,'Courier New',monospace\">Episode length: 230.40 +/- 134.78\n",
              "</pre>\n"
            ],
            "text/plain": [
              "Episode length: 230.40 +/- 134.78\n"
            ]
          },
          "metadata": {},
          "output_type": "display_data"
        },
        {
          "data": {
            "text/html": [
              "<pre style=\"white-space:pre;overflow-x:auto;line-height:normal;font-family:Menlo,'DejaVu Sans Mono',consolas,'Courier New',monospace\">Success rate: 50.00%\n",
              "</pre>\n"
            ],
            "text/plain": [
              "Success rate: 50.00%\n"
            ]
          },
          "metadata": {},
          "output_type": "display_data"
        },
        {
          "name": "stdout",
          "output_type": "stream",
          "text": [
            "-----------------------------------------\n",
            "| eval/                   |             |\n",
            "|    arrive_dest          | 0.274       |\n",
            "|    crash                | 0.274       |\n",
            "|    max_step             | 0           |\n",
            "|    mean_ep_length       | 230         |\n",
            "|    mean_reward          | 243         |\n",
            "|    num_episodes         | 5           |\n",
            "|    out_of_road          | 0.726       |\n",
            "|    raw_action           | 0.472062    |\n",
            "|    route_completion     | 0.622       |\n",
            "|    success_rate         | 0.5         |\n",
            "|    total_cost           | 16.2        |\n",
            "| time/                   |             |\n",
            "|    total_timesteps      | 270000      |\n",
            "| train/                  |             |\n",
            "|    approx_kl            | 0.003555112 |\n",
            "|    arrive_dest          | 0.163       |\n",
            "|    clip_fraction        | 0.133       |\n",
            "|    clip_range           | 0.1         |\n",
            "|    crash                | 0.296       |\n",
            "|    entropy_loss         | -1.82       |\n",
            "|    explained_variance   | 0.729       |\n",
            "|    learning_rate        | 5e-05       |\n",
            "|    loss                 | 88.3        |\n",
            "|    max_step             | 0           |\n",
            "|    n_updates            | 1040        |\n",
            "|    out_of_road          | 0.837       |\n",
            "|    policy_gradient_loss | -0.000192   |\n",
            "|    route_completion     | 0.508       |\n",
            "|    std                  | 0.626       |\n",
            "|    total_cost           | 10.2        |\n",
            "|    value_loss           | 159         |\n",
            "-----------------------------------------\n",
            "---------------------------------\n",
            "| rollout/           |          |\n",
            "|    ep_len_mean     | 335      |\n",
            "|    ep_rew_mean     | 301      |\n",
            "| time/              |          |\n",
            "|    fps             | 417      |\n",
            "|    iterations      | 53       |\n",
            "|    time_elapsed    | 649      |\n",
            "|    total_timesteps | 271360   |\n",
            "---------------------------------\n",
            "------------------------------------------\n",
            "| rollout/                |              |\n",
            "|    ep_len_mean          | 329          |\n",
            "|    ep_rew_mean          | 296          |\n",
            "| time/                   |              |\n",
            "|    fps                  | 420          |\n",
            "|    iterations           | 54           |\n",
            "|    time_elapsed         | 658          |\n",
            "|    total_timesteps      | 276480       |\n",
            "| train/                  |              |\n",
            "|    approx_kl            | 0.0030320233 |\n",
            "|    clip_fraction        | 0.147        |\n",
            "|    clip_range           | 0.1          |\n",
            "|    entropy_loss         | -1.82        |\n",
            "|    explained_variance   | 0.777        |\n",
            "|    learning_rate        | 5e-05        |\n",
            "|    loss                 | 74.8         |\n",
            "|    n_updates            | 1060         |\n",
            "|    policy_gradient_loss | -0.000559    |\n",
            "|    std                  | 0.626        |\n",
            "|    value_loss           | 175          |\n",
            "------------------------------------------\n"
          ]
        },
        {
          "data": {
            "text/html": [
              "<pre style=\"white-space:pre;overflow-x:auto;line-height:normal;font-family:Menlo,'DejaVu Sans Mono',consolas,'Courier New',monospace\">Eval num_timesteps=280000, episode_reward=289.11 +/- 202.50\n",
              "</pre>\n"
            ],
            "text/plain": [
              "Eval num_timesteps=280000, episode_reward=289.11 +/- 202.50\n"
            ]
          },
          "metadata": {},
          "output_type": "display_data"
        },
        {
          "data": {
            "text/html": [
              "<pre style=\"white-space:pre;overflow-x:auto;line-height:normal;font-family:Menlo,'DejaVu Sans Mono',consolas,'Courier New',monospace\">Episode length: 247.00 +/- 153.28\n",
              "</pre>\n"
            ],
            "text/plain": [
              "Episode length: 247.00 +/- 153.28\n"
            ]
          },
          "metadata": {},
          "output_type": "display_data"
        },
        {
          "data": {
            "text/html": [
              "<pre style=\"white-space:pre;overflow-x:auto;line-height:normal;font-family:Menlo,'DejaVu Sans Mono',consolas,'Courier New',monospace\">Success rate: 30.00%\n",
              "</pre>\n"
            ],
            "text/plain": [
              "Success rate: 30.00%\n"
            ]
          },
          "metadata": {},
          "output_type": "display_data"
        },
        {
          "name": "stdout",
          "output_type": "stream",
          "text": [
            "-----------------------------------------\n",
            "| eval/                   |             |\n",
            "|    arrive_dest          | 0.286       |\n",
            "|    crash                | 0.271       |\n",
            "|    max_step             | 0           |\n",
            "|    mean_ep_length       | 247         |\n",
            "|    mean_reward          | 289         |\n",
            "|    num_episodes         | 5           |\n",
            "|    out_of_road          | 0.714       |\n",
            "|    raw_action           | 0.47067106  |\n",
            "|    route_completion     | 0.624       |\n",
            "|    success_rate         | 0.3         |\n",
            "|    total_cost           | 17          |\n",
            "| time/                   |             |\n",
            "|    total_timesteps      | 280000      |\n",
            "| train/                  |             |\n",
            "|    approx_kl            | 0.002657501 |\n",
            "|    arrive_dest          | 0.157       |\n",
            "|    clip_fraction        | 0.126       |\n",
            "|    clip_range           | 0.1         |\n",
            "|    crash                | 0.293       |\n",
            "|    entropy_loss         | -1.82       |\n",
            "|    explained_variance   | 0.746       |\n",
            "|    learning_rate        | 5e-05       |\n",
            "|    loss                 | 78.4        |\n",
            "|    max_step             | 0           |\n",
            "|    n_updates            | 1080        |\n",
            "|    out_of_road          | 0.843       |\n",
            "|    policy_gradient_loss | -0.00148    |\n",
            "|    route_completion     | 0.502       |\n",
            "|    std                  | 0.627       |\n",
            "|    total_cost           | 9.84        |\n",
            "|    value_loss           | 175         |\n",
            "-----------------------------------------\n",
            "---------------------------------\n",
            "| rollout/           |          |\n",
            "|    ep_len_mean     | 334      |\n",
            "|    ep_rew_mean     | 301      |\n",
            "| time/              |          |\n",
            "|    fps             | 417      |\n",
            "|    iterations      | 55       |\n",
            "|    time_elapsed    | 675      |\n",
            "|    total_timesteps | 281600   |\n",
            "---------------------------------\n",
            "------------------------------------------\n",
            "| rollout/                |              |\n",
            "|    ep_len_mean          | 332          |\n",
            "|    ep_rew_mean          | 302          |\n",
            "| time/                   |              |\n",
            "|    fps                  | 419          |\n",
            "|    iterations           | 56           |\n",
            "|    time_elapsed         | 683          |\n",
            "|    total_timesteps      | 286720       |\n",
            "| train/                  |              |\n",
            "|    approx_kl            | 0.0020837102 |\n",
            "|    clip_fraction        | 0.0963       |\n",
            "|    clip_range           | 0.1          |\n",
            "|    entropy_loss         | -1.82        |\n",
            "|    explained_variance   | 0.679        |\n",
            "|    learning_rate        | 5e-05        |\n",
            "|    loss                 | 96.3         |\n",
            "|    n_updates            | 1100         |\n",
            "|    policy_gradient_loss | -0.00288     |\n",
            "|    std                  | 0.629        |\n",
            "|    value_loss           | 234          |\n",
            "------------------------------------------\n"
          ]
        },
        {
          "data": {
            "text/html": [
              "<pre style=\"white-space:pre;overflow-x:auto;line-height:normal;font-family:Menlo,'DejaVu Sans Mono',consolas,'Courier New',monospace\">Eval num_timesteps=290000, episode_reward=225.41 +/- 82.48\n",
              "</pre>\n"
            ],
            "text/plain": [
              "Eval num_timesteps=290000, episode_reward=225.41 +/- 82.48\n"
            ]
          },
          "metadata": {},
          "output_type": "display_data"
        },
        {
          "data": {
            "text/html": [
              "<pre style=\"white-space:pre;overflow-x:auto;line-height:normal;font-family:Menlo,'DejaVu Sans Mono',consolas,'Courier New',monospace\">Episode length: 154.40 +/- 39.72\n",
              "</pre>\n"
            ],
            "text/plain": [
              "Episode length: 154.40 +/- 39.72\n"
            ]
          },
          "metadata": {},
          "output_type": "display_data"
        },
        {
          "data": {
            "text/html": [
              "<pre style=\"white-space:pre;overflow-x:auto;line-height:normal;font-family:Menlo,'DejaVu Sans Mono',consolas,'Courier New',monospace\">Success rate: 30.00%\n",
              "</pre>\n"
            ],
            "text/plain": [
              "Success rate: 30.00%\n"
            ]
          },
          "metadata": {},
          "output_type": "display_data"
        },
        {
          "name": "stdout",
          "output_type": "stream",
          "text": [
            "------------------------------------------\n",
            "| eval/                   |              |\n",
            "|    arrive_dest          | 0.283        |\n",
            "|    crash                | 0.269        |\n",
            "|    max_step             | 0            |\n",
            "|    mean_ep_length       | 154          |\n",
            "|    mean_reward          | 225          |\n",
            "|    num_episodes         | 5            |\n",
            "|    out_of_road          | 0.717        |\n",
            "|    raw_action           | 0.47039354   |\n",
            "|    route_completion     | 0.622        |\n",
            "|    success_rate         | 0.3          |\n",
            "|    total_cost           | 16.5         |\n",
            "| time/                   |              |\n",
            "|    total_timesteps      | 290000       |\n",
            "| train/                  |              |\n",
            "|    approx_kl            | 0.0030865634 |\n",
            "|    arrive_dest          | 0.166        |\n",
            "|    clip_fraction        | 0.208        |\n",
            "|    clip_range           | 0.1          |\n",
            "|    crash                | 0.29         |\n",
            "|    entropy_loss         | -1.83        |\n",
            "|    explained_variance   | 0.835        |\n",
            "|    learning_rate        | 5e-05        |\n",
            "|    loss                 | 91.3         |\n",
            "|    max_step             | 0            |\n",
            "|    n_updates            | 1120         |\n",
            "|    out_of_road          | 0.834        |\n",
            "|    policy_gradient_loss | 0.00259      |\n",
            "|    route_completion     | 0.507        |\n",
            "|    std                  | 0.629        |\n",
            "|    total_cost           | 9.74         |\n",
            "|    value_loss           | 152          |\n",
            "------------------------------------------\n",
            "---------------------------------\n",
            "| rollout/           |          |\n",
            "|    ep_len_mean     | 336      |\n",
            "|    ep_rew_mean     | 305      |\n",
            "| time/              |          |\n",
            "|    fps             | 418      |\n",
            "|    iterations      | 57       |\n",
            "|    time_elapsed    | 697      |\n",
            "|    total_timesteps | 291840   |\n",
            "---------------------------------\n",
            "------------------------------------------\n",
            "| rollout/                |              |\n",
            "|    ep_len_mean          | 342          |\n",
            "|    ep_rew_mean          | 312          |\n",
            "| time/                   |              |\n",
            "|    fps                  | 420          |\n",
            "|    iterations           | 58           |\n",
            "|    time_elapsed         | 706          |\n",
            "|    total_timesteps      | 296960       |\n",
            "| train/                  |              |\n",
            "|    approx_kl            | 0.0031482049 |\n",
            "|    clip_fraction        | 0.175        |\n",
            "|    clip_range           | 0.1          |\n",
            "|    entropy_loss         | -1.82        |\n",
            "|    explained_variance   | 0.738        |\n",
            "|    learning_rate        | 5e-05        |\n",
            "|    loss                 | 107          |\n",
            "|    n_updates            | 1140         |\n",
            "|    policy_gradient_loss | 0.000319     |\n",
            "|    std                  | 0.628        |\n",
            "|    value_loss           | 219          |\n",
            "------------------------------------------\n"
          ]
        },
        {
          "data": {
            "text/html": [
              "<pre style=\"white-space:pre;overflow-x:auto;line-height:normal;font-family:Menlo,'DejaVu Sans Mono',consolas,'Courier New',monospace\">Saving model checkpoint to \n",
              "runs\\ppo_metadrive_new_reward_5000\\ppo_metadrive_new_reward_5000_2025-03-20_10-44-32_97412f1e\\models\\rl_model_30000\n",
              "0_steps.zip\n",
              "</pre>\n"
            ],
            "text/plain": [
              "Saving model checkpoint to \n",
              "runs\\ppo_metadrive_new_reward_5000\\ppo_metadrive_new_reward_5000_2025-03-20_10-44-32_97412f1e\\models\\rl_model_30000\n",
              "0_steps.zip\n"
            ]
          },
          "metadata": {},
          "output_type": "display_data"
        },
        {
          "data": {
            "text/html": [
              "<pre style=\"white-space:pre;overflow-x:auto;line-height:normal;font-family:Menlo,'DejaVu Sans Mono',consolas,'Courier New',monospace\">Eval num_timesteps=300000, episode_reward=212.06 +/- 113.66\n",
              "</pre>\n"
            ],
            "text/plain": [
              "Eval num_timesteps=300000, episode_reward=212.06 +/- 113.66\n"
            ]
          },
          "metadata": {},
          "output_type": "display_data"
        },
        {
          "data": {
            "text/html": [
              "<pre style=\"white-space:pre;overflow-x:auto;line-height:normal;font-family:Menlo,'DejaVu Sans Mono',consolas,'Courier New',monospace\">Episode length: 167.40 +/- 77.37\n",
              "</pre>\n"
            ],
            "text/plain": [
              "Episode length: 167.40 +/- 77.37\n"
            ]
          },
          "metadata": {},
          "output_type": "display_data"
        },
        {
          "data": {
            "text/html": [
              "<pre style=\"white-space:pre;overflow-x:auto;line-height:normal;font-family:Menlo,'DejaVu Sans Mono',consolas,'Courier New',monospace\">Success rate: 10.00%\n",
              "</pre>\n"
            ],
            "text/plain": [
              "Success rate: 10.00%\n"
            ]
          },
          "metadata": {},
          "output_type": "display_data"
        },
        {
          "name": "stdout",
          "output_type": "stream",
          "text": [
            "----------------------------------------\n",
            "| eval/                   |            |\n",
            "|    arrive_dest          | 0.28       |\n",
            "|    crash                | 0.26       |\n",
            "|    max_step             | 0          |\n",
            "|    mean_ep_length       | 167        |\n",
            "|    mean_reward          | 212        |\n",
            "|    num_episodes         | 5          |\n",
            "|    out_of_road          | 0.72       |\n",
            "|    raw_action           | 0.47068194 |\n",
            "|    route_completion     | 0.622      |\n",
            "|    success_rate         | 0.1        |\n",
            "|    total_cost           | 16.5       |\n",
            "| time/                   |            |\n",
            "|    total_timesteps      | 300000     |\n",
            "| train/                  |            |\n",
            "|    approx_kl            | 0.03281691 |\n",
            "|    arrive_dest          | 0.16       |\n",
            "|    clip_fraction        | 0.162      |\n",
            "|    clip_range           | 0.1        |\n",
            "|    crash                | 0.28       |\n",
            "|    entropy_loss         | -1.82      |\n",
            "|    explained_variance   | 0.772      |\n",
            "|    learning_rate        | 5e-05      |\n",
            "|    loss                 | 67.4       |\n",
            "|    max_step             | 0          |\n",
            "|    n_updates            | 1160       |\n",
            "|    out_of_road          | 0.84       |\n",
            "|    policy_gradient_loss | 0.000344   |\n",
            "|    route_completion     | 0.505      |\n",
            "|    std                  | 0.63       |\n",
            "|    total_cost           | 9.7        |\n",
            "|    value_loss           | 179        |\n",
            "----------------------------------------\n",
            "---------------------------------\n",
            "| rollout/           |          |\n",
            "|    ep_len_mean     | 350      |\n",
            "|    ep_rew_mean     | 314      |\n",
            "| time/              |          |\n",
            "|    fps             | 417      |\n",
            "|    iterations      | 59       |\n",
            "|    time_elapsed    | 722      |\n",
            "|    total_timesteps | 302080   |\n",
            "---------------------------------\n",
            "------------------------------------------\n",
            "| rollout/                |              |\n",
            "|    ep_len_mean          | 339          |\n",
            "|    ep_rew_mean          | 304          |\n",
            "| time/                   |              |\n",
            "|    fps                  | 419          |\n",
            "|    iterations           | 60           |\n",
            "|    time_elapsed         | 731          |\n",
            "|    total_timesteps      | 307200       |\n",
            "| train/                  |              |\n",
            "|    approx_kl            | 0.0018912054 |\n",
            "|    clip_fraction        | 0.171        |\n",
            "|    clip_range           | 0.1          |\n",
            "|    entropy_loss         | -1.82        |\n",
            "|    explained_variance   | 0.767        |\n",
            "|    learning_rate        | 5e-05        |\n",
            "|    loss                 | 81.1         |\n",
            "|    n_updates            | 1180         |\n",
            "|    policy_gradient_loss | 0.000332     |\n",
            "|    std                  | 0.628        |\n",
            "|    value_loss           | 181          |\n",
            "------------------------------------------\n"
          ]
        },
        {
          "data": {
            "text/html": [
              "<pre style=\"white-space:pre;overflow-x:auto;line-height:normal;font-family:Menlo,'DejaVu Sans Mono',consolas,'Courier New',monospace\">Eval num_timesteps=310000, episode_reward=153.27 +/- 71.02\n",
              "</pre>\n"
            ],
            "text/plain": [
              "Eval num_timesteps=310000, episode_reward=153.27 +/- 71.02\n"
            ]
          },
          "metadata": {},
          "output_type": "display_data"
        },
        {
          "data": {
            "text/html": [
              "<pre style=\"white-space:pre;overflow-x:auto;line-height:normal;font-family:Menlo,'DejaVu Sans Mono',consolas,'Courier New',monospace\">Episode length: 117.60 +/- 24.83\n",
              "</pre>\n"
            ],
            "text/plain": [
              "Episode length: 117.60 +/- 24.83\n"
            ]
          },
          "metadata": {},
          "output_type": "display_data"
        },
        {
          "data": {
            "text/html": [
              "<pre style=\"white-space:pre;overflow-x:auto;line-height:normal;font-family:Menlo,'DejaVu Sans Mono',consolas,'Courier New',monospace\">Success rate: 10.00%\n",
              "</pre>\n"
            ],
            "text/plain": [
              "Success rate: 10.00%\n"
            ]
          },
          "metadata": {},
          "output_type": "display_data"
        },
        {
          "name": "stdout",
          "output_type": "stream",
          "text": [
            "------------------------------------------\n",
            "| eval/                   |              |\n",
            "|    arrive_dest          | 0.277        |\n",
            "|    crash                | 0.277        |\n",
            "|    max_step             | 0            |\n",
            "|    mean_ep_length       | 118          |\n",
            "|    mean_reward          | 153          |\n",
            "|    num_episodes         | 5            |\n",
            "|    out_of_road          | 0.723        |\n",
            "|    raw_action           | 0.47339454   |\n",
            "|    route_completion     | 0.619        |\n",
            "|    success_rate         | 0.1          |\n",
            "|    total_cost           | 16.1         |\n",
            "| time/                   |              |\n",
            "|    total_timesteps      | 310000       |\n",
            "| train/                  |              |\n",
            "|    approx_kl            | 0.0019080732 |\n",
            "|    arrive_dest          | 0.155        |\n",
            "|    clip_fraction        | 0.108        |\n",
            "|    clip_range           | 0.1          |\n",
            "|    crash                | 0.277        |\n",
            "|    entropy_loss         | -1.82        |\n",
            "|    explained_variance   | 0.744        |\n",
            "|    learning_rate        | 5e-05        |\n",
            "|    loss                 | 83.7         |\n",
            "|    max_step             | 0            |\n",
            "|    n_updates            | 1200         |\n",
            "|    out_of_road          | 0.845        |\n",
            "|    policy_gradient_loss | -0.00127     |\n",
            "|    route_completion     | 0.507        |\n",
            "|    std                  | 0.627        |\n",
            "|    total_cost           | 10.4         |\n",
            "|    value_loss           | 218          |\n",
            "------------------------------------------\n",
            "---------------------------------\n",
            "| rollout/           |          |\n",
            "|    ep_len_mean     | 333      |\n",
            "|    ep_rew_mean     | 300      |\n",
            "| time/              |          |\n",
            "|    fps             | 418      |\n",
            "|    iterations      | 61       |\n",
            "|    time_elapsed    | 747      |\n",
            "|    total_timesteps | 312320   |\n",
            "---------------------------------\n",
            "------------------------------------------\n",
            "| rollout/                |              |\n",
            "|    ep_len_mean          | 343          |\n",
            "|    ep_rew_mean          | 310          |\n",
            "| time/                   |              |\n",
            "|    fps                  | 420          |\n",
            "|    iterations           | 62           |\n",
            "|    time_elapsed         | 755          |\n",
            "|    total_timesteps      | 317440       |\n",
            "| train/                  |              |\n",
            "|    approx_kl            | 0.0017109283 |\n",
            "|    clip_fraction        | 0.122        |\n",
            "|    clip_range           | 0.1          |\n",
            "|    entropy_loss         | -1.82        |\n",
            "|    explained_variance   | 0.681        |\n",
            "|    learning_rate        | 5e-05        |\n",
            "|    loss                 | 75.3         |\n",
            "|    n_updates            | 1220         |\n",
            "|    policy_gradient_loss | -0.000654    |\n",
            "|    std                  | 0.629        |\n",
            "|    value_loss           | 209          |\n",
            "------------------------------------------\n"
          ]
        },
        {
          "data": {
            "text/html": [
              "<pre style=\"white-space:pre;overflow-x:auto;line-height:normal;font-family:Menlo,'DejaVu Sans Mono',consolas,'Courier New',monospace\">Eval num_timesteps=320000, episode_reward=171.56 +/- 100.06\n",
              "</pre>\n"
            ],
            "text/plain": [
              "Eval num_timesteps=320000, episode_reward=171.56 +/- 100.06\n"
            ]
          },
          "metadata": {},
          "output_type": "display_data"
        },
        {
          "data": {
            "text/html": [
              "<pre style=\"white-space:pre;overflow-x:auto;line-height:normal;font-family:Menlo,'DejaVu Sans Mono',consolas,'Courier New',monospace\">Episode length: 144.80 +/- 76.41\n",
              "</pre>\n"
            ],
            "text/plain": [
              "Episode length: 144.80 +/- 76.41\n"
            ]
          },
          "metadata": {},
          "output_type": "display_data"
        },
        {
          "data": {
            "text/html": [
              "<pre style=\"white-space:pre;overflow-x:auto;line-height:normal;font-family:Menlo,'DejaVu Sans Mono',consolas,'Courier New',monospace\">Success rate: 30.00%\n",
              "</pre>\n"
            ],
            "text/plain": [
              "Success rate: 30.00%\n"
            ]
          },
          "metadata": {},
          "output_type": "display_data"
        },
        {
          "name": "stdout",
          "output_type": "stream",
          "text": [
            "------------------------------------------\n",
            "| eval/                   |              |\n",
            "|    arrive_dest          | 0.275        |\n",
            "|    crash                | 0.275        |\n",
            "|    max_step             | 0            |\n",
            "|    mean_ep_length       | 145          |\n",
            "|    mean_reward          | 172          |\n",
            "|    num_episodes         | 5            |\n",
            "|    out_of_road          | 0.725        |\n",
            "|    raw_action           | 0.47195148   |\n",
            "|    route_completion     | 0.617        |\n",
            "|    success_rate         | 0.3          |\n",
            "|    total_cost           | 15.9         |\n",
            "| time/                   |              |\n",
            "|    total_timesteps      | 320000       |\n",
            "| train/                  |              |\n",
            "|    approx_kl            | 0.0043355552 |\n",
            "|    arrive_dest          | 0.163        |\n",
            "|    clip_fraction        | 0.217        |\n",
            "|    clip_range           | 0.1          |\n",
            "|    crash                | 0.275        |\n",
            "|    entropy_loss         | -1.82        |\n",
            "|    explained_variance   | 0.846        |\n",
            "|    learning_rate        | 5e-05        |\n",
            "|    loss                 | 54.1         |\n",
            "|    max_step             | 0            |\n",
            "|    n_updates            | 1240         |\n",
            "|    out_of_road          | 0.838        |\n",
            "|    policy_gradient_loss | 0.00236      |\n",
            "|    route_completion     | 0.515        |\n",
            "|    std                  | 0.627        |\n",
            "|    total_cost           | 10.8         |\n",
            "|    value_loss           | 121          |\n",
            "------------------------------------------\n",
            "---------------------------------\n",
            "| rollout/           |          |\n",
            "|    ep_len_mean     | 344      |\n",
            "|    ep_rew_mean     | 309      |\n",
            "| time/              |          |\n",
            "|    fps             | 418      |\n",
            "|    iterations      | 63       |\n",
            "|    time_elapsed    | 770      |\n",
            "|    total_timesteps | 322560   |\n",
            "---------------------------------\n",
            "------------------------------------------\n",
            "| rollout/                |              |\n",
            "|    ep_len_mean          | 349          |\n",
            "|    ep_rew_mean          | 310          |\n",
            "| time/                   |              |\n",
            "|    fps                  | 420          |\n",
            "|    iterations           | 64           |\n",
            "|    time_elapsed         | 778          |\n",
            "|    total_timesteps      | 327680       |\n",
            "| train/                  |              |\n",
            "|    approx_kl            | 0.0043093525 |\n",
            "|    clip_fraction        | 0.128        |\n",
            "|    clip_range           | 0.1          |\n",
            "|    entropy_loss         | -1.81        |\n",
            "|    explained_variance   | 0.718        |\n",
            "|    learning_rate        | 5e-05        |\n",
            "|    loss                 | 97.2         |\n",
            "|    n_updates            | 1260         |\n",
            "|    policy_gradient_loss | -0.000663    |\n",
            "|    std                  | 0.626        |\n",
            "|    value_loss           | 182          |\n",
            "------------------------------------------\n"
          ]
        },
        {
          "data": {
            "text/html": [
              "<pre style=\"white-space:pre;overflow-x:auto;line-height:normal;font-family:Menlo,'DejaVu Sans Mono',consolas,'Courier New',monospace\">Eval num_timesteps=330000, episode_reward=208.59 +/- 132.31\n",
              "</pre>\n"
            ],
            "text/plain": [
              "Eval num_timesteps=330000, episode_reward=208.59 +/- 132.31\n"
            ]
          },
          "metadata": {},
          "output_type": "display_data"
        },
        {
          "data": {
            "text/html": [
              "<pre style=\"white-space:pre;overflow-x:auto;line-height:normal;font-family:Menlo,'DejaVu Sans Mono',consolas,'Courier New',monospace\">Episode length: 138.80 +/- 59.57\n",
              "</pre>\n"
            ],
            "text/plain": [
              "Episode length: 138.80 +/- 59.57\n"
            ]
          },
          "metadata": {},
          "output_type": "display_data"
        },
        {
          "data": {
            "text/html": [
              "<pre style=\"white-space:pre;overflow-x:auto;line-height:normal;font-family:Menlo,'DejaVu Sans Mono',consolas,'Courier New',monospace\">Success rate: 10.00%\n",
              "</pre>\n"
            ],
            "text/plain": [
              "Success rate: 10.00%\n"
            ]
          },
          "metadata": {},
          "output_type": "display_data"
        },
        {
          "name": "stdout",
          "output_type": "stream",
          "text": [
            "----------------------------------------\n",
            "| eval/                   |            |\n",
            "|    arrive_dest          | 0.273      |\n",
            "|    crash                | 0.279      |\n",
            "|    max_step             | 0          |\n",
            "|    mean_ep_length       | 139        |\n",
            "|    mean_reward          | 209        |\n",
            "|    num_episodes         | 5          |\n",
            "|    out_of_road          | 0.727      |\n",
            "|    raw_action           | 0.47176835 |\n",
            "|    route_completion     | 0.615      |\n",
            "|    success_rate         | 0.1        |\n",
            "|    total_cost           | 15.5       |\n",
            "| time/                   |            |\n",
            "|    total_timesteps      | 330000     |\n",
            "| train/                  |            |\n",
            "|    approx_kl            | 0.01937558 |\n",
            "|    arrive_dest          | 0.158      |\n",
            "|    clip_fraction        | 0.152      |\n",
            "|    clip_range           | 0.1        |\n",
            "|    crash                | 0.273      |\n",
            "|    entropy_loss         | -1.81      |\n",
            "|    explained_variance   | 0.765      |\n",
            "|    learning_rate        | 5e-05      |\n",
            "|    loss                 | 85.8       |\n",
            "|    max_step             | 0          |\n",
            "|    n_updates            | 1280       |\n",
            "|    out_of_road          | 0.842      |\n",
            "|    policy_gradient_loss | -0.001     |\n",
            "|    route_completion     | 0.513      |\n",
            "|    std                  | 0.627      |\n",
            "|    total_cost           | 10.6       |\n",
            "|    value_loss           | 166        |\n",
            "----------------------------------------\n",
            "---------------------------------\n",
            "| rollout/           |          |\n",
            "|    ep_len_mean     | 349      |\n",
            "|    ep_rew_mean     | 310      |\n",
            "| time/              |          |\n",
            "|    fps             | 419      |\n",
            "|    iterations      | 65       |\n",
            "|    time_elapsed    | 793      |\n",
            "|    total_timesteps | 332800   |\n",
            "---------------------------------\n",
            "------------------------------------------\n",
            "| rollout/                |              |\n",
            "|    ep_len_mean          | 330          |\n",
            "|    ep_rew_mean          | 298          |\n",
            "| time/                   |              |\n",
            "|    fps                  | 420          |\n",
            "|    iterations           | 66           |\n",
            "|    time_elapsed         | 802          |\n",
            "|    total_timesteps      | 337920       |\n",
            "| train/                  |              |\n",
            "|    approx_kl            | 0.0038150433 |\n",
            "|    clip_fraction        | 0.164        |\n",
            "|    clip_range           | 0.1          |\n",
            "|    entropy_loss         | -1.81        |\n",
            "|    explained_variance   | 0.69         |\n",
            "|    learning_rate        | 5e-05        |\n",
            "|    loss                 | 81           |\n",
            "|    n_updates            | 1300         |\n",
            "|    policy_gradient_loss | -6.34e-05    |\n",
            "|    std                  | 0.625        |\n",
            "|    value_loss           | 243          |\n",
            "------------------------------------------\n"
          ]
        },
        {
          "data": {
            "text/html": [
              "<pre style=\"white-space:pre;overflow-x:auto;line-height:normal;font-family:Menlo,'DejaVu Sans Mono',consolas,'Courier New',monospace\">Eval num_timesteps=340000, episode_reward=258.39 +/- 136.01\n",
              "</pre>\n"
            ],
            "text/plain": [
              "Eval num_timesteps=340000, episode_reward=258.39 +/- 136.01\n"
            ]
          },
          "metadata": {},
          "output_type": "display_data"
        },
        {
          "data": {
            "text/html": [
              "<pre style=\"white-space:pre;overflow-x:auto;line-height:normal;font-family:Menlo,'DejaVu Sans Mono',consolas,'Courier New',monospace\">Episode length: 217.80 +/- 145.83\n",
              "</pre>\n"
            ],
            "text/plain": [
              "Episode length: 217.80 +/- 145.83\n"
            ]
          },
          "metadata": {},
          "output_type": "display_data"
        },
        {
          "data": {
            "text/html": [
              "<pre style=\"white-space:pre;overflow-x:auto;line-height:normal;font-family:Menlo,'DejaVu Sans Mono',consolas,'Courier New',monospace\">Success rate: 20.00%\n",
              "</pre>\n"
            ],
            "text/plain": [
              "Success rate: 20.00%\n"
            ]
          },
          "metadata": {},
          "output_type": "display_data"
        },
        {
          "name": "stdout",
          "output_type": "stream",
          "text": [
            "-----------------------------------------\n",
            "| eval/                   |             |\n",
            "|    arrive_dest          | 0.276       |\n",
            "|    crash                | 0.271       |\n",
            "|    max_step             | 0           |\n",
            "|    mean_ep_length       | 218         |\n",
            "|    mean_reward          | 258         |\n",
            "|    num_episodes         | 5           |\n",
            "|    out_of_road          | 0.724       |\n",
            "|    raw_action           | 0.4716397   |\n",
            "|    route_completion     | 0.615       |\n",
            "|    success_rate         | 0.2         |\n",
            "|    total_cost           | 15.8        |\n",
            "| time/                   |             |\n",
            "|    total_timesteps      | 340000      |\n",
            "| train/                  |             |\n",
            "|    approx_kl            | 0.008300016 |\n",
            "|    arrive_dest          | 0.153       |\n",
            "|    clip_fraction        | 0.222       |\n",
            "|    clip_range           | 0.1         |\n",
            "|    crash                | 0.288       |\n",
            "|    entropy_loss         | -1.81       |\n",
            "|    explained_variance   | 0.707       |\n",
            "|    learning_rate        | 5e-05       |\n",
            "|    loss                 | 101         |\n",
            "|    max_step             | 0           |\n",
            "|    n_updates            | 1320        |\n",
            "|    out_of_road          | 0.847       |\n",
            "|    policy_gradient_loss | 0.00266     |\n",
            "|    route_completion     | 0.509       |\n",
            "|    std                  | 0.625       |\n",
            "|    total_cost           | 10.3        |\n",
            "|    value_loss           | 255         |\n",
            "-----------------------------------------\n",
            "---------------------------------\n",
            "| rollout/           |          |\n",
            "|    ep_len_mean     | 327      |\n",
            "|    ep_rew_mean     | 296      |\n",
            "| time/              |          |\n",
            "|    fps             | 418      |\n",
            "|    iterations      | 67       |\n",
            "|    time_elapsed    | 819      |\n",
            "|    total_timesteps | 343040   |\n",
            "---------------------------------\n",
            "-----------------------------------------\n",
            "| rollout/                |             |\n",
            "|    ep_len_mean          | 335         |\n",
            "|    ep_rew_mean          | 300         |\n",
            "| time/                   |             |\n",
            "|    fps                  | 420         |\n",
            "|    iterations           | 68          |\n",
            "|    time_elapsed         | 827         |\n",
            "|    total_timesteps      | 348160      |\n",
            "| train/                  |             |\n",
            "|    approx_kl            | 0.003251255 |\n",
            "|    clip_fraction        | 0.195       |\n",
            "|    clip_range           | 0.1         |\n",
            "|    entropy_loss         | -1.81       |\n",
            "|    explained_variance   | 0.749       |\n",
            "|    learning_rate        | 5e-05       |\n",
            "|    loss                 | 132         |\n",
            "|    n_updates            | 1340        |\n",
            "|    policy_gradient_loss | 0.00163     |\n",
            "|    std                  | 0.626       |\n",
            "|    value_loss           | 215         |\n",
            "-----------------------------------------\n"
          ]
        },
        {
          "data": {
            "text/html": [
              "<pre style=\"white-space:pre;overflow-x:auto;line-height:normal;font-family:Menlo,'DejaVu Sans Mono',consolas,'Courier New',monospace\">Eval num_timesteps=350000, episode_reward=185.02 +/- 82.08\n",
              "</pre>\n"
            ],
            "text/plain": [
              "Eval num_timesteps=350000, episode_reward=185.02 +/- 82.08\n"
            ]
          },
          "metadata": {},
          "output_type": "display_data"
        },
        {
          "data": {
            "text/html": [
              "<pre style=\"white-space:pre;overflow-x:auto;line-height:normal;font-family:Menlo,'DejaVu Sans Mono',consolas,'Courier New',monospace\">Episode length: 184.60 +/- 68.91\n",
              "</pre>\n"
            ],
            "text/plain": [
              "Episode length: 184.60 +/- 68.91\n"
            ]
          },
          "metadata": {},
          "output_type": "display_data"
        },
        {
          "data": {
            "text/html": [
              "<pre style=\"white-space:pre;overflow-x:auto;line-height:normal;font-family:Menlo,'DejaVu Sans Mono',consolas,'Courier New',monospace\">Success rate: 10.00%\n",
              "</pre>\n"
            ],
            "text/plain": [
              "Success rate: 10.00%\n"
            ]
          },
          "metadata": {},
          "output_type": "display_data"
        },
        {
          "name": "stdout",
          "output_type": "stream",
          "text": [
            "------------------------------------------\n",
            "| eval/                   |              |\n",
            "|    arrive_dest          | 0.274        |\n",
            "|    crash                | 0.263        |\n",
            "|    max_step             | 0            |\n",
            "|    mean_ep_length       | 185          |\n",
            "|    mean_reward          | 185          |\n",
            "|    num_episodes         | 5            |\n",
            "|    out_of_road          | 0.726        |\n",
            "|    raw_action           | 0.47059762   |\n",
            "|    route_completion     | 0.614        |\n",
            "|    success_rate         | 0.1          |\n",
            "|    total_cost           | 15.7         |\n",
            "| time/                   |              |\n",
            "|    total_timesteps      | 350000       |\n",
            "| train/                  |              |\n",
            "|    approx_kl            | 0.0031379648 |\n",
            "|    arrive_dest          | 0.149        |\n",
            "|    clip_fraction        | 0.247        |\n",
            "|    clip_range           | 0.1          |\n",
            "|    crash                | 0.291        |\n",
            "|    entropy_loss         | -1.81        |\n",
            "|    explained_variance   | 0.742        |\n",
            "|    learning_rate        | 5e-05        |\n",
            "|    loss                 | 96.3         |\n",
            "|    max_step             | 0            |\n",
            "|    n_updates            | 1360         |\n",
            "|    out_of_road          | 0.851        |\n",
            "|    policy_gradient_loss | 0.00531      |\n",
            "|    route_completion     | 0.506        |\n",
            "|    std                  | 0.626        |\n",
            "|    total_cost           | 10.2         |\n",
            "|    value_loss           | 219          |\n",
            "------------------------------------------\n",
            "---------------------------------\n",
            "| rollout/           |          |\n",
            "|    ep_len_mean     | 309      |\n",
            "|    ep_rew_mean     | 278      |\n",
            "| time/              |          |\n",
            "|    fps             | 418      |\n",
            "|    iterations      | 69       |\n",
            "|    time_elapsed    | 844      |\n",
            "|    total_timesteps | 353280   |\n",
            "---------------------------------\n",
            "------------------------------------------\n",
            "| rollout/                |              |\n",
            "|    ep_len_mean          | 315          |\n",
            "|    ep_rew_mean          | 282          |\n",
            "| time/                   |              |\n",
            "|    fps                  | 420          |\n",
            "|    iterations           | 70           |\n",
            "|    time_elapsed         | 851          |\n",
            "|    total_timesteps      | 358400       |\n",
            "| train/                  |              |\n",
            "|    approx_kl            | 0.0018924337 |\n",
            "|    clip_fraction        | 0.132        |\n",
            "|    clip_range           | 0.1          |\n",
            "|    entropy_loss         | -1.81        |\n",
            "|    explained_variance   | 0.634        |\n",
            "|    learning_rate        | 5e-05        |\n",
            "|    loss                 | 131          |\n",
            "|    n_updates            | 1380         |\n",
            "|    policy_gradient_loss | 0.000429     |\n",
            "|    std                  | 0.622        |\n",
            "|    value_loss           | 248          |\n",
            "------------------------------------------\n"
          ]
        },
        {
          "data": {
            "text/html": [
              "<pre style=\"white-space:pre;overflow-x:auto;line-height:normal;font-family:Menlo,'DejaVu Sans Mono',consolas,'Courier New',monospace\">Eval num_timesteps=360000, episode_reward=235.45 +/- 127.03\n",
              "</pre>\n"
            ],
            "text/plain": [
              "Eval num_timesteps=360000, episode_reward=235.45 +/- 127.03\n"
            ]
          },
          "metadata": {},
          "output_type": "display_data"
        },
        {
          "data": {
            "text/html": [
              "<pre style=\"white-space:pre;overflow-x:auto;line-height:normal;font-family:Menlo,'DejaVu Sans Mono',consolas,'Courier New',monospace\">Episode length: 159.40 +/- 68.33\n",
              "</pre>\n"
            ],
            "text/plain": [
              "Episode length: 159.40 +/- 68.33\n"
            ]
          },
          "metadata": {},
          "output_type": "display_data"
        },
        {
          "data": {
            "text/html": [
              "<pre style=\"white-space:pre;overflow-x:auto;line-height:normal;font-family:Menlo,'DejaVu Sans Mono',consolas,'Courier New',monospace\">Success rate: 20.00%\n",
              "</pre>\n"
            ],
            "text/plain": [
              "Success rate: 20.00%\n"
            ]
          },
          "metadata": {},
          "output_type": "display_data"
        },
        {
          "name": "stdout",
          "output_type": "stream",
          "text": [
            "------------------------------------------\n",
            "| eval/                   |              |\n",
            "|    arrive_dest          | 0.272        |\n",
            "|    crash                | 0.267        |\n",
            "|    max_step             | 0            |\n",
            "|    mean_ep_length       | 159          |\n",
            "|    mean_reward          | 235          |\n",
            "|    num_episodes         | 5            |\n",
            "|    out_of_road          | 0.728        |\n",
            "|    raw_action           | 0.4706432    |\n",
            "|    route_completion     | 0.613        |\n",
            "|    success_rate         | 0.2          |\n",
            "|    total_cost           | 15.3         |\n",
            "| time/                   |              |\n",
            "|    total_timesteps      | 360000       |\n",
            "| train/                  |              |\n",
            "|    approx_kl            | 0.0018677076 |\n",
            "|    arrive_dest          | 0.15         |\n",
            "|    clip_fraction        | 0.124        |\n",
            "|    clip_range           | 0.1          |\n",
            "|    crash                | 0.289        |\n",
            "|    entropy_loss         | -1.8         |\n",
            "|    explained_variance   | 0.82         |\n",
            "|    learning_rate        | 5e-05        |\n",
            "|    loss                 | 60.4         |\n",
            "|    max_step             | 0            |\n",
            "|    n_updates            | 1400         |\n",
            "|    out_of_road          | 0.85         |\n",
            "|    policy_gradient_loss | -0.000522    |\n",
            "|    route_completion     | 0.507        |\n",
            "|    std                  | 0.623        |\n",
            "|    total_cost           | 10.6         |\n",
            "|    value_loss           | 141          |\n",
            "------------------------------------------\n",
            "---------------------------------\n",
            "| rollout/           |          |\n",
            "|    ep_len_mean     | 295      |\n",
            "|    ep_rew_mean     | 276      |\n",
            "| time/              |          |\n",
            "|    fps             | 417      |\n",
            "|    iterations      | 71       |\n",
            "|    time_elapsed    | 869      |\n",
            "|    total_timesteps | 363520   |\n",
            "---------------------------------\n",
            "------------------------------------------\n",
            "| rollout/                |              |\n",
            "|    ep_len_mean          | 310          |\n",
            "|    ep_rew_mean          | 284          |\n",
            "| time/                   |              |\n",
            "|    fps                  | 419          |\n",
            "|    iterations           | 72           |\n",
            "|    time_elapsed         | 878          |\n",
            "|    total_timesteps      | 368640       |\n",
            "| train/                  |              |\n",
            "|    approx_kl            | 0.0015752766 |\n",
            "|    clip_fraction        | 0.129        |\n",
            "|    clip_range           | 0.1          |\n",
            "|    entropy_loss         | -1.8         |\n",
            "|    explained_variance   | 0.605        |\n",
            "|    learning_rate        | 5e-05        |\n",
            "|    loss                 | 127          |\n",
            "|    n_updates            | 1420         |\n",
            "|    policy_gradient_loss | 0.000374     |\n",
            "|    std                  | 0.621        |\n",
            "|    value_loss           | 260          |\n",
            "------------------------------------------\n"
          ]
        },
        {
          "data": {
            "text/html": [
              "<pre style=\"white-space:pre;overflow-x:auto;line-height:normal;font-family:Menlo,'DejaVu Sans Mono',consolas,'Courier New',monospace\">Eval num_timesteps=370000, episode_reward=192.25 +/- 111.51\n",
              "</pre>\n"
            ],
            "text/plain": [
              "Eval num_timesteps=370000, episode_reward=192.25 +/- 111.51\n"
            ]
          },
          "metadata": {},
          "output_type": "display_data"
        },
        {
          "data": {
            "text/html": [
              "<pre style=\"white-space:pre;overflow-x:auto;line-height:normal;font-family:Menlo,'DejaVu Sans Mono',consolas,'Courier New',monospace\">Episode length: 171.00 +/- 84.71\n",
              "</pre>\n"
            ],
            "text/plain": [
              "Episode length: 171.00 +/- 84.71\n"
            ]
          },
          "metadata": {},
          "output_type": "display_data"
        },
        {
          "data": {
            "text/html": [
              "<pre style=\"white-space:pre;overflow-x:auto;line-height:normal;font-family:Menlo,'DejaVu Sans Mono',consolas,'Courier New',monospace\">Success rate: 10.00%\n",
              "</pre>\n"
            ],
            "text/plain": [
              "Success rate: 10.00%\n"
            ]
          },
          "metadata": {},
          "output_type": "display_data"
        },
        {
          "name": "stdout",
          "output_type": "stream",
          "text": [
            "------------------------------------------\n",
            "| eval/                   |              |\n",
            "|    arrive_dest          | 0.27         |\n",
            "|    crash                | 0.265        |\n",
            "|    max_step             | 0            |\n",
            "|    mean_ep_length       | 171          |\n",
            "|    mean_reward          | 192          |\n",
            "|    num_episodes         | 5            |\n",
            "|    out_of_road          | 0.73         |\n",
            "|    raw_action           | 0.4712652    |\n",
            "|    route_completion     | 0.611        |\n",
            "|    success_rate         | 0.1          |\n",
            "|    total_cost           | 15.2         |\n",
            "| time/                   |              |\n",
            "|    total_timesteps      | 370000       |\n",
            "| train/                  |              |\n",
            "|    approx_kl            | 0.0018459832 |\n",
            "|    arrive_dest          | 0.146        |\n",
            "|    clip_fraction        | 0.124        |\n",
            "|    clip_range           | 0.1          |\n",
            "|    crash                | 0.297        |\n",
            "|    entropy_loss         | -1.8         |\n",
            "|    explained_variance   | 0.745        |\n",
            "|    learning_rate        | 5e-05        |\n",
            "|    loss                 | 131          |\n",
            "|    max_step             | 0            |\n",
            "|    n_updates            | 1440         |\n",
            "|    out_of_road          | 0.854        |\n",
            "|    policy_gradient_loss | -0.000446    |\n",
            "|    route_completion     | 0.501        |\n",
            "|    std                  | 0.62         |\n",
            "|    total_cost           | 10.5         |\n",
            "|    value_loss           | 203          |\n",
            "------------------------------------------\n",
            "---------------------------------\n",
            "| rollout/           |          |\n",
            "|    ep_len_mean     | 301      |\n",
            "|    ep_rew_mean     | 278      |\n",
            "| time/              |          |\n",
            "|    fps             | 417      |\n",
            "|    iterations      | 73       |\n",
            "|    time_elapsed    | 895      |\n",
            "|    total_timesteps | 373760   |\n",
            "---------------------------------\n",
            "------------------------------------------\n",
            "| rollout/                |              |\n",
            "|    ep_len_mean          | 313          |\n",
            "|    ep_rew_mean          | 283          |\n",
            "| time/                   |              |\n",
            "|    fps                  | 419          |\n",
            "|    iterations           | 74           |\n",
            "|    time_elapsed         | 903          |\n",
            "|    total_timesteps      | 378880       |\n",
            "| train/                  |              |\n",
            "|    approx_kl            | 0.0018250229 |\n",
            "|    clip_fraction        | 0.114        |\n",
            "|    clip_range           | 0.1          |\n",
            "|    entropy_loss         | -1.8         |\n",
            "|    explained_variance   | 0.656        |\n",
            "|    learning_rate        | 5e-05        |\n",
            "|    loss                 | 144          |\n",
            "|    n_updates            | 1460         |\n",
            "|    policy_gradient_loss | 0.000321     |\n",
            "|    std                  | 0.621        |\n",
            "|    value_loss           | 280          |\n",
            "------------------------------------------\n"
          ]
        },
        {
          "data": {
            "text/html": [
              "<pre style=\"white-space:pre;overflow-x:auto;line-height:normal;font-family:Menlo,'DejaVu Sans Mono',consolas,'Courier New',monospace\">Eval num_timesteps=380000, episode_reward=235.17 +/- 70.03\n",
              "</pre>\n"
            ],
            "text/plain": [
              "Eval num_timesteps=380000, episode_reward=235.17 +/- 70.03\n"
            ]
          },
          "metadata": {},
          "output_type": "display_data"
        },
        {
          "data": {
            "text/html": [
              "<pre style=\"white-space:pre;overflow-x:auto;line-height:normal;font-family:Menlo,'DejaVu Sans Mono',consolas,'Courier New',monospace\">Episode length: 165.40 +/- 55.13\n",
              "</pre>\n"
            ],
            "text/plain": [
              "Episode length: 165.40 +/- 55.13\n"
            ]
          },
          "metadata": {},
          "output_type": "display_data"
        },
        {
          "data": {
            "text/html": [
              "<pre style=\"white-space:pre;overflow-x:auto;line-height:normal;font-family:Menlo,'DejaVu Sans Mono',consolas,'Courier New',monospace\">Success rate: 40.00%\n",
              "</pre>\n"
            ],
            "text/plain": [
              "Success rate: 40.00%\n"
            ]
          },
          "metadata": {},
          "output_type": "display_data"
        },
        {
          "name": "stdout",
          "output_type": "stream",
          "text": [
            "-----------------------------------------\n",
            "| eval/                   |             |\n",
            "|    arrive_dest          | 0.274       |\n",
            "|    crash                | 0.258       |\n",
            "|    max_step             | 0           |\n",
            "|    mean_ep_length       | 165         |\n",
            "|    mean_reward          | 235         |\n",
            "|    num_episodes         | 5           |\n",
            "|    out_of_road          | 0.726       |\n",
            "|    raw_action           | 0.47149524  |\n",
            "|    route_completion     | 0.613       |\n",
            "|    success_rate         | 0.4         |\n",
            "|    total_cost           | 15          |\n",
            "| time/                   |             |\n",
            "|    total_timesteps      | 380000      |\n",
            "| train/                  |             |\n",
            "|    approx_kl            | 0.005401003 |\n",
            "|    arrive_dest          | 0.153       |\n",
            "|    clip_fraction        | 0.119       |\n",
            "|    clip_range           | 0.1         |\n",
            "|    crash                | 0.3         |\n",
            "|    entropy_loss         | -1.79       |\n",
            "|    explained_variance   | 0.714       |\n",
            "|    learning_rate        | 5e-05       |\n",
            "|    loss                 | 85.6        |\n",
            "|    max_step             | 0           |\n",
            "|    n_updates            | 1480        |\n",
            "|    out_of_road          | 0.847       |\n",
            "|    policy_gradient_loss | -0.000812   |\n",
            "|    route_completion     | 0.507       |\n",
            "|    std                  | 0.619       |\n",
            "|    total_cost           | 10.4        |\n",
            "|    value_loss           | 192         |\n",
            "-----------------------------------------\n",
            "---------------------------------\n",
            "| rollout/           |          |\n",
            "|    ep_len_mean     | 311      |\n",
            "|    ep_rew_mean     | 288      |\n",
            "| time/              |          |\n",
            "|    fps             | 418      |\n",
            "|    iterations      | 75       |\n",
            "|    time_elapsed    | 917      |\n",
            "|    total_timesteps | 384000   |\n",
            "---------------------------------\n",
            "------------------------------------------\n",
            "| rollout/                |              |\n",
            "|    ep_len_mean          | 331          |\n",
            "|    ep_rew_mean          | 302          |\n",
            "| time/                   |              |\n",
            "|    fps                  | 420          |\n",
            "|    iterations           | 76           |\n",
            "|    time_elapsed         | 924          |\n",
            "|    total_timesteps      | 389120       |\n",
            "| train/                  |              |\n",
            "|    approx_kl            | 0.0030156435 |\n",
            "|    clip_fraction        | 0.22         |\n",
            "|    clip_range           | 0.1          |\n",
            "|    entropy_loss         | -1.79        |\n",
            "|    explained_variance   | 0.694        |\n",
            "|    learning_rate        | 5e-05        |\n",
            "|    loss                 | 82.8         |\n",
            "|    n_updates            | 1500         |\n",
            "|    policy_gradient_loss | 0.00408      |\n",
            "|    std                  | 0.62         |\n",
            "|    value_loss           | 200          |\n",
            "------------------------------------------\n"
          ]
        },
        {
          "data": {
            "text/html": [
              "<pre style=\"white-space:pre;overflow-x:auto;line-height:normal;font-family:Menlo,'DejaVu Sans Mono',consolas,'Courier New',monospace\">Eval num_timesteps=390000, episode_reward=266.50 +/- 56.37\n",
              "</pre>\n"
            ],
            "text/plain": [
              "Eval num_timesteps=390000, episode_reward=266.50 +/- 56.37\n"
            ]
          },
          "metadata": {},
          "output_type": "display_data"
        },
        {
          "data": {
            "text/html": [
              "<pre style=\"white-space:pre;overflow-x:auto;line-height:normal;font-family:Menlo,'DejaVu Sans Mono',consolas,'Courier New',monospace\">Episode length: 219.20 +/- 77.70\n",
              "</pre>\n"
            ],
            "text/plain": [
              "Episode length: 219.20 +/- 77.70\n"
            ]
          },
          "metadata": {},
          "output_type": "display_data"
        },
        {
          "data": {
            "text/html": [
              "<pre style=\"white-space:pre;overflow-x:auto;line-height:normal;font-family:Menlo,'DejaVu Sans Mono',consolas,'Courier New',monospace\">Success rate: 30.00%\n",
              "</pre>\n"
            ],
            "text/plain": [
              "Success rate: 30.00%\n"
            ]
          },
          "metadata": {},
          "output_type": "display_data"
        },
        {
          "name": "stdout",
          "output_type": "stream",
          "text": [
            "------------------------------------------\n",
            "| eval/                   |              |\n",
            "|    arrive_dest          | 0.277        |\n",
            "|    crash                | 0.251        |\n",
            "|    max_step             | 0            |\n",
            "|    mean_ep_length       | 219          |\n",
            "|    mean_reward          | 267          |\n",
            "|    num_episodes         | 5            |\n",
            "|    out_of_road          | 0.723        |\n",
            "|    raw_action           | 0.46902418   |\n",
            "|    route_completion     | 0.618        |\n",
            "|    success_rate         | 0.3          |\n",
            "|    total_cost           | 15.1         |\n",
            "| time/                   |              |\n",
            "|    total_timesteps      | 390000       |\n",
            "| train/                  |              |\n",
            "|    approx_kl            | 0.0051685125 |\n",
            "|    arrive_dest          | 0.154        |\n",
            "|    clip_fraction        | 0.169        |\n",
            "|    clip_range           | 0.1          |\n",
            "|    crash                | 0.297        |\n",
            "|    entropy_loss         | -1.79        |\n",
            "|    explained_variance   | 0.761        |\n",
            "|    learning_rate        | 5e-05        |\n",
            "|    loss                 | 84.1         |\n",
            "|    max_step             | 0            |\n",
            "|    n_updates            | 1520         |\n",
            "|    out_of_road          | 0.846        |\n",
            "|    policy_gradient_loss | 0.00137      |\n",
            "|    route_completion     | 0.511        |\n",
            "|    std                  | 0.621        |\n",
            "|    total_cost           | 10.4         |\n",
            "|    value_loss           | 178          |\n",
            "------------------------------------------\n",
            "---------------------------------\n",
            "| rollout/           |          |\n",
            "|    ep_len_mean     | 316      |\n",
            "|    ep_rew_mean     | 292      |\n",
            "| time/              |          |\n",
            "|    fps             | 417      |\n",
            "|    iterations      | 77       |\n",
            "|    time_elapsed    | 943      |\n",
            "|    total_timesteps | 394240   |\n",
            "---------------------------------\n",
            "------------------------------------------\n",
            "| rollout/                |              |\n",
            "|    ep_len_mean          | 328          |\n",
            "|    ep_rew_mean          | 295          |\n",
            "| time/                   |              |\n",
            "|    fps                  | 419          |\n",
            "|    iterations           | 78           |\n",
            "|    time_elapsed         | 951          |\n",
            "|    total_timesteps      | 399360       |\n",
            "| train/                  |              |\n",
            "|    approx_kl            | 0.0021512725 |\n",
            "|    clip_fraction        | 0.15         |\n",
            "|    clip_range           | 0.1          |\n",
            "|    entropy_loss         | -1.79        |\n",
            "|    explained_variance   | 0.671        |\n",
            "|    learning_rate        | 5e-05        |\n",
            "|    loss                 | 77.7         |\n",
            "|    n_updates            | 1540         |\n",
            "|    policy_gradient_loss | -0.000459    |\n",
            "|    std                  | 0.62         |\n",
            "|    value_loss           | 223          |\n",
            "------------------------------------------\n"
          ]
        },
        {
          "data": {
            "text/html": [
              "<pre style=\"white-space:pre;overflow-x:auto;line-height:normal;font-family:Menlo,'DejaVu Sans Mono',consolas,'Courier New',monospace\">Saving model checkpoint to \n",
              "runs\\ppo_metadrive_new_reward_5000\\ppo_metadrive_new_reward_5000_2025-03-20_10-44-32_97412f1e\\models\\rl_model_40000\n",
              "0_steps.zip\n",
              "</pre>\n"
            ],
            "text/plain": [
              "Saving model checkpoint to \n",
              "runs\\ppo_metadrive_new_reward_5000\\ppo_metadrive_new_reward_5000_2025-03-20_10-44-32_97412f1e\\models\\rl_model_40000\n",
              "0_steps.zip\n"
            ]
          },
          "metadata": {},
          "output_type": "display_data"
        },
        {
          "data": {
            "text/html": [
              "<pre style=\"white-space:pre;overflow-x:auto;line-height:normal;font-family:Menlo,'DejaVu Sans Mono',consolas,'Courier New',monospace\">Eval num_timesteps=400000, episode_reward=286.24 +/- 89.04\n",
              "</pre>\n"
            ],
            "text/plain": [
              "Eval num_timesteps=400000, episode_reward=286.24 +/- 89.04\n"
            ]
          },
          "metadata": {},
          "output_type": "display_data"
        },
        {
          "data": {
            "text/html": [
              "<pre style=\"white-space:pre;overflow-x:auto;line-height:normal;font-family:Menlo,'DejaVu Sans Mono',consolas,'Courier New',monospace\">Episode length: 208.80 +/- 76.84\n",
              "</pre>\n"
            ],
            "text/plain": [
              "Episode length: 208.80 +/- 76.84\n"
            ]
          },
          "metadata": {},
          "output_type": "display_data"
        },
        {
          "data": {
            "text/html": [
              "<pre style=\"white-space:pre;overflow-x:auto;line-height:normal;font-family:Menlo,'DejaVu Sans Mono',consolas,'Courier New',monospace\">Success rate: 30.00%\n",
              "</pre>\n"
            ],
            "text/plain": [
              "Success rate: 30.00%\n"
            ]
          },
          "metadata": {},
          "output_type": "display_data"
        },
        {
          "name": "stdout",
          "output_type": "stream",
          "text": [
            "------------------------------------------\n",
            "| eval/                   |              |\n",
            "|    arrive_dest          | 0.285        |\n",
            "|    crash                | 0.25         |\n",
            "|    max_step             | 0            |\n",
            "|    mean_ep_length       | 209          |\n",
            "|    mean_reward          | 286          |\n",
            "|    num_episodes         | 5            |\n",
            "|    out_of_road          | 0.715        |\n",
            "|    raw_action           | 0.46950218   |\n",
            "|    route_completion     | 0.622        |\n",
            "|    success_rate         | 0.3          |\n",
            "|    total_cost           | 15           |\n",
            "| time/                   |              |\n",
            "|    total_timesteps      | 400000       |\n",
            "| train/                  |              |\n",
            "|    approx_kl            | 0.0017913686 |\n",
            "|    arrive_dest          | 0.15         |\n",
            "|    clip_fraction        | 0.147        |\n",
            "|    clip_range           | 0.1          |\n",
            "|    crash                | 0.295        |\n",
            "|    entropy_loss         | -1.79        |\n",
            "|    explained_variance   | 0.781        |\n",
            "|    learning_rate        | 5e-05        |\n",
            "|    loss                 | 75.2         |\n",
            "|    max_step             | 0            |\n",
            "|    n_updates            | 1560         |\n",
            "|    out_of_road          | 0.85         |\n",
            "|    policy_gradient_loss | -0.001       |\n",
            "|    route_completion     | 0.51         |\n",
            "|    std                  | 0.62         |\n",
            "|    total_cost           | 10.3         |\n",
            "|    value_loss           | 137          |\n",
            "------------------------------------------\n",
            "---------------------------------\n",
            "| rollout/           |          |\n",
            "|    ep_len_mean     | 321      |\n",
            "|    ep_rew_mean     | 293      |\n",
            "| time/              |          |\n",
            "|    fps             | 418      |\n",
            "|    iterations      | 79       |\n",
            "|    time_elapsed    | 966      |\n",
            "|    total_timesteps | 404480   |\n",
            "---------------------------------\n",
            "-----------------------------------------\n",
            "| rollout/                |             |\n",
            "|    ep_len_mean          | 332         |\n",
            "|    ep_rew_mean          | 300         |\n",
            "| time/                   |             |\n",
            "|    fps                  | 420         |\n",
            "|    iterations           | 80          |\n",
            "|    time_elapsed         | 974         |\n",
            "|    total_timesteps      | 409600      |\n",
            "| train/                  |             |\n",
            "|    approx_kl            | 0.002282289 |\n",
            "|    clip_fraction        | 0.136       |\n",
            "|    clip_range           | 0.1         |\n",
            "|    entropy_loss         | -1.79       |\n",
            "|    explained_variance   | 0.754       |\n",
            "|    learning_rate        | 5e-05       |\n",
            "|    loss                 | 74.5        |\n",
            "|    n_updates            | 1580        |\n",
            "|    policy_gradient_loss | -0.000598   |\n",
            "|    std                  | 0.622       |\n",
            "|    value_loss           | 179         |\n",
            "-----------------------------------------\n"
          ]
        },
        {
          "data": {
            "text/html": [
              "<pre style=\"white-space:pre;overflow-x:auto;line-height:normal;font-family:Menlo,'DejaVu Sans Mono',consolas,'Courier New',monospace\">Eval num_timesteps=410000, episode_reward=252.34 +/- 127.12\n",
              "</pre>\n"
            ],
            "text/plain": [
              "Eval num_timesteps=410000, episode_reward=252.34 +/- 127.12\n"
            ]
          },
          "metadata": {},
          "output_type": "display_data"
        },
        {
          "data": {
            "text/html": [
              "<pre style=\"white-space:pre;overflow-x:auto;line-height:normal;font-family:Menlo,'DejaVu Sans Mono',consolas,'Courier New',monospace\">Episode length: 204.40 +/- 110.34\n",
              "</pre>\n"
            ],
            "text/plain": [
              "Episode length: 204.40 +/- 110.34\n"
            ]
          },
          "metadata": {},
          "output_type": "display_data"
        },
        {
          "data": {
            "text/html": [
              "<pre style=\"white-space:pre;overflow-x:auto;line-height:normal;font-family:Menlo,'DejaVu Sans Mono',consolas,'Courier New',monospace\">Success rate: 40.00%\n",
              "</pre>\n"
            ],
            "text/plain": [
              "Success rate: 40.00%\n"
            ]
          },
          "metadata": {},
          "output_type": "display_data"
        },
        {
          "name": "stdout",
          "output_type": "stream",
          "text": [
            "-----------------------------------------\n",
            "| eval/                   |             |\n",
            "|    arrive_dest          | 0.288       |\n",
            "|    crash                | 0.244       |\n",
            "|    max_step             | 0           |\n",
            "|    mean_ep_length       | 204         |\n",
            "|    mean_reward          | 252         |\n",
            "|    num_episodes         | 5           |\n",
            "|    out_of_road          | 0.712       |\n",
            "|    raw_action           | 0.47030258  |\n",
            "|    route_completion     | 0.623       |\n",
            "|    success_rate         | 0.4         |\n",
            "|    total_cost           | 15          |\n",
            "| time/                   |             |\n",
            "|    total_timesteps      | 410000      |\n",
            "| train/                  |             |\n",
            "|    approx_kl            | 0.010846978 |\n",
            "|    arrive_dest          | 0.156       |\n",
            "|    clip_fraction        | 0.139       |\n",
            "|    clip_range           | 0.1         |\n",
            "|    crash                | 0.293       |\n",
            "|    entropy_loss         | -1.79       |\n",
            "|    explained_variance   | 0.761       |\n",
            "|    learning_rate        | 5e-05       |\n",
            "|    loss                 | 62.4        |\n",
            "|    max_step             | 0           |\n",
            "|    n_updates            | 1600        |\n",
            "|    out_of_road          | 0.844       |\n",
            "|    policy_gradient_loss | 0.000315    |\n",
            "|    route_completion     | 0.516       |\n",
            "|    std                  | 0.621       |\n",
            "|    total_cost           | 10.3        |\n",
            "|    value_loss           | 144         |\n",
            "-----------------------------------------\n",
            "---------------------------------\n",
            "| rollout/           |          |\n",
            "|    ep_len_mean     | 344      |\n",
            "|    ep_rew_mean     | 317      |\n",
            "| time/              |          |\n",
            "|    fps             | 418      |\n",
            "|    iterations      | 81       |\n",
            "|    time_elapsed    | 990      |\n",
            "|    total_timesteps | 414720   |\n",
            "---------------------------------\n",
            "------------------------------------------\n",
            "| rollout/                |              |\n",
            "|    ep_len_mean          | 345          |\n",
            "|    ep_rew_mean          | 317          |\n",
            "| time/                   |              |\n",
            "|    fps                  | 420          |\n",
            "|    iterations           | 82           |\n",
            "|    time_elapsed         | 998          |\n",
            "|    total_timesteps      | 419840       |\n",
            "| train/                  |              |\n",
            "|    approx_kl            | 0.0073305056 |\n",
            "|    clip_fraction        | 0.221        |\n",
            "|    clip_range           | 0.1          |\n",
            "|    entropy_loss         | -1.79        |\n",
            "|    explained_variance   | 0.764        |\n",
            "|    learning_rate        | 5e-05        |\n",
            "|    loss                 | 67           |\n",
            "|    n_updates            | 1620         |\n",
            "|    policy_gradient_loss | 0.00544      |\n",
            "|    std                  | 0.622        |\n",
            "|    value_loss           | 169          |\n",
            "------------------------------------------\n"
          ]
        },
        {
          "data": {
            "text/html": [
              "<pre style=\"white-space:pre;overflow-x:auto;line-height:normal;font-family:Menlo,'DejaVu Sans Mono',consolas,'Courier New',monospace\">Eval num_timesteps=420000, episode_reward=164.42 +/- 105.84\n",
              "</pre>\n"
            ],
            "text/plain": [
              "Eval num_timesteps=420000, episode_reward=164.42 +/- 105.84\n"
            ]
          },
          "metadata": {},
          "output_type": "display_data"
        },
        {
          "data": {
            "text/html": [
              "<pre style=\"white-space:pre;overflow-x:auto;line-height:normal;font-family:Menlo,'DejaVu Sans Mono',consolas,'Courier New',monospace\">Episode length: 119.60 +/- 53.70\n",
              "</pre>\n"
            ],
            "text/plain": [
              "Episode length: 119.60 +/- 53.70\n"
            ]
          },
          "metadata": {},
          "output_type": "display_data"
        },
        {
          "data": {
            "text/html": [
              "<pre style=\"white-space:pre;overflow-x:auto;line-height:normal;font-family:Menlo,'DejaVu Sans Mono',consolas,'Courier New',monospace\">Success rate: 10.00%\n",
              "</pre>\n"
            ],
            "text/plain": [
              "Success rate: 10.00%\n"
            ]
          },
          "metadata": {},
          "output_type": "display_data"
        },
        {
          "name": "stdout",
          "output_type": "stream",
          "text": [
            "------------------------------------------\n",
            "| eval/                   |              |\n",
            "|    arrive_dest          | 0.281        |\n",
            "|    crash                | 0.238        |\n",
            "|    max_step             | 0            |\n",
            "|    mean_ep_length       | 120          |\n",
            "|    mean_reward          | 164          |\n",
            "|    num_episodes         | 5            |\n",
            "|    out_of_road          | 0.719        |\n",
            "|    raw_action           | 0.46998504   |\n",
            "|    route_completion     | 0.619        |\n",
            "|    success_rate         | 0.1          |\n",
            "|    total_cost           | 14.7         |\n",
            "| time/                   |              |\n",
            "|    total_timesteps      | 420000       |\n",
            "| train/                  |              |\n",
            "|    approx_kl            | 0.0023419536 |\n",
            "|    arrive_dest          | 0.157        |\n",
            "|    clip_fraction        | 0.151        |\n",
            "|    clip_range           | 0.1          |\n",
            "|    crash                | 0.29         |\n",
            "|    entropy_loss         | -1.8         |\n",
            "|    explained_variance   | 0.724        |\n",
            "|    learning_rate        | 5e-05        |\n",
            "|    loss                 | 112          |\n",
            "|    max_step             | 0            |\n",
            "|    n_updates            | 1640         |\n",
            "|    out_of_road          | 0.843        |\n",
            "|    policy_gradient_loss | 0.000991     |\n",
            "|    route_completion     | 0.517        |\n",
            "|    std                  | 0.623        |\n",
            "|    total_cost           | 10.4         |\n",
            "|    value_loss           | 202          |\n",
            "------------------------------------------\n",
            "---------------------------------\n",
            "| rollout/           |          |\n",
            "|    ep_len_mean     | 343      |\n",
            "|    ep_rew_mean     | 313      |\n",
            "| time/              |          |\n",
            "|    fps             | 418      |\n",
            "|    iterations      | 83       |\n",
            "|    time_elapsed    | 1015     |\n",
            "|    total_timesteps | 424960   |\n",
            "---------------------------------\n"
          ]
        },
        {
          "data": {
            "text/html": [
              "<pre style=\"white-space:pre;overflow-x:auto;line-height:normal;font-family:Menlo,'DejaVu Sans Mono',consolas,'Courier New',monospace\">Eval num_timesteps=430000, episode_reward=141.20 +/- 117.11\n",
              "</pre>\n"
            ],
            "text/plain": [
              "Eval num_timesteps=430000, episode_reward=141.20 +/- 117.11\n"
            ]
          },
          "metadata": {},
          "output_type": "display_data"
        },
        {
          "data": {
            "text/html": [
              "<pre style=\"white-space:pre;overflow-x:auto;line-height:normal;font-family:Menlo,'DejaVu Sans Mono',consolas,'Courier New',monospace\">Episode length: 112.60 +/- 61.01\n",
              "</pre>\n"
            ],
            "text/plain": [
              "Episode length: 112.60 +/- 61.01\n"
            ]
          },
          "metadata": {},
          "output_type": "display_data"
        },
        {
          "data": {
            "text/html": [
              "<pre style=\"white-space:pre;overflow-x:auto;line-height:normal;font-family:Menlo,'DejaVu Sans Mono',consolas,'Courier New',monospace\">Success rate: 40.00%\n",
              "</pre>\n"
            ],
            "text/plain": [
              "Success rate: 40.00%\n"
            ]
          },
          "metadata": {},
          "output_type": "display_data"
        },
        {
          "name": "stdout",
          "output_type": "stream",
          "text": [
            "-----------------------------------------\n",
            "| eval/                   |             |\n",
            "|    arrive_dest          | 0.279       |\n",
            "|    crash                | 0.247       |\n",
            "|    max_step             | 0           |\n",
            "|    mean_ep_length       | 113         |\n",
            "|    mean_reward          | 141         |\n",
            "|    num_episodes         | 5           |\n",
            "|    out_of_road          | 0.721       |\n",
            "|    raw_action           | 0.46923736  |\n",
            "|    route_completion     | 0.614       |\n",
            "|    success_rate         | 0.4         |\n",
            "|    total_cost           | 14.4        |\n",
            "| time/                   |             |\n",
            "|    total_timesteps      | 430000      |\n",
            "| train/                  |             |\n",
            "|    approx_kl            | 0.009174183 |\n",
            "|    arrive_dest          | 0.167       |\n",
            "|    clip_fraction        | 0.249       |\n",
            "|    clip_range           | 0.1         |\n",
            "|    crash                | 0.288       |\n",
            "|    entropy_loss         | -1.8        |\n",
            "|    explained_variance   | 0.866       |\n",
            "|    learning_rate        | 5e-05       |\n",
            "|    loss                 | 79.8        |\n",
            "|    max_step             | 0           |\n",
            "|    n_updates            | 1660        |\n",
            "|    out_of_road          | 0.833       |\n",
            "|    policy_gradient_loss | 0.0046      |\n",
            "|    route_completion     | 0.522       |\n",
            "|    std                  | 0.624       |\n",
            "|    total_cost           | 10.4        |\n",
            "|    value_loss           | 146         |\n",
            "-----------------------------------------\n",
            "---------------------------------\n",
            "| rollout/           |          |\n",
            "|    ep_len_mean     | 348      |\n",
            "|    ep_rew_mean     | 313      |\n",
            "| time/              |          |\n",
            "|    fps             | 416      |\n",
            "|    iterations      | 84       |\n",
            "|    time_elapsed    | 1033     |\n",
            "|    total_timesteps | 430080   |\n",
            "---------------------------------\n",
            "------------------------------------------\n",
            "| rollout/                |              |\n",
            "|    ep_len_mean          | 349          |\n",
            "|    ep_rew_mean          | 316          |\n",
            "| time/                   |              |\n",
            "|    fps                  | 417          |\n",
            "|    iterations           | 85           |\n",
            "|    time_elapsed         | 1041         |\n",
            "|    total_timesteps      | 435200       |\n",
            "| train/                  |              |\n",
            "|    approx_kl            | 0.0022810004 |\n",
            "|    clip_fraction        | 0.134        |\n",
            "|    clip_range           | 0.1          |\n",
            "|    entropy_loss         | -1.8         |\n",
            "|    explained_variance   | 0.775        |\n",
            "|    learning_rate        | 5e-05        |\n",
            "|    loss                 | 102          |\n",
            "|    n_updates            | 1680         |\n",
            "|    policy_gradient_loss | 0.000127     |\n",
            "|    std                  | 0.622        |\n",
            "|    value_loss           | 224          |\n",
            "------------------------------------------\n"
          ]
        },
        {
          "data": {
            "text/html": [
              "<pre style=\"white-space:pre;overflow-x:auto;line-height:normal;font-family:Menlo,'DejaVu Sans Mono',consolas,'Courier New',monospace\">Eval num_timesteps=440000, episode_reward=243.89 +/- 176.82\n",
              "</pre>\n"
            ],
            "text/plain": [
              "Eval num_timesteps=440000, episode_reward=243.89 +/- 176.82\n"
            ]
          },
          "metadata": {},
          "output_type": "display_data"
        },
        {
          "data": {
            "text/html": [
              "<pre style=\"white-space:pre;overflow-x:auto;line-height:normal;font-family:Menlo,'DejaVu Sans Mono',consolas,'Courier New',monospace\">Episode length: 179.00 +/- 106.36\n",
              "</pre>\n"
            ],
            "text/plain": [
              "Episode length: 179.00 +/- 106.36\n"
            ]
          },
          "metadata": {},
          "output_type": "display_data"
        },
        {
          "data": {
            "text/html": [
              "<pre style=\"white-space:pre;overflow-x:auto;line-height:normal;font-family:Menlo,'DejaVu Sans Mono',consolas,'Courier New',monospace\">Success rate: 20.00%\n",
              "</pre>\n"
            ],
            "text/plain": [
              "Success rate: 20.00%\n"
            ]
          },
          "metadata": {},
          "output_type": "display_data"
        },
        {
          "name": "stdout",
          "output_type": "stream",
          "text": [
            "----------------------------------------\n",
            "| eval/                   |            |\n",
            "|    arrive_dest          | 0.277      |\n",
            "|    crash                | 0.245      |\n",
            "|    max_step             | 0          |\n",
            "|    mean_ep_length       | 179        |\n",
            "|    mean_reward          | 244        |\n",
            "|    num_episodes         | 5          |\n",
            "|    out_of_road          | 0.723      |\n",
            "|    raw_action           | 0.46964824 |\n",
            "|    route_completion     | 0.614      |\n",
            "|    success_rate         | 0.2        |\n",
            "|    total_cost           | 14.3       |\n",
            "| time/                   |            |\n",
            "|    total_timesteps      | 440000     |\n",
            "| train/                  |            |\n",
            "|    approx_kl            | 0.00512914 |\n",
            "|    arrive_dest          | 0.168      |\n",
            "|    clip_fraction        | 0.148      |\n",
            "|    clip_range           | 0.1        |\n",
            "|    crash                | 0.282      |\n",
            "|    entropy_loss         | -1.79      |\n",
            "|    explained_variance   | 0.721      |\n",
            "|    learning_rate        | 5e-05      |\n",
            "|    loss                 | 105        |\n",
            "|    max_step             | 0          |\n",
            "|    n_updates            | 1700       |\n",
            "|    out_of_road          | 0.832      |\n",
            "|    policy_gradient_loss | 4.17e-05   |\n",
            "|    route_completion     | 0.523      |\n",
            "|    std                  | 0.621      |\n",
            "|    total_cost           | 10.3       |\n",
            "|    value_loss           | 240        |\n",
            "----------------------------------------\n",
            "---------------------------------\n",
            "| rollout/           |          |\n",
            "|    ep_len_mean     | 351      |\n",
            "|    ep_rew_mean     | 316      |\n",
            "| time/              |          |\n",
            "|    fps             | 416      |\n",
            "|    iterations      | 86       |\n",
            "|    time_elapsed    | 1057     |\n",
            "|    total_timesteps | 440320   |\n",
            "---------------------------------\n",
            "-----------------------------------------\n",
            "| rollout/                |             |\n",
            "|    ep_len_mean          | 346         |\n",
            "|    ep_rew_mean          | 315         |\n",
            "| time/                   |             |\n",
            "|    fps                  | 418         |\n",
            "|    iterations           | 87          |\n",
            "|    time_elapsed         | 1064        |\n",
            "|    total_timesteps      | 445440      |\n",
            "| train/                  |             |\n",
            "|    approx_kl            | 0.009439485 |\n",
            "|    clip_fraction        | 0.113       |\n",
            "|    clip_range           | 0.1         |\n",
            "|    entropy_loss         | -1.79       |\n",
            "|    explained_variance   | 0.743       |\n",
            "|    learning_rate        | 5e-05       |\n",
            "|    loss                 | 140         |\n",
            "|    n_updates            | 1720        |\n",
            "|    policy_gradient_loss | -0.000608   |\n",
            "|    std                  | 0.621       |\n",
            "|    value_loss           | 233         |\n",
            "-----------------------------------------\n"
          ]
        },
        {
          "data": {
            "text/html": [
              "<pre style=\"white-space:pre;overflow-x:auto;line-height:normal;font-family:Menlo,'DejaVu Sans Mono',consolas,'Courier New',monospace\">Eval num_timesteps=450000, episode_reward=227.07 +/- 135.33\n",
              "</pre>\n"
            ],
            "text/plain": [
              "Eval num_timesteps=450000, episode_reward=227.07 +/- 135.33\n"
            ]
          },
          "metadata": {},
          "output_type": "display_data"
        },
        {
          "data": {
            "text/html": [
              "<pre style=\"white-space:pre;overflow-x:auto;line-height:normal;font-family:Menlo,'DejaVu Sans Mono',consolas,'Courier New',monospace\">Episode length: 162.40 +/- 76.88\n",
              "</pre>\n"
            ],
            "text/plain": [
              "Episode length: 162.40 +/- 76.88\n"
            ]
          },
          "metadata": {},
          "output_type": "display_data"
        },
        {
          "data": {
            "text/html": [
              "<pre style=\"white-space:pre;overflow-x:auto;line-height:normal;font-family:Menlo,'DejaVu Sans Mono',consolas,'Courier New',monospace\">Success rate: 10.00%\n",
              "</pre>\n"
            ],
            "text/plain": [
              "Success rate: 10.00%\n"
            ]
          },
          "metadata": {},
          "output_type": "display_data"
        },
        {
          "name": "stdout",
          "output_type": "stream",
          "text": [
            "------------------------------------------\n",
            "| eval/                   |              |\n",
            "|    arrive_dest          | 0.276        |\n",
            "|    crash                | 0.244        |\n",
            "|    max_step             | 0            |\n",
            "|    mean_ep_length       | 162          |\n",
            "|    mean_reward          | 227          |\n",
            "|    num_episodes         | 5            |\n",
            "|    out_of_road          | 0.724        |\n",
            "|    raw_action           | 0.46956268   |\n",
            "|    route_completion     | 0.614        |\n",
            "|    success_rate         | 0.1          |\n",
            "|    total_cost           | 14.1         |\n",
            "| time/                   |              |\n",
            "|    total_timesteps      | 450000       |\n",
            "| train/                  |              |\n",
            "|    approx_kl            | 0.0022484353 |\n",
            "|    arrive_dest          | 0.164        |\n",
            "|    clip_fraction        | 0.158        |\n",
            "|    clip_range           | 0.1          |\n",
            "|    crash                | 0.28         |\n",
            "|    entropy_loss         | -1.79        |\n",
            "|    explained_variance   | 0.735        |\n",
            "|    learning_rate        | 5e-05        |\n",
            "|    loss                 | 81.2         |\n",
            "|    max_step             | 0            |\n",
            "|    n_updates            | 1740         |\n",
            "|    out_of_road          | 0.836        |\n",
            "|    policy_gradient_loss | 0.000567     |\n",
            "|    route_completion     | 0.52         |\n",
            "|    std                  | 0.62         |\n",
            "|    total_cost           | 10.1         |\n",
            "|    value_loss           | 187          |\n",
            "------------------------------------------\n",
            "---------------------------------\n",
            "| rollout/           |          |\n",
            "|    ep_len_mean     | 343      |\n",
            "|    ep_rew_mean     | 310      |\n",
            "| time/              |          |\n",
            "|    fps             | 417      |\n",
            "|    iterations      | 88       |\n",
            "|    time_elapsed    | 1079     |\n",
            "|    total_timesteps | 450560   |\n",
            "---------------------------------\n",
            "-----------------------------------------\n",
            "| rollout/                |             |\n",
            "|    ep_len_mean          | 340         |\n",
            "|    ep_rew_mean          | 307         |\n",
            "| time/                   |             |\n",
            "|    fps                  | 419         |\n",
            "|    iterations           | 89          |\n",
            "|    time_elapsed         | 1086        |\n",
            "|    total_timesteps      | 455680      |\n",
            "| train/                  |             |\n",
            "|    approx_kl            | 0.043550067 |\n",
            "|    clip_fraction        | 0.181       |\n",
            "|    clip_range           | 0.1         |\n",
            "|    entropy_loss         | -1.78       |\n",
            "|    explained_variance   | 0.74        |\n",
            "|    learning_rate        | 5e-05       |\n",
            "|    loss                 | 76.7        |\n",
            "|    n_updates            | 1760        |\n",
            "|    policy_gradient_loss | 0.00326     |\n",
            "|    std                  | 0.618       |\n",
            "|    value_loss           | 180         |\n",
            "-----------------------------------------\n"
          ]
        },
        {
          "data": {
            "text/html": [
              "<pre style=\"white-space:pre;overflow-x:auto;line-height:normal;font-family:Menlo,'DejaVu Sans Mono',consolas,'Courier New',monospace\">Eval num_timesteps=460000, episode_reward=164.61 +/- 102.32\n",
              "</pre>\n"
            ],
            "text/plain": [
              "Eval num_timesteps=460000, episode_reward=164.61 +/- 102.32\n"
            ]
          },
          "metadata": {},
          "output_type": "display_data"
        },
        {
          "data": {
            "text/html": [
              "<pre style=\"white-space:pre;overflow-x:auto;line-height:normal;font-family:Menlo,'DejaVu Sans Mono',consolas,'Courier New',monospace\">Episode length: 138.60 +/- 72.46\n",
              "</pre>\n"
            ],
            "text/plain": [
              "Episode length: 138.60 +/- 72.46\n"
            ]
          },
          "metadata": {},
          "output_type": "display_data"
        },
        {
          "data": {
            "text/html": [
              "<pre style=\"white-space:pre;overflow-x:auto;line-height:normal;font-family:Menlo,'DejaVu Sans Mono',consolas,'Courier New',monospace\">Success rate: 20.00%\n",
              "</pre>\n"
            ],
            "text/plain": [
              "Success rate: 20.00%\n"
            ]
          },
          "metadata": {},
          "output_type": "display_data"
        },
        {
          "name": "stdout",
          "output_type": "stream",
          "text": [
            "------------------------------------------\n",
            "| eval/                   |              |\n",
            "|    arrive_dest          | 0.274        |\n",
            "|    crash                | 0.239        |\n",
            "|    max_step             | 0            |\n",
            "|    mean_ep_length       | 139          |\n",
            "|    mean_reward          | 165          |\n",
            "|    num_episodes         | 5            |\n",
            "|    out_of_road          | 0.726        |\n",
            "|    raw_action           | 0.4689889    |\n",
            "|    route_completion     | 0.611        |\n",
            "|    success_rate         | 0.2          |\n",
            "|    total_cost           | 13.8         |\n",
            "| time/                   |              |\n",
            "|    total_timesteps      | 460000       |\n",
            "| train/                  |              |\n",
            "|    approx_kl            | 0.0024810757 |\n",
            "|    arrive_dest          | 0.165        |\n",
            "|    clip_fraction        | 0.13         |\n",
            "|    clip_range           | 0.1          |\n",
            "|    crash                | 0.278        |\n",
            "|    entropy_loss         | -1.78        |\n",
            "|    explained_variance   | 0.771        |\n",
            "|    learning_rate        | 5e-05        |\n",
            "|    loss                 | 76.4         |\n",
            "|    max_step             | 0            |\n",
            "|    n_updates            | 1780         |\n",
            "|    out_of_road          | 0.835        |\n",
            "|    policy_gradient_loss | -0.000324    |\n",
            "|    route_completion     | 0.521        |\n",
            "|    std                  | 0.618        |\n",
            "|    total_cost           | 10           |\n",
            "|    value_loss           | 182          |\n",
            "------------------------------------------\n",
            "---------------------------------\n",
            "| rollout/           |          |\n",
            "|    ep_len_mean     | 340      |\n",
            "|    ep_rew_mean     | 309      |\n",
            "| time/              |          |\n",
            "|    fps             | 418      |\n",
            "|    iterations      | 90       |\n",
            "|    time_elapsed    | 1101     |\n",
            "|    total_timesteps | 460800   |\n",
            "---------------------------------\n",
            "------------------------------------------\n",
            "| rollout/                |              |\n",
            "|    ep_len_mean          | 346          |\n",
            "|    ep_rew_mean          | 312          |\n",
            "| time/                   |              |\n",
            "|    fps                  | 419          |\n",
            "|    iterations           | 91           |\n",
            "|    time_elapsed         | 1109         |\n",
            "|    total_timesteps      | 465920       |\n",
            "| train/                  |              |\n",
            "|    approx_kl            | 0.0024885207 |\n",
            "|    clip_fraction        | 0.171        |\n",
            "|    clip_range           | 0.1          |\n",
            "|    entropy_loss         | -1.78        |\n",
            "|    explained_variance   | 0.704        |\n",
            "|    learning_rate        | 5e-05        |\n",
            "|    loss                 | 60.3         |\n",
            "|    n_updates            | 1800         |\n",
            "|    policy_gradient_loss | 0.000253     |\n",
            "|    std                  | 0.617        |\n",
            "|    value_loss           | 200          |\n",
            "------------------------------------------\n"
          ]
        },
        {
          "data": {
            "text/html": [
              "<pre style=\"white-space:pre;overflow-x:auto;line-height:normal;font-family:Menlo,'DejaVu Sans Mono',consolas,'Courier New',monospace\">Eval num_timesteps=470000, episode_reward=310.16 +/- 60.62\n",
              "</pre>\n"
            ],
            "text/plain": [
              "Eval num_timesteps=470000, episode_reward=310.16 +/- 60.62\n"
            ]
          },
          "metadata": {},
          "output_type": "display_data"
        },
        {
          "data": {
            "text/html": [
              "<pre style=\"white-space:pre;overflow-x:auto;line-height:normal;font-family:Menlo,'DejaVu Sans Mono',consolas,'Courier New',monospace\">Episode length: 245.00 +/- 70.82\n",
              "</pre>\n"
            ],
            "text/plain": [
              "Episode length: 245.00 +/- 70.82\n"
            ]
          },
          "metadata": {},
          "output_type": "display_data"
        },
        {
          "data": {
            "text/html": [
              "<pre style=\"white-space:pre;overflow-x:auto;line-height:normal;font-family:Menlo,'DejaVu Sans Mono',consolas,'Courier New',monospace\">Success rate: 40.00%\n",
              "</pre>\n"
            ],
            "text/plain": [
              "Success rate: 40.00%\n"
            ]
          },
          "metadata": {},
          "output_type": "display_data"
        },
        {
          "name": "stdout",
          "output_type": "stream",
          "text": [
            "------------------------------------------\n",
            "| eval/                   |              |\n",
            "|    arrive_dest          | 0.277        |\n",
            "|    crash                | 0.234        |\n",
            "|    max_step             | 0            |\n",
            "|    mean_ep_length       | 245          |\n",
            "|    mean_reward          | 310          |\n",
            "|    num_episodes         | 5            |\n",
            "|    out_of_road          | 0.723        |\n",
            "|    raw_action           | 0.4689677    |\n",
            "|    route_completion     | 0.616        |\n",
            "|    success_rate         | 0.4          |\n",
            "|    total_cost           | 14.1         |\n",
            "| time/                   |              |\n",
            "|    total_timesteps      | 470000       |\n",
            "| train/                  |              |\n",
            "|    approx_kl            | 0.0028213665 |\n",
            "|    arrive_dest          | 0.17         |\n",
            "|    clip_fraction        | 0.303        |\n",
            "|    clip_range           | 0.1          |\n",
            "|    crash                | 0.272        |\n",
            "|    entropy_loss         | -1.78        |\n",
            "|    explained_variance   | 0.836        |\n",
            "|    learning_rate        | 5e-05        |\n",
            "|    loss                 | 48.4         |\n",
            "|    max_step             | 0            |\n",
            "|    n_updates            | 1820         |\n",
            "|    out_of_road          | 0.83         |\n",
            "|    policy_gradient_loss | 0.00822      |\n",
            "|    route_completion     | 0.524        |\n",
            "|    std                  | 0.616        |\n",
            "|    total_cost           | 9.87         |\n",
            "|    value_loss           | 125          |\n",
            "------------------------------------------\n"
          ]
        },
        {
          "data": {
            "text/html": [
              "<pre style=\"white-space:pre;overflow-x:auto;line-height:normal;font-family:Menlo,'DejaVu Sans Mono',consolas,'Courier New',monospace\">New best mean reward!\n",
              "</pre>\n"
            ],
            "text/plain": [
              "New best mean reward!\n"
            ]
          },
          "metadata": {},
          "output_type": "display_data"
        },
        {
          "name": "stdout",
          "output_type": "stream",
          "text": [
            "---------------------------------\n",
            "| rollout/           |          |\n",
            "|    ep_len_mean     | 343      |\n",
            "|    ep_rew_mean     | 312      |\n",
            "| time/              |          |\n",
            "|    fps             | 419      |\n",
            "|    iterations      | 92       |\n",
            "|    time_elapsed    | 1123     |\n",
            "|    total_timesteps | 471040   |\n",
            "---------------------------------\n",
            "-----------------------------------------\n",
            "| rollout/                |             |\n",
            "|    ep_len_mean          | 357         |\n",
            "|    ep_rew_mean          | 319         |\n",
            "| time/                   |             |\n",
            "|    fps                  | 420         |\n",
            "|    iterations           | 93          |\n",
            "|    time_elapsed         | 1132        |\n",
            "|    total_timesteps      | 476160      |\n",
            "| train/                  |             |\n",
            "|    approx_kl            | 0.002065826 |\n",
            "|    clip_fraction        | 0.251       |\n",
            "|    clip_range           | 0.1         |\n",
            "|    entropy_loss         | -1.77       |\n",
            "|    explained_variance   | 0.83        |\n",
            "|    learning_rate        | 5e-05       |\n",
            "|    loss                 | 46.3        |\n",
            "|    n_updates            | 1840        |\n",
            "|    policy_gradient_loss | 0.00606     |\n",
            "|    std                  | 0.615       |\n",
            "|    value_loss           | 107         |\n",
            "-----------------------------------------\n"
          ]
        },
        {
          "data": {
            "text/html": [
              "<pre style=\"white-space:pre;overflow-x:auto;line-height:normal;font-family:Menlo,'DejaVu Sans Mono',consolas,'Courier New',monospace\">Eval num_timesteps=480000, episode_reward=206.51 +/- 86.64\n",
              "</pre>\n"
            ],
            "text/plain": [
              "Eval num_timesteps=480000, episode_reward=206.51 +/- 86.64\n"
            ]
          },
          "metadata": {},
          "output_type": "display_data"
        },
        {
          "data": {
            "text/html": [
              "<pre style=\"white-space:pre;overflow-x:auto;line-height:normal;font-family:Menlo,'DejaVu Sans Mono',consolas,'Courier New',monospace\">Episode length: 146.20 +/- 38.19\n",
              "</pre>\n"
            ],
            "text/plain": [
              "Episode length: 146.20 +/- 38.19\n"
            ]
          },
          "metadata": {},
          "output_type": "display_data"
        },
        {
          "data": {
            "text/html": [
              "<pre style=\"white-space:pre;overflow-x:auto;line-height:normal;font-family:Menlo,'DejaVu Sans Mono',consolas,'Courier New',monospace\">Success rate: 20.00%\n",
              "</pre>\n"
            ],
            "text/plain": [
              "Success rate: 20.00%\n"
            ]
          },
          "metadata": {},
          "output_type": "display_data"
        },
        {
          "name": "stdout",
          "output_type": "stream",
          "text": [
            "------------------------------------------\n",
            "| eval/                   |              |\n",
            "|    arrive_dest          | 0.271        |\n",
            "|    crash                | 0.229        |\n",
            "|    max_step             | 0            |\n",
            "|    mean_ep_length       | 146          |\n",
            "|    mean_reward          | 207          |\n",
            "|    num_episodes         | 5            |\n",
            "|    out_of_road          | 0.729        |\n",
            "|    raw_action           | 0.46868563   |\n",
            "|    route_completion     | 0.613        |\n",
            "|    success_rate         | 0.2          |\n",
            "|    total_cost           | 13.8         |\n",
            "| time/                   |              |\n",
            "|    total_timesteps      | 480000       |\n",
            "| train/                  |              |\n",
            "|    approx_kl            | 0.0038056772 |\n",
            "|    arrive_dest          | 0.175        |\n",
            "|    clip_fraction        | 0.127        |\n",
            "|    clip_range           | 0.1          |\n",
            "|    crash                | 0.271        |\n",
            "|    entropy_loss         | -1.77        |\n",
            "|    explained_variance   | 0.78         |\n",
            "|    learning_rate        | 5e-05        |\n",
            "|    loss                 | 99.3         |\n",
            "|    max_step             | 0            |\n",
            "|    n_updates            | 1860         |\n",
            "|    out_of_road          | 0.825        |\n",
            "|    policy_gradient_loss | -0.00104     |\n",
            "|    route_completion     | 0.528        |\n",
            "|    std                  | 0.615        |\n",
            "|    total_cost           | 10.4         |\n",
            "|    value_loss           | 172          |\n",
            "------------------------------------------\n",
            "---------------------------------\n",
            "| rollout/           |          |\n",
            "|    ep_len_mean     | 353      |\n",
            "|    ep_rew_mean     | 317      |\n",
            "| time/              |          |\n",
            "|    fps             | 417      |\n",
            "|    iterations      | 94       |\n",
            "|    time_elapsed    | 1153     |\n",
            "|    total_timesteps | 481280   |\n",
            "---------------------------------\n",
            "-------------------------------------------\n",
            "| rollout/                |               |\n",
            "|    ep_len_mean          | 366           |\n",
            "|    ep_rew_mean          | 323           |\n",
            "| time/                   |               |\n",
            "|    fps                  | 418           |\n",
            "|    iterations           | 95            |\n",
            "|    time_elapsed         | 1161          |\n",
            "|    total_timesteps      | 486400        |\n",
            "| train/                  |               |\n",
            "|    approx_kl            | 0.00094787375 |\n",
            "|    clip_fraction        | 0.129         |\n",
            "|    clip_range           | 0.1           |\n",
            "|    entropy_loss         | -1.77         |\n",
            "|    explained_variance   | 0.746         |\n",
            "|    learning_rate        | 5e-05         |\n",
            "|    loss                 | 104           |\n",
            "|    n_updates            | 1880          |\n",
            "|    policy_gradient_loss | 0.000245      |\n",
            "|    std                  | 0.615         |\n",
            "|    value_loss           | 210           |\n",
            "-------------------------------------------\n"
          ]
        },
        {
          "data": {
            "text/html": [
              "<pre style=\"white-space:pre;overflow-x:auto;line-height:normal;font-family:Menlo,'DejaVu Sans Mono',consolas,'Courier New',monospace\">Eval num_timesteps=490000, episode_reward=348.64 +/- 39.61\n",
              "</pre>\n"
            ],
            "text/plain": [
              "Eval num_timesteps=490000, episode_reward=348.64 +/- 39.61\n"
            ]
          },
          "metadata": {},
          "output_type": "display_data"
        },
        {
          "data": {
            "text/html": [
              "<pre style=\"white-space:pre;overflow-x:auto;line-height:normal;font-family:Menlo,'DejaVu Sans Mono',consolas,'Courier New',monospace\">Episode length: 308.20 +/- 79.42\n",
              "</pre>\n"
            ],
            "text/plain": [
              "Episode length: 308.20 +/- 79.42\n"
            ]
          },
          "metadata": {},
          "output_type": "display_data"
        },
        {
          "data": {
            "text/html": [
              "<pre style=\"white-space:pre;overflow-x:auto;line-height:normal;font-family:Menlo,'DejaVu Sans Mono',consolas,'Courier New',monospace\">Success rate: 40.00%\n",
              "</pre>\n"
            ],
            "text/plain": [
              "Success rate: 40.00%\n"
            ]
          },
          "metadata": {},
          "output_type": "display_data"
        },
        {
          "name": "stdout",
          "output_type": "stream",
          "text": [
            "------------------------------------------\n",
            "| eval/                   |              |\n",
            "|    arrive_dest          | 0.278        |\n",
            "|    crash                | 0.224        |\n",
            "|    max_step             | 0            |\n",
            "|    mean_ep_length       | 308          |\n",
            "|    mean_reward          | 349          |\n",
            "|    num_episodes         | 5            |\n",
            "|    out_of_road          | 0.722        |\n",
            "|    raw_action           | 0.4676172    |\n",
            "|    route_completion     | 0.619        |\n",
            "|    success_rate         | 0.4          |\n",
            "|    total_cost           | 14.4         |\n",
            "| time/                   |              |\n",
            "|    total_timesteps      | 490000       |\n",
            "| train/                  |              |\n",
            "|    approx_kl            | 0.0019659437 |\n",
            "|    arrive_dest          | 0.176        |\n",
            "|    clip_fraction        | 0.118        |\n",
            "|    clip_range           | 0.1          |\n",
            "|    crash                | 0.265        |\n",
            "|    entropy_loss         | -1.77        |\n",
            "|    explained_variance   | 0.839        |\n",
            "|    learning_rate        | 5e-05        |\n",
            "|    loss                 | 83.6         |\n",
            "|    max_step             | 0            |\n",
            "|    n_updates            | 1900         |\n",
            "|    out_of_road          | 0.824        |\n",
            "|    policy_gradient_loss | -0.00107     |\n",
            "|    route_completion     | 0.529        |\n",
            "|    std                  | 0.615        |\n",
            "|    total_cost           | 11           |\n",
            "|    value_loss           | 160          |\n",
            "------------------------------------------\n"
          ]
        },
        {
          "data": {
            "text/html": [
              "<pre style=\"white-space:pre;overflow-x:auto;line-height:normal;font-family:Menlo,'DejaVu Sans Mono',consolas,'Courier New',monospace\">New best mean reward!\n",
              "</pre>\n"
            ],
            "text/plain": [
              "New best mean reward!\n"
            ]
          },
          "metadata": {},
          "output_type": "display_data"
        },
        {
          "name": "stdout",
          "output_type": "stream",
          "text": [
            "---------------------------------\n",
            "| rollout/           |          |\n",
            "|    ep_len_mean     | 353      |\n",
            "|    ep_rew_mean     | 312      |\n",
            "| time/              |          |\n",
            "|    fps             | 416      |\n",
            "|    iterations      | 96       |\n",
            "|    time_elapsed    | 1180     |\n",
            "|    total_timesteps | 491520   |\n",
            "---------------------------------\n",
            "------------------------------------------\n",
            "| rollout/                |              |\n",
            "|    ep_len_mean          | 351          |\n",
            "|    ep_rew_mean          | 303          |\n",
            "| time/                   |              |\n",
            "|    fps                  | 417          |\n",
            "|    iterations           | 97           |\n",
            "|    time_elapsed         | 1188         |\n",
            "|    total_timesteps      | 496640       |\n",
            "| train/                  |              |\n",
            "|    approx_kl            | 0.0016720811 |\n",
            "|    clip_fraction        | 0.11         |\n",
            "|    clip_range           | 0.1          |\n",
            "|    entropy_loss         | -1.77        |\n",
            "|    explained_variance   | 0.685        |\n",
            "|    learning_rate        | 5e-05        |\n",
            "|    loss                 | 97.5         |\n",
            "|    n_updates            | 1920         |\n",
            "|    policy_gradient_loss | -0.00197     |\n",
            "|    std                  | 0.615        |\n",
            "|    value_loss           | 238          |\n",
            "------------------------------------------\n"
          ]
        },
        {
          "data": {
            "text/html": [
              "<pre style=\"white-space:pre;overflow-x:auto;line-height:normal;font-family:Menlo,'DejaVu Sans Mono',consolas,'Courier New',monospace\">Saving model checkpoint to \n",
              "runs\\ppo_metadrive_new_reward_5000\\ppo_metadrive_new_reward_5000_2025-03-20_10-44-32_97412f1e\\models\\rl_model_50000\n",
              "0_steps.zip\n",
              "</pre>\n"
            ],
            "text/plain": [
              "Saving model checkpoint to \n",
              "runs\\ppo_metadrive_new_reward_5000\\ppo_metadrive_new_reward_5000_2025-03-20_10-44-32_97412f1e\\models\\rl_model_50000\n",
              "0_steps.zip\n"
            ]
          },
          "metadata": {},
          "output_type": "display_data"
        },
        {
          "data": {
            "text/html": [
              "<pre style=\"white-space:pre;overflow-x:auto;line-height:normal;font-family:Menlo,'DejaVu Sans Mono',consolas,'Courier New',monospace\">Eval num_timesteps=500000, episode_reward=221.61 +/- 157.57\n",
              "</pre>\n"
            ],
            "text/plain": [
              "Eval num_timesteps=500000, episode_reward=221.61 +/- 157.57\n"
            ]
          },
          "metadata": {},
          "output_type": "display_data"
        },
        {
          "data": {
            "text/html": [
              "<pre style=\"white-space:pre;overflow-x:auto;line-height:normal;font-family:Menlo,'DejaVu Sans Mono',consolas,'Courier New',monospace\">Episode length: 174.40 +/- 129.74\n",
              "</pre>\n"
            ],
            "text/plain": [
              "Episode length: 174.40 +/- 129.74\n"
            ]
          },
          "metadata": {},
          "output_type": "display_data"
        },
        {
          "data": {
            "text/html": [
              "<pre style=\"white-space:pre;overflow-x:auto;line-height:normal;font-family:Menlo,'DejaVu Sans Mono',consolas,'Courier New',monospace\">Success rate: 20.00%\n",
              "</pre>\n"
            ],
            "text/plain": [
              "Success rate: 20.00%\n"
            ]
          },
          "metadata": {},
          "output_type": "display_data"
        },
        {
          "name": "stdout",
          "output_type": "stream",
          "text": [
            "-----------------------------------------\n",
            "| eval/                   |             |\n",
            "|    arrive_dest          | 0.276       |\n",
            "|    crash                | 0.232       |\n",
            "|    max_step             | 0           |\n",
            "|    mean_ep_length       | 174         |\n",
            "|    mean_reward          | 222         |\n",
            "|    num_episodes         | 5           |\n",
            "|    out_of_road          | 0.724       |\n",
            "|    raw_action           | 0.46830213  |\n",
            "|    route_completion     | 0.618       |\n",
            "|    success_rate         | 0.2         |\n",
            "|    total_cost           | 14.2        |\n",
            "| time/                   |             |\n",
            "|    total_timesteps      | 500000      |\n",
            "| train/                  |             |\n",
            "|    approx_kl            | 0.006918856 |\n",
            "|    arrive_dest          | 0.176       |\n",
            "|    clip_fraction        | 0.155       |\n",
            "|    clip_range           | 0.1         |\n",
            "|    crash                | 0.264       |\n",
            "|    entropy_loss         | -1.77       |\n",
            "|    explained_variance   | 0.779       |\n",
            "|    learning_rate        | 5e-05       |\n",
            "|    loss                 | 74.7        |\n",
            "|    max_step             | 0           |\n",
            "|    n_updates            | 1940        |\n",
            "|    out_of_road          | 0.824       |\n",
            "|    policy_gradient_loss | 0.000478    |\n",
            "|    route_completion     | 0.528       |\n",
            "|    std                  | 0.614       |\n",
            "|    total_cost           | 11.4        |\n",
            "|    value_loss           | 162         |\n",
            "-----------------------------------------\n",
            "---------------------------------\n",
            "| rollout/           |          |\n",
            "|    ep_len_mean     | 346      |\n",
            "|    ep_rew_mean     | 303      |\n",
            "| time/              |          |\n",
            "|    fps             | 415      |\n",
            "|    iterations      | 98       |\n",
            "|    time_elapsed    | 1207     |\n",
            "|    total_timesteps | 501760   |\n",
            "---------------------------------\n",
            "------------------------------------------\n",
            "| rollout/                |              |\n",
            "|    ep_len_mean          | 341          |\n",
            "|    ep_rew_mean          | 299          |\n",
            "| time/                   |              |\n",
            "|    fps                  | 417          |\n",
            "|    iterations           | 99           |\n",
            "|    time_elapsed         | 1214         |\n",
            "|    total_timesteps      | 506880       |\n",
            "| train/                  |              |\n",
            "|    approx_kl            | 0.0029309678 |\n",
            "|    clip_fraction        | 0.203        |\n",
            "|    clip_range           | 0.1          |\n",
            "|    entropy_loss         | -1.76        |\n",
            "|    explained_variance   | 0.779        |\n",
            "|    learning_rate        | 5e-05        |\n",
            "|    loss                 | 55.2         |\n",
            "|    n_updates            | 1960         |\n",
            "|    policy_gradient_loss | 0.00339      |\n",
            "|    std                  | 0.614        |\n",
            "|    value_loss           | 157          |\n",
            "------------------------------------------\n"
          ]
        },
        {
          "data": {
            "text/html": [
              "<pre style=\"white-space:pre;overflow-x:auto;line-height:normal;font-family:Menlo,'DejaVu Sans Mono',consolas,'Courier New',monospace\">Eval num_timesteps=510000, episode_reward=271.43 +/- 146.48\n",
              "</pre>\n"
            ],
            "text/plain": [
              "Eval num_timesteps=510000, episode_reward=271.43 +/- 146.48\n"
            ]
          },
          "metadata": {},
          "output_type": "display_data"
        },
        {
          "data": {
            "text/html": [
              "<pre style=\"white-space:pre;overflow-x:auto;line-height:normal;font-family:Menlo,'DejaVu Sans Mono',consolas,'Courier New',monospace\">Episode length: 167.40 +/- 70.39\n",
              "</pre>\n"
            ],
            "text/plain": [
              "Episode length: 167.40 +/- 70.39\n"
            ]
          },
          "metadata": {},
          "output_type": "display_data"
        },
        {
          "data": {
            "text/html": [
              "<pre style=\"white-space:pre;overflow-x:auto;line-height:normal;font-family:Menlo,'DejaVu Sans Mono',consolas,'Courier New',monospace\">Success rate: 20.00%\n",
              "</pre>\n"
            ],
            "text/plain": [
              "Success rate: 20.00%\n"
            ]
          },
          "metadata": {},
          "output_type": "display_data"
        },
        {
          "name": "stdout",
          "output_type": "stream",
          "text": [
            "------------------------------------------\n",
            "| eval/                   |              |\n",
            "|    arrive_dest          | 0.275        |\n",
            "|    crash                | 0.231        |\n",
            "|    max_step             | 0            |\n",
            "|    mean_ep_length       | 167          |\n",
            "|    mean_reward          | 271          |\n",
            "|    num_episodes         | 5            |\n",
            "|    out_of_road          | 0.725        |\n",
            "|    raw_action           | 0.46827397   |\n",
            "|    route_completion     | 0.619        |\n",
            "|    success_rate         | 0.2          |\n",
            "|    total_cost           | 14           |\n",
            "| time/                   |              |\n",
            "|    total_timesteps      | 510000       |\n",
            "| train/                  |              |\n",
            "|    approx_kl            | 0.0016225384 |\n",
            "|    arrive_dest          | 0.176        |\n",
            "|    clip_fraction        | 0.168        |\n",
            "|    clip_range           | 0.1          |\n",
            "|    crash                | 0.271        |\n",
            "|    entropy_loss         | -1.76        |\n",
            "|    explained_variance   | 0.722        |\n",
            "|    learning_rate        | 5e-05        |\n",
            "|    loss                 | 97.5         |\n",
            "|    max_step             | 0            |\n",
            "|    n_updates            | 1980         |\n",
            "|    out_of_road          | 0.824        |\n",
            "|    policy_gradient_loss | 0.000281     |\n",
            "|    route_completion     | 0.532        |\n",
            "|    std                  | 0.614        |\n",
            "|    total_cost           | 11.4         |\n",
            "|    value_loss           | 226          |\n",
            "------------------------------------------\n",
            "---------------------------------\n",
            "| rollout/           |          |\n",
            "|    ep_len_mean     | 330      |\n",
            "|    ep_rew_mean     | 293      |\n",
            "| time/              |          |\n",
            "|    fps             | 416      |\n",
            "|    iterations      | 100      |\n",
            "|    time_elapsed    | 1228     |\n",
            "|    total_timesteps | 512000   |\n",
            "---------------------------------\n",
            "------------------------------------------\n",
            "| rollout/                |              |\n",
            "|    ep_len_mean          | 339          |\n",
            "|    ep_rew_mean          | 299          |\n",
            "| time/                   |              |\n",
            "|    fps                  | 418          |\n",
            "|    iterations           | 101          |\n",
            "|    time_elapsed         | 1235         |\n",
            "|    total_timesteps      | 517120       |\n",
            "| train/                  |              |\n",
            "|    approx_kl            | 0.0015119633 |\n",
            "|    clip_fraction        | 0.126        |\n",
            "|    clip_range           | 0.1          |\n",
            "|    entropy_loss         | -1.76        |\n",
            "|    explained_variance   | 0.758        |\n",
            "|    learning_rate        | 5e-05        |\n",
            "|    loss                 | 60.2         |\n",
            "|    n_updates            | 2000         |\n",
            "|    policy_gradient_loss | -0.00184     |\n",
            "|    std                  | 0.613        |\n",
            "|    value_loss           | 143          |\n",
            "------------------------------------------\n"
          ]
        },
        {
          "data": {
            "text/html": [
              "<pre style=\"white-space:pre;overflow-x:auto;line-height:normal;font-family:Menlo,'DejaVu Sans Mono',consolas,'Courier New',monospace\">Eval num_timesteps=520000, episode_reward=328.19 +/- 150.69\n",
              "</pre>\n"
            ],
            "text/plain": [
              "Eval num_timesteps=520000, episode_reward=328.19 +/- 150.69\n"
            ]
          },
          "metadata": {},
          "output_type": "display_data"
        },
        {
          "data": {
            "text/html": [
              "<pre style=\"white-space:pre;overflow-x:auto;line-height:normal;font-family:Menlo,'DejaVu Sans Mono',consolas,'Courier New',monospace\">Episode length: 193.60 +/- 68.81\n",
              "</pre>\n"
            ],
            "text/plain": [
              "Episode length: 193.60 +/- 68.81\n"
            ]
          },
          "metadata": {},
          "output_type": "display_data"
        },
        {
          "data": {
            "text/html": [
              "<pre style=\"white-space:pre;overflow-x:auto;line-height:normal;font-family:Menlo,'DejaVu Sans Mono',consolas,'Courier New',monospace\">Success rate: 40.00%\n",
              "</pre>\n"
            ],
            "text/plain": [
              "Success rate: 40.00%\n"
            ]
          },
          "metadata": {},
          "output_type": "display_data"
        },
        {
          "name": "stdout",
          "output_type": "stream",
          "text": [
            "------------------------------------------\n",
            "| eval/                   |              |\n",
            "|    arrive_dest          | 0.281        |\n",
            "|    crash                | 0.227        |\n",
            "|    max_step             | 0            |\n",
            "|    mean_ep_length       | 194          |\n",
            "|    mean_reward          | 328          |\n",
            "|    num_episodes         | 5            |\n",
            "|    out_of_road          | 0.719        |\n",
            "|    raw_action           | 0.46826023   |\n",
            "|    route_completion     | 0.622        |\n",
            "|    success_rate         | 0.4          |\n",
            "|    total_cost           | 13.8         |\n",
            "| time/                   |              |\n",
            "|    total_timesteps      | 520000       |\n",
            "| train/                  |              |\n",
            "|    approx_kl            | 0.0026812104 |\n",
            "|    arrive_dest          | 0.177        |\n",
            "|    clip_fraction        | 0.184        |\n",
            "|    clip_range           | 0.1          |\n",
            "|    crash                | 0.269        |\n",
            "|    entropy_loss         | -1.75        |\n",
            "|    explained_variance   | 0.866        |\n",
            "|    learning_rate        | 5e-05        |\n",
            "|    loss                 | 53.6         |\n",
            "|    max_step             | 0            |\n",
            "|    n_updates            | 2020         |\n",
            "|    out_of_road          | 0.823        |\n",
            "|    policy_gradient_loss | 0.00096      |\n",
            "|    route_completion     | 0.533        |\n",
            "|    std                  | 0.61         |\n",
            "|    total_cost           | 11.2         |\n",
            "|    value_loss           | 101          |\n",
            "------------------------------------------\n",
            "---------------------------------\n",
            "| rollout/           |          |\n",
            "|    ep_len_mean     | 339      |\n",
            "|    ep_rew_mean     | 304      |\n",
            "| time/              |          |\n",
            "|    fps             | 417      |\n",
            "|    iterations      | 102      |\n",
            "|    time_elapsed    | 1251     |\n",
            "|    total_timesteps | 522240   |\n",
            "---------------------------------\n",
            "------------------------------------------\n",
            "| rollout/                |              |\n",
            "|    ep_len_mean          | 335          |\n",
            "|    ep_rew_mean          | 300          |\n",
            "| time/                   |              |\n",
            "|    fps                  | 418          |\n",
            "|    iterations           | 103          |\n",
            "|    time_elapsed         | 1259         |\n",
            "|    total_timesteps      | 527360       |\n",
            "| train/                  |              |\n",
            "|    approx_kl            | 0.0013559253 |\n",
            "|    clip_fraction        | 0.128        |\n",
            "|    clip_range           | 0.1          |\n",
            "|    entropy_loss         | -1.75        |\n",
            "|    explained_variance   | 0.674        |\n",
            "|    learning_rate        | 5e-05        |\n",
            "|    loss                 | 133          |\n",
            "|    n_updates            | 2040         |\n",
            "|    policy_gradient_loss | -0.00147     |\n",
            "|    std                  | 0.61         |\n",
            "|    value_loss           | 251          |\n",
            "------------------------------------------\n"
          ]
        }
      ],
      "source": [
        "# ===== Launch training =====\n",
        "total_timesteps = 2_000_000  # 1M steps\n",
        "model.learn(\n",
        "    total_timesteps=total_timesteps,\n",
        "    callback=callbacks,\n",
        "    reset_num_timesteps=True,\n",
        "    tb_log_name=experiment_batch_name,\n",
        "    log_interval=1,\n",
        "    progress_bar=True,\n",
        ")"
      ]
    },
    {
      "cell_type": "code",
      "execution_count": null,
      "metadata": {},
      "outputs": [
        {
          "data": {
            "text/html": [],
            "text/plain": [
              "<IPython.core.display.HTML object>"
            ]
          },
          "metadata": {},
          "output_type": "display_data"
        },
        {
          "data": {
            "text/html": [
              "<br>    <style><br>        .wandb-row {<br>            display: flex;<br>            flex-direction: row;<br>            flex-wrap: wrap;<br>            justify-content: flex-start;<br>            width: 100%;<br>        }<br>        .wandb-col {<br>            display: flex;<br>            flex-direction: column;<br>            flex-basis: 100%;<br>            flex: 1;<br>            padding: 10px;<br>        }<br>    </style><br><div class=\"wandb-row\"><div class=\"wandb-col\"><h3>Run history:</h3><br/><table class=\"wandb\"><tr><td>eval/arrive_dest</td><td>▁▁▁▁▁▂▂▂▂▂▃▃▃▃▃▄▅▅▅▆▆▇▇▇▇▇▇███████████▇▇</td></tr><tr><td>eval/crash</td><td>▁▅▆▇█▇▇▇▇▇▇▇▇▇▇▇▇▇▇▇▇▇▇▇▇▇▇▇▇▇▇▇▇▇▇▇▇▇▇▇</td></tr><tr><td>eval/max_step</td><td>▁▁▁▁▁▁▁▁▁▁▁▁▁▁▁▁▁▁▁▁▁▁▁▁▁▁▁▁▁▁▁▁▁▁▁▁▁▁▁▁</td></tr><tr><td>eval/mean_ep_length</td><td>▃▁▂▃▂▅▃▆▂▃▆▆▆▄▄▅▃▅▄▃▃▆▆▃▆▃▃▄▃▅▇▃▅▃▄▅▃█▂▃</td></tr><tr><td>eval/mean_reward</td><td>▁▁▄▃▃▃▄▅▃▆▆▃▇▆▅▄▄▄▆▇▅▄▄▄▇▃▄▅▄▄▆▇▄▄██▆▄▃▃</td></tr><tr><td>eval/num_episodes</td><td>▁▁▁▁▁▁▁▁▁▁▁▁▁▁▁▁▁▁▁▁▁▁▁▁▁▁▁▁▁▁▁▁▁▁▁▁▁▁▁▁</td></tr><tr><td>eval/out_of_road</td><td>████▇▇▇▇▆▆▆▅▅▃▃▃▃▃▂▃▂▂▂▂▂▂▁▁▁▁▁▁▁▁▁▁▁▁▁▂</td></tr><tr><td>eval/raw_action</td><td>▁▂▂▃▅▇▇▇████████████████████████████████</td></tr><tr><td>eval/route_completion</td><td>▁▂▃▃▃▄▄▅▅▅▆▆▆▆▆▇▇▇▇▇▇▇▇▇▇███████████████</td></tr><tr><td>eval/success_rate</td><td>▁▁▁▁▁▃▁▁▁▁▃▆▅▁▅▃▁▆▃▃▃▁▃▅▅▅█▅▆▃▅▃▃▁▁▃▅▅▁▆</td></tr><tr><td>eval/total_cost</td><td>▁▁▂▃▄▇▇▇▇▇▇▇▇███▇█▇▇█████████▇▇███████▇▇</td></tr><tr><td>global_step</td><td>▁▁▁▁▁▂▂▂▂▂▂▂▂▂▃▃▃▃▃▄▄▄▅▅▅▅▅▅▅▅▆▆▆▆▆▇▇███</td></tr><tr><td>rollout/ep_len_mean</td><td>▅▅█▁▂▄▆▆▆▅▆▇▇▆▆▆▆▆▆▆▆▇▆▇▇▇▇▇▇██▆▆▆▆▅▅▅▅▆</td></tr><tr><td>rollout/ep_rew_mean</td><td>▁▁▁▁▁▃▃▃▄▅▅▅▅▆▆▇▇▇▇▇▇▆▇▇▇▇▇██▇▇▇▇█▇▇▇▇▆▅</td></tr><tr><td>time/fps</td><td>█▂▁▁▁▁▁▁▁▂▂▂▂▂▂▂▂▂▂▂▂▂▂▂▂▂▂▂▂▂▂▂▂▂▂▃▃▃▃▃</td></tr><tr><td>train/approx_kl</td><td>▂▁▁▂▁▂▂▂▄▁▂▂▃▂▂█▂▃▂▂▆▂▂▆▂▂▃▂▂▅▂▅▂▂▆▂▂▄▂▂</td></tr><tr><td>train/arrive_dest</td><td>▁▁▁▂▂▃▃▄▄▄▅▅▆▆▆▆▆▆▇▇▇▇▇▇▇▇▇▇▇▇██████████</td></tr><tr><td>train/clip_fraction</td><td>▆▅▁▁▃▅▃▂▅▃▃█▃▅▆▅▄▅▄▆▅▆▅▅▆▅▅▃▃▄▅▆▄▄▆▆▇▇▄▆</td></tr><tr><td>train/clip_range</td><td>▁▁▁▁▁▁▁▁▁▁▁▁▁▁▁▁▁▁▁▁▁▁▁▁▁▁▁▁▁▁▁▁▁▁▁▁▁▁▁▁</td></tr><tr><td>train/crash</td><td>▁▁▃▄▅▆▆▇▇▇█████▇▇███████████▇▇▇▇▇▇▇▇▇▇▇▇</td></tr><tr><td>train/entropy_loss</td><td>▁▁▂▂▃▄▄▄▅▅▆▆▆▆▆▆▆▆▆▆▆▇▇▇▇▇▇▇▇▇▇▇▇███████</td></tr><tr><td>train/explained_variance</td><td>▁▁▁▂▁▁▂▁▄▂▃▃▄▃▆▅▇▆▅▅▆▆▆▆▇▇▇▇▆▇▇█▆▇▇▆▇▅▇▆</td></tr><tr><td>train/learning_rate</td><td>▁▁▁▁▁▁▁▁▁▁▁▁▁▁▁▁▁▁▁▁▁▁▁▁▁▁▁▁▁▁▁▁▁▁▁▁▁▁▁▁</td></tr><tr><td>train/loss</td><td>▁▁▂▂▂▂▂▃▃▃▄▃▅▃▄▅▃▄▃▃▅▄▃▃▃▃▃▃▄▃▃▄▄▆▇█▇▃▄▃</td></tr><tr><td>train/max_step</td><td>▁▁▁▁▁▁▁▁▁▁▁▁▁▁▁▁▁▁▁▁▁▁▁▁▁▁▁▁▁▁▁▁▁▁▁▁▁▁▁▁</td></tr><tr><td>train/out_of_road</td><td>███▇█▇▇▇▇▆▆▆▆▅▅▄▃▃▃▃▂▂▂▂▂▂▂▂▂▂▁▁▁▁▁▁▁▁▁▁</td></tr><tr><td>train/policy_gradient_loss</td><td>▁▃▁▂▂▃▂▄▃▃▅▃▃▅█▅▅▆▄▃▇▄▆▄▅▄▃▄▃▆▃▃▃▂▆▃▆▅▅▅</td></tr><tr><td>train/route_completion</td><td>▁▁▂▂▃▄▅▅▆▆▇▇▇▇▇▇▇▇▇▇▇▇▇▇▇▇██████████████</td></tr><tr><td>train/std</td><td>█▇▇▇▆▅▅▄▄▄▄▃▃▃▃▃▃▃▃▃▂▂▂▂▂▂▂▂▂▂▁▁▁▁▁▁▁▁▁▁</td></tr><tr><td>train/total_cost</td><td>▁▁▁▂▂▇█▇▇▇█▇▇▇▇▇▇▇▇▇▇▇▇▇▇█████▇█▇▇▇▇▇▇▇▇</td></tr><tr><td>train/value_loss</td><td>▁▁▁▁▁▂▂▂▄▃▄▄▅▃▄▄▅▄▅▅▅▅▄▅▅▅▆▇▆▅▄▅▅▅▆▆▆▇▇█</td></tr></table><br/></div><div class=\"wandb-col\"><h3>Run summary:</h3><br/><table class=\"wandb\"><tr><td>eval/arrive_dest</td><td>0.084</td></tr><tr><td>eval/crash</td><td>0.237</td></tr><tr><td>eval/max_step</td><td>0</td></tr><tr><td>eval/mean_ep_length</td><td>239.2</td></tr><tr><td>eval/mean_reward</td><td>252.39171</td></tr><tr><td>eval/num_episodes</td><td>5</td></tr><tr><td>eval/out_of_road</td><td>0.916</td></tr><tr><td>eval/raw_action</td><td>0.46668</td></tr><tr><td>eval/route_completion</td><td>0.4564</td></tr><tr><td>eval/success_rate</td><td>0.1</td></tr><tr><td>eval/total_cost</td><td>11.8</td></tr><tr><td>global_step</td><td>2001920</td></tr><tr><td>rollout/ep_len_mean</td><td>248.24</td></tr><tr><td>rollout/ep_rew_mean</td><td>211.89355</td></tr><tr><td>time/fps</td><td>534</td></tr><tr><td>train/approx_kl</td><td>0.00447</td></tr><tr><td>train/arrive_dest</td><td>0.185</td></tr><tr><td>train/clip_fraction</td><td>0.17381</td></tr><tr><td>train/clip_range</td><td>0.1</td></tr><tr><td>train/crash</td><td>0.243</td></tr><tr><td>train/entropy_loss</td><td>-1.66291</td></tr><tr><td>train/explained_variance</td><td>0.718</td></tr><tr><td>train/learning_rate</td><td>5e-05</td></tr><tr><td>train/loss</td><td>52.65322</td></tr><tr><td>train/max_step</td><td>0</td></tr><tr><td>train/out_of_road</td><td>0.815</td></tr><tr><td>train/policy_gradient_loss</td><td>0.00169</td></tr><tr><td>train/route_completion</td><td>0.51628</td></tr><tr><td>train/std</td><td>0.58398</td></tr><tr><td>train/total_cost</td><td>16.74</td></tr><tr><td>train/value_loss</td><td>161.92644</td></tr></table><br/></div></div>"
            ],
            "text/plain": [
              "<IPython.core.display.HTML object>"
            ]
          },
          "metadata": {},
          "output_type": "display_data"
        },
        {
          "data": {
            "text/html": [
              " View run <strong style=\"color:#cdcd00\">ppo_metadrive_new_reward</strong> at: <a href='https://wandb.ai/coltonrowe-ucla/cs260r/runs/ppo_metadrive_new_reward_2025-03-19_23-21-13_96be01e6' target=\"_blank\">https://wandb.ai/coltonrowe-ucla/cs260r/runs/ppo_metadrive_new_reward_2025-03-19_23-21-13_96be01e6</a><br> View project at: <a href='https://wandb.ai/coltonrowe-ucla/cs260r' target=\"_blank\">https://wandb.ai/coltonrowe-ucla/cs260r</a><br>Synced 5 W&B file(s), 0 media file(s), 0 artifact file(s) and 2 other file(s)"
            ],
            "text/plain": [
              "<IPython.core.display.HTML object>"
            ]
          },
          "metadata": {},
          "output_type": "display_data"
        },
        {
          "data": {
            "text/html": [
              "Find logs at: <code>runs\\ppo_metadrive_new_reward\\ppo_metadrive_new_reward_2025-03-19_23-21-13_96be01e6\\wandb\\run-20250319_232124-ppo_metadrive_new_reward_2025-03-19_23-21-13_96be01e6\\logs</code>"
            ],
            "text/plain": [
              "<IPython.core.display.HTML object>"
            ]
          },
          "metadata": {},
          "output_type": "display_data"
        },
        {
          "ename": "KeyboardInterrupt",
          "evalue": "",
          "output_type": "error",
          "traceback": [
            "\u001b[1;31m---------------------------------------------------------------------------\u001b[0m",
            "\u001b[1;31mKeyboardInterrupt\u001b[0m                         Traceback (most recent call last)",
            "Cell \u001b[1;32mIn[11], line 5\u001b[0m\n\u001b[0;32m      2\u001b[0m         wandb\u001b[38;5;241m.\u001b[39mfinish()\n\u001b[0;32m      4\u001b[0m train_env\u001b[38;5;241m.\u001b[39mclose()\n\u001b[1;32m----> 5\u001b[0m \u001b[43meval_env\u001b[49m\u001b[38;5;241;43m.\u001b[39;49m\u001b[43mclose\u001b[49m\u001b[43m(\u001b[49m\u001b[43m)\u001b[49m\n\u001b[0;32m      6\u001b[0m \u001b[38;5;28;01mdel\u001b[39;00m train_env\n\u001b[0;32m      7\u001b[0m \u001b[38;5;28;01mdel\u001b[39;00m eval_env\n",
            "File \u001b[1;32mc:\\Users\\Colton\\anaconda3\\envs\\cs260r\\Lib\\site-packages\\stable_baselines3\\common\\vec_env\\subproc_vec_env.py:153\u001b[0m, in \u001b[0;36mSubprocVecEnv.close\u001b[1;34m(self)\u001b[0m\n\u001b[0;32m    151\u001b[0m     remote\u001b[38;5;241m.\u001b[39msend((\u001b[38;5;124m\"\u001b[39m\u001b[38;5;124mclose\u001b[39m\u001b[38;5;124m\"\u001b[39m, \u001b[38;5;28;01mNone\u001b[39;00m))\n\u001b[0;32m    152\u001b[0m \u001b[38;5;28;01mfor\u001b[39;00m process \u001b[38;5;129;01min\u001b[39;00m \u001b[38;5;28mself\u001b[39m\u001b[38;5;241m.\u001b[39mprocesses:\n\u001b[1;32m--> 153\u001b[0m     \u001b[43mprocess\u001b[49m\u001b[38;5;241;43m.\u001b[39;49m\u001b[43mjoin\u001b[49m\u001b[43m(\u001b[49m\u001b[43m)\u001b[49m\n\u001b[0;32m    154\u001b[0m \u001b[38;5;28mself\u001b[39m\u001b[38;5;241m.\u001b[39mclosed \u001b[38;5;241m=\u001b[39m \u001b[38;5;28;01mTrue\u001b[39;00m\n",
            "File \u001b[1;32mc:\\Users\\Colton\\anaconda3\\envs\\cs260r\\Lib\\multiprocessing\\process.py:149\u001b[0m, in \u001b[0;36mBaseProcess.join\u001b[1;34m(self, timeout)\u001b[0m\n\u001b[0;32m    147\u001b[0m \u001b[38;5;28;01massert\u001b[39;00m \u001b[38;5;28mself\u001b[39m\u001b[38;5;241m.\u001b[39m_parent_pid \u001b[38;5;241m==\u001b[39m os\u001b[38;5;241m.\u001b[39mgetpid(), \u001b[38;5;124m'\u001b[39m\u001b[38;5;124mcan only join a child process\u001b[39m\u001b[38;5;124m'\u001b[39m\n\u001b[0;32m    148\u001b[0m \u001b[38;5;28;01massert\u001b[39;00m \u001b[38;5;28mself\u001b[39m\u001b[38;5;241m.\u001b[39m_popen \u001b[38;5;129;01mis\u001b[39;00m \u001b[38;5;129;01mnot\u001b[39;00m \u001b[38;5;28;01mNone\u001b[39;00m, \u001b[38;5;124m'\u001b[39m\u001b[38;5;124mcan only join a started process\u001b[39m\u001b[38;5;124m'\u001b[39m\n\u001b[1;32m--> 149\u001b[0m res \u001b[38;5;241m=\u001b[39m \u001b[38;5;28;43mself\u001b[39;49m\u001b[38;5;241;43m.\u001b[39;49m\u001b[43m_popen\u001b[49m\u001b[38;5;241;43m.\u001b[39;49m\u001b[43mwait\u001b[49m\u001b[43m(\u001b[49m\u001b[43mtimeout\u001b[49m\u001b[43m)\u001b[49m\n\u001b[0;32m    150\u001b[0m \u001b[38;5;28;01mif\u001b[39;00m res \u001b[38;5;129;01mis\u001b[39;00m \u001b[38;5;129;01mnot\u001b[39;00m \u001b[38;5;28;01mNone\u001b[39;00m:\n\u001b[0;32m    151\u001b[0m     _children\u001b[38;5;241m.\u001b[39mdiscard(\u001b[38;5;28mself\u001b[39m)\n",
            "File \u001b[1;32mc:\\Users\\Colton\\anaconda3\\envs\\cs260r\\Lib\\multiprocessing\\popen_spawn_win32.py:112\u001b[0m, in \u001b[0;36mPopen.wait\u001b[1;34m(self, timeout)\u001b[0m\n\u001b[0;32m    109\u001b[0m \u001b[38;5;28;01melse\u001b[39;00m:\n\u001b[0;32m    110\u001b[0m     msecs \u001b[38;5;241m=\u001b[39m \u001b[38;5;28mmax\u001b[39m(\u001b[38;5;241m0\u001b[39m, \u001b[38;5;28mint\u001b[39m(timeout \u001b[38;5;241m*\u001b[39m \u001b[38;5;241m1000\u001b[39m \u001b[38;5;241m+\u001b[39m \u001b[38;5;241m0.5\u001b[39m))\n\u001b[1;32m--> 112\u001b[0m res \u001b[38;5;241m=\u001b[39m _winapi\u001b[38;5;241m.\u001b[39mWaitForSingleObject(\u001b[38;5;28mint\u001b[39m(\u001b[38;5;28mself\u001b[39m\u001b[38;5;241m.\u001b[39m_handle), msecs)\n\u001b[0;32m    113\u001b[0m \u001b[38;5;28;01mif\u001b[39;00m res \u001b[38;5;241m==\u001b[39m _winapi\u001b[38;5;241m.\u001b[39mWAIT_OBJECT_0:\n\u001b[0;32m    114\u001b[0m     code \u001b[38;5;241m=\u001b[39m _winapi\u001b[38;5;241m.\u001b[39mGetExitCodeProcess(\u001b[38;5;28mself\u001b[39m\u001b[38;5;241m.\u001b[39m_handle)\n",
            "\u001b[1;31mKeyboardInterrupt\u001b[0m: "
          ]
        }
      ],
      "source": [
        "if use_wandb:\n",
        "        wandb.finish()\n",
        "\n",
        "train_env.close()\n",
        "eval_env.close()\n",
        "del train_env\n",
        "del eval_env\n",
        "del model"
      ]
    },
    {
      "cell_type": "code",
      "execution_count": null,
      "metadata": {},
      "outputs": [
        {
          "data": {
            "text/plain": [
              "2042"
            ]
          },
          "execution_count": 12,
          "metadata": {},
          "output_type": "execute_result"
        }
      ],
      "source": [
        "import gc\n",
        "gc.collect()"
      ]
    }
  ],
  "metadata": {
    "colab": {
      "machine_shape": "hm",
      "provenance": []
    },
    "kernelspec": {
      "display_name": "cs260r",
      "language": "python",
      "name": "python3"
    },
    "language_info": {
      "codemirror_mode": {
        "name": "ipython",
        "version": 3
      },
      "file_extension": ".py",
      "mimetype": "text/x-python",
      "name": "python",
      "nbconvert_exporter": "python",
      "pygments_lexer": "ipython3",
      "version": "3.11.11"
    },
    "widgets": {
      "application/vnd.jupyter.widget-state+json": {
        "2baad5feb680425bba7086366451eb85": {
          "model_module": "@jupyter-widgets/base",
          "model_module_version": "1.2.0",
          "model_name": "LayoutModel",
          "state": {
            "_model_module": "@jupyter-widgets/base",
            "_model_module_version": "1.2.0",
            "_model_name": "LayoutModel",
            "_view_count": null,
            "_view_module": "@jupyter-widgets/base",
            "_view_module_version": "1.2.0",
            "_view_name": "LayoutView",
            "align_content": null,
            "align_items": null,
            "align_self": null,
            "border": null,
            "bottom": null,
            "display": null,
            "flex": null,
            "flex_flow": null,
            "grid_area": null,
            "grid_auto_columns": null,
            "grid_auto_flow": null,
            "grid_auto_rows": null,
            "grid_column": null,
            "grid_gap": null,
            "grid_row": null,
            "grid_template_areas": null,
            "grid_template_columns": null,
            "grid_template_rows": null,
            "height": null,
            "justify_content": null,
            "justify_items": null,
            "left": null,
            "margin": null,
            "max_height": null,
            "max_width": null,
            "min_height": null,
            "min_width": null,
            "object_fit": null,
            "object_position": null,
            "order": null,
            "overflow": null,
            "overflow_x": null,
            "overflow_y": null,
            "padding": null,
            "right": null,
            "top": null,
            "visibility": null,
            "width": null
          }
        },
        "f778b5a3593e43b7a182293b092f1b5a": {
          "model_module": "@jupyter-widgets/output",
          "model_module_version": "1.0.0",
          "model_name": "OutputModel",
          "state": {
            "_dom_classes": [],
            "_model_module": "@jupyter-widgets/output",
            "_model_module_version": "1.0.0",
            "_model_name": "OutputModel",
            "_view_count": null,
            "_view_module": "@jupyter-widgets/output",
            "_view_module_version": "1.0.0",
            "_view_name": "OutputView",
            "layout": "IPY_MODEL_2baad5feb680425bba7086366451eb85",
            "msg_id": "",
            "outputs": [
              {
                "data": {
                  "text/html": "<pre style=\"white-space:pre;overflow-x:auto;line-height:normal;font-family:Menlo,'DejaVu Sans Mono',consolas,'Courier New',monospace\"><span style=\"color: #800080; text-decoration-color: #800080\">  10%</span> <span style=\"color: #f92672; text-decoration-color: #f92672\">━━━━━╸</span><span style=\"color: #3a3a3a; text-decoration-color: #3a3a3a\">━━━━━━━━━━━━━━━━━━━━━━━━━━━━━━━━━━━━━━━━━━━━━━━━━━━━</span> <span style=\"color: #008000; text-decoration-color: #008000\">99,980/1,000,000 </span> [ <span style=\"color: #808000; text-decoration-color: #808000\">0:03:30</span> &lt; <span style=\"color: #008080; text-decoration-color: #008080\">0:36:06</span> , <span style=\"color: #800000; text-decoration-color: #800000\">416 it/s</span> ]\n</pre>\n",
                  "text/plain": "\u001b[35m  10%\u001b[0m \u001b[38;2;249;38;114m━━━━━\u001b[0m\u001b[38;2;249;38;114m╸\u001b[0m\u001b[38;5;237m━━━━━━━━━━━━━━━━━━━━━━━━━━━━━━━━━━━━━━━━━━━━━━━━━━━━\u001b[0m \u001b[32m99,980/1,000,000 \u001b[0m [ \u001b[33m0:03:30\u001b[0m < \u001b[36m0:36:06\u001b[0m , \u001b[31m416 it/s\u001b[0m ]\n"
                },
                "metadata": {},
                "output_type": "display_data"
              }
            ]
          }
        }
      }
    }
  },
  "nbformat": 4,
  "nbformat_minor": 0
}
